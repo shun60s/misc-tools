{
  "cells": [
    {
      "cell_type": "markdown",
      "metadata": {
        "id": "5eeje4O8fviH",
        "pycharm": {
          "name": "#%% md\n"
        }
      },
      "source": [
        "# Model-Based Reinforcement Learning\n",
        "\n",
        "## Principle\n",
        "We consider the optimal control problem of an MDP with a **known** reward function $R$ and subject to **unknown deterministic** dynamics $s_{t+1} = f(s_t, a_t)$:\n",
        "\n",
        "$$\\max_{(a_0,a_1,\\dotsc)} \\sum_{t=0}^\\infty \\gamma^t R(s_t,a_t)$$\n",
        "\n",
        "In **model-based reinforcement learning**, this problem is solved in **two steps**:\n",
        "1. **Model learning**:\n",
        "We learn a model of the dynamics $f_\\theta \\simeq f$ through regression on interaction data.\n",
        "2. **Planning**:\n",
        "We leverage the dynamics model $f_\\theta$ to compute the optimal trajectory $$\\max_{(a_0,a_1,\\dotsc)} \\sum_{t=0}^\\infty \\gamma^t R(\\hat{s}_t,a_t)$$ following the learnt dynamics $\\hat{s}_{t+1} = f_\\theta(\\hat{s}_t, a_t)$.\n",
        "\n",
        "(We can easily extend to unknown rewards and stochastic dynamics, but we consider the simpler case in this notebook for ease of presentation)\n",
        "\n",
        "\n",
        "## Motivation\n",
        "\n",
        "### Sparse rewards\n",
        "* In model-free reinforcement learning, we only obtain a reinforcement signal when encountering rewards. In environment with **sparse rewards**, the chance of obtaining a reward randomly is **negligible**, which prevents any learning.\n",
        "* However, even in the **absence of rewards** we still receive a **stream of state transition data**. We can exploit this data to learn about the task at hand.\n",
        "\n",
        "### Complexity of the policy/value vs dynamics:\n",
        "Is it easier to decide which action is best, or to predict what is going to happen?\n",
        "* Some problems can have **complex dynamics** but a **simple optimal policy or value function**. For instance, consider the problem of learning to swim. Predicting the movement requires understanding fluid dynamics and vortices while the optimal policy simply consists in moving the limbs in sync.\n",
        "* Conversely, other problems can have **simple dynamics** but **complex policies/value functions**. Think of the game of Go, its rules are simplistic (placing a stone merely changes the board state at this location) but the corresponding optimal policy is very complicated.\n",
        "\n",
        "Intuitively, model-free RL should be applied to the first category of problems and model-based RL to the second category.\n",
        "\n",
        "### Inductive bias\n",
        "Oftentimes, real-world problems exhibit a particular **structure**: for instance, any problem involving motion of physical objects will be **continuous**. It can also be **smooth**, **invariant** to translations, etc. This knowledge can then be incorporated in machine learning models to foster efficient learning. In contrast, there can often be **discontinuities** in the policy decisions or value function: e.g. think of a collision vs near-collision state.\n",
        "\n",
        "###  Sample efficiency\n",
        "Overall, it is generally recognized that model-based approaches tend to **learn faster** than model-free techniques (see e.g. [[Sutton, 1990]](http://papersdb.cs.ualberta.ca/~papersdb/uploaded_files/paper_p160-sutton.pdf.stjohn)).\n",
        "\n",
        "### Interpretability\n",
        "In real-world applications, we may want to know **how a policy will behave before actually executing it**, for instance for **safety-check** purposes. However, model-free reinforcement learning only recommends which action to take at current time without being able to predict its consequences. In order to obtain the trajectory, we have no choice but executing the policy. In stark contrast, model-based methods a more interpretable in the sense that we can probe the policy for its intended (and predicted) trajectory."
      ]
    },
    {
      "cell_type": "markdown",
      "metadata": {
        "id": "2-oVNY_KTw6R"
      },
      "source": [
        "## Our challenge: Automated Parking System\n",
        "\n",
        "We consider the **parking-v0** task of the [highway-env](https://github.com/eleurent/highway-env) environment. It is a **goal-conditioned continuous control** task where an agent **drives a car** by controlling the gaz pedal and steering angle and must **park in a given location** with the appropriate heading.\n",
        "\n",
        "This MDP has several properties wich justifies using model-based methods:\n",
        "* The policy/value is highly dependent on the goal which adds a significant level of complexity to a model-free learning process, whereas the dynamics are completely independent of the goal and hence can be simpler to learn.\n",
        "* In the context of an industrial application, we can reasonably expect for safety concerns that the planned trajectory is required to be known in advance, before execution.\n",
        "\n",
        "###  Warming up\n",
        "We start with a few useful installs and imports:"
      ]
    },
    {
      "cell_type": "code",
      "execution_count": 1,
      "metadata": {
        "id": "bzMSuJEOfviP",
        "pycharm": {
          "is_executing": false,
          "name": "#%%\n"
        },
        "colab": {
          "base_uri": "https://localhost:8080/"
        },
        "outputId": "0de28b7f-055f-40ce-cf8a-1af43e4f7369"
      },
      "outputs": [
        {
          "output_type": "stream",
          "name": "stdout",
          "text": [
            "Collecting highway-env\n",
            "  Downloading highway_env-1.8.2-py3-none-any.whl (104 kB)\n",
            "\u001b[2K     \u001b[90m━━━━━━━━━━━━━━━━━━━━━━━━━━━━━━━━━━━━━━━━\u001b[0m \u001b[32m104.0/104.0 kB\u001b[0m \u001b[31m2.3 MB/s\u001b[0m eta \u001b[36m0:00:00\u001b[0m\n",
            "\u001b[?25hCollecting gymnasium>=0.27 (from highway-env)\n",
            "  Downloading gymnasium-0.29.1-py3-none-any.whl (953 kB)\n",
            "\u001b[2K     \u001b[90m━━━━━━━━━━━━━━━━━━━━━━━━━━━━━━━━━━━━━━━━\u001b[0m \u001b[32m953.9/953.9 kB\u001b[0m \u001b[31m20.0 MB/s\u001b[0m eta \u001b[36m0:00:00\u001b[0m\n",
            "\u001b[?25hRequirement already satisfied: numpy in /usr/local/lib/python3.10/dist-packages (from highway-env) (1.23.5)\n",
            "Requirement already satisfied: pygame>=2.0.2 in /usr/local/lib/python3.10/dist-packages (from highway-env) (2.5.2)\n",
            "Requirement already satisfied: matplotlib in /usr/local/lib/python3.10/dist-packages (from highway-env) (3.7.1)\n",
            "Requirement already satisfied: pandas in /usr/local/lib/python3.10/dist-packages (from highway-env) (1.5.3)\n",
            "Requirement already satisfied: scipy in /usr/local/lib/python3.10/dist-packages (from highway-env) (1.11.3)\n",
            "Requirement already satisfied: cloudpickle>=1.2.0 in /usr/local/lib/python3.10/dist-packages (from gymnasium>=0.27->highway-env) (2.2.1)\n",
            "Requirement already satisfied: typing-extensions>=4.3.0 in /usr/local/lib/python3.10/dist-packages (from gymnasium>=0.27->highway-env) (4.5.0)\n",
            "Collecting farama-notifications>=0.0.1 (from gymnasium>=0.27->highway-env)\n",
            "  Downloading Farama_Notifications-0.0.4-py3-none-any.whl (2.5 kB)\n",
            "Requirement already satisfied: contourpy>=1.0.1 in /usr/local/lib/python3.10/dist-packages (from matplotlib->highway-env) (1.2.0)\n",
            "Requirement already satisfied: cycler>=0.10 in /usr/local/lib/python3.10/dist-packages (from matplotlib->highway-env) (0.12.1)\n",
            "Requirement already satisfied: fonttools>=4.22.0 in /usr/local/lib/python3.10/dist-packages (from matplotlib->highway-env) (4.44.3)\n",
            "Requirement already satisfied: kiwisolver>=1.0.1 in /usr/local/lib/python3.10/dist-packages (from matplotlib->highway-env) (1.4.5)\n",
            "Requirement already satisfied: packaging>=20.0 in /usr/local/lib/python3.10/dist-packages (from matplotlib->highway-env) (23.2)\n",
            "Requirement already satisfied: pillow>=6.2.0 in /usr/local/lib/python3.10/dist-packages (from matplotlib->highway-env) (9.4.0)\n",
            "Requirement already satisfied: pyparsing>=2.3.1 in /usr/local/lib/python3.10/dist-packages (from matplotlib->highway-env) (3.1.1)\n",
            "Requirement already satisfied: python-dateutil>=2.7 in /usr/local/lib/python3.10/dist-packages (from matplotlib->highway-env) (2.8.2)\n",
            "Requirement already satisfied: pytz>=2020.1 in /usr/local/lib/python3.10/dist-packages (from pandas->highway-env) (2023.3.post1)\n",
            "Requirement already satisfied: six>=1.5 in /usr/local/lib/python3.10/dist-packages (from python-dateutil>=2.7->matplotlib->highway-env) (1.16.0)\n",
            "Installing collected packages: farama-notifications, gymnasium, highway-env\n",
            "Successfully installed farama-notifications-0.0.4 gymnasium-0.29.1 highway-env-1.8.2\n"
          ]
        }
      ],
      "source": [
        "# Install environment and visualization dependencies\n",
        "!pip install highway-env\n",
        "\n",
        "# Environment\n",
        "import gymnasium as gym\n",
        "import highway_env\n",
        "\n",
        "# Models and computation\n",
        "import torch\n",
        "import torch.nn as nn\n",
        "import torch.nn.functional as F\n",
        "import numpy as np\n",
        "from collections import namedtuple\n",
        "\n",
        "# Visualization\n",
        "import matplotlib\n",
        "import matplotlib.pyplot as plt\n",
        "%matplotlib inline\n",
        "from tqdm.notebook import trange\n",
        "\n",
        "# IO\n",
        "from pathlib import Path"
      ]
    },
    {
      "cell_type": "markdown",
      "metadata": {
        "id": "n2Bu_Pqop0E7"
      },
      "source": [
        "We also define a simple helper function for visualization of episodes:"
      ]
    },
    {
      "cell_type": "code",
      "execution_count": 2,
      "metadata": {
        "id": "so7yH4ucyB-3",
        "colab": {
          "base_uri": "https://localhost:8080/"
        },
        "outputId": "b8a8c802-8521-4d49-a56d-1bb2a2d5d6cf"
      },
      "outputs": [
        {
          "output_type": "stream",
          "name": "stdout",
          "text": [
            "Collecting tensorboardx\n",
            "  Downloading tensorboardX-2.6.2.2-py2.py3-none-any.whl (101 kB)\n",
            "\u001b[?25l     \u001b[90m━━━━━━━━━━━━━━━━━━━━━━━━━━━━━━━━━━━━━━━━\u001b[0m \u001b[32m0.0/101.7 kB\u001b[0m \u001b[31m?\u001b[0m eta \u001b[36m-:--:--\u001b[0m\r\u001b[2K     \u001b[91m━━━━━━━━━━━━━━━━━━━━━━━━━━━━━━━━━━━━\u001b[0m\u001b[90m╺\u001b[0m\u001b[90m━━━\u001b[0m \u001b[32m92.2/101.7 kB\u001b[0m \u001b[31m2.8 MB/s\u001b[0m eta \u001b[36m0:00:01\u001b[0m\r\u001b[2K     \u001b[90m━━━━━━━━━━━━━━━━━━━━━━━━━━━━━━━━━━━━━━━━\u001b[0m \u001b[32m101.7/101.7 kB\u001b[0m \u001b[31m2.1 MB/s\u001b[0m eta \u001b[36m0:00:00\u001b[0m\n",
            "\u001b[?25hRequirement already satisfied: gym in /usr/local/lib/python3.10/dist-packages (0.25.2)\n",
            "Collecting pyvirtualdisplay\n",
            "  Downloading PyVirtualDisplay-3.0-py3-none-any.whl (15 kB)\n",
            "Requirement already satisfied: numpy in /usr/local/lib/python3.10/dist-packages (from tensorboardx) (1.23.5)\n",
            "Requirement already satisfied: packaging in /usr/local/lib/python3.10/dist-packages (from tensorboardx) (23.2)\n",
            "Requirement already satisfied: protobuf>=3.20 in /usr/local/lib/python3.10/dist-packages (from tensorboardx) (3.20.3)\n",
            "Requirement already satisfied: cloudpickle>=1.2.0 in /usr/local/lib/python3.10/dist-packages (from gym) (2.2.1)\n",
            "Requirement already satisfied: gym-notices>=0.0.4 in /usr/local/lib/python3.10/dist-packages (from gym) (0.0.8)\n",
            "Installing collected packages: pyvirtualdisplay, tensorboardx\n",
            "Successfully installed pyvirtualdisplay-3.0 tensorboardx-2.6.2.2\n",
            "Reading package lists... Done\n",
            "Building dependency tree... Done\n",
            "Reading state information... Done\n",
            "ffmpeg is already the newest version (7:4.4.2-0ubuntu0.22.04.1).\n",
            "The following additional packages will be installed:\n",
            "  libfontenc1 libxfont2 libxkbfile1 x11-xkb-utils xfonts-base xfonts-encodings xfonts-utils\n",
            "  xserver-common\n",
            "The following NEW packages will be installed:\n",
            "  libfontenc1 libxfont2 libxkbfile1 x11-xkb-utils xfonts-base xfonts-encodings xfonts-utils\n",
            "  xserver-common xvfb\n",
            "0 upgraded, 9 newly installed, 0 to remove and 9 not upgraded.\n",
            "Need to get 7,814 kB of archives.\n",
            "After this operation, 11.9 MB of additional disk space will be used.\n",
            "Get:1 http://archive.ubuntu.com/ubuntu jammy/main amd64 libfontenc1 amd64 1:1.1.4-1build3 [14.7 kB]\n",
            "Get:2 http://archive.ubuntu.com/ubuntu jammy/main amd64 libxfont2 amd64 1:2.0.5-1build1 [94.5 kB]\n",
            "Get:3 http://archive.ubuntu.com/ubuntu jammy/main amd64 libxkbfile1 amd64 1:1.1.0-1build3 [71.8 kB]\n",
            "Get:4 http://archive.ubuntu.com/ubuntu jammy/main amd64 x11-xkb-utils amd64 7.7+5build4 [172 kB]\n",
            "Get:5 http://archive.ubuntu.com/ubuntu jammy/main amd64 xfonts-encodings all 1:1.0.5-0ubuntu2 [578 kB]\n",
            "Get:6 http://archive.ubuntu.com/ubuntu jammy/main amd64 xfonts-utils amd64 1:7.7+6build2 [94.6 kB]\n",
            "Get:7 http://archive.ubuntu.com/ubuntu jammy/main amd64 xfonts-base all 1:1.0.5 [5,896 kB]\n",
            "Get:8 http://archive.ubuntu.com/ubuntu jammy-updates/main amd64 xserver-common all 2:21.1.4-2ubuntu1.7~22.04.2 [28.1 kB]\n",
            "Get:9 http://archive.ubuntu.com/ubuntu jammy-updates/universe amd64 xvfb amd64 2:21.1.4-2ubuntu1.7~22.04.2 [864 kB]\n",
            "Fetched 7,814 kB in 1s (6,567 kB/s)\n",
            "Selecting previously unselected package libfontenc1:amd64.\n",
            "(Reading database ... 120880 files and directories currently installed.)\n",
            "Preparing to unpack .../0-libfontenc1_1%3a1.1.4-1build3_amd64.deb ...\n",
            "Unpacking libfontenc1:amd64 (1:1.1.4-1build3) ...\n",
            "Selecting previously unselected package libxfont2:amd64.\n",
            "Preparing to unpack .../1-libxfont2_1%3a2.0.5-1build1_amd64.deb ...\n",
            "Unpacking libxfont2:amd64 (1:2.0.5-1build1) ...\n",
            "Selecting previously unselected package libxkbfile1:amd64.\n",
            "Preparing to unpack .../2-libxkbfile1_1%3a1.1.0-1build3_amd64.deb ...\n",
            "Unpacking libxkbfile1:amd64 (1:1.1.0-1build3) ...\n",
            "Selecting previously unselected package x11-xkb-utils.\n",
            "Preparing to unpack .../3-x11-xkb-utils_7.7+5build4_amd64.deb ...\n",
            "Unpacking x11-xkb-utils (7.7+5build4) ...\n",
            "Selecting previously unselected package xfonts-encodings.\n",
            "Preparing to unpack .../4-xfonts-encodings_1%3a1.0.5-0ubuntu2_all.deb ...\n",
            "Unpacking xfonts-encodings (1:1.0.5-0ubuntu2) ...\n",
            "Selecting previously unselected package xfonts-utils.\n",
            "Preparing to unpack .../5-xfonts-utils_1%3a7.7+6build2_amd64.deb ...\n",
            "Unpacking xfonts-utils (1:7.7+6build2) ...\n",
            "Selecting previously unselected package xfonts-base.\n",
            "Preparing to unpack .../6-xfonts-base_1%3a1.0.5_all.deb ...\n",
            "Unpacking xfonts-base (1:1.0.5) ...\n",
            "Selecting previously unselected package xserver-common.\n",
            "Preparing to unpack .../7-xserver-common_2%3a21.1.4-2ubuntu1.7~22.04.2_all.deb ...\n",
            "Unpacking xserver-common (2:21.1.4-2ubuntu1.7~22.04.2) ...\n",
            "Selecting previously unselected package xvfb.\n",
            "Preparing to unpack .../8-xvfb_2%3a21.1.4-2ubuntu1.7~22.04.2_amd64.deb ...\n",
            "Unpacking xvfb (2:21.1.4-2ubuntu1.7~22.04.2) ...\n",
            "Setting up libfontenc1:amd64 (1:1.1.4-1build3) ...\n",
            "Setting up xfonts-encodings (1:1.0.5-0ubuntu2) ...\n",
            "Setting up libxkbfile1:amd64 (1:1.1.0-1build3) ...\n",
            "Setting up libxfont2:amd64 (1:2.0.5-1build1) ...\n",
            "Setting up x11-xkb-utils (7.7+5build4) ...\n",
            "Setting up xfonts-utils (1:7.7+6build2) ...\n",
            "Setting up xfonts-base (1:1.0.5) ...\n",
            "Setting up xserver-common (2:21.1.4-2ubuntu1.7~22.04.2) ...\n",
            "Setting up xvfb (2:21.1.4-2ubuntu1.7~22.04.2) ...\n",
            "Processing triggers for man-db (2.10.2-1) ...\n",
            "Processing triggers for fontconfig (2.13.1-4.2ubuntu5) ...\n",
            "Processing triggers for libc-bin (2.35-0ubuntu3.4) ...\n",
            "/sbin/ldconfig.real: /usr/local/lib/libtbb.so.12 is not a symbolic link\n",
            "\n",
            "/sbin/ldconfig.real: /usr/local/lib/libtbbmalloc.so.2 is not a symbolic link\n",
            "\n",
            "/sbin/ldconfig.real: /usr/local/lib/libtbbbind.so.3 is not a symbolic link\n",
            "\n",
            "/sbin/ldconfig.real: /usr/local/lib/libtbbbind_2_0.so.3 is not a symbolic link\n",
            "\n",
            "/sbin/ldconfig.real: /usr/local/lib/libtbbbind_2_5.so.3 is not a symbolic link\n",
            "\n",
            "/sbin/ldconfig.real: /usr/local/lib/libtbbmalloc_proxy.so.2 is not a symbolic link\n",
            "\n"
          ]
        }
      ],
      "source": [
        "import sys\n",
        "from tqdm.notebook import trange\n",
        "!pip install tensorboardx gym pyvirtualdisplay\n",
        "!apt-get install -y xvfb ffmpeg\n",
        "!git clone https://github.com/Farama-Foundation/HighwayEnv.git 2> /dev/null\n",
        "sys.path.insert(0, './HighwayEnv/scripts/')  # change\n",
        "from utils import record_videos, show_videos"
      ]
    },
    {
      "cell_type": "markdown",
      "metadata": {
        "id": "nFtBY6JSqPFa"
      },
      "source": [
        "### Let's try it!\n",
        "\n",
        "Make the environment, and run an episode with random actions:"
      ]
    },
    {
      "cell_type": "code",
      "execution_count": 3,
      "metadata": {
        "id": "jKZt9Cb1rJ6n",
        "colab": {
          "base_uri": "https://localhost:8080/",
          "height": 530
        },
        "outputId": "f5daa74e-e1db-41ff-eef6-384f13cc5c55"
      },
      "outputs": [
        {
          "output_type": "stream",
          "name": "stdout",
          "text": [
            "Moviepy - Building video /content/videos/rl-video-episode-0.mp4.\n",
            "Moviepy - Writing video /content/videos/rl-video-episode-0.mp4\n",
            "\n"
          ]
        },
        {
          "output_type": "stream",
          "name": "stderr",
          "text": []
        },
        {
          "output_type": "stream",
          "name": "stdout",
          "text": [
            "Moviepy - Done !\n",
            "Moviepy - video ready /content/videos/rl-video-episode-0.mp4\n"
          ]
        },
        {
          "output_type": "display_data",
          "data": {
            "text/plain": [
              "<IPython.core.display.HTML object>"
            ],
            "text/html": [
              "<video alt=\"videos/rl-video-episode-0.mp4\" autoplay\n",
              "                      loop controls style=\"height: 400px;\">\n",
              "                      <source src=\"data:video/mp4;base64,AAAAIGZ0eXBpc29tAAACAGlzb21pc28yYXZjMW1wNDEAAAAIZnJlZQAAhmttZGF0AAACrgYF//+q3EXpvebZSLeWLNgg2SPu73gyNjQgLSBjb3JlIDE1OSByMjk5MSAxNzcxYjU1IC0gSC4yNjQvTVBFRy00IEFWQyBjb2RlYyAtIENvcHlsZWZ0IDIwMDMtMjAxOSAtIGh0dHA6Ly93d3cudmlkZW9sYW4ub3JnL3gyNjQuaHRtbCAtIG9wdGlvbnM6IGNhYmFjPTEgcmVmPTMgZGVibG9jaz0xOjA6MCBhbmFseXNlPTB4MzoweDExMyBtZT1oZXggc3VibWU9NyBwc3k9MSBwc3lfcmQ9MS4wMDowLjAwIG1peGVkX3JlZj0xIG1lX3JhbmdlPTE2IGNocm9tYV9tZT0xIHRyZWxsaXM9MSA4eDhkY3Q9MSBjcW09MCBkZWFkem9uZT0yMSwxMSBmYXN0X3Bza2lwPTEgY2hyb21hX3FwX29mZnNldD0tMiB0aHJlYWRzPTMgbG9va2FoZWFkX3RocmVhZHM9MSBzbGljZWRfdGhyZWFkcz0wIG5yPTAgZGVjaW1hdGU9MSBpbnRlcmxhY2VkPTAgYmx1cmF5X2NvbXBhdD0wIGNvbnN0cmFpbmVkX2ludHJhPTAgYmZyYW1lcz0zIGJfcHlyYW1pZD0yIGJfYWRhcHQ9MSBiX2JpYXM9MCBkaXJlY3Q9MSB3ZWlnaHRiPTEgb3Blbl9nb3A9MCB3ZWlnaHRwPTIga2V5aW50PTI1MCBrZXlpbnRfbWluPTI1IHNjZW5lY3V0PTQwIGludHJhX3JlZnJlc2g9MCByY19sb29rYWhlYWQ9NDAgcmM9Y3JmIG1idHJlZT0xIGNyZj0yMy4wIHFjb21wPTAuNjAgcXBtaW49MCBxcG1heD02OSBxcHN0ZXA9NCBpcF9yYXRpbz0xLjQwIGFxPTE6MS4wMACAAAAGZWWIhAAz//727L4FL1s1CXEHxC8Lf/s3AFDGYR4UZSt5V1+46FQf9cmTfny5FP54MC0OfM5K49ih7QH5hO41Y2yogmdQTkANC/oBwN2mKG7QsFKvBNsCSFY92DUhIh90VOpSA/H9uzcPYuQ36JLhimtPHjy71nd4bkkSNeAAAAMAAE7lxVW3TgE/NBX7E2ulrVZt7ioTmFq1uTV70qAGD9euTY4/9PSyhzn43mWDgT6I06Hx/85fjRGuOPvL9nU6bbig5ANVlnEGPpzujsVrpILtPi/ubfpo1FbFHWoYwEspRlkHGBGTDkBTGIxD2jkG0RVi8pWYoMj2HXVIxQrut+TdobMf+rbeVC850ITj3K7e/WJl7oMz52DQx1MAdYOsXWapZgCSTTVkQu7GQVcf9dW1TYYIYiA2NaPpgPLQLGedTcQYJqcVt/y43AD6sTowzkUMvYjDKPxkmDy43AFEPJ5XGROwWLGGyxBARh6Tk24iO9mCxvwH8G7n+vdCOfOp0O4hoY40+liL4QixODt5l4czNkZlhTGaiCXexF9luLZ2+k4jUcvxoDhpcwJXJh4rMAx7PQTxqXnKihi7z+KAneLqIVoFzIXkxhe1Odzh1+ay6nNABOFJdQ4Gzfd0Rn+lxTGLnsxJ2lL4+xtuZSkrM8rPMFIpbrA4rY0kG0RPR08ngF2YJ7cHY6+JjxO0hKr98xf+Dm3OVuQ1KHlE6xcD8VSAq3VAG62l7A0hOw5A552VmxJUfIMhtzApv1HHYJTejddO1OFMcLRPPiO2GYYpGdsDS3W6Aesv/0VzRlSPGP2nkfYDG9L3go5Q/t/Cx+wV5s4syGxW1ib4fvc9aOBitOtnbYaLlObK+nL3v+ScSXvo++I7Oou6g2tMxVO+b3FMslYJs8L4VUQdFg0xjyRYOwBHtgweJX58662NV9k15M1gBjooI39kAAAqS9Q1MAz59npxzs/3syVE3XgoP5n1LvmeO8P5827wTThHJE9tu9rDyRb4SGY2O4GVZQkPfMRR8f32vUk4rBoqgs3Q3ojJbVWpG7RaY5+dXYyqIynlyDytozpXrHVZb6HJx/A+TkAqjMb4aYK9hZNHTHgVCgtJOY/8rbRIPY3uDTBWsA/2kOzwcn1vDG3HAgfa46HyQ44VUQhh5m2KsnO7CAAEhVSxvA82gEDZE3/A3+MbmLc/yRKEzD2E2rt+60PjWJTE7wBkF2AqlFDoveHire6JOqHYV0SHBWgGqwIYDlrQxfFhYt6Z4R2SJZvgazbjXkQyaVhqbgj+zmbScCl7WxAu6bGD7EJZAU/KLIgtZ56/43QwxZbhLnkw6mAYiARSkf6KmVaoVg9OvFPY8Xk7PmBPq3p6QLv6TI2qJmmzfaOy2T9wjSMhDNlmL7FqtgSXveEMHcAnA21kT9KjfqYnUQQiXQw0AN4S6VuAEV9xxXtlN7QnqQkYtfPPMTd5xktCw4njYpmQo3/M5HUshLoWHKbMziLEetrAQifNdOjAYlFUjRBpaU7mnQ/BVHzgFy8wrk/4ecXhhcTgbbfXG1yHnl2PvegpBCQwrCEzMv9kZIW82ERD6+10N+CBOiP/lTIIhXYxlycdfLz0CYrSC8iavwbpF/kyntkT3UtQHE55frpNB1YED6YgBzsoKAWN88vJUk7/WMmSnPe+BSrr4OZN05H+nTWMYnBeKSIxzqCeUiFFCvp11VMAzqtegeKcqHJA+x6ChHyAdqB5nFwHZ+960o8BrRH7D/xALQ1sYNk3TdniOUW47RvmBj3F3IUca6SOtpleLk8zSe6ZkJy6bHttRF0En/qK49SaMcwmDkR8M9xcwk7qXHrsBY9Iw+bBqtc3Z8PbPjNvQVleCa3tZl3DG69XmFaIMPsF5RhM1r7xCLOOdaA2OgDA/8SYxcaO8LVHg6t97j0aslvabMfg/0MFVl9jKFcW8QL2bk3jSNgzw8T++xLmKI0t26IS88G3gLX0oUHu8AFPm3KjBPUccCgGJm3CK/Dsj4qybEza5xRGlRr4Sk5Xe0cYypFMfnHnY7pXBPiY47kPkNXxmymvD4fEPDOLHPYBNHz23SkIIIngixSHJiMjhcNHle//W7AHFjTbUvkAAAMAD17zuNJmG1rPlhj8NB+ecD8pRn7RZ0+LATzR+HiW0X8gZ0Fk/cEqRbE8BJRGxkrZ928ohZd/AAAB50GaJGxCv/gWGX0aOgED1R2NNl+r1n7gTVdDKPiRSNFYCNvgL/IdIGJNXG5oUWnHvrA/kKtZ+Uph2f8DMrG4PUsKhEI0UkKGWPyVC6xodzTd3aLv8dMFNsl4uLhUMUPyJkPqh2TeEmAMFOh/xVV59q/KEzLwHB4U/LzWB/SP6eX7XkHnsGN8DHE/QSq9So/5xUqiRKRAQinkB4nQcQRyUx69/V7dbkV4VbzoRKLJZNMVOBziQVmO1/A6JqB47GG29R6mB/Xm2WUxq5lKASRPaaCTX7XAxNUb2qEuLFj4aA/s1OQ/IVQ7j9lIVLmJoyqqC3FUA1MLQX6sKs29zNyKUfgbiL9x+EIweBIURxS1gymDj/s8j9+DiGsMvrYx+1xX+vBXDOBdLsleB1fNFYKaB3XetOJMBJqsv1F/qRQ6tDVQoAwE9YYTCpiTQjrPO387dfmN6AWKI3C0Ko635QBuVNansGJgucGG8T3pIz5ZHjDShkUQJFxNKdZ7A8r/01CGNhtDdhXFNv9Y6hYHUmQPXkfx9mZEDY93M3/OiltWNmx/PfIIhm66gGXHMe46sxPwLY11bVBk+bYPBbIPRwYCyA2MWn7y2MxidTyxGbc/5QmBBlrxoi40ol+Uhnfd7rlX/crF5FK2fWQAAACRQZ5CeIV/jkvc9R3kUlCDAR86nARYxWMylSMhZrRfUmHGfyZOxX1De04qaCsTlKs7VEpjJVwJ1ojQ4cx0nlbVpPC19Fgts92d3aTtoVR1UL9rcotFnIAiPJjfQdsFRc7ywoR54SBr9go12Li2aGMKVvUh0tTDsQlUBpuLg/7rW4l4JwY/BYu7yclCXwCPZEKZgQAAAIEBnmF0Qn+R0QcMeR9Ld6BflymETfitNTnh+EVsjlK0ZQvoXZ2i+0ONSHZ2w7Z8stL7hd4ENBw36IsL0qXPJAh8XUFZoPldVrmKTN6t6IwayhfUiZmlxP6u3ePZk8BXz/WlVx46Sc+gVQou29D1eT+K8n8B0ICXnt78JOrIHG4C+SAAAABEAZ5jakJ/k+Y3pxzpdPhiMSYP79c00PG/tsSeKzjWmwYqzfxSg81VcxSygz8Be83mtEIbOM1WLbTi/I0xE75tHKsyIskAAAHwQZpnSahBaJlMCFf/+BYXmrKdAE7mIm0Sp0vKfSpar+F0HvtlOuaKmpsYMkvLf+mCJHMfPgGU5qCSJfDPSJB2EaEAtp5N6ZLcfkjeLLklSgcdgMz7hTZVqa0a2C0MThqdDDE4/Zzu7jIGYBWWsNTVmbxNZ/zqONTRZEXIPUQuET/nj3uG+HyqyZ98bv4Q+lItiD3vb5PP7k4z59v87Rza+B8qXyjsMHl0Dc3jOnCqf8eZIrPb5qpFdJdUJ8/QdSoTNGkQcvg1EvHTLw4lGpvkGyODD+DdHBdtoXQLV7P9u6H0n3uips2eB8dJWzSb627oopkFR29Kwxv36xCfb5NTekIRKE+x/Vgcov/vb1HMywz97g/wQ7xaxrGHkMpZ2qZk+8f3cWhvXE7n1bYkNkcMR+74xk9GajI4ajmAKLHREeWQ/0ye7R35FXYQQUessyx35mczYdCev7PedZngkWeHZ+yk+l78UTWfsp9U5zY1hndpDc/tepoWtRNiGdDvfRlbVdHB25EtkhB94R1VJsVfRsaWR/oYyekCM9QtLujnzZ5LcGbTFBDQhX3w5/MkoAV7q1q/tUXrZ/l1QZXzn7FwaeTiVzqvifqBOKxC68JZRFpPwR61O0kp4WvbqYVk1UPzGh9Gp4IQSWCF9uI/lD3+QQAAAF1BnoVFESwr/48g28iwKIaEE5ecCCu8PsFD5O4aBJAD6uE2Y1OfKPOYEAIxnyOsxj7EAIH3ctH+6hVnkb1UQIeuBEXnetSRJlcdk9YGXyYpJD9aRITgElf76R34e9kAAABrAZ6makJ/k+XPUY9pFq//ADQBXHiFATNgWwFFkiZJvg+dZ1gIWvjTRxxhwmCAa+Mim3s03j6RzMCEclqvLaWjo3w/4zSH+JvlM4xpaxPAACFu4i5/DH7wWOZwt87MwPPgqvPD5jnHhbex9CEAAAKhQZqqSahBbJlMCFf/+BYV3pT6dAE7akXgbcU7JeIkJY7uvtV8hHbfsSnYjKFGRJXGiNpqSXiOPFjo2gyWloJI5id6eje5oaI0RCLAyRC0qwe13bxe4VIelKLPJJpjVso98JCA4p7Ey5ue1GN4tFh0Iqjj/K7Hd9ZaFQDYjxmX2O9Wo6mU63AkVLw/LlG8sFmwulZOKL7YNRzls03jVWSgu0WQEIgQQPCbWp1/ZIMmSfGXAL58u7uCtbmD+k1wkwNPQin43dhNLeA6xPmpMjNI5WC6rX2MeX/EOpTVXILM3kSayZ+FL7ZTcAfhjlh0e2BPECoDWL1OSj3o2v/qEw+MLUahBJ0H5AVnxx3oDp4BmAILt/0CM09OqlQ13wnw0+lGcwKYBykMPY6i7j3Ixuq28sxgyAc+xWkZLGUWpsiiA+L9zLozddQzUnE/hee0DYgv6luciU42ipMSKlYabK0vYcNssSj2epE8/00862sDsNJZ5Awv/cuBhM60itGaWYKjVIQAcR0KpJOKYIyrUBmC9OACFPF1zpi+bxmPm5adBUa51mkWBe10SxhP9IjYnt241qWZgbTtoOwLtmAx1CWDiOYriOj+girJ1LI95vnn6VLzAIFtNZV6h7jJGtcRtiw4BBsJp8WHJ6fE6EtpPYfPYCPE5mVceintEyENcBgkB4jfpFImONflpgpiZTHagrvbO0IViG6X9n0v7OmcMEdZnfY6sQoRZf68FiaWeAxliZsXtt8AfALuNuxmIv/Q1Dv7nrOuFDumprcOyydUr8lIMPt+yQohG7tt6VL2gY1kyKkFjNxHcdJaB8Xx43MewY6fgpFttLuWCY2/BYJYb8EEL6cEF8yeolLxGVEK6nPF4MDdDIidBZxwD74N7xnPKT6JgAAAAO1BnshFFSwr/48gyyEt2vK/qAFv9Ype5bPw6Z0/HubON6VZsJhSpfxlFmwUV5TGw0OzhkktCYDWbqOwqgKxwjf2jQkRlf5XWqRSIwj0g3wfYWtffXsGRN/I1xaMeIxoKJejQtqNcsddjU+xFROT+RdDjkliwZwxpzDUDmSPOgHNFDjKqo+lA5KjSIzvGyw0G4HRcBIZz7V2KAEJ5aTQMstUixcML+ExR2KsPW/Y65yn1Sawnw+zGJU6fQaFRxe12Hzu69JDASN+cUcFdyZjSTd5zepUa3L/gATlHT7dqYlolN16bPKB9oG/tlGqOjAAAAC0AZ7pakJ/k+XZrhAAHk/IxUGxFrD5AljtJMcYdkSt3700seLKLeI0ZFB7NTApXthkcRS5BxCRLTAAAma3UnPSyzHyCQaOC5fphlX4b09nMfFh1JcL7OmeBDLI1mRe3XoqIm5Y3nNirQpFgYIoHgHPWOrp/zWsApKw+dPe3BQVOR7QiPGgW1whyjypW/0yyAeZjzbIHGLxcDEQqa2IqiCTTwLEPEqPhlgAQQAggnDwIOVIEfM5AAABrEGa7UmoQWyZTAhP//oiJ5eVWcYBejDs/eK8JATaDz1Ryt9DeAAAAwAALX3iD8+o7xg21zs4MrAPxYr4l5sohzuBnAhdR0gbiPAkPKhzE+LhDRTdeEdxL+FB+O4eirOP8H9SP2pnFbR8dIvDrheBmJ31+NvL6KNNawGb9JhzxZ8P6WOwXlHnJNbid3nUXi4atnp0gV0s7uOKyXPy2a0IQhfjuS7R27GSJyWp/WsysoOTzN41uDQXoyrdx0ZFtg5kApIjVpMbNuti74zekZwf0Q+847dzTv4doer7OwKJMlV+S5soFahOk+C9CyR5zoGHrL+01ryVfarH3fyvrBiUPikSQ2LT87JXZORmmgw9CGoLTWl9txhK7ENdLu1gg3+RRAfX9/6xB0LoJziQS+P73KRRtFwRMiphKOC1ogWZQAIUIMwA2Jzh52Xlhdbg+3GvZVNHhNPxQXefrLpOdrqqu7szc9gmfKjv6D+tqdizBY5/i/ty7l0dEavFcokrMJ2bv82i3QL8XxeOt7+IhoB5UT32IULZxdNXNhIUBW+2NX9xR648gKd+khG/LV9jAAAAlkGfC0UVLCv/jyDTD/YSrkYWUJkN/X2AD++sX65TDpf2DjiuIqG4qdZzKgJ6D8yuBAL1dwmwDk6HF4jphD6ksl2gDiDXbmkVdYN//V+Xol5qdH//gdybJyqWykOOnOGztwaBlVQ0YG2Q05i3enbq7vEl58sb8KoZ4hPBRQFGT8YV4Pv+o2jw1g/++ku/ud9VhyEOZXCVmAAAALABnyxqQn93RWFRACZrB5ZDlE+fJB2+uiHOKOgT7fw6w3POqZN41DEi/Rk6zZ9y1mScYEmdu21eLQ+slrBc5Qd3bvTXY0yIBHieSwmMgFrgMd4WZDgAe1+Pmnqb2fk2hRdBNO1RfU/baGMP5njgQ3b0wSw90EQTsK7YwZ0fip08RJB4PGBZK3NPg6uF5P1cFTvtZCck/cgMvewLi1W+1LwuLm9olVfDPCwXxVcCtXYm8wAAATVBmy5JqEFsmUwIV//6oxfzgDtlwKFKqo+sAxRGiElP5Zl6QUI9JhXs4KKv6VYvEiwLnazPYoIUlQEA8mnaK0R6idevmmr7BJsatUvBUHeHW8xeh9PmpdqmWdZ7QwhTd8JWUsiUfxs8HXqKhKNfNFIoFsVXTVUHV8nKt6QW+C6Kw6hmuoNb9zHsVmE9cX0JGR74nfwygPX1I8AtBbS37dOIU61kYpwQj83u+FY88cidFteRT1Rt9dStf2ObvANUOUnOemNZ4kLBKSUvArFIi8/zGCJsHmoLs9CtIyTH+rpBE2lwJ8bxDpHc69EoFt+++hahUIXXCGEEPbqBz7/oPgzjQR4uB9YkOPD3D07acUSG0asVjTZzxcLZPAI/VxSO5or/fTUnzV86edmRktrbD/rUB7OxB8EAAAFrQZtRSeEKUmUwIX/42n+gvoDp7oBFsdCzcpOi8h9TtB6ZLnJ2g0Q6AAADAAADA2rdyWm7TJ91y35nWSurkQuQiw9C4f2uGU6xFz7CwOk6JJUhH2ilCcH/zgmApG+95r1IcIB9fNnkuHCGmE9y1lt2PC/kTiguQ/d2ogpwZaAAACyU85q5BWqCDd/Y1dyZ+WcOhWq3RVaSKN5CWoMaGpoVKdT+U++5JbrB7KG7U+FegRxAThnScSR+wwepKgYU2k9e8qjw/evL4jhCP+k7UbX6d38X+yQ9nhE3aBE/0I0Hhgr1RJ8YG+0vzDnF1Yp2RLNR/QgxQmBv+kl8cxmTDHHNEjGqArrjYa7EnOEC3gkHIyfZ2f3vPwYfe0XXRCNXZTNM+dY/HGRFhM98qml07xTiDM8IwoKVd2l0at5vmpdVo/uiahGMW2XjTiaQ7UkleG7JtOCU8jdQyeTWc6HzX2rRYoyx5MAAAAMAuWb1AAAAfUGfb0U0TCv/jTtge92s4V+1iJkxaF6/12Lo6lfBfIYZC6Eh1gbkGWcRkIxoMizUp+L4D3wXdBHOwY15xVVnswWrPSFsa3F8ITSV6bAvxhMDaAcwY+ZdeJbiBJ2zJgDudzCnmjEy1mI/BGhHlW/Y5eH6YYosAAADAAADA75AAAAAPwGfkGpCf3cguLVSofKZuPg7wCZEFLyBU75zpLUq7FcMVS8AATutDdw+BBvbS5bisnh4PrljAe75jq1OH3gC8gAAAOtBm5JJqEFomUwIV//38T8q9ykX/AmYcAr52Zq31vmIh9kFQccVqVOtrILil+73nYt9gKT/AYVZ7z0d/eGS5jBai/av7ZqWWSQOiBgOHZLC5v+TMgnZAfjHhrWL4PpcqbJ8SYQsBUvB2pm6th9fI/Ll78Mc57yegqe55EsWh6m4gWnhCsfYnZR2VkIVdrKso93wmBJQNQAag8K/hI5L7vvfHGyVFo64H5mpFBBqRDL9v/Fv7fj5kYFDUZLTxLbh5MEfYqxwVWfxgjEdpPXM3meOf6vtxionPPjCLlWrpr8/WrBefomBWknPXSeBAAABFUGbtEnhClJlMFESwr/2n+JWS/eWT/7uxLytagYIpGrYW12Inc7/cYHDqAAAAwAAAwAhPXcUJsNM4cFnxI9vu2qZYTq3wxdKBiuD3+XCPZNCcpkFGZMUvn9XN8UQiUOCJklmm0LmvfqZYZnxmHdLfWmpPAtNYI64jOVbnbuv5Kgw0hRdeSxXQ9bZSy5XeGRMdIp+w4TxY4N7pclDaZ8DvAGasgH0jZqe/RwQJEG5Rd5s6yi1xZgy6REUN5uajGdkwNKBcuIaSNDWGYRepvlVu6LnhCpjzNMvY3P0yrAdHhYgWXy5LZfxNHTvZ/7J4RSawsyEuspkAkvHsYYfiT38Op/p5C6Rbi6ITete+SuNYxkhx2q0MogAAAErAZ/TakJ/kcwne1EAAjS5zKB7e+uo8pdeYaNO+l6a2FdvTMFRMpjsLet6VW1/2jHbYZmAADEFSEPnD2gkSJEXWdg6st3mRFzsCPJ03CRFS2CeYpZhLaOKC5f/uwKB9s3HYsu8mePY3pZe16tedleZiyzoZjSz6FDNlrk/cLpkYa4Xyt1/xmJu6p9PbQmfWq3PHKqI8m7tJqM0Gg/oWNsenseX0vynRggsABjMCRE/RqDQMYA/LowUsZugdn6CbvxHREqhwOnr5c67nwmAntP/wFr0N9juNnbC3+JesVccJZ1ME7pE7yXABazwb2xOHOU2pgzpcc9UTdnqOwHIVmQcjm98BJZIwTKUfya9Gv44+V8ChHoB47iB+oYbe742TygKqrpbl5+zLjXW+aAAAAG1QZvYSeEOiZTAhX/zlqBJ4W3Kda4VLu6CiZR6Ay8RJl4KiRWqi2rwNVBKq4rhP3yuspdBT+oQMkP7973eIGbgQRTzlCVVrHa5NrExjHqcjGtUpkJvFxY/a2ZWLwXNhCiNvcvxNOmixUeKLYiVMRutSqAitn1wYYrFnPzWDu+a0s8xHAfF/Yb3PzR03rxGJcxXj+1GLmjm7W+MgGi0fvDhKWb5xE1Cqn9V/p3gFF4epmAzlhpSzimiwdralKcFR5NrVbdpiNu21S/L/2ImWNma5IJ9De1IohciqS2G7AF6zhxtdBtn9SMrW/DCWssHpRmRUkj/bpAB87PCInlS4hLv6azF3EtmNkqtVIUMDsvTWCV8oivF01IabJL/+1f/lP9/NN9uLZi5CyTxgkZT8yadqZGJYk2wQ0sC08GD2yDFpN66EDfUGjOq8q+d3QPSijDH076zG2v7JFyfX8mZC0Wrnb3nG4WpwsZHsdyiTSWoaz5O4Dx6ymQkgjp/zEVRlmo0rCx3xQrSUHHQPgb4nivkLpxj3tfwNL4Fq3bqZd4gwD7BJC6DfyyAogqLlzVLwFVed33CbGEAAAEUQZ/2RRU8K/+Mh0ggFqs8ADT1RJsHMuzB0fwQ87W9JCl/gqaCG+mMVNALIWKSgvqNwAA0PRuJQQVemmz97v/nBgYkslHYiCYig2WRcPs84F1BqyxA5Rb528NWlObUdcU8uQ6hDtY9blidhc5bw2jHAXcutbcD5o+V2BQeo7kCev4ZkClNi88Jsi083wTC2vMCgb8EqphZGXzN6P+7whCi4rqKGbaHH6aX0SEUfCb+pzV89rxAoRtueNNVsz9KYmqmFgtiUZ63MYqhl1fnEPQ2KK5V6WFMFpT7b2RHlR4ha0lVfOrXg0HLh9Nn8lwmBbawYTxwIeN3wMCGgYXp3160bYsxj0GjVuZ+uKLrJmUWI6m3nrGQAAAAdgGeFXRCf5SVbk7uVftVGkDXeEH5Dged2itE95zK2YIG9PY2WPHEmtMdDcpneACLlH2zime+eCVoI7wAAiesAxkEhwicP9ACwcolz0nD91VMhF8JVrL1wIqjZgxKcH/8pkfiix8sRdhxCXZG7d8vkT2WTlMb09EAAADNAZ4XakJ/lLcu7TgBPv1zUtT9QkAbbPgdgOo4fgXug3SmUZUlONfTdhcifQ0TrdwxKN1GcWiFEQoaZcx3DKIdxL5kRpuN35GKQLLPcaLWGY1wudggZ5D00XQjitsOWys4YluISvLPYUkGVldlUY4ER8fQmMDGYNw0iV8qleyrF28UllZOOemCUmZjY/YG1j5hIjQcvd/Mw0LhZdX+KBgowCuJXPSGJ407y/aasIgxE9kWPHNFlAfbDDzkmMsTjNCP5VHux86Lza6M1aq1eQAAAWJBmhxJqEFomUwIX//42n+r485PTRX+xLjdkNnr8Fw+L4oGcAk+g2RXTsnaLQ/nw4dw3+2BSLEsyzsp/4kqf1pXjTF0n4Xb5NNuaoVEVDyYyiwEP7lN+m071qHKP91LFb2B/mLYw9+2qZZKmQKMt+c4SSMZkQ3y6ScSXFYQ6+YM1uM3ycYfSyhImrDR/5zi5G8D9MRPMx2O/Qtsx4MAWeUNX8MgDD6xRwG7o0pnBHXICdA5Jx/35FQHOdJRKnwbSKwUpbfwGvYwALdN1/UuoH+9vyTrMFhT1sZ9nlVrsVuOejnNux5soV1qZqyxwGk7WYiLeu0Ngeuy50MAgSuhmzMAOEWZStrIMKHp8ZRqiFTrvjV9RR+F5TI3Wzpvxzzb7HXijjoeZtWrseeGXYpsgy0cW0E58cuTCCT8Kt8dOahprdh50VUwxKSdvhwNBmoC0/iDZa3jB6C1Z5DdDY8SOgXuPJYAAADXQZ46RREsK/+NdgVAnkA0jRmWAEkJEgBZy5i60OKppKO2g63f02hlMivtO7up256YaVBsdO1QuYIpz32qzAQP8qciqlO/LYR1PdqGN5WYsHZrilGOvOG5wVp1gAUUw+L92qZYSFCA+7x1ycXgTGxqc0V3aGNpcQ2qPC8oa6efJzDRV47dnoo3MdDTYsmFFETkJki0+u3YBSnnM6zXriTvKJUafxt2EsFbQgqUdu0z3y+cCkTKLJT9aYC2LgtYymX8eBhqzyst1Z1R2qpxEzH3RBe3aWKQTkkAAAB/AZ5ZdEJ/kgLvciCcs4LdSg4Sji5UBjgmmrDUk5t5LP3oFKVdEY4jKgXc1keOX0GAIeYCKnwW2GgBWk1mFOwyKSkYnmF95SBaFO6K3A7LjmaRzU6fXAA60YICSYL+tiDpGJG4Ax2mIcxg892kejv9Cq56Q5BX9w8VzjoVo8u/wAAAAIoBnltqQn+Sim4wEOxnbyfQVbLUgYr8TQWu9KN03dvi9ykcD2dg5Zty3CfLl3ILq2jLCzRrugTMhU1HFg4fgX3qmicA1AI2pK5kCEnHdUbX09MzQLvIr0oy5IH9w7/agAFd0EeVEBUUxYcVHVDoiRqcH7nOgUyu8XzqOo7iUYLYm+njexRew5aEaYUAAAGjQZpASahBbJlMCF///oywTZp/ra51zhu5gGs+M5vPTIFil5QJYc1FuHUhbuo8ZC5KKxeXzYKjmRfApS334v7LRH5MBTCEPGfTY2wkjHUm8zM9o7sb1RVlByw+w9Qtf+n1zOLbBLKlRPIwatREDvGE2sYETo/GFBmbApfB0YWfe3hoDO3OZT9nPXBjlIc+D29ehlFc5gl769VsLSxDrtPgYvqTx/Ez9gDZB49PD9tnEAR1Wf2+P9AwPO6WrJ2klqe0UytX/ugAUmJ+m2Umnb3cjZQaR5etAKS6eZ5WVHZXn7QSDTtaPashjLCuzDZgQy3ej71zCqwdL3RskEEgodyjQaXMjGyTGmEVIWThvlFeOrP/Ei3t7BZVWkWjMHhp0PpbmJ2GzU/++hNd5nYpO1oNPsrbm5OfDuqaplNRB8D4D7Za/CI12cOeVq6U2iLn0GVCXYU9sEjxCoUHVYx+EFZHXWv890ma69k57c6/kAPlW2iRJDQiL/SSUDps2BNAvDar1sd+BG7JaMU42yuBO8wG98qezxVt5xXg4AoQOE0MtmxotIEAAAEDQZ5+RRUsK/8CSP6KzWjAAuQTNSfT3gFrL9aURZRaUdFtd5J95r7qzTWL9Syk21OxXh0mFvxEXHTe2I8ATdQgzpjg9dg1RXfY6yxGuMPqyx0eEWARHJ2ovCWe5Y6JC5AJ1U4hSY/cVKinottg2H0C38zSSXUTuWrH1WkN2qZYjaB7Ae77Xfe26M62Aqd0SNZPK+OPR88ahPE4PNtN0D0Pq3oUPnQUm2HraCfenx92vzUZQkGSg16ea5YP/JeXPDrSLnEb4M3d9YZYptSNMc7wDPL9Tcmc5D1b9iF9dx2I0y9Z9siXJ6rGpydiSKdS0Td1y7oSQmbYElFtKAMBsIQwiPiyQwAAAGIBnp10Qn8C5o2C2E4DEFGAAAADAABzBU7aMsGXHB6ippP0RxSd3dK87gQ45wFsYJRMJHCWXjDTAX6oPbFAICodLCufhEt5y3MMHmcrtv3ZGEorywZIzywETu1a8Cvzcw0k4AAAAHwBnp9qQn8C5n+J2R2At9j98AAAAwAABJB+6/75nxkm1aR8UbigS1aSHXe2s7MIqL/OeKKJBkOE0QGL8cdC/7PCxygE8T4MbC9UVbWtLWoZbrkNCxq1zABvGMmN7CLGpuBSK6bawH4ZTqV+v2IbNjKIsTgqehQUj+D2K/MxAAABL0GahEmoQWyZTAhX//44QGKKmNgLFLqP+585K3RmYZTTcAWFo4QJ1+vHXxWGs8nCd2QmPjm5oW4nr6u/tVi0MgS/ISXusA3tuEfFgjtdmJ97au+Mdms3n8JVUdfETXPQB53OwNxulvjNxNRYNrsQTKNYwa95M1GkqoLCdV1SARPeFIr2G/PwN7f9kzzKaZgUXzHpO5EKpDrG0a6DFGg2PKdG5y+veonzJUJ51gFJd0D6GBOwI0mlRB8UUulo/WNUunEgYZ2q1qKj8BOH66q4iWK0Q5OvgIsHqQeKBQkSHu6o9Hbq/xcnBxzs+21DbM27ZN9Dvqm/yzYNb5T6BkFYNz9uBnKHkv1pMqPROUdrhEbRY+h5DhqqhOJY2jJC90tx0SqGdIxcBuTZ3Y+JlSzEgAAAAH5BnqJFFSwr/wJIySogFYnXjp94AAADAAADAgiUshVLqOBY1hQZnoYSf90UAPp+GOunVHhYYUxG/9s8H6UIDsKEdR/oy3xIAWyTr0hhR1dqlEiAdPNRqY2zZJXG8JH2q7s/8drx23LTT9iWkacgn6mteOyW3bAATwgEtZoEXwcAAAArAZ7BdEJ/AO1toH/NXHYSutqkPEhVUKRMmSHTact7fKEPFxxtvLCRPn7FswAAAEwBnsNqQn8C5SvLQsDC0B8AAAMAACIwWDVKoDBzjP4dyee6X232OPLOxQM+bfddrmI8wAXPxKFcPv56wWmNAf1FzsQ6AAxYxakd7+j5AAABBEGax0moQWyZTAhf//6MsBvlp7wE+B42ZmkrEwtYUoKYLZOOZQNZPrha9N/dYRuXOGYx5a8JcebAZ01HMlV45bqscckONpCd951beiXi3dkNlgI0mYjFqn+phZ6roldIaV6SmQQe5RCfQVUIStR3MTrZLm1lb4MkmriQ7jCftfw4uH23tjTnuuXyEp26z9H9a3rBJqMbILREwmP3+32o/mzfhCbcX84SwZrgxAYl8Ntk1/Bm7PZGEQCgUr9EuuS+p/wFv36wXM59kyGZV7cWGw1M0cp3QMNA+xP4ojMaMZPun9KZO79UkbPV2vesOU/nIEpMvvAAAEt1JzZ6odSdPKDeqtFRAAAAi0Ge5UUVLCv/AkgDsfctBJc/BudPTeV9gqeXewUqsAK6lndsDPSBlYBV2MKzgIvmxfhKcETp5LxDxQ0JjPQCYoR7NFRJZez0SQcqLeGlvGXZagHsXwmeuyc9/fAkGTKEgSvPoaT30b/Rvf0NR6i2cx09KaB6mJyYBHTjU0WIYUmEQetgjKjX/unrvCEAAAAeAZ8GakJ/AB8XjFXTdHcWlRE1vme4SIKmdjiEwpDxAAAA0UGbC0moQWyZTAhn//6eEBucxKQCAX24Oc5WIUk+DLuEMxjW2BfeLx+5Z1FyPIqKCqULTQ/C7p1Jbw2bvtxncqXEUCz6uTdk+MXZmPEjRBTQ5fLr5rkB+43bVMs054lM3wgfXncCKRjszmG5Vh/5e03RtzSn79b6gBopFxtUXj93GoApOGzZisXKmevyE3nt81U/4rAy/eMOX6pDc+b18KbQJZIB/KMS4sE+pbKae8rVlWDkjSaHFV50M4imDpNil8lzXEGoHmPul8xZbbf+qAvIAAAAaUGfKUUVLCv/AkgDpGIpfhiU4HfRL4y2jYXf6L7ShuDl/098HRk00gWCvCWG5RZZ37RlgXxIFg9NF+kt/lxmgh71T5GcHANsG3n65zNJgKodmo3+eOMPE6cfYRglgAs1NQp7VUAdh9oCYAAAADwBn0h0Qn8C5K3vGfs6gSs0AAADAAAHYFQtoywMBS2RH+oi4xVqizQUk6a/Sw95kkS97YQACPF2Ll6TXBkAAAAXAZ9KakJ/AB8XjFXTHKn3mRMmWIIg6YAAAACjQZtPSahBbJlMCF///oywHAmBCZEgWFoWWhRHPIm5iow5SPoSYvIpxarmcDyyrJcOHvKuh3DHTnd7ZckLB+1kaN2uXLoj1jz48+ZX1uZAAE2KX9ctc4QeyiCFo9QGjSF1u/U7O98BCXDQvm6SFr1+SUkjP8lN/fGKzYYzTgfjnZhe2usfDWc/h2F5TgXEkTNpVuown4S4AC/zDNwpkOYnWsre8wAAAFhBn21FFSwr/wJIySpdFq8qtVJmyAAAAwAAAwAAac7Db1SqAwsF6B1idgQ8sNoYBNQQANuDWh/tpQAWB8/QLK7ubkL2gwR5gcejQgs4SAMHw73EBOdyR6zBAAAAFwGfjHRCfwAfDZglsrlOnqrwW4Jc+4d1AAAAPwGfjmpCfwLlK8tCwMLQHwAAAwAAIjBYNUqgMB+zZU4tIWAX47T6gACaBp4gWDiHoNSvY5u+AAm4Tizfs6mRgQAAARNBm5NJqEFsmUwIV//+OEBiL6twEAobsurhB9zh03jIXPPylkIaV+E9/wQxoMI5TO37emKvCJUvzl+8sogQd5v4kPw/o/d8+hLcHaLsBIjhdYNXUscEYo3yEiHqUP0fbJJ7LCjusTkVEzGebwBd4DdoIaYI8vs67odSSMgSqXdJxMbbjfUtVj7PfPX4F9rAM2EqmSqbFBs1TyEVM8rjqVWm8mXgdc4lQSBOvGtuPaqgSTY/HxtwDgMIoPqvSAOSI1Fc0L312F4SljfoXKp0dvuugBOZ7ZO38XZ1FJJJy3SkxfNL8Bqdz4OxKWZSi7s3CASFJY19qjsiiXGqN9zLmCHtKZEH1LvsiDVscSjaXuW0s9BTugAAAFpBn7FFFSwr/wJIA7H3LQSXPwbnT03lfYKnl2xB6VBt3XNq50O9ZKfK0DZBJK4Z0MNrrph8MFXsYd+S88rrcdD+DlpFuczEhjQCed6QrUN7utOzw8RKJ+gHC7AAAABYAZ/QdEJ/AuSt84rxQFOw1Yw5nfLxHBLbViC0EE5L25RYx9Kbt5xXxcqB5e7vacy4SJ2rEEX+Fs9dqEry8hxNz4rZnr9M4Bgxj0LF4KV9IqMjipb3WXROgQAAABsBn9JqQn8AAWKSyC22diyvvAvNC81sUKVaPuAAAAEOQZvWSahBbJlMCF///oywHAmBDMnSrGtcBH1pavNus+apf5W/OgL5sRFVh7BBfUmPXuM8mnqE63ii0zxg7PwXn1b4lppjd0g2XYK7mHoCb22yZkP1UE4M6ERfFFYA5JRse8O5A1TvJRK1cFSKIuJ2lsEoJo9Kl81K4vdSaJu5I7eWI4C06iRq8ybz2ArqWPn4iUvwvexnb1/u2LnPFF48B50dw1fzzTOqRzJsusI4OeLpo+XDtU7xcpHiBIFGtXQ+LUT5QS/u33U7VTiThmYOFdpBWQGioH+YvtJspvtAzfRwiDBpDd1ZWG7o3nqb+j3cRtIG0y+JU67fZkCKipf7S9hkAK8u67Z+Id130o3LAAAAa0Gf9EUVLCv/AkjJKv3in5PX2cwDxEjWkqixChnW2NWaCromRfDJGb79feELSogkJA6UGDdWaWoF5Kgq98OQpTwStKC8OmZ236QSEaYEQOJ5DS3v4EoW+dyjE0icVFkLNfv3YPYJwP593L7BAAAAWQGeFWpCfwLlK9llaAWJKMER4OuamPLmXZ/XZGJvmX+JaEBaQ8nHPJdUyfGDz0jTqgFELBYnYrlhZEiRrklFKTQC20+vqzdr77cFUCVR7sdToxNO2p6bnkeAAAAA40GaGkmoQWyZTAhX//44QGKIiuvj4htaAAYGW41QXHvadCquEBO0FP7J/889QxtShC+xJknW2HU5I2rG8cAauqQ3b7LFcRS4M4PyODPNLGWfakU/AMdOFdmMNrejrfBppFhsAZCJ9IEJgtgqf6M4UF7NNTZrEMO/fl7Ys2xFtLf8TtOupqCorzo7D/Vvadkbt9CCouGMHg/i1M77k7tvAN0c9EkIBBFQCv1c26rHKFIrMdREe9+GERDOulv5PTmSFt0D6dxNypk0J97cZ9GKfuKSpYRBUawD6+5QDn73R6T3CHnBAAAAtkGeOEUVLCv/AkhujbAEETTXxhWSXp44przC0sAnJ+bmSjwiB7XpTSAc/QAAAwAAAwAAAwAAAwABpAAAAwAAAwEYS2ndoywLuhtM/wOQCGQ3LauAnaiv1MIONyUw7OnHsp+1mj7joeiTx7bL4D6sw3Ti8ULHlPM6LYcmIrRf//pCS97k6RrF6u/C7eQTpS5XeVet5Bs3y+MBvpybo+DNcGa3jZwhq2wPlt2zZiIAC/MDlXJECOllAAAAWAGeV3RCfwLkre8Z+zqBKzQAAAMAAAdgVC2jLAv0k+6iUgj3S8nGCRIReq1TSIlioCccvMATivhkVoCD9mgnjna737ElmjiCrJNG6a7F5mAAH4XUTTUmzicAAABGAZ5ZakJ/AuY/LLMJF3YsPqAAAAMAAAt4vO1PCBdXPMKmL7+jyI4YAB8HoefqkTDJzABc20AQr7e54Hi25NsqrSIxgAD0gQAAAQdBml5JqEFsmUwIX//+jLAcAYDmmQ6Tf6ZZEklmeVqHdYExxMtyQJSQ8pS4v7T1RfhGDgChFy1J0Q0md921TLIUMDiWBuUqIcDKwVNG5qes/v5jxlxsFoAn/p6kv3vCCuGv1BSodvGTfJBMR6uyeUq2n1LmrQlc+m9/8HAcDwdo3ZGH5l754Sa+wdQhSutwTgozCS/m9JxKnGQice0TX8LzdBHcwceEdyaRblH648v9GjZ6Td69fjMtQ+qr5zODBF2IjeF0+NN+12JCdvPdw6zf+PIvIudZxd2K6R0Do/rLA5eiv1D+eu4zwDExQ9+aX02b0pTU+Y0N+vJ9buCdprgM1Kv2WWqOnwAAALNBnnxFFSwr/wJItJkwAz7ygI3xLboY3TX/zgAAAwAAAwAFCMCoOvO9o9HxItBz93sLfddO3apliVrJG/33Kn1BqFTxUjD7JfLHDK1CE965zaMXTS9K1UmInw2z0fyfotPYBtHkPwDeHpCPKyGO99fNSdtolBMrgU12kIA9S/wO11obHii5tWfyH0GDXMsXynhlvNYPiblLxCqS0iy9a+B3l1fJWqIkRS2RUIL6oVnKFuzWjwAAAFUBnpt0Qn8C5LJDCcljLDrdyytasKt7PNhq2c9urmMACMJxUoDRxmH50T9RuIDQ9AqE7+66IQtvXC2QALtjKLwoy6XBKVgVvTZ7esCGwtMC3Vqiqq0lAAAAfwGenWpCfwLmf4oP4c4QrtYAAAMAAAng4QqHbVMsSzwCOxy0ZvWFJSOkw6lecnAkHZe+4WlO1DVAAhYeXlcBn5GQIrwbFB3v7nBGt5S1XKAwUcVWBSULOoMltIa/ABWt6vzHR294tw2R6OhOCmbCJKDaRy1X3fqTHHV7AwCzydcAAADjQZqfSahBbJlMCFf//jhAYrrhIq5fgIPlzmZi3c3Reb0zXGGoKF0klwiZm2yfaze0PKY000whtfM9RzpjzfQxziUSwNc8WPBgXGfPb7f6YwNO3+OsMNyfDPv83Qegm1KoKZ87LBOKIRrqccXtb1Z8zDkF1K7CaPzGFzBmhNIG0n/c/9sSJMea53MzVwlBFgpYZ+RfTcqt+oz9hLk3TRfB9mLLFOMoxPqBCdO4Wcc1ipQsp9pJFeqLk0Ia11uosoACK/6oONykTRCc4Ep3FbF2MQqP7QtcoMD5FaEWTyOypeiiEYAAAAEvQZqhSeEKUmUwUVLCf/3xAN2B2JLltFbJWH1ZWtay7fPO4nQ+5346GYngEGmLcPAdSLC+1vtH97LV6Bu21KoKtatklbGrg3LXuvPU4X7rIECYMN5NN3LtVYBZ2Y4CLhFBEsC8rLOCEXAS52n+y2cQ5VW9lvM05Tg1JOqUWe/LfrKSlTS2BK3mLR/jP2jPMh18bWMjWJha5rLC5ZgfWAsqgBj/klKEKl28D7WQUVcyRu5qaKdTsWPm9jTCuQMauzMUnNNB702Xx5jBCGEGwvZTugJgS20JdWuhaS2DQzUt3e8XZZbDxqiQcWunbC57LUiWg/+hZ2KQxOp7GtW6vJA8+8tsEgFUIeBjajFu+CYOzdg4bOkbU5nPXG4vljwo4UHs794uRABdM5oy5UnGhMNLAAAA8wGewGpCfwLk6XLAABUrr5fVIhvBIIgTZ8eSiXhQWpheZYsxXl58DvoR61sbTGO09KfG8ZLplMkwDZjKszFzBFEmPdqmWMG6EkdrOXELohjcAMCQvi/iqbNXZ98kW5pNridf2oIZQNtaPHmokeQwWLadITsTGCmksvleMFXsUxOAdfr8nNxbUv8kDD6xVBlfXDLQZmO9595NRMW/4YGuEm4KYAeV4kZe0iIAOul5ny67HCvssEZBjLzws/O8kuavZIwO11Iq2B1mbEng3cayRJDzydRxbjcUW9DLqurUO1ixRb8/sxSXu6cVQ+UC8nJuR7qy4AAAATZBmsJJ4Q6JlMCFf/44QGIuc3ALVPhNgWZ5ZFxwij3nLPrhgnp+uuJ7QalzOF1LoJ5YbzFLCbPOVCoD4ZTbY6zPfgZNAsFBvKb8796T4SXtpUusl9Oo4YYwvQ29T9aSsOfTMAYfl0gxJ4GnLscpMuIlLez6vVYFz6lVKmFNDXZ7Uv01MXJB9Pm3APo4X1l5TzmUw5ISiymMCoPyFs1nXYp6IG5wTRFDL6LH3z8oRjm6CCVE3UlKMPJ7/VJt0FUzPuDWn4/4cj4+v7MhBt6eu4tnzdoIGuf59RkXC/210zY7/zwjibeiPKGGsVhXY39FKV11KyXz/0/ITXUwf2n3FPhe2Q1vpik+IrjtHYKzp356HUhe15BTF08xUFeYs8fgqL+8IO56G50Wpiwi4kvevDK024Q3eIrJAAAAlUGa40nhDyZTAhP//fEA3kUWKNm4pW/sSiyRJVz8Rup0QGmC/JogR6F1xPQggeI80jjMFLirDdtqVRAO4wEXh9arbTYqb7t4JW7O67Cf1RFPNCbBiKd6o2sFs3IiZwPqna77q3hu8Hk144xbagzETS4JWElWRK2QKc0Y9+qLlo8z7tgLEiSv4jmuHNtrFo2aRbjVxvOaAAAAy0GbBEnhDyZTAhf//oywHIy04egBhagLGZd6WXkX3daOqFaSR1b+/IKtb/J0knltlOi95gmwQFiXvH++B2XzFF7n84+p16hDaSHjuXNMjP+Jp5B7jskhp5KiTPEGd9PmHxWjy0HYXTNCPSO2pVFlBmL837EtAtjRLx/3IbZHUEDlFW3ZGTFBIyyyNCOGKct3QGgYEMXnrJPSgDNxorecF5d7BYwQpJxuQW9BuCxRwRO/3dQVucS5FtB8kD28DBkiGZ4E6akxyFz359TBAAAAkkGbJUnhDyZTAhX//jhAYp/SlIoH9+YjIla0Gktn1V/SrFoZAk+Iiuc3xfTcI+LBHa7MT8BvQk9+yqZGm53f812KVHhcDR6e/Y4r14AAAAMAAAMAACa/MtAltdOelMH33qeETXVpBVtRbIlOpIIUdqf8Kq7E8J72aOYe4RhxF7JBU+AdhyXDzLuwP6PJEtGJZi6VAAAA+kGbSUnhDyZTAhf//oywHNTenOZ1OWP48jPpw15yojgAAAMAAAMCJWGHw03/r82/dtUyyFrCHvpRDzqtQlfmwa3PtAj9mfqG6xxWuDO8BEJhEFqMdQud5+jnnehLBhDud3DK138NnMjMBFWlFi5I+l3FVYd8Vs413MyDCr3wU98cZez6Yv38165DKPaogIxhm+zsFJvpVxAtwLs3q/NhBY51bIyln67N0M3JzNvl4+RvDd90hUKgp++cTdK8y9m9Xpd9j4x5rCKCSMx+mERgJYqGcIdvaIcnPc6+/FMk2DNvConx2U43ag/akg4j759QGSTkU1IjP3QMZ0cAAAEMQZ9nRRE8K/8CSAOtbE6K9ceAAAADAAwPTTczgAXS2xa2YlKVdJMH1ni1n4ritM1joZqwmyMlfm/jgEKmk5dgaJleMZ+/8CDAJTXkMurm7vT81bVufrDYLviNY8q1UzRXIofUQ1queIvc0BjU/k0GGnPYFndIPgJ09qAmZoG8AkpyQU3SKj273UmQ7gJ1TlJtOi7u8dZCUR9wwiCrbaBa14m2gT43dgB2yKMNo9HjA5aY5BTTX/lGi7yZxHqBUXYJi9Htugy8GYHZDoEZH/VTXSdfTxYkDy42P0Bd16qakZHp0lOYH991t6ldaLLYERMQMNx9qrcQAMHEHE4mybE9vsirtUj0+c/R5yIPcwAAALgBn4Z0Qn8C5K3+ICXJoermhS8ZPcLPsNFNBtFVlPpC0mOynuj/VggVvGYR2RiWB9Tk1ZsB44+aaB02diygAAADAAADAAADAAyS97alUHdeASQb3/TxHDENO/rVyk3rar/ufxVoX+p/bVEm/nwcEgkfKpzHYxx9LpbdfYp5HvnAQOnxePtyMS0xV3s4+XX/t0Yo4NGVA1foUEETWCKnTpkodrg6uvMxDvMZQVJaJi76lpzJoLeF/NTAAAAAkgGfiGpCfwENtLB0AH6i2SxmkEKILgCMbbaGtl1tCXbt3Cop81+nAtBfFK4HQYErrrPXFYW67tUyxJJyBf7eBcsXn8sPwJDVB+z6j9ToAOKTSSyqpuoArJOPx+WiITIakeyjYRVLzJmaaQSB1c2w+YnYsbGTVfTthgF7gUhZrmLgRpMk3gLJvGi586kafgeexyakAAAAt0GbikmoQWiZTAhf//6MsAPmWPqQYu18evIaDYSydGHN1qncKofJjHaO5qm+rL+E/ssy2xpMRUQZt22pVD1kh4kQ8npghl39Zyg2hFUja2mkkNPZS3UDc3kNIAAUWrAY7u19TrpvpEbpboJv2ToS6RlYkb/8GiSQZtptdJwXBG5Ikle99ajUQVKsPuZthepoA4jYbHRcZFV4hgyIOCVtNyvqtfFLSmWsLEpIfK92PUh3nZ9oim+EsQAAARdBm61J4QpSZTAhP/3xACXDnjeOJjuUqBJd7JCGXOkheYpftmQcUaVHon2CCBdcMCu+3cwR1cVhu21KoNByKUgBRE7+2wTVjQNAS5rj4498E1MEjP/MdgTVfAoNf6WknUp4rjprz56QaDHRac2PjgjSVZdwNC2CC3zOtn5kSygMjl7fZyVOe0GYljtXTSMm1KiRjL41obQbIvNqepFFKcI6t9ndhQMXVBlMg869+UvOz3YSg2AzrcIvbTo1+zxjlC+ZcDKs5OI0pPkILWduqIM/yDt7hOXv2OW+JntGXWP9H2jNpeaTCYbnekGTV8CM4Zq5nRt+c3AZ0qiVXJy4jLLRGxNOZqGzluM1z8Nrji/NOlWPfyE5lK4AAAEpQZ/LRTRMK/8A0rVFmNgA8LfV6HTHVh8AlbV9WKAm5VRHbP0sTAlCUUx6r7YgDfZ03MCTespKEiISsCAotSxrQsfUVXCSJ4EIFfq85JpNdtCszE3oVttUyyzU50kjPksBrCWbV5I+l9+RjTlt7U6uorz3fauY71OrcPRGkGMgrIp3iTs4/xjUKllLFcSTPnSK15U9YDRcUskVZ6uKkeHmnq8AsQr9Y0AInpAihFrvMErLloHjo3e+fI36Urgo91ZQZuq5wQ5u06amWLFfm/OmBj79+/QFAipNFjbt3eeyQ92sSBDqxOxLcDGmKYwfoKDxju7nmVKSkZcXgZBUw/Q6Awf+bHxvjVdNb9xAivnMFzEaWmSsXZCSDgMQV8+W8M5fLzuN+elZ46mAAAAAiQGf7GpCfwEViP/lMJ78xkWNkqUArYIAy6aMg2MHF4B7A3ISO70f264jQcwDifCr61KoM5/8ACF73oOJaTtpicvXl/aoEICLn8ANU1SUzfuX16YhfFvViRvZFcalI0PB3OrnRWCCHTJ+veVUsQnP7skA2QXqxSEwNZJAYS9AqMWHk9yXP+386RyBAAABpUGb7kmoQWiZTAhf//6MsAPmpNi5yAgA/Nr5bvAvBPSmO8dc3Bgb/AHxhvEGsfAw8Qn0F56IIqn9X0VOH7EHje+4KNVmAlNjliELipyIW3SHseGjDSjs73SJiG5pUY9kUcR8RUPau/5QtLChkMrP0otu53B1212ADnWTsDWuwYglewSolpzQ7glifXzubl3/H8A9iJSlSM6+0IbI7gJUDvwO05+IJy1B6ZJRcU1ujFjNviSLL/odoPpnl7eQ1urzQ9E8wc3JYZ4v0DBPL2PyoLnoD0B5ScKOgQXb1cqnn20cTdSrGtBDFTATQQB92K4WPsZXK+EdpaqdL4bJh0m8Fz6vVwtQxV6iTkZdhagEVX8rXH1xsxkzBEBrltNJ2zT/BJBv/ahuS16ClOU+mzjRPwkUAZNZq8RA23Y8QU98BWrT1xvudhTqfe+Rj47hwXd+s57f4ZF5oiWerCC9FGWJM9LkUJGPG8VNq70fcnG6H6CYnMGz4tlELN7ZlhoiuiBoiyRlM8JtXI/Gno/WDFOL3E3R0Kg7w0QGfeQAVVeJANx/b+liy0EAAADrQZoQSeEKUmUwURLCv/44QA8Y5JNgDpVycSD+9pHxklHvUv9/GIO6WFM22ZnD9VHAQQ/iQsjDfQNDP145BBGDYrJHzkl2Y7+1LyWu7LNdsG64FZ9qNpPk3ju21KoSG90kX+zfiKf9Y5rvlYO+h0+Rr5dC1hzHVK6er6GtbRJLuWo/nXyTMSIAC/9j1bLX87ky1NdgBOIUPRvZ+tFQgXHrAOfiCwYyKhxLdUaY6yNOYwAj1fQP07UK0bKfuLaZhoXLMk8Z5QoB5ixqbDs2/F4MYmF3UUPjHGZuJx7RC+HVvk3LR7RzBlUVM0NugQAAAEkBni9qQn8BDbSdXepoASW00UXF9hmRaF50lDB5Y+d4SJq9aeBCxXy7Pp8xnPvV93HRta8/+mn/bVMsASzwosMknfGKQHMUCFtAAAAA2EGaNEnhDomUwIT//fEAJe8LdAtibN5ITMrqTFhC2JM+nK7NP6fscmSlDzmfv72H+MpNMqlX4AEjQquNm4yMxCOzB+viY/LCdJCaCcJSXEo3XIO1TdcZb3tZsd2IZLrLM95iY4DtSqFTnJxr/pjCi0TpSCuhPqtvtz4LzkR0qrvu4uiMPZPt33J710f/NWaU7UgV/VJId8pK7IAP8SyHBGjQn8Re2OC/QNJ6tlnauwxltn2UNMpMjxn94FHbS3NHcAU6QosWUl513JVfkjFjct81tiQxFXD0sAAAAPZBnlJFFTwr/wDShui8II/vxoExNHX7kHVgX0RT2i1cs82aAVq+ZmU+7GEIQ63+Xn6LDSePsKgGiQFzZlp0RTx3/Znwf3dtUyxYR86scEkT7UkX4h6lKRo+pnm3U6PEA/cGIunxSp8OcnPVfc46Zs5SXmE4Cm08IvzB0NerOQMXtPu4uZvXVsasZpVS2ZamwhvAZzR/CDNCQxbbMUH8zDNqq3MQnOLzvdFBIgv8WsnA01pLKAzcP6e7jlBnIDj5LAXSsFFBbKBBGBhNndABOE3IfMZAB0Gr2aHTEUciycGO2wAIqoCVVEXcukK4ALTi46g9p4bAELEAAABGAZ5xdEJ/AQ1pO8Z+zqBKzQAAAwAAAwHZbYPQjdqmWP38bIvRH4iBXvQ5/nnG0Ak3YOVOx6Mj5Pf3xzZW6vaHNtFDhfPCiAAAAFoBnnNqQn8BDbSccDee349zd/nzRmkgAAADAAADAAADAAADAI9tve21TLEjsvUp+OaVvrGA9eB9QaP+x8DUGOOV1g6XldZTCMQ4ke8IqGqkQzM0wk1eP6xPvMAAAACoQZp1SahBaJlMCE///fEAJf/jdTObeVDpoXPVJevWbpsQfKeC2QeAAAADAACYKZWvJfQZuqpoiM7oSkAbYM6xVPPl6nDgbtQ4UqMWGASDCHJuxfr6uPh0a1JICKZDmj/ofoYZVMsVMjGLLVe3rgq04fCx1Nn+eXveb74YQuSTjNGpxN6PRaX0m1OKjexK2aq3E5lDMY34Zl+lIpdpG0uif9MYGKLe1x5BAAAArkGalknhClJlMCE//fEAJf/j4jihSbScDcT5lTuApBwvbnJnEAAAAwAAFoayANHK8+VmK3v8JlEUDX4QEUBYkd9h7wn9PPeT/y0np4QqbnqoVhYyAgep60xCpUj9ybx+Zr+F6y/tOggEUY6BVSAm1ZiA1O9NeMaS29SuCdF8+FNgZmDHiNKXnKFVXSxSfufi+zHI4a6yCVZZGgCKG1CKgzctIxINqb0aR4oMIbqRgAAAAOlBmrdJ4Q6JlMCE//3xAA56D848EBlRPBs2vb4dSVL/VriFUfDH1DgaCAMfkJVJotzJczcJS0Rdctw2q4P2CUHCI1CuktbQnGkWmtAs34L9iuATKMnvNFgOQwRowkuGoorI6gHLt++AVGILr9WNdgrfQ6DpTcLxoDlRH6hUiZYCjnSR9IAT2BLSuE7MtSuPbzRTSTiL86/+RWtTPm61+HKJ1XXkpBhrG+bq7BmsOKiRIu4NXIjBihdx9CI3sFHv2Fi/dxon499mTPwmFqXVa0Swb8ydW0IGl2xgc0s1n4coC/LO4eXaJxh+GQAAAP5BmthJ4Q8mUwIT//3xACX9E24I2lrJXyGd5wBQVXJXAKhSzzvFiW5taoWut52Y7FxJc52Rzw3t5R6qsWIPk845EFniCmsuFQWb51NKUs6afJYVJ3a0ZYX2uCTMerQgbD4PLQahQ81j8bkyqf9UwRTm9AMR68exA9pHiP1vw4SUCECtOOd7tI4JD3a0HcImInM2DVb6A1MJMX/nNaBRvFqI/5A/Xaq2mT66uPrxeT1ptneh646EG5mHn7ACXpIizZby05QT5z4JlfBrvWluNFJBYDPBPRgeP1FSC1ik/QXVuICyKlyC9IJeLwgt1UesEeCVvgF4bZYtnW5iUbk7YQAAARdBmvlJ4Q8mUwIV//44QAX2w0QYodikzDrBEc0EuVKqmpxVdwuB0vQvTNCXRqJXHuQsizGkhb2byfAEFv+a866DkEPUJ2F0KINAFiGLv8TWGFx4nakZQz+BbFOiSPeEE/4AaxYpGZ30aC9BbUOnTmzOoWEdp8dEXWvJ3jbNCnPXslBi5WQMfnH4w+xk1EVa7u0j/UrpwfOKKNIy9tbUqytUHyjxSBjFLW/x+PStealbJ0cZ419vadax5G8jwYuMnzpK2DFjQ+9Pobd4JCaPU0MXdniZt7BJsujqllqAPtrlR4/nryWYWkbl4PlSMDSK50+GYJvd6AW4QlR/7LsdUyLU4USbx59TH7jTIeTf6Wbq4qsO/yn1uIAAAAEpQZsbSeEPJlMFETwr//44QAX2Ch9QBGEHZ+tEOX2/xDcCBz5D2iVAyt32uBSUfz2pM/q0XNB1FvBygulCavQTaNUI/hVyWCFylFIgh23H7PIefybPrJoiYmMqdtUywzEOmxGPdXKYw2dV1eG9V42YbkX0/b/wBjuUZ6nZm2xJyKEY89ISY8bxUPyirJmEVgKXHEFezOzocyUsBaP+u9dK1tvpcybN8p9oQJHy87kXUceOUFp3yTHomylLZeLzO2S9xj2dTtPgnIUfzFc5lJothRGBCkbzZByqW/fJRx7P2dInlsGK9huTJZNOyRdYkIzE/eeKAsH5bTXgDHOXs0ntuasVuhnFYboqiGN9yn2BUWv/rspt+KHiJtVRQKrO5kjgxsTxyby/DwfnAAAAcwGfOmpCfwBpkViM3wBjtEVu7TBdFSIAWtQSOane4nkzZ24QAA/hEpuhLj4RKFwq+vsst+i8KRVXeziBqdTwgG/HuYX99zvXWCbQ1jedfujiFdwKlazkWCjfdXmVXtEscPswXfjvWFgSZhkwrFpysu/CpIAAAAEeQZs9SeEPJlMFPC///oywAYpbcHNxw7eJY8xp72yRv4wpT3yZ3pGywC4Hb8N8t/ymYSN/CEIzskgEfktrrSfRGwuO5Bd921TLG0Ki2TsOEScTaFT9bAisNsUCWa76yIjuzg+hr+/wm6GEMHKB0kfsJueNzX3UX6nDjBYrL0Z2ccCkm0yMEYJRtmcmqBMy9Nf6eDPzERuVDdnVtMMtI/QkBeLduF8NQwbPh+cVfKWuI9xks4OKNOPPYPIu7Xr7RtLdXX97LtzKPlCGHF9trIniBXl+eqhFHnRIjJHUP0O+dd2sgYzJOGctDcYAhmsa9pO0Ql8lZ6WC93eCOD3bDG4X2omydQJ1PstX07H9UfaErzvmPLRB2VkZQhf58Id10wAAAUcBn1xqQn8AaX/AagABBHweGaG2yq4xkl76vOIhvFS4aTppizmAaxvN7SrHJEx2KbuSyv4u9zrtvY+EwdBkxvtM/q1e2D30nVE+kV6Tw7mLdreJqsJA4FmfoijMKNZNsETkMvYzeOgn0u+d7vd2tGWPyqyjq7OBw/SburbYL87rROIaQPZiL2bQi4GATy0Zzjf/RanVZbKR6hvAWiGRFYbvWTI/Xqyr7qp7RnUo/K5svnG3SS6QAknK4YIwzLEl6xfo40VwwYaGGIVLQrw0sGwFx8D5DGf690hvX7nGYkA1LuFbACZ5WSs6qJBSZsKaZ84B2kloQ02WfEU+Wv79ZQaXMMvrpVj/JJOXiPuX6ottme8Iaoip1GMy4jhLU3+gLQMATr9qIBtOrq9oANjmMIBE0FlczOa60xPwfpwawBfjDCNwsc/3Ta0AAAGDQZtBSeEPJlMCFf/+OEAF/3/pGi9A3Qm325f+gayQAAADABFHHGiI9hQAbMA0KuwJQYoA9FuNBLxepEIab9gP8zTbORI2VpxSlG7B9ZJy/syxTGnZ81dHDR1WxKxDRZalTza5S6/0yhI5bK4WJrXDznNk6gWHutSqO4zqIjZHWgA7tlKVBCsoHiZ+oNPv2xcNqmuRIifUhP9gtDd62pf5LqCnQ7TQ2gv38u7NAh9FWWKPXB/93AiSwAe6FpA/yI85IfiwTnM8JkdHJXBwoTJfzr6YmvL2J+A8gv7ubuITAOgj4ymo0tHSuFFA6OLWG6w+dpQ+oDVVCABK4htWTCqlNCqma9yltivTAXKa4urbLEhkmq7EofvEry7H6Nll6MQiRlu5yNVMxAqPe26FJppRqbF5JN29Ov8QvvhuFi9a0KVB8Bp7Rgy2FMchlrYfoDueRSlGRAHYUwPlOGjCsOfZQN3YDc3LGCT3u7o5KkknjJ41zpXD3B5B6+T5040SwvvGEvIqAAABDUGff0URPCv/AFHaJyPp0V648AAAAwAAwKipXyowAqpPRj1sX0M6ShipQBbij5CiMmdGAAADACvt0BsPlXWshxelf1cqMkmKwI4nC4keoAvh200uyAum4M6oGSbmaKM0xXOcytI1OpRTVNkbhfxgnKyQqrDE5wUwKaYuujdZJBg07Jpa6ndLh/XV0AwcbfXVHrk6VzkcFOOiGNzXJklE9f7ptB8WPGOwZ/85FiGMMnPb890q/Xqv93pw+6qBpqLRVV41s0QL494JzWDq8Lo6AjRWam3T8fhvrROR1b3mPpxukDBMxd7Jy3dMFNj8sUXYNhGLDZvyTj4kntfLno0LrW4AOtQmXxM6xld4/zMnAAAA3AGfnnRCfwBpsHCrGZkvyrj8+aS1mZq5agZaoGPQoduH81xKNAqYCZqLI4PDUIGe+9mQC632bKRxNMcinmnEtq8gVGaoA5SIqgqYLACxrQWidIzN5X1EiJWzLFUp0LtuLfHHzud3UVqVUB0k6l8gN93aegbECbXl9xxJVo+f2K9gasCjh8ahNivPQsYbMDjAyhXo/YbGv3rtlvxrDAisJl195mBAWfZmWPYx0byVvt9Hyc3if3vocFg5AnO22p2xF0GmMrfED/GlxYgvdzKDvo34mzfPo5ALcgw4LEkAAADxAZ+AakJ/ACfJShiRuGwyhtJPDEfASrjq3yMtUDHoUO3D+a4lGgVMBM1FkcHbegQKmgBGvVDKZjtVmCpDTaplkOiT3kI9jCqAosFMz2N3l2nE+LSg7xFndlO3Qs65+X4L/nqyFpCPNVVZKjubb69+CG/LhPMybILRdPGNZ8BlSBrrBeoTIg/XD8lOOfurR4QuOMj+EZB9wGCkFzJjWjb6BNfLEFrNZPw2bcB07x4xm+A8WatAZq9T5TcAZpteK1AJW7lz3QLZZhVuQk96CJyS4VMkruHk46W00yW5gIMClF82ZJYNrE7dnVM0a0cLO8YcbAAAALdBm4RJqEFomUwIV//+OEACTdE+8zoS/ORbieMqtpRouqQHrHxyZx3IqBlDUidUkV+ma1ZynZL+T+7aplhNsZB3wCgRelQJljTfMHbII34OfirC5g9grcTtgSkTkBBxHg0vef99210bECQ7nFWwnoyU+vZHtTN2wgHwDrfCycfcRt2ZouS4bhvw2QMvLC6yl9Eh9XeeJeXkk706zoVObo7quQ9yczbHqR5EgFstUobZKWenMp3rFbEAAAEGQZ+iRREsK/8AHmWqsxsAHj9osUyJBsLjgkR5T2LRlw10qc0Um12eTBSQnDPPPLValqDtnOk5ycNvODhqIl34dkxE4b7CiCQGXbuXpd1cPI3XCtVNKdBPtqmWQ2xxsk106tELCH7Dph7HdL8oKpJ3EbPqQiKghNKyu/yFeaVZ1TGFo4ijYo8euuvlLhL982l0omfUEAAY0K5JJmJp0YcbfBBaFj/K/RMgNkeYmDPVeOyR8m5UBrdaaLm82t0j7/w7ZLLMEuNz9l0OZZ2B+MRt61a4Kiz2delJWJ5WdRSLUXNXGKHMgye7Cxf/vWmjrLoBoPN97pwEMOJUUgR/ShhXb9ONlO7q4AAAAQ4Bn8NqQn8AJ8lKkgAARwPUAM1oTZ69QmQ71Q930O7jwpjmI5qyCiBF6TJgOL+8GDGqgiQFsAAAAwAAAwAAAwAAAwAAAwAAAwAABvHg91DPJChG/xqEHU7apljB4e2YzTMFErdV017qTZNOJpDZbWIpRF6d+wDB7pHf55mC2jMHusc7K+I7Ps8ieIsTiNBZfwHOy6aY8/D31EJIw7X6WR2AjGOeoB/En2RhsEwWYd6TNdRQ+Bw0W7wasT1ABQV9aoK5GDL3FstfqMDF/eSI/gNC8OArwo0iPd9QzuX1LYQl5LuA8xoYq1cZw3tQ7MUHbQ+zkDC/fHLQTx7lIqCvfN9rAeUx8CxdWivl/WKq6YEAAAE9QZvISahBbJlMCFf//jhAAjpvPmLbT7y9yyW/ZtkAAAMAAAMAANXEC9054wuCbkJzavTDltCCon9HRP4wcvFx/ID6s8Skk46wD1FCYIvWnFrvjv+8X9Cf40yEhQYcsNxjIDr1FvVjgPC2Xt2qZZGP9oN9DyzXQjV2rmGEExtsJKf8c9kEN6YtZDRLcSkD1icYnmsJkMJMgr+TIIW8Dzf8rP2JjSr1tDHbL01YfUYMX9gmo1lEUXBsUl8uBq/dij5c6rAKKV9ofKVdBmFgnB357CF7ENJ7G5lCU9Dh3O0KIua37Ml5N/ETkYYA2Fvx+NWTqllntgY34S53WKkf+VPgP3EwwvV3TO/vofqxrx54j3AW85zRq0kw0Kfm97hWQhSzjchOA9g6G/DikG82uvq+b6gkk3xR4GuEHjyJMaUAAAEZQZ/mRRUsK/8AHy7asB/naqdq+JzECt0ZNjxRat40mipyWbSww1rGo3CfqzwIsea+QA4q0FWWgyjYOMPxeoJs6/OyHbKR3WpVDNiOxujOmKAxE97W+3Zf173Gve8VUUazveWreHSKaZgQQ5CVfeuVA+qGYPnLc9SXHTzn4MWBP0GU0Bx6WlYdJpQmPTaVP9y4xOkhUX26DMWNTrh1mUKI2rF1Tc1bsXRRKQAnYtmSTnDTSIC7IiSfygqjzOn5tsP8ATmH5PEPAkhxuGlQXC2mmUqQ8FffYLfO9HgAfD+OTYzdpf4PtK2KSa2w5MYT0CRHd98WhrQRcu0cXLRoIXhD6VJKy+SdhV0JucIDr5ccagXoQ+HMRs37meEAAAD+AZ4FdEJ/ACj9GnfcPNOY08PDKei5KWvWcCGctd7xgX2Z6S4I3m7N9BkA3OMVSKMaAAr5DlxvNpTDCYiBG3zI4GtTbUqhK0cW+AW8Tiidpdq36zuAcbcYKY91PXfwxCR6QCNa+pvODga7Gf5zXXZY5Wju8ARwr/MFKpdkEuRhNosNjAejoqEMou12rw4DIMOYVye+3WVFw2T4kvzuSMzgbz1xfKVKuXG2fcED7ZwU6OaF/2dgrRgSy0vlj50AATkEn5zPS2AA1ZsiN013QAQH8DNMKAgAW4iMntNIAA6XTV59+XzABjBeQ/inC3/EtrOyBBougGoly+1+NjUgAWMAAAC2AZ4HakJ/ACjv0OQZSfQfE1iqu6ZyuE9N6rlOt3Vm2dxrMA3dY2eimObIV8Gap1BP3apljCdF4sq4D48cgAuncVsT/UAJK8FLUzmP3ZEKkXDzwRwhyUyGkv2du/xxav7gqoxorUXwwOuIt5UQeuoVA1lcQOUD/0amJUTjIzB77tTuPw/axhM+aF2FrmxiV0DPosUC4zaSB0Sl3WogwhktoLCNA+/CHYy3aK47L+Csz0hLC7MWDKAAAAEeQZoMSahBbJlMCE///fEABY+TzuIdOKlcmI0FR8Too7CAAAADAAAOWhZnR4JT5d2tSqGT/9YvcdrfXMd/yYAoG/pF1rbj2vZFf9MJQ0Vxe8uS9SvgkZLRpJUWdLSn5p3v6tp4jhqPGWnsXsOxxOOpjlZrJUwexj6HIZISiOnw7tQvjJS/XK3mfGiEugymNYl75pgVKVgoMb32J/0v/aRYcbX5CadDBh5vwYtCywNkiAawOOTROPuX87sIJLaOWEOBdmSKvPp/AjVOPyyt4lGE7rm/a6EMOh1gUrtqK2hXUIzyMExNfTdqvsq3jkxw4Gf8o4mIUss3OljoqLH/CWsefg7/GR21rcEH5okTI5RecsEgDTwBOQYgWElQwzJnQAAAAQBBnipFFSwr/wAeYB1rYnRXrjwAAAMAAGH5AU3cZkBoWpVKdQBcnYxzfViDrKi8m7UOQ6Ctcc1SbkuPMObnfZtECI5u1xz1yn639z0h29k9QqvilZMtZk/oV0n/zp2CWHKI1UY1uE3PXZM52r4pbOgBHgSF+tiT5LRY7flH3xwzQZflHPw2u8SrfVE2Bph6xELZddVb3ASZG/3i3kS7cw/TPTvh6kADrNpn5DwHjOmkPA0dNQnTmrTnTWJSnJLLJoL7gs185fWbS1eB0wLrwCh/TP5sH7NxNzyehbTsp23QZfkdK8OjlJKIYsuPPuGxW9Uss8C2An9qUAWHHljZLaSzAAABBAGeSXRCfwAnyUMAlycZEDySZm0AgnuGKAkqGrNht3UOwWE4QF8Tjr+T4q0BMxnV2Uc87c22FkFCA1juaBtgmn2zsZfMmuVTVYAyagB/wAAAAwAAAwAAAwB7RR1bcE+SZcenTmdPrrI6v6iL7nkeQ7ZyT2IFtQ2t88Wo9pJ2L5SL2J1JPCKpczNifflC/MWg+v1srpdzntYExLUvONia6nEdNthqOJ0cI+hRWgGjzcLBPUuIIdXpdpk8sGVVI1KJbGsHNxd0FvBmnS2tw6+NaVyr5gVCyhDz+NKaCYkfaihtvjky3T/fQeQKq7EnMfXrjMnmQU7CxRccDyPSlq/6CRMimD9gAAAA+wGeS2pCfwAPL09XDkAFd3W36zdaTRlH+FNQbMCn2/3D0+Vnond84regNGMQMwsGd9CERJQBBHHIJmnZAQDBvRHGGEXEixf0Rdo4WrVtvuc3VyjRYNB3DzqL7Wl47ZbYGYxtAyfmR9w8UWIR2a9XazTW8Qs+b2fIxujb9ccFrR7vrExF/LSkSxO3zA5qDz1PLUXqKtINoKNAsB4mBIyov3QiPXt2omIxYB0t78+tTvH8hEV1MxGmvY7bOkUFY5hlSi/4wvZzb4KPaV++K/HpbBtWSEa1jNOAOgMvpohbHNXyyK/UI/FU3RTakE69sJ2tt/lwODTi5XI4Fd6AAAABbUGaTUmoQWyZTAhP//3xAAIZzv1xyAMRlstNPK1CGc1qzpI0xWw21Op+Fd6IFlG2rBBN5V4d2zKagw3pXYfYeER+u/KHdzxKDheSC52gFO02AWqHdMow7jnDeOrgIq8ozLO80s/x9LzJcS9/LTlo6x2SJbttSqNPwSkjXf8c/C8eaOWnq9M1YTeFJ4llqFcW8U1aQ+CX90rga6ZyyGuG4pDJjxyPVGnLB8aRk0Inp4K/5ceqs+nDS4MshmUi5hmrBs5fEXAtzj5uK9vi6yGt883tyX7dpi/P/uqcEbu/8xU2NESjMlH+uiTDqM7RWRiYzP+n/ryFpEZQXdmbGhj6G6A9LoZkqh6Wa3VRankz6v9WiLsJWrGpIYRxEzpgaYU7SFn7OWXJh2oFy2jFXOj/yvHhY3cq3ZmRJnIVr0Yen4oAheEQlSlVj0BvHaesZdnLPGiCpV3RxQ14fC4GyRKFXzbKv1bu0ga7pIVBKLKBAAAA90GabknhClJlMCFf/jhAAk3RPwyyzT7PFRtltqbCQpsn1YAAAAMAAAw+bGe+cHACNd0rLSKo4pQ4Qt3Zq4Vb0L61DbeL5D/D+rv65dV5r4EUexZtfZgz6J+JNWtKtx76dWg3DT/5PHFMlAq4x9k70bdhujESwTdxRBqVAnz/1IjkHwKYUzXmNyd4KQsPOEoBWAMZkrCGpBmnxkcfljqCM22tWZigjrPmpxMlYVwxuordccZ6+a3N63uNonREKKW3TiKrnCP3Pm3jfQ25r99OayHsNRm6SnCUqHGY0jEN58cEzKXF6uFqnTiHe1jFJAW6Qt0ZQ64EHB0AAAFtQZqQSeEOiZTBTRMJ//3xAAIaXOcseeNYmCTcg91aZ/j/NzLwASPGq2RkhGC8O1BddDtlG2eu3Dsn+DuHEaG3HlUokoqC2UxO6JJAluOZYaks0ej2drUbssvlWN9kw8GtI7xXhS4JM5B2ugWv0IWBWQpcNIUMbXBl7EcC83VM2OPKmr/qYHLZkn7hywtrs5Fe18lRM0EZYJfOpBMKsRcUlBdRtpemPiXHQhOwy8LR+GUFv/r/frjnSOVK0nzlEJA2bQE0JzMxN8t0jvAsAB9c2U4vQHXnCc/LLafmixz+iwu0udaP/xLGKKu66B9xM/1LL12YQmCsuhqXkqOwSuTldJm35SJUkoGUpzTK86R1Xld1bHP38pv9L9zkwMJpBzBq82S8ZdcayI/uGBjKXR4p242iGck+go1tVKTQ6ztNHz1JHWS7QxsKc6Iy21t6lKAK+u+OXoMkck04M5h0OavChSPMaYQuO5hN1Ktv6AUAAAEnAZ6vakJ/AA8zaSqxyADRKibAbCBmhUqQTS34kWRahl1dovpfj6Nh+TG6LlyuRIKkNa+ICh3cSCvNKex3+8qgNoYw+DhPaAYAAAMAAAMAAAMAAAMAApnz7UkLUdvh9qGObOPDcE3u/76PR6nhJqfB8pQU0NL7soi6WWvfvhKwwoIb8v4HKBs8thtHhtM2Z4MsClvoXvV+nDldfcra3o/kWa3s6bPth4KSjwO+jvnkwQinRxz4RHcrN3dLn922tM6ZLjIJfLhrkYuIwPDB+IkYNJKy28z29Guz7KjFOnRjm7Grn3/2/3/nlWUuFyuEIlBR7r9xI8njYgO0RSpa7lxfrZhjYLfs8w7MEJSdtLzECEL5JZ0Z/Alho/5wjrY3HmmoWjsDJ3BCwAAAAVNBmrFJ4Q8mUwIT//3xAAIaWU0WaPALvjlu5uQLRyR53lONpcXHoAAAAwAAAwAEcJ5Ph7IkvsR/VV88ZmXyeP/9+T3+tXF1WmHB0yTFm4JOa6ouaHfKX+pimXPwUKCsBVB7B7uetF9b9IK4F3S4sNyw0RlLfzBtYqHzi5NOnxm5vi5WaiKwrifcEJTPpflfgb2+gndZpU/+sfmpl8Z6wTdD3P0pxm/7kprXuUH3UmPYuaV80zvVuecJyQHqOiNpBJi1RD29PEGRYbPXn5otBEz4OxhNU78qCC5bLd8fAB6R4qqSyOuVDxVngXcPb5e2UDrPQhu6RUOiHIpm17yH9U62baiLESvFeSqQTzNoKrbsMLggLzRwD1uykK2emSH/OIRwNN5bzWaIZPXTUp0mGlRK5ej3LHqlhnpqEiT7FKXhWI7/YPMFf+aFQJvhjLiZONRNfVAAAABzQZrSSeEPJlMCFf/+OEAA3MMXTQAwlpdGowu8e/pRlmd8VF1cAAADAAADAAPgb03IMclnJYq5gTq6gAAChHcvCK59gzY10NtVKW61KodNBxcqcUdvazRZpBbkyCPf+uwyLwP4EbCKm6ZYTZVE5qa1XFqrQQAAALFBmvRJ4Q8mUwURPCf//fEAAhwHIRe3NJMYemBzJe3WNqoe8QpWu/53AzyfvBg/R1tFuOJA6fdtUyw0WT5vah6GkRvbgCkfbZNpIktEWfkmxV/5GgiIv6E701QhS72/hjFF+6EPk1bjQopx58tI5+UkLqIi2sm/SW8G14wu0wo2dXdv5OYbPm3qefeCKTCb8asiArmSh6BppH0LdFwaWBJjMJRqRTI6kj+30p3oA0bnFdAAAAEGAZ8TakJ/AA8vT1cOQAaMVXQLJkq2fedLTIrfgnBgAAADAAADAAADAAADAIl6y3k4Hk5tEWYFawdtUyxm80b/azU3OVBfPId4iwXvfbvzFNEHopKUUbpwUCDJ7FtI/NHUEAZDothxGv9+3YMaIIrZYlsaT10rnow846p5DbZXJLgpuOAsLX8sc9LHMgHpI/+yv7T2vzN6yJVatJdHNQ/ZhmNvoFWgCKUTTF1cKSVntsqcD2NXdYEiZznjPyFokHQykyaB/Mp6IrFkA++M7kaaM3sAGBIi0vV+fwT1/ko0RaRnC6YsqO0MfUDCHI/OL3rmpERCusYvbhp5kHhDhbZhdt3lj+KwgAAAAINBmxVJ4Q8mUwIV//44QADcwxdNADB+1/b0Ep6NGtuAZyPuXlMv6CP1yb7G1dYXf6D3hqhVftGiZaoO8wOExnVYlNCiGht+scUXpJT7VNr9iXIV9gDpNPltIF4G/ArC1Fq3APEfY2ekKtbd3ENqUMWEvFux+MqqgCz1/DvAIRjYv2516wAAATBBmzhJ4Q8mUwIV//44QADcyte9UNNoOzv3QsLEAAADAAADAAL3PEvZJhZIeoYArv5KXOzzfurLBcAAACLLm7lLlKeQ6A2Rd7M2cpi4cHdVYadf2GrrsK7wVcHXQnWfHCd4pcFFl5HLBv2abq/8/Daa8ejSIMLV6qLBV1E7xkfIH1EXNjyZ0AMB/ZJAKObT2I9nzAF/H2Ze2ROR7okei+SSG6xISjmgY3Asbu9egzc1JtHeotkYTRsWobS60C98wfBwLilfB/66xvi0K1boj+WDihUqUgANaXv2di7UShecg3R3bp2og/xB6724BzXFjzV4IHoiMRwXYum7KxR9D4L1fCiCxdzEKKdneHz1iSmS2yuTL5QYGClXbE03/qApoZxpkdzWgVjmp+cHhwxjew5nAAAAukGfVkURPCv/AAvzUsYoOR5GJlHpnAAAAwAAAwBgWKRCJsFm2qZYr29sAK0ImyFJHGFUasx4kIyFlhKeY7zpEczA7CbTEftsDHSE6ue0jtmTEu5JMU2Q64jxFKMymWwZUgpoNYiJ1cbVh+lrdvK6VsApZRSii0+1KYoGEeR9xt/ln7XSUyYqwyIdqLmGmolWjv4xgwWuMke7TdNF9rmmecoSk9ZjZ/2IEWbouKfsfZLYLObViMYNYTORxQAAAPsBn3dqQn8ADy9J9oJLPb3M3YAAAAMAHDpjU8YATW3WUVfWB7tqmWLNdvhQ4j2N3cxuZecldbvdFpUZkwMfmsZg2j956fRXzA0oAn32ZcD+6NRTNIKA+P46fz7p3FcOclpewaorta+xQmNq8hmWUDE8CxYQrK/AFYBZOqXQMTRGFlXXcVFfXfynxAeafmrHh+n5cSNeiftXxgwmPFrnaWdiuAvuKK0n++IAHoIXedMb1DvI+QZZBwwLb+p2bOc4vwsnlOKYh0ONeIR9yBscQzSjLWDUPNIUMhhfXdC9ePzJ5342bQ5ZHOR+Vg3DX5bm7pAgOo41YYMoo4Rx1QAAAPRBm3pJqEFomUwU8J/98QACHf4+N/NvoXFgR10zKXShNGCi5AAAAwAAAwEGek5yziJRCCamUwSVxXoCh3p9EDpllGZ9jGMsCa3Mg60o2OtS6j80faTv1lR4wqB53ByE0+jPP9gzD2Yd9e2JcynaIE749F6WKEp82hFERVksAodf3UjwTo7mZo7yJEjIQ9YN2bYOeSzFl0DBIBawBZHHroDIZjKNY03p8M1RC1GHo+2zH3IZau++ytODp3aVzxNWt9O+SShKBYKbQnxr6szutvOEnM8XRS2lJep1lcG7YyjLNC+ASXWfhEjzF0nRFyHiV0DCnBRAAAAAcAGfmWpCfwAPMiwK1Xh8GRX4WSmmZ9sQkRzc8dtIdrA4e5D2Ruab0VQ2Pbzdd1WqZYcnH03zUQAtwrfrHhOwKIq0R0oj/61lGroJI27DIWwCE78ZswPUUZqBrhe80xPrP2OE+iD67Hn5whz4ABXFuoEAAAFQQZubSeEKUmUwIV/+OEAAZ3f+mQUvkWiJAE/wt9SpN8uynQvVZLoIAVO6QqNpGMWN6pXdzb0WB2qQ7gpMXQdcKvB6usUfolaOzewH9i4RnZxn9KAM+wft+IYT8aEo6k9C1ohNQBCnfodneWpzSog9o6zUKynrwIGTr2Y6xd86DDI15+6y25iNeckRCNvCaDvU1EqYX+qvcP4Y6XzfiPmze/bJ56BvENL+VYxc4Jp2V9QUvC/nMCvtmvBcxyQ3AjzHpfTiVTvaifSnLEQP+VfhtjJp2TiohFW3IcWNtaDk/X1uBnxkwzHe6azJ05Br+HvwjwajdN2tnJJzw8Hu0ktZZy5hVEz8uPCErx1vP12ztU2ZW+idPlMFb8ICv2XJhRzJShY6rwrMz+hquSAaDXmEa3OVfnlXM0ZwJZId6N+mTF4y2MgUIKABG6Wn5bP1EYqAAAABMEGbvUnhDomUwU0TCv/+OEAAVCM8km1NABBnHSArczaIlxwHHJIIFjvvwiAAAAMAAAltAiaG23eJXUixfSYeLEPwguQ5W+ZzMHD88WM3daXioGMwVVabd5QSYesTEyBVSbLm1+1169g0E3TfnBVvgAbgwSQ6mcW4CScRX4UisJQxxkh04Mvsy6zqPgfZgzFtraGkGXppCwhuUXB1SqlsSaAMRV9B8264aRC0gGLXBXYfAysE5ldu/Fx7puAOziECdv+14rPOAsKTW8g/d3rxXkmERO4y4I0on141yi+fpeMQW1/+M46UYDC1BNFg1FyPq70gl3D0vp5FAVbI2Stb02YnpIaOIn6WC3HBDMcEyF4hYFdg1myNOHzIKvEUG7FlvueBycK12EpF3wPsTNesJs0AAAB/AZ/cakJ/AAXSPOfmtZ2fOqSeGI+AlXHVvkZaoGPQoduH81xKNAqYCZqLNUWWnvqfRutStjdqXC4ADizcDTsd7seCLiDHfDWmIsKe7JfRCL5McHZjQL5ffbOd2Jsq1qQbZ7qBPwzwb6M9mdD3b+3ddyTbvWrvuIST+k90WABbQQAAATlBm8BJ4Q8mUwIV//44QABT5AJVRzv0wfzqNR/y6V3lE2v4+60dUK0kjq39+QVa3+TpJRUUKEd+GTIGB4gt8oCtm1Cxrha1YeeXXWVgz9yFNT1pd2Q8LmwbnEepZi8LhJmX1fS6ms67r6YYIZaOvivDXX8BwjU/eCa7sXCNCyWExUYd7KasTIleHYiqRf6/8HVOgzSfUWpRRe+1pcuPcoc31VB4/ZZRVzpagKo5s/tf//pJrL6Ynm7JDLytMS4KP4kGZ8KN/FC9rA81nbdUAWKQQYtXuLo1FI2aFbJb3SE2z0r93SCvXXnrfemvRgWaLg6F4jLpIdM1iGBSMSNHBcyPA3k7CgXhS9gaxvboqUlZmI1MFlx3zPjXgaUI6oy/VzHVyJA1iL2CO0ZZWbgIL+NYnkRtDWzYflqQAAAAwUGf/kURPCv/AAR3q4RyP/ADXZxoOLAzxVggmPiQSDvMOgFg4AAAAwAAAwAAAwAAAwD1MTkDuwfKj85oFgxexfsAvfeuy79806Jgqxev+eUfoCDTHtWskO7AJkFmObaY84T/+LquzDkaZT+h3r5EqHZJRF29HK+X9l/h7f7s03W9zxJhi0aqCumuLd4rFod6Fzr7D3wuYNsteQltllKYXKnRVAcq0Pc961axpSyFBRrmrf03zUHtOYjJiPAhegLVWJAAAACYAZ4fakJ/AAXRRIX8ks9vczdgAAADAAcPIwAIzBHDpe22ttUyxZDqAHKZoDcquZKFQrbgiGiQgtDJgMIgTLH2636HTzuhbYbYS1HuIg8Mg+lvXrjDARFzPXdW4wJtuQk/HSl/6B88saUdOhMavesjHz+PuIM4nXHhScjtjzamx1q6JQ4QR8IENJX9Cm/bCWAfLV59/HRFGV0AAAEzQZoESahBaJlMCFf//jhAAFPiTxsqmTr8/pWXIhQzdzVlJnfGQeWLIIwooyoVeHpmnkxSju2qZZCUMxORgPZjrDzZJgMhHQEnIp57ZfLzst5knVAPdSr+TIIWhPkdh4k8giNYZFbks7JyKNR7rXEWdTnsbm88vp3B94wco7UG6qegs6XNk9Stx6FcepNAtcbewAviC2VagxHSO/yg2y73b58Di3u/pQ6PE4zF3NX1Q2795UoL0YO0Ad1cXUIzZItvBdTCyOmMHjmeND4aJJXrm4Z3tvPrB/AT4x32SBxlgI01j2avQ0vV0AMIb79ZQdliXzz70gLLi7OdqDLy9Gu4hBCFzZ/OdkJW58XW3RziJiCaA0gH+vP8P+93JPs4ejiwFSfw+MtSFO1H9PZHRRzRWedTcAAAAPRBniJFESwr/wAEde0N0OGODRS/DEpwO+iXxltGwu/0X2lDcHL/p74OjJppAsFeGyAy9iB4X+61K+cKaEB05E9VjFdtYKlT2ONqc0PjmwsxThaQAC3gASaiYMNCZE+XO7qGM7MySGM7Z4L1n5cD7k13EKupywA2o7xunwU8XXaD7ib/lL5bgSQTpTsfGWckV2KuDe99rwaUoFfrN4Q+FIZODEZPXkLLxs5t2dmn4LjzO2Sl/M1shdGYS9r4t/2+jpzf8kzMTqkT8jiNEFtXCwnmcw0IwO3Tivt8f9wPrOPED9126nJe/3c1ewQ+nyw4WNVbhA2BAAAArAGeQXRCfwAF0wla45ABXxWAdZO/ZMAGAmp0bU6iGvMMCjUB+h59N/aci5rBF9aPrbLndtUyxziip+ezcgHY7wjCB6FfVVvHRVtlg3P1MjClTaEYs1zVfTQf3qSmSvvkSg53/IVI5U+T8eV729CzPQkWxbRxomUdACIPxWmQgW6FpiB6KlT3zcOp3Jj7RfcmmQcUKxEuYT5EA5TrPpfXBBzZQH/jJSR+4ysJp8kAAAD1AZ5DakJ/AAXRRieDkAFszfcg6CkyVbPvOlpkVvwTgwAAAwAAAwAAAwAAAwAES95rxktUHl1Zk6UwmwSdlngfUrauRnNVCVQFt4NhlBTQADtAAWEAHMAFYAJwAl4CkAegHsAAAAMAAA1YCBtAAAADAAADABpaq7F2upj4/dOMw7/0SAOy/ChUwtPpoASWqFgwq6n7bbKStyEBCGLb+fJLRhgy2uD0P1JrFYkwT80B8f2W7HuY8lGzckm2HiZLPnDTsQcE852cwxjOFW2b/0IslP5q7+aUr3g39dkEfXQjDXQoWRYx+IANJ0gpznhXPLYYUaq1upMAAAERQZpGSahBbJlMFEwn//3xAADNvRUrXklG8USA+Lw8spfOMVROe82IWT6I5xr1U6iAniPNI2gSKnlfvNLu2qZY52LXgBrn3dlY4s/mqtYnCFuQ+AQ9p2RKVH8qy4wobUuDYPpwapDwiIqbFMl4Svr5ybVWpxHi0WcOYwPniBCKqq9pYSafE2XEmJGRidrHRvyvviOUgzyLEkNol9ymM8Sb/lvuL/XWFxAGOsfgzpzuqM0520xpw/TT5aZbhjVTZd2pS3HL5o1ceawSzoSsRoxsv5tw7BJFWRdDmOoFnvFsKfWN0EysSgSvZuc/mUSu/zeAth6dopKlkqRl+uo5n5EYKNKGLGkNgt7Zah8nrgM27obBAAAApwGeZWpCfwAF0kNq2hVO8uHP8fr46j4gAAADAAADAAADAAADAT7P0o+ABHWHcRiSjfdalUMKZRdJLAGxHeQJME3rlRPOQ6dd8etK8ZkKmGhkLXsT7Oy5UnRRAu2rjT97csi1e8GD/yVDssGiVl0LYISqqy32rezxL9/VpVD3w7k8y+fqS5aW9FCRDjgxxbXwVBBr34IivuN7f2YOPxfuQFA0nlU1t/0hAAAAr0GaZ0nhClJlMCFf/jhAAFP1FsYBkSHMHOQ/Fw4NOW+uVlr7KAD9oKf2T/556hjalCF9q3YBe+3talUJDqK4+N0iAEXxOJhOQHIAfT2y++yOU3/YX2lTok4j4T67nPIsaNrwz6qPNDUkXEMAzA7iUPChkRHUqVQNsdYubRlti9FuPxSA6leFDuMoVMo82KhjwrW7/qACWniIameY2mNtvYSVP13CxWP26O/tBTQ761kAAAEAQZqJSeEOiZTBTRMK//44QABUf7agSTgCYZzjuqH06B2WBl0iRy6AAAADAAADANtiVJRfb+Y1bnQxRXg+zZMntKKts/IN7zoYHnrvZEfaD3OX8IUk5+7NxZ0kkjpW20TABGxrJ3SFBJ9n2PB9YQr37tqnS6RzOdhneGZFRkJ3tKS65WHdd5wtWu2TMtlW0ld8HtqJ//c1uQEHL/qSHtG2S7pE9HcUyD/qBVefznYcTK7+4f7bYM2VaaHgwunhm9UdAL8Fd5XHZkWmk9LpDSbbiBvr13jCQ+eBBzj5nviV65sfKCuR9kpjsTDuOiWle/yiUxDererIFFOLO+6YbtovrgAAAJcBnqhqQn8ABdMQBns61Md4VIwAAAMAAAMCgwHjH9tUyxeiHQAF19S1J6EUJOWwEVCHFJDf2vf60fBwToA/o3DjAUPDnwpfGYSEfpFMW2Vz8J5qPqS2mHloG+GWF+y7h10jvat+APdxes7BRr0HqyyHT99+keuLtn/JuhXvPX9AJaWK5Zus4NzYzkTLSeZqGr1KYqmVEeWQAAABAkGarEnhDyZTAhP//fEAAM76bl83+sRLRYBI4dV0cwAAAwAAAwL4vdwreJY4qYzNEuF26XHhLpyGvaz/NgDHhI0aset+MEfLXK0z1CDLe1LWA1opaU1IjXLE30pYdK+hvu513u6TE3uMO3LaCJNGEtraie4Asmx1QcDntT2v85iI4agZ6hZGmRHX2sRgyvYSf498aBbVAQkYQ1u21emRFhrGKk163OL8Tj6kHv7vMMo71uBEl/IQP2tvXWa+zZ+lhFBTGPi/RlyWrNfztibciAmX+tDrS3M4M2cSKTP6UwgY9oDlYY7d7bWI+SfahCmFicxz/FAFP7ZV7/ft3FUPdyEIeQAAALFBnspFETwr/wABsEs5zCLGMEJdgx90yjJ0imTk3GFHnMSY/b6xhqhDMGKLPfUhhMQC2gA8qWXsddLraG6bfqmmtkNp/OgJIPnII4hnwGj2z2YDwhHkw/zxrK08NgrY5V5J9fyIfB4NTOss5kpV+I8WLe7v0Jn27IhEzAkZjekcprYrHJkmF4ld2yKU8vkoGPeuWh/CKyoQM+a7lxwOy6P6OxsE3SwGU0kSW1vUoEOke0AAAADrAZ7rakJ/AAXXuI1XZrCsG6fsEJlTTaVbo+bblp2hV+fqbTcHS8ORV4KAEgqCJFZPcRlr0KLIRO09SN1h8Xn2djkuMgAa9Qwj1vizlLHYGeR9Kqc20p6JMtE0RcQu2Qpk8w0N5W6iFuxbRrlSYEbBZ9mJxKqN8CYp8/UBBSP5auwSn26Cdwd7r5FW4iH1z+oNLs6qbL7tCAkNgLNJ+KFTQ5ckbPxFNYHIniDgPcnrqHeNoD2wKdhK3K9LaAyNpmVhcMEb1qE5ZxZxgjmUHHdrYyb6geHp1vJ6j8dVmfvRT8onQAeU6sFHwoAOgAAAAPhBmu1JqEFomUwIT//98QAATVKcsey7zoTgfWIup6oAnEZxzMO0VxkpF91ljS5ReMlhVmQImT3bVQ4C8lvj/7LtCzc64yZlY/QGrxVjiuWxi2vXUTeBP1VbMdv/HbbLgT0645LZuGeXgv7dLnlNVuMpkSE29hdLyRLX6mujRsXVt1j6oPXQ7wEsk51f6XQKj5TFSwfO3BS0FPoVsz1tecAZ/bKd/MPHmujEZt7p82av721hOWy4caIoZqvsu103S6YomVclKg1TbV8Q+sOF92WQSGfj9NmyfA8b+cAHLEBtaz4UiEq5nli28FtOPCA85WlGLrW+t72igQAAAKdBmw5J4QpSZTAhX/44QAAfAcqtIla+1U14kbah9IdvsWGib6YCHP0OFSyfinLiSiAH3DGP+w3TQvaG8upFl5TCYiRzaovtss5/S/PRaxGt+gjSZ8lXZW9gsRZoIGcjdAa4gPdhJ1VVNiHjF4hXCk+vwE3fGhWLpJ9NTl6c/qYpE4ffMVmFlJBvja8mwiubaAadWoDHDWkjJZCT6lPK0MKKOf34h2sD6wAAASxBmzBJ4Q6JlMFNEwr//jhAAB8Fd65E6OGCJPei3G3bAvZ03JJ9cQA3XH/Yyoo0p1RhDpzmIhUI7yaImETU8e/GWkn7ndJjhVED5WgsNZ+bu1RDU+fvCoExbgNgk5OSbt2cvQKRRoNDSOlcu5VhStIOpvFKwrN4iP3jZkk9sdf2RqWIuxHGfkoc9xcnB3/mCYO+C5msD3kEzbAFjhoNizJpNcOyvc1c06/LMUep4e6msb7WiEY486SzJ2xeDKVgKNFkzK/Iz4QnOqWe8nZuv1sarNNx6YOq7s557paJ3GN/9kyw42RSQ/Gbo7mQf91ncKybWSV6YEqKA9b9pkE2wX55oUjEx0WP6NSEG3zcYp8JV0cZGrGECem8sy80z3NXvHsnbVJaroybLmLsW0kAAADkAZ9PakJ/AAIrZnMyulgub9YL4aXsWpjzF0hJBECG9gTvGpwS5gLnpM7xdKrYiAEZ/GuY4Iwb1qV9A233Dy0vzeStl6nJyQDegNJ5aNz5agpLraMjrJIxbmwafNvt1FgMx4EFSdcnKmiXgvAGX+YdEJmHmJBUdNFjyNk48C7wlvXEZA3cxXW4ayOXafGJRHdPfnWvNg/ibDDKwQNPAwgxGcY3Yj1MrRMaTeX3QL10+8iG1crnuyp8+Bb8G4TLwYK6XgmfC5g7gm1fxbsY0ocNdTFQnmnNcLmf4CkWa2JexVT+72Z4AAABL0GbU0nhDyZTAhP//fEAAE24g6wXA0ABuOVaYP//ZuBkWYBMpd0JhedYfnJDxZC77ArPD3gtAPyXOv6+MwHLp9FrSNq9Zy+DCkvMQWiD+mEo/+hbolf2dawIOv1Vnh9/d9Mifo9v01aSuNpC6kTbCM0ABRSAaR/PqR92pJfsrJTHDja9VEDN7ID6zj4zTZ1VWrG6J0kIjItv7nsI+A7zfL0vj0BmdNrtp6TrEzhkYZfQco1IdHrJ5H/ckllaMI76mHAQrlG61ORQXE/pG4Hr3rINIDpE32ycyCNL+ldA9Ft2J2GDBMgU1fxpUdSE5dPBMKQ//Dd0AQtd4U0ZoPK1I5T6m1s+4KHf+C0z5KPlv9MAd9aSmFWPC/qAUSWH2m+YxUHt8Ww16M0eBLUfUyjN8QAAALFBn3FFETwr/wABsIbVYuVTbDuSVMBjcDJ0imTk3GFHnMSY/b6xhqhDMGKLPjsgaczZxVqmbHXYahrzACY/wqJlWjAuvip1LR6JfRFeqenKZAB2JDV6w2iy3Yzy2lqMaIr8Fv1q+AnIbQNp5btPEpLbHeIaUT1NyZrcqeuGVCMJyRsMlpbnBqGynz8AMzP41SDl+yZAPQDXupEgafP9L8rORfbUwRk3cLltECIZSzubUeMAAACnAZ+SakJ/AAIpqfgYtXOtfvDazst1I7blN9O0tOqTo9wmx7/bstUyxOpdDMAK58fHi6CSb/f9enN4BAIVdyCTQA0NMuCsTtkkq0/fuKhi1xLTf2bfDpAvt4KO6LE7yAxdZjPoBHSX9mpDaj20ZrRirvGFeJxcBaTYK5ly1oTlihD8gYdlmXprjy8l6M+rSSzadNLchasHCk68o+kgAbYwAFqwAasANWAAAAlTbW9vdgAAAGxtdmhkAAAAAAAAAAAAAAAAAAAD6AAAE0YAAQAAAQAAAAAAAAAAAAAAAAEAAAAAAAAAAAAAAAAAAAABAAAAAAAAAAAAAAAAAABAAAAAAAAAAAAAAAAAAAAAAAAAAAAAAAAAAAAAAAAAAgAACH10cmFrAAAAXHRraGQAAAADAAAAAAAAAAAAAAABAAAAAAAAE0YAAAAAAAAAAAAAAAAAAAAAAAEAAAAAAAAAAAAAAAAAAAABAAAAAAAAAAAAAAAAAABAAAAAAlgAAAEsAAAAAAAkZWR0cwAAABxlbHN0AAAAAAAAAAEAABNGAAAEAAABAAAAAAf1bWRpYQAAACBtZGhkAAAAAAAAAAAAAAAAAAA8AAABKABVxAAAAAAALWhkbHIAAAAAAAAAAHZpZGUAAAAAAAAAAAAAAABWaWRlb0hhbmRsZXIAAAAHoG1pbmYAAAAUdm1oZAAAAAEAAAAAAAAAAAAAACRkaW5mAAAAHGRyZWYAAAAAAAAAAQAAAAx1cmwgAAAAAQAAB2BzdGJsAAAAmHN0c2QAAAAAAAAAAQAAAIhhdmMxAAAAAAAAAAEAAAAAAAAAAAAAAAAAAAAAAlgBLABIAAAASAAAAAAAAAABAAAAAAAAAAAAAAAAAAAAAAAAAAAAAAAAAAAAAAAAAAAAGP//AAAAMmF2Y0MBZAAe/+EAGWdkAB6s2UCYJ+W4QAAAAwBAAAAPA8WLZYABAAZo6+PLIsAAAAAYc3R0cwAAAAAAAAABAAAAlAAAAgAAAAAUc3RzcwAAAAAAAAABAAAAAQAABABjdHRzAAAAAAAAAH4AAAABAAAEAAAAAAEAAAoAAAAAAQAABAAAAAABAAAAAAAAAAEAAAIAAAAAAQAACAAAAAACAAACAAAAAAEAAAgAAAAAAgAAAgAAAAABAAAIAAAAAAIAAAIAAAAAAQAABAAAAAABAAAIAAAAAAIAAAIAAAAAAQAABAAAAAABAAAGAAAAAAEAAAIAAAAAAQAACgAAAAABAAAEAAAAAAEAAAAAAAAAAQAAAgAAAAABAAAKAAAAAAEAAAQAAAAAAQAAAAAAAAABAAACAAAAAAEAAAoAAAAAAQAABAAAAAABAAAAAAAAAAEAAAIAAAAAAQAACgAAAAABAAAEAAAAAAEAAAAAAAAAAQAAAgAAAAABAAAIAAAAAAIAAAIAAAAAAQAACgAAAAABAAAEAAAAAAEAAAAAAAAAAQAAAgAAAAABAAAKAAAAAAEAAAQAAAAAAQAAAAAAAAABAAACAAAAAAEAAAoAAAAAAQAABAAAAAABAAAAAAAAAAEAAAIAAAAAAQAACAAAAAACAAACAAAAAAEAAAoAAAAAAQAABAAAAAABAAAAAAAAAAEAAAIAAAAAAQAACgAAAAABAAAEAAAAAAEAAAAAAAAAAQAAAgAAAAABAAAEAAAAAAEAAAYAAAAAAQAAAgAAAAAEAAAEAAAAAAEAAAoAAAAAAQAABAAAAAABAAAAAAAAAAEAAAIAAAAAAQAABAAAAAABAAAIAAAAAAIAAAIAAAAAAQAABAAAAAABAAAGAAAAAAEAAAIAAAAAAQAACgAAAAABAAAEAAAAAAEAAAAAAAAAAQAAAgAAAAAFAAAEAAAAAAEAAAYAAAAAAQAAAgAAAAABAAAGAAAAAAEAAAIAAAAAAQAACgAAAAABAAAEAAAAAAEAAAAAAAAAAQAAAgAAAAABAAAIAAAAAAIAAAIAAAAAAQAACgAAAAABAAAEAAAAAAEAAAAAAAAAAQAAAgAAAAABAAAKAAAAAAEAAAQAAAAAAQAAAAAAAAABAAACAAAAAAIAAAQAAAAAAQAABgAAAAABAAACAAAAAAIAAAQAAAAAAQAABgAAAAABAAACAAAAAAEAAAQAAAAAAQAACAAAAAACAAACAAAAAAEAAAYAAAAAAQAAAgAAAAABAAAEAAAAAAEAAAYAAAAAAQAAAgAAAAABAAAIAAAAAAIAAAIAAAAAAQAACgAAAAABAAAEAAAAAAEAAAAAAAAAAQAAAgAAAAABAAAGAAAAAAEAAAIAAAAAAQAABAAAAAABAAAGAAAAAAEAAAIAAAAAAQAACAAAAAACAAACAAAAAAIAAAQAAAAAAQAABgAAAAABAAACAAAAAAEAAAgAAAAAAgAAAgAAAAAcc3RzYwAAAAAAAAABAAAAAQAAAJQAAAABAAACZHN0c3oAAAAAAAAAAAAAAJQAAAkbAAAB6wAAAJUAAACFAAAASAAAAfQAAABhAAAAbwAAAqUAAADxAAAAuAAAAbAAAACaAAAAtAAAATkAAAFvAAAAgQAAAEMAAADvAAABGQAAAS8AAAG5AAABGAAAAHoAAADRAAABZgAAANsAAACDAAAAjgAAAacAAAEHAAAAZgAAAIAAAAEzAAAAggAAAC8AAABQAAABCAAAAI8AAAAiAAAA1QAAAG0AAABAAAAAGwAAAKcAAABcAAAAGwAAAEMAAAEXAAAAXgAAAFwAAAAfAAABEgAAAG8AAABdAAAA5wAAALoAAABcAAAASgAAAQsAAAC3AAAAWQAAAIMAAADnAAABMwAAAPcAAAE6AAAAmQAAAM8AAACWAAAA/gAAARAAAAC8AAAAlgAAALsAAAEbAAABLQAAAI0AAAGpAAAA7wAAAE0AAADcAAAA+gAAAEoAAABeAAAArAAAALIAAADtAAABAgAAARsAAAEtAAAAdwAAASIAAAFLAAABhwAAAREAAADgAAAA9QAAALsAAAEKAAABEgAAAUEAAAEdAAABAgAAALoAAAEiAAABBAAAAQgAAAD/AAABcQAAAPsAAAFxAAABKwAAAVcAAAB3AAAAtQAAAQoAAACHAAABNAAAAL4AAAD/AAAA+AAAAHQAAAFUAAABNAAAAIMAAAE9AAAAxQAAAJwAAAE3AAAA+AAAALAAAAD5AAABFQAAAKsAAACzAAABBAAAAJsAAAEGAAAAtQAAAO8AAAD8AAAAqwAAATAAAADoAAABMwAAALUAAACrAAAAFHN0Y28AAAAAAAAAAQAAADAAAABidWR0YQAAAFptZXRhAAAAAAAAACFoZGxyAAAAAAAAAABtZGlyYXBwbAAAAAAAAAAAAAAAAC1pbHN0AAAAJal0b28AAAAdZGF0YQAAAAEAAAAATGF2ZjU4LjI5LjEwMA==\" type=\"video/mp4\" />\n",
              "                 </video>"
            ]
          },
          "metadata": {}
        }
      ],
      "source": [
        "env = gym.make(\"parking-v0\", render_mode=\"rgb_array\")\n",
        "env = record_videos(env)\n",
        "env.reset()\n",
        "done = False\n",
        "while not done:\n",
        "    action = env.action_space.sample()\n",
        "    obs, reward, done, truncated, info = env.step(action)\n",
        "env.close()\n",
        "show_videos()"
      ]
    },
    {
      "cell_type": "markdown",
      "metadata": {
        "id": "ewG5f_essAS0"
      },
      "source": [
        "The environment is a `GoalEnv`, which means the agent receives a dictionary containing both the current `observation` and the `desired_goal` that conditions its policy."
      ]
    },
    {
      "cell_type": "code",
      "execution_count": 4,
      "metadata": {
        "id": "XIC98mGhr7v6",
        "colab": {
          "base_uri": "https://localhost:8080/"
        },
        "outputId": "74eca0ba-fd40-408b-b487-516f2348d7ca"
      },
      "outputs": [
        {
          "output_type": "stream",
          "name": "stdout",
          "text": [
            "Observation format: OrderedDict([('observation', array([ 0.09891131, -0.17816567,  0.3078428 , -0.61673202, -0.44660625,\n",
            "        0.89473061])), ('achieved_goal', array([ 0.09891131, -0.17816567,  0.3078428 , -0.61673202, -0.44660625,\n",
            "        0.89473061])), ('desired_goal', array([-2.200000e-01, -1.400000e-01,  0.000000e+00,  0.000000e+00,\n",
            "        6.123234e-17, -1.000000e+00]))])\n"
          ]
        }
      ],
      "source": [
        "print(\"Observation format:\", obs)"
      ]
    },
    {
      "cell_type": "markdown",
      "source": [],
      "metadata": {
        "id": "awAzuY5ksYvM"
      }
    },
    {
      "cell_type": "markdown",
      "metadata": {
        "id": "voagCILztJ3J"
      },
      "source": [
        "There is also an `achieved_goal` that won't be useful here (it only serves when the state and goal spaces are different, as a projection from the observation to the goal space).\n",
        "\n",
        "Alright! We are now ready to apply the model-based reinforcement learning paradigm."
      ]
    },
    {
      "cell_type": "markdown",
      "metadata": {
        "id": "I2PuVAvyfvib",
        "pycharm": {
          "name": "#%% md\n"
        }
      },
      "source": [
        "## Experience collection\n",
        "First, we randomly interact with the environment to produce a batch of experiences\n",
        "\n",
        "$$D = \\{s_t, a_t, s_{t+1}\\}_{t\\in[1,N]}$$"
      ]
    },
    {
      "cell_type": "code",
      "execution_count": 5,
      "metadata": {
        "id": "tvUYSL7sfvie",
        "pycharm": {
          "is_executing": false,
          "name": "#%%\n"
        },
        "colab": {
          "base_uri": "https://localhost:8080/",
          "height": 133,
          "referenced_widgets": [
            "d82862e953934ed897cc2d3911e02bc2",
            "f17a64feda67457fa09deda7088695a0",
            "b8472e6036144808bc2c5b2fe0f5046c",
            "e8a78169b6234fe785324d81b785dee4",
            "b3c4f5b939d34dc79dfaf266bb3dd0ca",
            "7e8413ffb2a64f74ab9a7ff3017b3843",
            "97e6041b16454ba4bc4d151617b4c4f6",
            "7a64cdedcb1543578f93a9a3293663e0",
            "885a82ac98d14c5dae710bde5246de84",
            "b9c62efacc4d45458dc4e0cd0532e3ac",
            "8bfaa9e821624732b36da1c811926e60"
          ]
        },
        "outputId": "a0a24925-d336-4b50-daea-de73f796f363"
      },
      "outputs": [
        {
          "output_type": "display_data",
          "data": {
            "text/plain": [
              "Collecting interaction data:   0%|          | 0/1000 [00:00<?, ?it/s]"
            ],
            "application/vnd.jupyter.widget-view+json": {
              "version_major": 2,
              "version_minor": 0,
              "model_id": "d82862e953934ed897cc2d3911e02bc2"
            }
          },
          "metadata": {}
        },
        {
          "output_type": "stream",
          "name": "stdout",
          "text": [
            "Sample transition: Transition(state=tensor([ 0.0000,  0.0000, -0.0000, -0.0000, -0.5802, -0.8145]), action=tensor([0.1135, 0.7677]), next_state=tensor([-2.1430e-05, -7.2555e-05, -1.3150e-02, -1.8499e-02, -5.7938e-01,\n",
            "        -8.1506e-01]))\n"
          ]
        }
      ],
      "source": [
        "Transition = namedtuple('Transition', ['state', 'action', 'next_state'])\n",
        "\n",
        "def collect_interaction_data(env, size=1000, action_repeat=2):\n",
        "    data, done = [], True\n",
        "    for _ in trange(size, desc=\"Collecting interaction data\"):\n",
        "        action = env.action_space.sample()\n",
        "        for _ in range(action_repeat):\n",
        "            if done:\n",
        "              previous_obs, info = env.reset()\n",
        "            obs, reward, done, truncated, info = env.step(action)\n",
        "            data.append(Transition(torch.Tensor(previous_obs[\"observation\"]),\n",
        "                                   torch.Tensor(action),\n",
        "                                   torch.Tensor(obs[\"observation\"])))\n",
        "            previous_obs = obs\n",
        "    return data\n",
        "\n",
        "env = gym.make(\"parking-v0\")\n",
        "data = collect_interaction_data(env)\n",
        "print(\"Sample transition:\", data[0])"
      ]
    },
    {
      "cell_type": "markdown",
      "metadata": {
        "id": "4Th1JezEfvir"
      },
      "source": [
        "## Build a dynamics model\n",
        "\n",
        "We now design a model to represent the system dynamics. We choose  a **structured model** inspired from *Linear Time-Invariant (LTI) systems*\n",
        "\n",
        "$$\\dot{x} = f_\\theta(x, u) = A_\\theta(x, u)x + B_\\theta(x, u)u$$\n",
        "\n",
        "where the $(x, u)$ notation comes from the Control Theory community and stands for the state and action $(s,a)$. Intuitively, we learn at each point $(x_t, u_t)$ the **linearization** of the true dynamics $f$ with respect to $(x, u)$.\n",
        "\n",
        "We parametrize $A_\\theta$ and $B_\\theta$ as two fully-connected networks with one hidden layer.\n"
      ]
    },
    {
      "cell_type": "code",
      "execution_count": 6,
      "metadata": {
        "id": "F7Gl2kKJfviu",
        "pycharm": {
          "is_executing": false,
          "name": "#%%\n"
        },
        "colab": {
          "base_uri": "https://localhost:8080/"
        },
        "outputId": "02fc53a6-60ba-4c5b-f9a9-ecede8a71294"
      },
      "outputs": [
        {
          "output_type": "stream",
          "name": "stdout",
          "text": [
            "Forward initial model on a sample transition: tensor([[ 0.0026, -0.0295,  0.0116, -0.0197, -0.5633, -0.8189]])\n"
          ]
        }
      ],
      "source": [
        "class DynamicsModel(nn.Module):\n",
        "    STATE_X = 0\n",
        "    STATE_Y = 1\n",
        "\n",
        "    def __init__(self, state_size, action_size, hidden_size, dt):\n",
        "        super().__init__()\n",
        "        self.state_size, self.action_size, self.dt = state_size, action_size, dt\n",
        "        A_size, B_size = state_size * state_size, state_size * action_size\n",
        "        self.A1 = nn.Linear(state_size + action_size, hidden_size)\n",
        "        self.A2 = nn.Linear(hidden_size, A_size)\n",
        "        self.B1 = nn.Linear(state_size + action_size, hidden_size)\n",
        "        self.B2 = nn.Linear(hidden_size, B_size)\n",
        "\n",
        "    def forward(self, x, u):\n",
        "        \"\"\"\n",
        "            Predict x_{t+1} = f(x_t, u_t)\n",
        "        :param x: a batch of states\n",
        "        :param u: a batch of actions\n",
        "        \"\"\"\n",
        "        xu = torch.cat((x, u), -1)\n",
        "        xu[:, self.STATE_X:self.STATE_Y+1] = 0  # Remove dependency in (x,y)\n",
        "        A = self.A2(F.relu(self.A1(xu)))\n",
        "        A = torch.reshape(A, (x.shape[0], self.state_size, self.state_size))\n",
        "        B = self.B2(F.relu(self.B1(xu)))\n",
        "        B = torch.reshape(B, (x.shape[0], self.state_size, self.action_size))\n",
        "        dx = A @ x.unsqueeze(-1) + B @ u.unsqueeze(-1)\n",
        "        return x + dx.squeeze()*self.dt\n",
        "\n",
        "\n",
        "dynamics = DynamicsModel(state_size=env.observation_space.spaces[\"observation\"].shape[0],\n",
        "                         action_size=env.action_space.shape[0],\n",
        "                         hidden_size=64,\n",
        "                         dt=1/env.unwrapped.config[\"policy_frequency\"])\n",
        "print(\"Forward initial model on a sample transition:\", dynamics(data[0].state.unsqueeze(0),\n",
        "                                                                data[0].action.unsqueeze(0)).detach())"
      ]
    },
    {
      "cell_type": "markdown",
      "metadata": {
        "id": "FFsgc7gffvi0"
      },
      "source": [
        "## Fit the model on data\n",
        "We can now train our model $f_\\theta$ in a supervised fashion to minimize an MSE loss $L^2(f_\\theta; D)$ over our experience batch $D$ by stochastic gradient descent:\n",
        "\n",
        "$$L^2(f_\\theta; D) = \\frac{1}{|D|}\\sum_{s_t,a_t,s_{t+1}\\in D}||s_{t+1}- f_\\theta(s_t, a_t)||^2$$"
      ]
    },
    {
      "cell_type": "code",
      "execution_count": 7,
      "metadata": {
        "id": "NwCDLD1wfvi2",
        "pycharm": {
          "is_executing": false,
          "name": "#%%\n"
        },
        "colab": {
          "base_uri": "https://localhost:8080/",
          "height": 487,
          "referenced_widgets": [
            "6bf1adb01e0245a29a047e0be06252e5",
            "c1eefcb6d82f4d8ca75003bc4bb2ed11",
            "f178c05c5ef34c0ca13de1dd632d0bc4",
            "a318dd9efb9a4d6d8c3eccfb12765d81",
            "55afce8a5b464a058cc2f50d25cacd0d",
            "93a78a24069b4fb5bcb92710f60a5454",
            "f464e4b06ce34725a065f4fb04543426",
            "3a06ee8ba57d46b6a8224e600014f09f",
            "6479b423ac774c44b2138227b00053fb",
            "b2df209a92a0491284dcd976c50feeab",
            "ea61ccfeac114f78ab01fa0fd609fce3"
          ]
        },
        "outputId": "7384b028-31e2-4e5c-ef1c-ec6cf882f3f4"
      },
      "outputs": [
        {
          "output_type": "display_data",
          "data": {
            "text/plain": [
              "Train dynamics:   0%|          | 0/1500 [00:00<?, ?it/s]"
            ],
            "application/vnd.jupyter.widget-view+json": {
              "version_major": 2,
              "version_minor": 0,
              "model_id": "6bf1adb01e0245a29a047e0be06252e5"
            }
          },
          "metadata": {}
        },
        {
          "output_type": "display_data",
          "data": {
            "text/plain": [
              "<Figure size 640x480 with 1 Axes>"
            ],
            "image/png": "[encoded data removed]"
          },
          "metadata": {}
        }
      ],
      "source": [
        "optimizer = torch.optim.Adam(dynamics.parameters(), lr=0.01)\n",
        "\n",
        "# Split dataset into training and validation\n",
        "train_ratio = 0.7\n",
        "train_data, validation_data = data[:int(train_ratio * len(data))], \\\n",
        "                              data[int(train_ratio * len(data)):]\n",
        "\n",
        "def compute_loss(model, data_t, loss_func = torch.nn.MSELoss()):\n",
        "    states, actions, next_states = data_t\n",
        "    predictions = model(states, actions)\n",
        "    return loss_func(predictions, next_states)\n",
        "\n",
        "def transpose_batch(batch):\n",
        "    return Transition(*map(torch.stack, zip(*batch)))\n",
        "\n",
        "def train(model, train_data, validation_data, epochs=1500):\n",
        "    train_data_t = transpose_batch(train_data)\n",
        "    validation_data_t = transpose_batch(validation_data)\n",
        "    losses = np.full((epochs, 2), np.nan)\n",
        "    for epoch in trange(epochs, desc=\"Train dynamics\"):\n",
        "        # Compute loss gradient and step optimizer\n",
        "        loss = compute_loss(model, train_data_t)\n",
        "        validation_loss = compute_loss(model, validation_data_t)\n",
        "        losses[epoch] = [loss.detach().numpy(), validation_loss.detach().numpy()]\n",
        "        optimizer.zero_grad()\n",
        "        loss.backward()\n",
        "        optimizer.step()\n",
        "    # Plot losses\n",
        "    plt.plot(losses)\n",
        "    plt.yscale(\"log\")\n",
        "    plt.xlabel(\"epochs\")\n",
        "    plt.ylabel(\"loss\")\n",
        "    plt.legend([\"train\", \"validation\"])\n",
        "    plt.show()\n",
        "\n",
        "train(dynamics, data, validation_data)"
      ]
    },
    {
      "cell_type": "markdown",
      "metadata": {
        "id": "NXBODCuYfvi_",
        "pycharm": {
          "name": "#%% md\n"
        }
      },
      "source": [
        "## Visualize trained dynamics\n",
        "\n",
        "In order to qualitatively evaluate our model, we can choose some values of steering angle *(right, center, left)* and acceleration *(slow, fast)* in order to predict and visualize the corresponding trajectories from an initial state.  \n"
      ]
    },
    {
      "cell_type": "code",
      "execution_count": 8,
      "metadata": {
        "id": "SMPA55bCfvjB",
        "pycharm": {
          "name": "#%%\n"
        },
        "colab": {
          "base_uri": "https://localhost:8080/",
          "height": 432
        },
        "outputId": "3de703b0-8985-45d6-e4cc-b255cc893a27"
      },
      "outputs": [
        {
          "output_type": "display_data",
          "data": {
            "text/plain": [
              "<Figure size 640x480 with 1 Axes>"
            ],
            "image/png": "[encoded data removed]"
          },
          "metadata": {}
        }
      ],
      "source": [
        "def predict_trajectory(state, actions, model, action_repeat=1):\n",
        "    states = []\n",
        "    for action in actions:\n",
        "        for _ in range(action_repeat):\n",
        "            state = model(state, action)\n",
        "            states.append(state)\n",
        "    return torch.stack(states, dim=0)\n",
        "\n",
        "def plot_trajectory(states, color):\n",
        "    scales = np.array(env.unwrapped.config[\"observation\"][\"scales\"])\n",
        "    states = np.clip(states.squeeze(1).detach().numpy() * scales, -100, 100)\n",
        "    plt.plot(states[:, 0], states[:, 1], color=color, marker='.')\n",
        "    plt.arrow(states[-1,0], states[-1,1], states[-1,4]*1, states[-1,5]*1, color=color)\n",
        "\n",
        "def visualize_trajectories(model, state, horizon=15):\n",
        "    plt.cla()\n",
        "    # Draw a car\n",
        "    plt.plot(state.numpy()[0]+2.5*np.array([-1, -1, 1, 1, -1]),\n",
        "             state.numpy()[1]+1.0*np.array([-1, 1, 1, -1, -1]), 'k')\n",
        "    # Draw trajectories\n",
        "    state = state.unsqueeze(0)\n",
        "    colors = iter(plt.get_cmap(\"tab20\").colors)\n",
        "    # Generate commands\n",
        "    for steering in np.linspace(-0.5, 0.5, 3):\n",
        "        for acceleration in np.linspace(0.8, 0.4, 2):\n",
        "            actions = torch.Tensor([acceleration, steering]).view(1,1,-1)\n",
        "            # Predict trajectories\n",
        "            states = predict_trajectory(state, actions, model, action_repeat=horizon)\n",
        "            plot_trajectory(states, color=next(colors))\n",
        "    plt.axis(\"equal\")\n",
        "    plt.show()\n",
        "\n",
        "visualize_trajectories(dynamics, state=torch.Tensor([0, 0, 0, 0, 1, 0]))"
      ]
    },
    {
      "cell_type": "markdown",
      "metadata": {
        "id": "DOa0j1_muNXi"
      },
      "source": [
        "## Reward model\n",
        "We assume that the reward $R(s,a)$ is known (chosen by the system designer), and takes the form of a **weighted L1-norm** between the state and the goal."
      ]
    },
    {
      "cell_type": "code",
      "execution_count": 9,
      "metadata": {
        "id": "cRubRv9buNXj",
        "colab": {
          "base_uri": "https://localhost:8080/"
        },
        "outputId": "03e8891b-47ff-482d-cc65-e6cde1d12a38"
      },
      "outputs": [
        {
          "output_type": "stream",
          "name": "stdout",
          "text": [
            "Reward of a sample transition: tensor([-0.4782])\n"
          ]
        }
      ],
      "source": [
        "def reward_model(states, goal, gamma=None):\n",
        "    \"\"\"\n",
        "        The reward is a weighted L1-norm between the state and a goal\n",
        "    :param Tensor states: a batch of states. shape: [batch_size, state_size].\n",
        "    :param Tensor goal: a goal state. shape: [state_size].\n",
        "    :param float gamma: a discount factor\n",
        "    \"\"\"\n",
        "    goal = goal.expand(states.shape)\n",
        "    reward_weigths = torch.Tensor(env.unwrapped.config[\"reward_weights\"])\n",
        "    rewards = -torch.pow(torch.norm((states-goal)*reward_weigths, p=1, dim=-1), 0.5)\n",
        "    if gamma:\n",
        "        time = torch.arange(rewards.shape[0], dtype=torch.float).unsqueeze(-1).expand(rewards.shape)\n",
        "        rewards *= torch.pow(gamma, time)\n",
        "    return rewards\n",
        "\n",
        "obs, info = env.reset()\n",
        "print(\"Reward of a sample transition:\", reward_model(torch.Tensor(obs[\"observation\"]).unsqueeze(0),\n",
        "                                                     torch.Tensor(obs[\"desired_goal\"])))"
      ]
    },
    {
      "cell_type": "markdown",
      "metadata": {
        "id": "Q5D6W4p7fvjI"
      },
      "source": [
        "## Leverage dynamics model for planning\n",
        "\n",
        "We now use the learnt dynamics model $f_\\theta$ for planning.\n",
        "In order to solve the optimal control problem, we use a sampling-based optimization algorithm: the **Cross-Entropy Method** (`CEM`). It is an optimization algorithm applicable to problems that are both **combinatorial** and **continuous**, which is our case: find the best performing sequence of actions.\n",
        "\n",
        "This method approximates the optimal importance sampling estimator by repeating two phases:\n",
        "1. **Draw samples** from a probability distribution. We use Gaussian distributions over sequences of actions.\n",
        "2. Minimize the **cross-entropy** between this distribution and a **target distribution** to produce a better sample in the next iteration. We define this target distribution by selecting the top-k performing sampled sequences.\n",
        "\n",
        "![Credits to Olivier Sigaud](https://github.com/yfletberliac/rlss2019-hands-on/blob/master/imgs/cem.png?raw=1)\n",
        "\n",
        "Note that as we have a local linear dynamics model, we could instead choose an `Iterative LQR` planner which would be more efficient. We prefer `CEM` in this educational setting for its simplicity and generality."
      ]
    },
    {
      "cell_type": "code",
      "execution_count": 10,
      "metadata": {
        "id": "bzPKYg23fvjL",
        "pycharm": {
          "is_executing": false,
          "name": "#%%\n"
        },
        "colab": {
          "base_uri": "https://localhost:8080/"
        },
        "outputId": "1d6d9f85-b1ac-4e81-a975-7dcf06928322"
      },
      "outputs": [
        {
          "output_type": "stream",
          "name": "stdout",
          "text": [
            "Planned action: tensor([-0.9896, -0.1485])\n"
          ]
        }
      ],
      "source": [
        "def cem_planner(state, goal, action_size, horizon=5, population=100, selection=10, iterations=5):\n",
        "    state = state.expand(population, -1)\n",
        "    action_mean = torch.zeros(horizon, 1, action_size)\n",
        "    action_std = torch.ones(horizon, 1, action_size)\n",
        "    for _ in range(iterations):\n",
        "        # 1. Draw sample sequences of actions from a normal distribution\n",
        "        actions = torch.normal(mean=action_mean.repeat(1, population, 1), std=action_std.repeat(1, population, 1))\n",
        "        actions = torch.clamp(actions, min=env.action_space.low.min(), max=env.action_space.high.max())\n",
        "        states = predict_trajectory(state, actions, dynamics, action_repeat=5)\n",
        "        # 2. Fit the distribution to the top-k performing sequences\n",
        "        returns = reward_model(states, goal).sum(dim=0)\n",
        "        _, best = returns.topk(selection, largest=True, sorted=False)\n",
        "        best_actions = actions[:, best, :]\n",
        "        action_mean = best_actions.mean(dim=1, keepdim=True)\n",
        "        action_std = best_actions.std(dim=1, unbiased=False, keepdim=True)\n",
        "    return action_mean[0].squeeze(dim=0)\n",
        "\n",
        "\n",
        "# Run the planner on a sample transition\n",
        "action = cem_planner(torch.Tensor(obs[\"observation\"]),\n",
        "                     torch.Tensor(obs[\"desired_goal\"]),\n",
        "                     env.action_space.shape[0])\n",
        "print(\"Planned action:\", action)"
      ]
    },
    {
      "cell_type": "markdown",
      "metadata": {
        "id": "_8L6vEPWyea7"
      },
      "source": [
        "## Visualize a few episodes\n",
        "\n",
        "En voiture, Simone !"
      ]
    },
    {
      "cell_type": "code",
      "execution_count": 11,
      "metadata": {
        "id": "xOcOP7Of18T2",
        "colab": {
          "base_uri": "https://localhost:8080/",
          "height": 633,
          "referenced_widgets": [
            "8b354f638700408d8d0832e2bb7a2e23",
            "9359d8812b184ff6bb589ef27c3173f0",
            "50fd3236f8014493b2c1fc2fdf671a52",
            "967c01be98ce4de6879672a820eadb42",
            "684fe587e1bf4147a1fe9bd8915ed4dc",
            "e72e7d49456c4033bec1f65127963a93",
            "3aaf860448704bc09b97b45fda1384ec",
            "df5bf7ac43144eb9aa83e7ee2ea83c52",
            "d1a77ded2ef24988a68ef6e735b1c9a6",
            "33595cbacb82473da8dccabd9562d16a",
            "bab22f267b0d4bba9067b57301e67100"
          ]
        },
        "outputId": "7fc2eb59-860a-4c79-b712-8d733a47f01f"
      },
      "outputs": [
        {
          "output_type": "stream",
          "name": "stderr",
          "text": [
            "/usr/local/lib/python3.10/dist-packages/gymnasium/wrappers/record_video.py:94: UserWarning: \u001b[33mWARN: Overwriting existing videos at /content/videos folder (try specifying a different `video_folder` for the `RecordVideo` wrapper if this is not desired)\u001b[0m\n",
            "  logger.warn(\n",
            "/usr/local/lib/python3.10/dist-packages/gymnasium/core.py:311: UserWarning: \u001b[33mWARN: env.config to get variables from other wrappers is deprecated and will be removed in v1.0, to get this variable you can do `env.unwrapped.config` for environment variables or `env.get_wrapper_attr('config')` that will search the reminding wrappers.\u001b[0m\n",
            "  logger.warn(\n"
          ]
        },
        {
          "output_type": "display_data",
          "data": {
            "text/plain": [
              "Testing 3 episodes...:   0%|          | 0/300 [00:00<?, ?it/s]"
            ],
            "application/vnd.jupyter.widget-view+json": {
              "version_major": 2,
              "version_minor": 0,
              "model_id": "8b354f638700408d8d0832e2bb7a2e23"
            }
          },
          "metadata": {}
        },
        {
          "output_type": "stream",
          "name": "stdout",
          "text": [
            "Moviepy - Building video /content/videos/rl-video-episode-0.mp4.\n",
            "Moviepy - Writing video /content/videos/rl-video-episode-0.mp4\n",
            "\n"
          ]
        },
        {
          "output_type": "stream",
          "name": "stderr",
          "text": []
        },
        {
          "output_type": "stream",
          "name": "stdout",
          "text": [
            "Moviepy - Done !\n",
            "Moviepy - video ready /content/videos/rl-video-episode-0.mp4\n"
          ]
        },
        {
          "output_type": "display_data",
          "data": {
            "text/plain": [
              "<IPython.core.display.HTML object>"
            ],
            "text/html": [
              "<video alt=\"videos/rl-video-episode-0.mp4\" autoplay\n",
              "                      loop controls style=\"height: 400px;\">\n",
              "                      <source src=\"data:video/mp4;base64,AAAAIGZ0eXBpc29tAAACAGlzb21pc28yYXZjMW1wNDEAAAAIZnJlZQAA6gxtZGF0AAACrgYF//+q3EXpvebZSLeWLNgg2SPu73gyNjQgLSBjb3JlIDE1OSByMjk5MSAxNzcxYjU1IC0gSC4yNjQvTVBFRy00IEFWQyBjb2RlYyAtIENvcHlsZWZ0IDIwMDMtMjAxOSAtIGh0dHA6Ly93d3cudmlkZW9sYW4ub3JnL3gyNjQuaHRtbCAtIG9wdGlvbnM6IGNhYmFjPTEgcmVmPTMgZGVibG9jaz0xOjA6MCBhbmFseXNlPTB4MzoweDExMyBtZT1oZXggc3VibWU9NyBwc3k9MSBwc3lfcmQ9MS4wMDowLjAwIG1peGVkX3JlZj0xIG1lX3JhbmdlPTE2IGNocm9tYV9tZT0xIHRyZWxsaXM9MSA4eDhkY3Q9MSBjcW09MCBkZWFkem9uZT0yMSwxMSBmYXN0X3Bza2lwPTEgY2hyb21hX3FwX29mZnNldD0tMiB0aHJlYWRzPTMgbG9va2FoZWFkX3RocmVhZHM9MSBzbGljZWRfdGhyZWFkcz0wIG5yPTAgZGVjaW1hdGU9MSBpbnRlcmxhY2VkPTAgYmx1cmF5X2NvbXBhdD0wIGNvbnN0cmFpbmVkX2ludHJhPTAgYmZyYW1lcz0zIGJfcHlyYW1pZD0yIGJfYWRhcHQ9MSBiX2JpYXM9MCBkaXJlY3Q9MSB3ZWlnaHRiPTEgb3Blbl9nb3A9MCB3ZWlnaHRwPTIga2V5aW50PTI1MCBrZXlpbnRfbWluPTI1IHNjZW5lY3V0PTQwIGludHJhX3JlZnJlc2g9MCByY19sb29rYWhlYWQ9NDAgcmM9Y3JmIG1idHJlZT0xIGNyZj0yMy4wIHFjb21wPTAuNjAgcXBtaW49MCBxcG1heD02OSBxcHN0ZXA9NCBpcF9yYXRpbz0xLjQwIGFxPTE6MS4wMACAAAAGA2WIhAAr//72c3wKW/CpTXf/0K1N+PbigB0h1ESsOtGdE598IeAZfnBMWZXKQdOF27HhuspK3nxdTd+hlK+Yu5ar9WYKTAi5Ycp1wb9ABptIvKLWP5CJzMa/XqsA2BkImHcU5XzaWAAAAwAAAwA7CWP9SxHgiFu0MevYxbXfs0Deib476DMsMjBGeNgSQv6GFl6nXllgI60TErfpX/pcbYeY3WTiAbsgZpv5tKd75QWdjX1fW0L+kAhKvG4TwWKXX6f9NVVaeI8v2bZSu8WROqvsVV5PUr2+QD4rPS+2uhnpjuy8fVg/jj/sOqYFjhKhzZ4fVdJ18+Z03rWNLY0hfx3WZZBSxnyjoDlhQpaGnyFCIqSzDpCyDCTZbhNfwHR1LfRPtLSvPJMGG4Yu5HGuMZ4BBIxl4XxIN0VKd0VyKVAELnhbGbgnJ4zrIiUV4g2MBES0c+52pTge28Z3C5nfWIulq0fmB7QoRmN5Fiz5VU4h6icsfCPOD9IP7eBG5P/8iSB8fWrdg/8g2gv3E7qkctKLtq65iFSlUDWQRzRumCxhTdCuBwJ3JfLv2AQuacH8jD49k37ia3wxSqf9Xxl7gmFdpmFkqbAgB1K2IkG8ow10UyIH8Rt9uwyH25WNYrWMtAABA2k0qAb6mhDiff+b+JHPfIzWtcALF4p+l4EaESBmBtxmhcyqk+arth+SXjua40PuP7uo5BxlaemF9quYAFg1Ax0OUuz5mNa3h0vXu039inoCJK8oPojmJEHsfHQxn7OUg9T8s9qi01OXnLKNGckafL/tWDaZP5bm+x5pPSMspyPXwBuVmq/e1gpRzWIu+oj2gqPBku+XXscGNODr3rdfHPfjiwbLcGrJe83mHKwF65Y2bS5XBzCtHzO+nlI6ZFTiVYZLh9mZsAEX+O4h89dI8n0r41nc8PVuj3nqz64hSUgGp9EOFYhbf2FyD0HW3hbtSkxIUGskRYuHgrihrGqh+i6ax1xAUcqW8rq+XFKet0ouvdUVJDSxzfT4mq/snRzs8GJxgCsQKmuxxxD86E6V/70XgwTaDgSWe12WVWTCP7P6O1D6vSfZ91QU6Bf0J1znfkqzntZtTw6yYBFoVyXUGQjC768axtxSYe9QU+UwcOdZqSwMBStQNVV24kIsXNHSU5mpMZ+Tzf3AIslKN5hNm7FKTwCsWLb8P4ytZBMFEZy8CjhNPz82SWMxJhIxe/0xG5tNyH9v+J4ifXccLIu5QF3iQqb1mEhOrGFImXdcaOMBMnpVX1SI452HtcZ/GV+6oFafyjFTgnX16wrVT4GJFtvYu29nJ5I6d1j48H2LhLHyhKLWlI+UlW5MykTzzeWWowvGOpiay6Ts0f51WN1Z6cC/mJx6W4a/Y+z6nw+7Ua/E+/NtJO2m2x+ro23pmmp8X9mUtKgp+o/Poy+mtViObrl4TLaiVPDRVxoMhqjD7XoAi5IhVO0+ELLSiZvSJtjmDdGrZ7ge1wonhYZbuVc16aRYhDofdYeZS5TVDWrCpv3xPA+IdM5KD75X4cPiwpE1qY1pUzTG4T8BpdqIGFhxFg8i5wf+bU+5fEK+81p3dY57K8Yamym9S/HOGt6bGAmXTyWzobuzVPbcwEhXseK/CivP6ETISwR+ITpKVbtLNVJansmRblx1bj0UrVaWI9ff/kB6iINaK6DHuDdgsfIRN92wmpGWwzKXEBCfwiaEVOf7JvIpQEBhaLkTgd9sEn5qTdlIo0MJGUgUldPfv6iVA2e0SCJJUSiRznse/HSssAxOeur7PBzcUe8zsHkNkOXdHqxKNlAryfuDJZacOsA+aFTHCbW2BD7CSuxAe5tbK+8QB1F5+TsWx+MGp3/IaBThtZ3zzwt0xJSdfTQXaezVc303bj8Q1D85kxcUsY4IaeRqzLT8aNhfcG+oXwMPQwk9K5Xna6n9KnCbA3y+K1qDpikoxDNfD/ffHd8HtsvgUz+itfWtGlp3n+00TUgAAKVlTxBu0pnRHO5TmL6LPaHkDeBDqpBPlNpY/IT9ASfIIBRcSou8kLu0IqIGXpTDrlUqcwAAAdVBmiRsQr/38T8iEzpHQgA5WTdr4BewR60QMRyMIyTCe2A3WvCpL8zJeiTktgWm9OEyJ4SAAAADAAmCOvB38Fbmm3wrmqjSezRyNvVeM73IgrZVN7tXFjoJMoplwoLkAer59g2AUrQK3saKrBxWFn6aopw3w+ZGF/vG1RU1VK+Fp1eR6312eiTnB4u4u+VKKn6GUz61GY4UILkPeUs34rnUqFAjHOIyaLQ2fVX9s9Wg6oKwyBe2CL8jk3qEd8S9MJ2UuKrpsPSSc8YRRN3ijDbT21uloKDO/q7WBR7+v4a86KdbF7VHWI68HmY+4Hg0HDFnHJ8hvfXOeNon3uzm1ILSgpuE1g9zxxBjPToDl1hTpkebrFYQ1AE6+iLGgwvNdx+LcCRhagduubnFPGdnC7CsoynzOmkFggRU+YSzVEwmVxPEv0a7MyhPwa2/GGdIkG+LKASZMI0WUBnl+A+V+4yghd3sT9zfCLU+v4Uu0midevCwFqWRivt3y7UODwSxhwWj/un79D33GU/gWAz/+L/ZBwJuNl4rYCX7MUN3vnSH7uLbw0ecuiasJl/Cwtb7Mg9UbVwzac0wiy2vwteXEtcxszyQsjLvtN8/rr8E0ChdTCNi1DDYAAAAg0GeQniFf45L3PUdqPv3lRfIs6tQZVETKfF+nGmzAUAKcS4RguIvbVaPc0nRWVhS5sBATfe893o5xIAeZFpxGilnFqR3JLVESU26TWon/IZkaZnBTlNgYa30wrqqbaCfP07J0/L4FUv62vr16kjC6ExHKPVb/PFTgCUsA9yefw997yGBAAAAiQGeYXRCf5HRBwxs4bPCKhVZeZTj0r1x5+dKC4sl0u/pSJYSQACmEDcNbpWA7Eitb5lSoof4wVFuyMXPU90SpqtmJBVADjSy92cLXW98klIA8bosQuG6sTOeWF5qSHLqJRUvN1S3rGgFBn7iC0PjaszX+sgKaQKdpAk4XqrFLaphbD1UARnOnH5QAAAANwGeY2pCf5PmN0gV0inlaBenSiQAHJPalbynHleKwkaEbCYXApjYk0ui5KRecoV5S092QSZlQWEAAAJzQZpmSahBaJlMFPC/+Np/oK7FxGFGWNMvEpNdC7gm097Tl3g1CJbpZiE0wZe8c95VBjCH8AK+i3Px+rnIlb4UOPYXbv3kyXgUAVvq5MGjS6/QKyj4MGRVCuC+Ny9/glWwYEe2Lll7X9CwhboZSjdyKhnrs4BKxYh0LIQQAO9qMFz87ITjKquqWURIiJjz7CLLc81OHwlxLLk12295UnBFYMKLsvdQ9AufUK8prab8aoOdohXFYih97HzcyY8lfoqGHl6D5wCLcpI7fKXBLicZQJGhzsb+QdAib/iJ5oNsYlNzbaq96Y5GBt/Xq3AHypDykutFXlkoV8WidWKtlHMR0si7aJzXgp9TeuEHwcPA//SVdZOMI6thvnlJ5DiliFJmcB+YakQMbrOp3zGu7PBJeTOaslZP/Ex96JSqHu26Ko0QJ7B+MlsUFQRHWGRK8HD//COmilUnszaLLxTPRegAMuT1cez+WEEKWBiIpQWJkMp1xie9cIzRJpZOhij/od/JQRbgsXTVkHoZGtJhoqTQXuu9XTOuzUvN632RMnWoMyBMLMKRP7FzgP/V2G33p4sBASKTCirljIF5ZxprEaKyW1QJqtwyQ+SZJaXWzHc5wcCL/JACk9cPGuvBqi3/y0ZjOgM81wnaDAvr6O6n0Y8zzmUrf9/0lX0e5t/Rwv00VC8C4ymX2hKugzEVL2MbQ+bJ/3d5YwaUCbeN4x2M8eA01ngJaMg0/PhwNjLFu95rbYoY7TOapfv6IAFUo5bk+7yrDcYrPxlKuYz4DcbbK9LAgUqvtj2fLfytf7q5braLDS6FY14y/jF8JO6q5GrBYZEKSPohAAABGQGehWpCf5KJejBcAJOgJAibB4SKweoaD0RY4wJ+/eR7cvz7fIf5ujddhfzKXUnjuKYj2iCtslWAC7uBl4Dl6vXRCiXmsbVsel3UAimsU4O02wVWKdLidTuHcCPOPqo+EWMTXDbbo6WH0GlSwj5QtEaXooCyYUKSFgrGoP82lpKaI8hCEdR+l+/J0v/NFGuBPTPhm2JXxfUjz1PNeZGPKiCr5/MDdftxAQmkrZUt9mGaYnZ06GLJKbrPQeIgwnmtAN/jb6cJLnkK2uJtaCMDZ2cmleIjvLAXO9dDcc83cgR/75X52LTOLWabxrcPs1SZyi4HV2fF8DG4yqj3IXABozrRtcBjVP9xlb1XFJlrmAcTkUS9+sthVS6BAAABpEGaiknhClJlMCF/+2QNtX3RyAEEig0KkEnZ0KcD0In7FqD2EjyfB/g9iEoRxX+IK5O0WC9s7ckdIkdywQobohG+zP5st9j7hgwNw3Dim0OzRxpCQzdvGyCaEaj3JPG/BSp9e/qDzn1wIoj6mm/s093/L6PRd6EhX568Dk7ZTNggndJU4VSnVL9ZJV32v41OXo1we/d98nlOpZcqYAH9zWyAPRIhVGz9xH67J7Sv5LG/pjSVK+bDfu8T54e+2NVU2INwcnsbtbFmd7zi5BPKMKinxS306gCLRHstDP9wN7oyNJoMvccfab44ZImhbTHYfNBnNaByuVQMpfgqzVpXwrpddJOn9hdcCBqBAotiYauHhO5RNpt+QhDoCd0PdAjvlFV5V8iWza3VzrGM38ldGrUC6xTz3vh5DR3e/wVB98di8o2P0wgP07tDctCdhIC1O6IvLznCZ5bqywdVhdcim9WFhmIj0bHmkmga/gHBMpwBL9CzILru6cXr8vgzxPxBJQx7Q/3y2S4y80U0PGavaIhAxuUjLW/cUwssLmFV13czoiWRhQAAARxBnqhFNEwr/28/9UgAXXviBVH8EjZk340B9w1SP+/CGYYPKFDNd2jpKM/SGwsAAIS0RanQlp4a9mlGkJu3/EYwY9lYELhgBbW7FJmGRJw38G+X8Wbs8I/IyUT2VJuGW1qqhdJGlzrbwX2DB1Xk8GruC2XNTWd89iitzNaSG3jSgBzht4dWHLHHxcd5eYFOXYgNZO6cm7QEbfzF+r0fVdcrt+pB9P9A6y0l9knHNEh2XI8aoCT0mq2bLJIGA/FSTAEgvLicdQ2598DaQD+vLnYAo8096pc6U3i51t9tbdPMqk6KMuuXjc30U7IlX0vFNge/KiAKEENWP2L7AHw/AV1wA78OQNn26ZY7kZvvt4J7C1VfydWrxFahQfEvWgAAALMBnsd0Qn93tFfcqTSKwMFX4PBdRTSOrEBEH0J2b0gCVg4KlQaSfyDGCkiz8/mTpuOZSq8f8kvnDStbcdlEFvwA0fWsoqIZTzhWfokPuvo+IcPd9HH7KpmES38/QAHG3aDJlVi6R4duKaFZe2xMrM9qxapNRRC2g/1Nchgtlhgt9ehdwS79cXgsnhAh82pdJoBKpN6fRYbripfJU+lrwMFNpV8lhOerYjle0Z+OvZzy4gyJqwAAAOMBnslqQn92vkYhQ0dUTw7aw6C2/roTV7ElH4QiWHKb1/0t9MRg6pfQmiECsAsCVi53xVo/Qgv2pnPYxzt3adUi008NWTqigAuY0e3voqh+drHNKeN1p5yNrG3vatqzhs4fcApmCqs6XDrJ9ZZ0H7cn5Rsv39kDl+sHONBOxKztk0PCgft23o60H27om6O6PFou7JnV8KszPFgCL17qnUQF9qpMLp0ch6V42lRd8NOrRpvlLzyNaQbzTE7rOdpucNxDFSM+zJtJDuvQSXdS/ZRDNr8GiwVHzbVQlDdvsoJlpL0TYQAAAaZBms5JqEFomUwIV//7yn/GPAqCAfdhSLx+FlVtquufJBB0RN3sHcOa8HUx26B5IbFUD8qWPuXfmChHfoqcbtvy4/6eL7hK4Spjao+7TKsqBdtqWQgKwZ7kItFYSV4sAzpyGAoch0DaHc4CHI30GIyJZ5m2yrDxmLb8BOdn8EmATtWWRg8OdPGPR1vCkOt50LIHHeeSOVewhdwnRv0kTYe/GBE3qcfFSwm+TRg4SyT+2MiGtC1h929XujXzBs3mBfQw69tuRsq95CidEIA2+5ebwDVH4xxw2vf7RDot8fkAo6v5zeuCJmWzx91aSPB6groqi7hGjOsGCKLzIa+2/cCExFD8X+a9hRS/Tm7Aasv0K0F/ilj81sIw2e7+TMwRiOs6qE07QRS2NuJ5rY2vyH7koTKsqozpq8lRP0wRfuWye9jUMel2z14k4DxrLDKYIXbsV4nJAjq/hcIPzplnLbFJZ7B50v+BsX9m1yKYOY6CHJ9hgizJABR0e1hi2OHmN3PTjappUX/slX020YYenc85g7HXJS5OxV7/i9W2mCO0h+udqcK3kAAAAZZBnuxFESwr/28tB5IAGmK7a0F5HOF9b22MdKpeVfHq/EEVUIds/tM3VNBzAFaGpKvI0NcLAMT3H17PwIzXh2Vd1UVV64kyqpE9F/pIs+gl/wbof90DFtIP5rFMOm88bsiK5lYFl+d0Kl/UbGSBTJT3A6bfKRRDcM4shXoxUYtuvej6ov7sXduAqQCXgWuAwfWSrjvJTobplz4NS/ZMvBIcYIEXwn//dL4hhXSW7tL4Af5pieEDVKqFc5JiaFeqnSNGtuq8QSQ1QlLNoHIwQNt+Nw3zVoKCyZFjfXX+Amev+WfbSSDIswO7wOdIm1AtgL6pES7gShI/BDboEwp9t74H3j/qzmkTplHP7rSVNELDAZ/99QplYzPWb3DAKMwMCiv3V3q8dBmPm2kFL4GMdMLB1DCPI9onNA3jcS+I4IIcBk0mvIa6o36s7us8iDniltnNiAV3ehcmF7+BeZY+pOlqttbeK09hAkmv5/JtQUfWP/vpjbnCGmqo+/Blu2UixiILYQ8E7MrWAX5uThmckqHd2f7uGBpQAAAAtgGfC3RCf3TtRm8vvkQit0t3mbnkLHBZEOS9V53LUqpMgwTe8DGLdMLGdzUOeZsIleIUnS/jmMIuasEeWLFuasFrRfWPezAC5S1eZgDx6ofvo47gPP4PO3JYXYv2kLbtS14qh6nQr/syY4Ch/bj5hnBi+u0ohETysZ66OC011Sk549kRRUPBG25p/G6fwCeWp1+ISmWUu5pjEJirue+IW7S6JRi8qn1DEqBqRLGt3HgAdQb7m4kDAAABTAGfDWpCf3VPt0AF2rPU9RKMp6hC15+c9c8tyrEbQT3lgYhivXZbQEJ8KzzCkcIHXOv7j7Fh5Uf/7c0zQfA/F/rEXJPwsm4epFXp9Ly9XRd0QYa5h+/urBDTmFTS9bLMC6mH9On7eor7ENHHC29A9ZvqeV3uAVq9Gm+rhS5DYrUmImJ7jR6u9B8GZ5Q4LlFq938M//+yaobGXz0td6rftEd0aYONTeUqMMQYeEGPv8bLaj/27dzWuovgT3VsTYfI+5Dsp3YaXs/qfauPPwJqcuJPMps7GgNCGyvzp3BN3GdOuNYpr0paPvYgcECgWVTDLUkCJPYxCA4V9cavSmpS6hRC+2VM88gRgZkfPXDwBKhb5pFPLCzGJnuHuAaHn+pefp+W8jCXW+nlMYb2ZaV9DASp9yefQfTl+YRoL1MsN2LIfC/60Ahu+k0STiyhAAABW0GbEEmoQWyZTBRMK//82dFsXOgBVB/+VkStn+sS19teko+oN6hviKYsfkRk10AAAAMAAAMAAIbmVUt973JhPt7Uqg4wCXuOYP/SHbyt9kEqMZHf3SpyRt7CQL+hBLg0PeHMio7bVobJg+j0GeC1se3lzO2F9E3Wx0SKZx/FIqT+1uNe86pR1OffwppjVv97dHZ9zmiKY9mUKBf4ESKtDOygF59Qu1HBqhf+H7MaiA4SD/1wzfPK2LE79jPgPwPP48dZKuM3duHS3/pbE2flDOpTCxRigX7ykJOYhRKXIE9eTJO/+KeD7z8PgPctigUM6PBHmxMUp0YSQa1YRwjhGdaEW9PTVMR4d+5n3sPBklNqaJCwp7ZcmF4WVisKa/hbqUydVt/9O3f14trkA0yTthcL28M9Fp7a+52yaoOv7eoHj1Og/rj+mglufSPp16t0lNAvG4FjJAHIJCdvAAAA3wGfL2pCf1KG9wl0HIZyiAAScwIZp7Qy6BbQ3Sur83U+LI4/DDIVFLiqdijeDbU1lERNBSGQCpaysOKQgSBlevtP7p7oH3Pg5Wc8D/oqhnEyEUJyGgkuwPMXumNDl/ylnFlKpBpjYVnj1siiuvmvvVlriVhw+jk9DCbr563UyeoJ+9dvbM/804agG+IutU4mNXyM2QwA1Yy/r8pyRlQIALHV86gX0lmUpda4k371Q+qZc+scIvCC1noJxzG2aCzqsZMScz9QYnqTo10s7gwBfbnCCPf4mGO/7Etsuq197KgAAAHQQZszSeEKUmUwIV/88MHh/xcRS5btEn+IMwmd4MtZ3r+4OShy4AAAAwEpAfv903gA86IyUlnsDwwr9bRv8a74qGa3CeOsiqZcxVWJ4pLBGXnVZZ5PsTCBJWfFxuY3YBtBmixEwGWJyJoAbrkV3my5WMfjx91WQ1ZsgIi8U6rQkMhK83F7XSOvRlrRgLgX8fujbZLOjjwoFB7272f1LapSBBCvl7Vr4Fy1XPeQyjr3HQgu3Ub7FNhlGncEB1DaTezBtg/0JZ+K4Q9cY0c8AEHCe9S4WrMYHBx+r9u6BbuYL6hzImZHOnWWex7FNQb8Rr522/2sbE3gcVMummrbvIvaZuttw4QVbwhwnry4VW8+h7IEgCTUeVMHBYMqSx9cFzfJ66UvDXOB31RrCG4BO5lcIy7M89o72UaV0p6QyHg86rK+HrqOV4keUBRqW+ic1eCqR9Rf+ZpQpD1tF/CYlDQtFioGfhCfhoEqx4EjZz+Fd40IoTml0PySFasL9mzyTcUerznX0Yqjgdz5q9o9HlSmUXysKKhDZiYbn5bm2dyX+u6Dr9Qn70ZZg6aMR0SJYztVwMbgrjHoyKdOQV0ivyeojMWXl2xsZYbZPkY59llMUIAAAAGUQZ9RRTRMK/9Wh1NTAC1O/xtNsIxRazPq386pxt1kMadD3IqP6M8/5tcugn8ARYAAAG4AAAXYAADkAACOAAE6AAVwAEAAAAMAAZFWXNmoHJ6GqnC244+TaPSnfLjMTw+4eTGB2bsTntSWkKqPNZHnkrC8cZUEqh58UHyLdspJ6QGmoVgaWsJ8vvaHhe1ZfYy8Hgzume/C6IDuQ2qo0oTb8ge1Z/bUxN5PyUz2OjEHMFnHzsoN9Tyyd1JkvA096HT1omE7+rhLhlq8BbFVwT9YoKgPV62Vk/UXJSDsTwTOLqPz6lD+2CGUpvd2OhVhSr/6GQnXkWpI++83si8KgzG8fhtPewOdeqHBfzgMpVRTwQG76oxxYYafcibIYIOFiuIw+4DAqf9S7UQzLmZanGPAKW57eaqgn5oLiQKs/uRup1gfBb7O40DKH7MXI7vXUYtbTHW5DrKNfh1Fz8qqLaaoelIoUSAJFjiB08/LsIJvPwioo2xGAHj1/+EXfZk3N9b/SVILLXNtzdX4Cm2zUSmA2rBIpVkAAAC/AZ9yakJ/X6clb46cXpz4Yu2Q/8+0mYy3O/b2UC22QZGVvG5oBhmawQVTwuwOprszQGOL0AihTdPqQADjFmgAe288+BtiSPtQiwQpV3CBVk6wYFmLGZemXuHVN9Q0UvPJqxRV3rvkKSyP/1TPBBctuLBy0zZBrz2oFoS+FBXStpZ21lYXnfY3WJPYxD5UIy/FIABv8uDFEsmwSwFmDm4pg9BuJdgADLuC08ADQHwtZ5NWdRqwBWqTD+140CcaNPcAAAH+QZt1SahBaJlMFPCv/NlwwK8zlB6LGELyb2SuLyVkiT7E1GgYvAAAAwAAAwOz8WubVGCsVPW+7XzlmV+swHvu3aVC6Dc02Yt8EFjs9SEjbr8eymDUxbHylvQv0cHQydBxIQ9SAOnYXfgTAaUFImHUVu1pZc6h3MEg3ma0LQeyb7/ziXpvH8XD6MIa9rhceL/A4Q4RoGFxU97zNA/UXZum3YdYp1Gk3voemgCf7tEXptXlrVaBcbjZ/OvsYeWnrMOkMdmLqyMXY+sLwiwHH+9o3g3nFxrArfoIB5c7yaVlV/ObVIDWAPFY7WSnp5QFXaUUhRsq0DsSBAjaoZnPgKLKSBgpVJYDWesRoMcFX38ko7e0QyWVoMs7KM/H6tTalVPdPaEf1GiJU+EwqTn0OgKuEs+r+hTNP5kIXysnzGqJRoXm2bL5DC2dTjdLEBT/TpeX41Q3vT0uyFFYjbtPP8Q40bNKf6CUt24n7ogeM3TO798PF3ADnuI6fuxMGYOWKpAAOXFGrtcE6vjCWJYJPBviGK7kiNUpTLWsxk4qC2xt0VLi10C1DuLQrC1fCTPYRVJJlqglN584qzY4sgcaQOSoWKJPgQPz5C9WFxmQbAvxoO8/FZQMTn/h0nVSg3qKK0tIuD56bVyQruJmok6W8Xs1or70YK///798ttK/DqNcAAAA9wGflGpCf15fjzroGxGr2m5u7UgedKVYsa35DLSgVJT58IqxbjOvViyMaa3lIiTVjpYDNg1xijpBHFg79ogA4Ugoe6JpDkH0WN9a6+uVZdJytnEBOlC69qGSuZET/XFvatq6Gam1Q27Dfrgf0cKjtRDtDHQ5J+LULcQcWlbqx/E2+pgL/FoYs+lAAt2PsnfiNY3KlbZEnMCUp+KSfNw/iXh37wIg2GSzrQSRJDMPIR9W+XKW+ku9cdvsnynwDU0HoUXu67kPyYVmHXvNCeeQYZIBe9yn8Q4ERrXMaOUxY7TGPtexSt4sbpXh+E3aVJhBuiCqDMZL5NkAAAHvQZuZSeEKUmUwIb/+RWs49vMoIa62hq4F986WzRjDBoYuaD/QACeQAfap4AMQ9GPIHINigpDnIqc4vYd2dqduiVgb5y0ol3iLe/K6FftVLc8LHys1f8IxsQFodoD/zkQLFiTS/R7pPgnQoQEfBBlC+sZZ49b1zjaIz5l7MWz6YkfXpV+iXqx9ElC1ThPDsBLzgxaRtKEQY8MSz3u6WEnkGmug/ue5ZSEnXgKWtOPn6NPv02p42lk3O6B9ExmHyurbA/BJxikbEwcpKBF9TMNLDKYtcCStKEiPIWb0C8T8THhbliBcHqoQz74IJ6/BECG+88GvFmC6mAAvS380NCN++/HVXtAvckkaLDPIRrD9u58/V9ja6ZbZ7kPrR5BJjNDlZWYWkKHUldweYfcikry9u7ugYUmXUqWk31WJiTyqDNgBKsAB0oEoOdJpLO+BBUd2ZK1rHKTBVKS6q3K8Cq9D8HyAMCCIBFpNnNRrKb9Kdwj00BpgONn7FQc75i2lQQTLzgW5ZNDo9+chMqZ88ONHLju4e1hkAStqJKxyIxS54wmJsgX5QXc8YSA0/kNvgYJPmQ1QI5ZOagFQWs/XXmKbn4yY4Er7mMYUPLSUOaAVVDvggJOQDJEONXH8043zdlVVO+PN/kS4b5XgAAADAXDAAAABJEGft0U0TCv/VpC3g+jqnqIbUYqXlK+h85w9hQXUZpvxOqlFPBnkCwAugq2i6iNM2/qLfWqNba3CYAFY7lyV9HB5BvyrPT2nzP8NtasSd11XeFSgVokg3IJzNRkh4CAbgwbgnZcXxG1SmjMDB7qDBn9syFqyzIrxSYKxkYPDXBbELXVo6HrbrjxQ4qu54np4CI3g3no/2usq4qL84J/JSPviA7kvXB4mTd5p5+LrPf1SSJQQsBaHqpJj6g/nmCB/GC4St1rXSJVoXR5dlS333QDtOpZP4TXCfglQbtUxkiGhG7NgFPeHYr8f/bRw4SuwgsDagH3oCR7qN0Pe21u5Xa6R808o5LV7AKudQTNUmf+qz0VNIvOju9DlLwVG+1pxgcE+rkEAAADHAZ/WdEJ/XgZHVy2e9ibM8AJb3q7bJ68mZPF5zqdIvSy7kwpCEs6C0rkOpfktyGc5A0EceWxAv68Jok95HzyLxe6oZh9esJQt6vAr7Di5jMb58aen143brqUIyKG9dl2fXjsySioQDn4jpPHPCxvcTIDiv8Bb2/QDgTGnZyJW3UhZVIEahPZnKPYRWV9U+9F4rXgn26MVB8//j+Asqn6/wLntt0jUQtfFCKLmZVgq1hTpEGh0Qffuq4a2j+tNP7jNltu3RUqSUQAAARYBn9hqQn9fFuQHpABYgfTe/OwOc3nGjYCuCNt/vvnfrL/4b2k5NBc3N241LkUrDQvlUrgVOkNBZHl1amotiBc8bnpVHs2Swi9AYJ083xjaJBnlTAdMmYQStKyhwH3y6zq+/cqAACiiy33cNIACSdDE2c088sDNMl0M1jZVQ2L2BQrsYP2ABevV0K7CccYJAd2G9m6gbjV4AOA0PEnwE842NAA8D+0ZtCzDW+aADrMs/aju5gCT5CBqKtF4JYuLx0A6F4HwP7XwBPYGOPCrkqcMmaSgDej4Ez4yOWqUQD5a6bYBJn4+sBB4T60F/fV61Gg9lSpGM18IIByBuZ5S7XCRw7glwZ/ifphBhHTBBffLVOeATwg8IAAAAZZBm9tJqEFomUwU8N/+b/YT8+mkn0/V1cO7Qq263SDAAAAVZG+lVdkA/ckt8NBWCDWTVW73bVMsb3wRUD8eBJdjUDg/xqjvzm2993/h5/PlfHXzJbbYPfyAK6FW3EGcSz4RpuPloy5dxiPEWwDR3CaM+2PjwAkcr2HPhs4Z/M3Xgb2Q+ptCFOTYiCY68sHf4mdXzaoH1Jy/vrWa9ympiUFKUQVXPZUwtKrmSxK87ljE+ZSphKrdZvf9g//GWXVn71ugPh89tBEqIbouFkInU3eieC5wF5KTZKVLx5feQM8b4rVcDvXi4xJyoz1vN0MHeAMXx83KdO6AU2I8uHj9aLiG6ZgiyMPI+W8vHryF0MZFWTekwqwnTy/k4qx4NmenZZahozhAu+CbN1rFn84zAiybdEnt7+c5alvYmhYguIR9izQ1CUcYYDkaBtn8T5dJ/pvDhZPJ5LFvGXuEVRoj9C4Ni+GSvF4UOwHEwZZkAbl2h21Wg5pI980OfTrytAZitR2mbXi/JIEI3HWwuFOTPGcaDFXCjJdBAAABLQGf+mpCf0zkzLgAS31iBEUCfZ5ITF3NmQqN41hOK7S1vQmuXo6PSC/8OJRn++nc70UDI/o/tRglCHN5mOe7wIAzI3tb8uwzRRRB4Ax7K0lH3dSlbaHp1Hdx3+/gIUZvWASYmWx30gWNX2VGdVlMKYfbdszRxN6iMCqbEoUcxgCLXNxRWftUPW0CTYLxG7mknDaL4VQhOs+h8LfFtFIi8WzxOOL3NVI02Rfhhl7tjpozUKyXNLqhbm5Y9j+b7EY1D1DZ76lhvNFTqzZbdQtO/+qVJxJw5OUhDfDgmYDtP/dY0wwEp5knY9RNjyxsc1BGm3A9pF+BMKWFA8vQcdEdD+wFQ0DKDVhAlKfSc3Jjv464x4Nfy3B2X42td9foZTeTvhJRNxe0RcKxM5vzIyAAAAGtQZv/SeEKUmUwIb/+dXfTAeIaVXas+izTAxOp/VFWGAAAAwAAEgay/clS50Nvr+O7bUqjCfj8YhuFuUbQt35UgdLcIGB6Qj4YdD7NW+7AGpzYKxfID7/+3lpCXkg7/xZx2ub6IhZiD46wAqXdrf9cGyEJCAqAzalaH9FY42oWUyroY8ng7WcDBapNj5/kAasfiVG27Kj0chXcWeun44UW1khlx/hkgn+m557x1DX2vAZ0C262v3FTXHLtSj7k4MDyzXaz1c3DNWYikANWO2ez5GoF/KFiuz79KBeiAZGg39CGB4Fk+sNPf1TQCONA4HLdGQYvIhDFpksiVwr84GOfEBmT+ZBln7xbs+JmsVAJbuXIwldl8sX2p4B814t3UByWisDyRzQzQumkNTMA6IowxGQggclUF7CJniunlk0H2+Pn+UBYOa8M2nx3V94ImTvOU1CDjrsK53ArTbGwPHkBEXI+ke955FvZ1sbWDfdKALBQz//L3USEtmZu6WHertT2xEyHXPyiwL9KxKFu7Lj0oERJyJQNZtqbqMskvGioRc53BRZ3MLq6wplhCL2RAAABqEGeHUU0TCv/RPuqdZssRe7JL5PNmSHBQUnx8EAFaotpvxlUYAgK4Yn7ZwYSCC1qivs/9mVLEK+zlpZ0Dmqmuw6AlhdGQDSLJTD0//qI3aeA8jJbci1AY3qzqHYZnYgQyAc1r2WJo1aq5AMECW7//BjlTGI7UvddkXgEDEL2MVBJo2vHQIo3Y6OnwZeVnFl67m5XB6pDN8uF4sK65F87RUsb4M7aEMqnBBUtkSVacR17Y55X+pw/jay8WK56Pm2/qgw1r2i7K1oN0SPkt80eGoP0Lnesma2iGfKtlHw8B8W5vF5///a8pwqgGoz86RryXpnqEaNg1P0HvJr3xC6n5mMqYRVd0SGI1GBWnz9SXchFSHvYZAv5XGhMNdChqRyM0Tlg3y/KXVRH3vcsFyWM1JSeYnRuWnx+FA0M0OqZwHjaadALLvRGGxDQsHH1MV3HOFjW6gVDJnDgm6XbVY7kVex4cowqFaGWAqejjGIGq6eMnmbdjQUuF/+WHUUzB7C7L+DzQb/hh71ny6ZJF/kbziszcDUhQloAAAMCRcZ8biVKOzogpITwgpsAAABxAZ48dEJ/TVo8CdF24Hn/Letj+UYOtFOBvFxHJroApIhtqLAfNs4Ep7TErbrz7ufiUJ59KrY6zamPsgBRgujh7wOUKYwGqJx+yq144+IttQx0yjLxCto3jzUx8JWUIpz0aUpFsFIl9YIAAyio4plg+4AAAAEVAZ4+akJ/TCfboAEcNDyBtgCIHHRC9hpKF69idKo1Z179VRvzzeJSpZ3jEUA2T8cb1MiXJYSDrxRdI+7Cz4h1rS7XXlIiVMAqr5xEagKb8Uscx5bZ4xFoUAMei8rW4+TKhAZkWJLtrsbqIBG3w9fkbb6WVAb8n6s1nqDHuUM7Tp67sRQuGg88qRzJvtut+55wVz5YlvJw1xlRSMk0ixQqO4HH2qaREAZjgkMeA9P5wlDIuFpYceNIu4KAMMP4ugkgwQgbA49M6gNZZwpZfyMH1308XtoET5M34baXdNHYUvpYES/cZcK2b1BKmYljYxksbmQeXSMz09LLVEw5HqNKjvwZFN5CEESDZ/5FK7/A/WQq6OgngAAAAaVBmiNJqEFomUwIb//+bbN+M+/c4lTgd0mJWSVcowAAAwAAAwAx7Kd7tqmWAaP2/+YFLiHCz4gn65A7ALrCJ+esX1OlLjrn5S/apK7D3e5dEKWchuwz9aXDY94Kus/PIgEAuoljww3AR9env0xTPyRRLC/pta/L14+rNPpS29v9jxDnKqNjfdWte6rO5xSH7v1YhoDLJDjni+P8yAFLkEG5wwiWbEIoyUcRfMLVMoxTZhS1BH1ivSLFiMzpOPdAfuTZ4NGDjChFPc+r3WmkM2MxqIFC4r5Ncf2Q4ggxgROA7N/IXQdMkGT7W5xTXmfCT2zAFzUrtN/PNoxGuJzfn/rP8r6CfRGYz+A/+xPrfgI8VxPdXhVZvC1hxPNK0OFVUeUjfLw4KCGZ8paRDD6QFKReal8YVaLVD7qj7dQ0zi/ovQfks3wJldKoIt3fDiB0FEc+/DOW0dz0S5jUXCSW73OSU6NGVC30TqLygNsOxW8fJ14G71RMHxrkyl0cXxFT4T54+3kAPaCvO1gXLfHzyXgGTsKYJS04o5NtlxKxJS4V+AKRykgFAAABiEGeQUURLCv/RQXvYYAEr0ViED3akuUbh3hK1FdjSotdYDBIPbwH0MSZLYzS/VSVISWTb11yoxnDW7NzvVmMutYl0N7lm34wNEcrAZGFx5BoYPI92BzBoAtByhnxEhLaDIzViuukw7g/VLM6Fe3GP6uV5UzOTu6GJID8qzZA8GpEZYOdlgTepR0f9lkl1HSiMj6AmSQt9Yl8YYqPNALqxiKNAVKRoFjawIQ7TmrXx+EH3Rf2EdUmXsYg8rMAGKYJTKQ6dNoQTkKEXjY9m1DweNwC5rb7J9FMc8tlR5QZ/tNLAoFiEsMWJiVi4B3DJX1kwQ6ycpfO9La/4BxWfMmPfLB8MaCuu9M23G1BW3uuOvZCbnitKdf8YtUBQj1OY3/jHYb86CHdP6it76yFc61lydWwvVVe9tS7Slkw0g8mhXKkRXXkFMNHQTZrjg14MShYLJ/4xODnZ6z/j9e4UI7iGU6bu47a7EiHZu2XVgG+W+1+B16oVduVYgSck01w1GlBh5vcieeIUmSgAAAAvAGeYHRCf01Zz5ZZ2zE989efyce8IQuZlwybfQujpUgAIpZdhguApnfw69imdprFXJQzAjHHfDvyYAVwA5/cvj/CrN2v7GYSD7DCkj+bsfofbTkeywocdvDIFVNVQlgpv+q/FQd2gmoUEJsZf4Th0etqbLA02GazR1CCtYNKBFD8RrhH0syxMkS8R5VUJw2x+7DNcmA61SJMUnnnPjZagPlGJNJOLdxOx5jGjW9fg/RoPAlV6EE2W8DFFDchAAAA2QGeYmpCf00QXBV969vZliFQ9rJLdL9/gK+ay671xQ7QqOk6nxvuXG8TI66PQA8CHJUjFVw8D2m6/zRgF9S5et3EDpilI5SHtN+Hbml51Y7zl0F3y6AF00C/R1jugB2kD75cob75k3KTPa1dHSc+qFCEB6QKMm27PzvJL7PFP0o+PF/jDHgOiWheXBZwHfV7Ge19zzURzOVuDNHKGvUXaSnAzar+zNKmkL8Mhf29XGec5/572x5p87rEWnmO4IzdhMCujJXOAJB6FaNjpIIvnKEk95oSvysbhSwAAAFwQZpnSahBbJlMCG///nPFzlQ0LSvWshYhF53ekYHOxj8AAAMAAAMAJCkcuXAhK8gLLra5wACXbVNHNQsjT2W11cmolDX3qE3PXUli1m79eFXqJaHl/+iAWilHI58cFoBCbVGM+ZX2li5/C4GimhsvZf/lIapObAA3qsAzzwV7ujeTPDzHqWkH9hpvWJ+zMKy1ASKTAKK8/7+GbDBmJJmkXvCLroeoqlUcNsY5duuwl+w0tbGGvxf02s62E3PgJGXT40bW/GVCAAsMfM8M7dSnyrPkrvt9zqcuuzINeSC1WjhmuIrdvlDUDJeU3dHooTweMoxfvbHMzuKp4DpiSDV4Pe0b/BOKIo1DRsUrVcbnDnoMZq4sjmg8Q7oNYix542ADrdhqLQgqoSPgS6Fa5skdDVKA6qk1ARSgW4Gcs8c0c3Wz+G2POVKprz1HTLuTWXPw7XTfk+Aqlqm3Y6JYieaalvMoeHqM7aBVUpaUywnDhIEAAADkQZ6FRRUsK/9GxhCoXtTOWiedNk5Fc5siTKvcymp6y7XJByx9WRMnFI8NGgc9av9ARh7itnDJSfSkmjjs/Sl+S0de+ACKl0EFId3caAJbMqJ7crtrrU0YpVRAKLngyMbiUTHVQhTLHe81n/mgEK9Yu5q9ClxqvZk3aR//Y7viDjeqP0HC/czOgVaPrlnSgjk1OPOKZEnkfMlaAl1PV0GWduw74l8zlcqb3ot+LegK/S40RrG6jOuOQh3+LrZy6Oocc/xqBqmbloZ0Nd6Fe2mkcy3BY6gvS7aDhDoYaJF0FC4A4NeBAAAApAGepHRCfwDoYNI7FWMx9KtA2nn9UfkWEluKHWlthK5fPbOwgAAAB8LVR/KvBjEsbXDryd86XEuK9y/SwYAy2pTze/e2vJRDe3It+cCaMaZ3FSTmlI450Z5cvoejeWRtQbXOgvDK15QpRy392KF6OaS5JzEpVljVL5oEIwAugbqTaOxZgO4ut0Lbu4va5e1f+PARb/iM2iKHbfcVaG4asiNxABSRAAAAjwGepmpCf0yFuAS7lGvejHiAsUjruhPNW2rCJtNGcMJpybrqpqhtI+WvgJxwlSPPv4u0ysFf1dXXDnCb/+ZInV+XCk0L6WsiIF/zd49xqS66NvB2UDh3ucxGNxCRK16ev4JswHiVwBGW8zjDOYsUIp4aTejmtpqA76OgqDMTtWRsDPYbB6L2zfeNj/GmaKFRAAABKkGaq0moQWyZTAhv//6nhAMinwlBVQqiUrOkdLaGZYd0csmcPm83Vyd/ILUpuB/w7huBgzr1nGxn6SeDvdisadlu1BQ+H8le4VD9+U13gHT+rvJ5ta04OISXD/nafuBg6n49c4AijHqsslbYL2ZNGc0Xbb63sAAcP4TNqIioMpiIf//Lu/AsJfKCwM67UOZlkpEuMS5NX8gSXkOgKnTTzQBK46lr9fwhTvdnYb7HvSfPVMS7V1LCpsidoipx5GIp58jMpyhbgnqYaRs3RgpSyLUOQ5jYAngr3r7HuZTlkU89s3ofaA94e23dTh+jLIdIwJwa6fg+rnYR0W46+ELR7ZSbpfxXYEdz37ziXD88J7fWTshZS3rrUveWE7F/9TbKJvdctzGOgyKlJOAAAADsQZ7JRRUsK/8BsSKz1PcIVENL8dQ9QHETdKVcGIbLbm8Jse9CmRmZfmyc1ISAAGiYwu5Uf4b8ACa9bQ9F6WKPRAs9lMSe35rqT8wFbB47d6AxrWAnDYFeLKcOVeugDytiULsGNrxJWLsYy0njjCWmIOT4SAXjN0BJ8NKJ+AJajeTVQaiA0rXRY9MUqajwlTeDiN71ZhZ1zCqDdzzkrUBx5m4PWS6uQJpNwPhE4qvXNT5ujfh0RoEaYrpehoagJFKgH+84xNcXgh3B4BC13QfN3Wrfh9FSbDPtqA/aRIL7noUtnWN5ZIN5sbCABvQAAACCAZ7odEJ/AUZGrABpEKh616u8lni3/JMeBiSNFXgVwBLJu2jTwAAAEl/3FyF7UwHs3vGtFdSFa0Jx8y2jVlX7uZNH1WPYL3WGUDEGcAHdtL6vt3KpRwKh34LnLWAwS22YpdfvsJaOSH6lh5dNHhs8poT4GkCEf1JEtn+IR2BFGJZTTwAAAKMBnupqQn8A6CLHUYrTLBBBcw0ItM8C6jEzyv8wsKxMtIbDAAADAJlaEFWsaXZA1tcCoURBOXhr34KRahg8A4MmOoJi3YNdGaMW3PpUK4yAw+3eeqkVkTnKrXHfLTHyeCmdSlTnDn31wOAkZaWxYHBbFgFMwuaytOpLkZX8PYdiWVUUmL1IVYGseIHRbvEBRY10/+2ZEGqgxSmgkdtNT5tqACUgAAABJEGa70moQWyZTAhv//6nhAQwPl2uEycyOBk7YX18bCIq2tiExBPjOisEoxt2aG5aVaASQE3z4HNfX02VqCXXG2g3eexAHDXaTtwKD1jJcksdd+gDinLauDPcuihw8I+LAqgTfa7G5txJI0eg3jinh6HQ7UwE9SRSJrk2kDuwK/K3uqYT5xpEpjWki2Nf5cUOWUI1rrBcD6wiZUkEokI2HM7CMo29STtV7oYbFMlXCsJYGcvC2290GJe82k4OTU1aOOBIJfjLbbC4EJTreLdsfIfX8u9ZCcvNwe+CzHGQOoNEPrNvMSeDd4POH4McDRRItD0wX+wFD5Dx00KzBsem8b5o0P+XzSKoKUtiBzo1IzeTWOCSA4vlvfJmvVu55eqHOCcisa0AAAC7QZ8NRRUsK/8B3uuIhYanwEgsqI0S8ZZMUqx02OQmL7not4tUIXxiFBu+eb66aCgAPiq8H5Sl+1h64kCUtLf65JuKPoteYLCAH/N2xugVflioyEliCqJ8UlrJxYa7Y8yYnfCtno6Ld1DP7/y5PWrW21sI20IllO3OHrZ+C114iUj7Qn5SJP0JNxjq6iGJDDMTU5E0NbaRxvpoXzm7/mlor0ECg2VeVlRQvm0AsrdMOUH04ACbgWLuWgA3oQAAAHIBnyx0Qn8CajXo7FWMx9KtA2nn9UfkWElSDTXtocxg0RaWKBGTjt3bP0+TADaCs/+RYSvtGRKiysff83BNGyD/INAZB7AWEWfUoHffnRAAtMUFcadE7jbghcv4lsPj3YXkeUjSLcZM3uHnCcGSDsQABp0AAAD6AZ8uakJ/AmlmiuYrTRiNN9Ocm2ogKoBjoe6GbXyUXQAAAwAAOKngaA1HimnCDytrI/Oofw1ri8FZyOzei0Uy5cGfgWQpZtj/ACFQVb/h6d9oJPUJcmh6uvP8GvjJ+P7H9lVPILx7FSNrkIgpBmVuFLuS7Hk7NstDxpDUiAszEcU+W6CRO2ewcAzSmG/8GdgNLFHQCCbTwb1MR/79m6Rf2ky43Rx505tiAeOKITEO0V4OTk4uvlJaJW7akjBRMmaMGHWc7O+XNjdDanmD/v02DN+qyh+7m+ACKEYGgshDXdajMB0h9c3UADC4xNPcgHJqElx23o/U4ADjgQAAAS1BmzNJqEFsmUwIb//+b4r/+AAtu/KRY0wM3R71tk2nkVFZR3QRZ21JtWMq1AAAAwAAAwB/qaA3TFxgMdi+e6Js7ZH1W3h9AknPG7Ii2aKE0EdE+Tr6hEDhv3xVa2zcnG7CAKhYcqBBHPN73jKiL91RgEuUgIr0EBZWRhRIEzm7uvwGMjRPI+rz/PppEGQpnpZPjIouPxO9OaiNMArEFLePNyD7aZr201YwezdIG7/nSkf6Dsmw7WBfJXjGH0xM2O8PkRmKlrLAj50vSsC5cHRHZTqcf7bX1tokGH4ZWMYdoR/WTOkRxBXd5YAsnOntkVOOWXwezc8hhNbgBeCVNppb3Hu7IkN2C+dUQYj91qNsJhqkgPBLzB6rM6mvM0KBxnrKkFG4hcbrUqga53afAAAA/UGfUUUVLCv/RlAhPFfHirYCwMaZWhH3VdWW8HGhE3/xSrdj168qTIJcAP8Ja3H6yC6+7zoBIxAAstuGgDk0INE+F5IPvWt1WPAvrvmfF8LLRYtrt1mEckuCNjINUwyiIfcespFZD4LFcBYqwD0BpaHjJvA/p8YnLGVCgbIAh3GY4ICKqJpgR7HVJnOasiBErXsCDNUzL6Urs6kVFIin43O0FYz0N5brIDXfyNyw0h7n+N8Rkh5VmojNppf7KH5MOKl3Q1vTIzqjp8fAs09AAjAAaEAFPAEOAJ+A2wJmECCNhARGRqi9K0AB9gAAAwAAAwAAAwAHVeepJKoAs4AAAAB/AZ9wdEJ/TC4b++FQTHzlvE1mQwjJhSzfNRrnv2wnlg27ijyYyF2QA/KjU6V1TISyx0vRglkIc5nlmjzbvsmvOEJ6l/WAAft2Sr/wQPk4RoHxNUL4I1EdBui9QsSe+awj03ETU3TgXaNZRi6NXYGDuY0RDauxkGtNIZGWXeqR9wAAAGgBn3JqQn8CaWaK5itMsEEFzDQi0zwLqMTPK/zCwrEy0hsMAAADAOWDNNut5DPza18JXpnLxV0Hs6tXdGqtErx6pypTIGy+bymROurQXGyIFMWt+QXN3+iL5ImPl6ToIZ0CxvyqA7wakAAAAS5Bm3VJqEFsmUwUTDf//qfgt1fETTEOAPgneyAI3SVMyzJ6I1ApBro8gQm+9+q5oUgFm/gzLc+eGJ9z3DgABnZJVpXUrT74PvB7LkxbARsgytNFe2p8EjmM3zSCyJ2U/0xagVxSvQtcEXRxp0muKWvnE6hK/6K+8706J5/EetmPZOhuuIXePasqg1VbKfbR0xVhT6r+DuaX66JwEA1G2jhi0TXSLr8bO/VS+3rggEuZcTqm0C/kl0TNcV3B5ln6j/6ifEUizj3TWzFVedqfMySKc9ICw7iYk7GHm3Job6CQj4tXFlcg11DgSJVRdmqx4HAD/lbsJmDRJKo15TKtgAd69n3Zoo9gU5JLs7ShpNAISJtAv2d59mtqwito08dhlyNTPVHGbsIPAGuQiqttoAAAAGgBn5RqQn8CaWaK5itNGI0HXhni3/eHWvUHmituf2skWNgAAAwjNUzr+hvhYNaqr71u9onWMYOtaLqAl5AvNKPEAzKYHDMGxJAkUt8ErCUZXxAC1sb48RTqpKvxKze/NWR0wQfUsAAXcQAAAQdBm5lJ4QpSZTAhv/6k7gA/fqvpTcNHZ0AEk8AAAAMABBGuOfJX7talUAna13z1c87A7QJHOG43IBrBmtIhsedLWLg3P/ceKIicMKfozGfb3ctVP89bE3fcXmZx+7yti+7fB7AjNxN4j27c9bmx/Xxf7kvlAsPq8EBwjTIAibt9PovMWopHa0R+OPwWN1YE7xksyPJYwpuuGKVIs6/E1X2EHWv3dNujt5pAs1LoqnFk0YZGPR7RLFLjU9nDAkI49KaVhCUQGx6eexH57Fd+OG8moN6H4PW0iQiUvIz4CwRfnf00ZBbeE6l4y0KRB0O678rVj3XGUdrAUlcRNHPAPXx71H+8o+OhrAAAALFBn7dFNEwr/ya1yt4u/8VMY+6q7o/u3uqBLQfX23NlNoKsgIFH+YIQAtZaRF1WZ8c3y06l1PHIWHwY5yN8Cv93sK1El/GH/HVY1KFqLOvaWybhDHUfOlULrAjm90ulYoLK8cBgDo1TBXUmC6YsDdyEjnwsdBJYPoULQCWTAAu4nAADbAFeeANEA9/oAUgASAPY4CMApAwN2B6gmwLzNOTeFnUPOOqVwfxCvGsOHhAABL0AAACgAZ/WdEJ/K8Ok3uUEDznx6OpoQ6SY6UrTaE9esMjR5SByPxu/etvAk2QYcKj9ZEG1/aEhfQrrAi1zBjYo/PxKEzX5syLHsYWchn2hIACxiKxVPJyAUgCaz6QddYMgiNDzAFXb4LTAIajHHkGGx+gSCooQ4qqhx5csBY6DA+Pd0t3KETZQ+C4deBq5srvM8oVaCYP3Zwa9GB/8OF9JAABvQQAAAIUBn9hqQn8r9S28YGSdLHxmmiAG+DltHQzrg1VkkMl+T0sbhDwocD1mKBJJNgbGARuU/7YOM1BqVvVbjNNFA4as3RPwg74FrcZ3el0qSemxO9wjrI63TwCP8uwrL4I5r02e2IJkmudfVSuJxZWKCyrj6tB05y8bky6k5HA0qBXu3nTCAPSAAAABDkGb3UmoQWiZTAhv//6k7gA/fqvpTcNHZ0AEk8AAAAMABBGuOfJX7talUAna13z1c87A7QIWVvAfBvMgCkGUlb7o0YNa2JOfQNfo4v5D7UtM2JXVADNaDrn/M68fadBPBSa7fPrSmHe+aXQ39XG794aZrl14k90+6Q8XV7cT0juaF9aOIaFRpFUxffzTvMD0/erXZ09xl1nSdZI6McugRddulrKVjzzaCci30/+QBLoB7HXri0RW43cdPsPZQoUv3nTCTaCTuM+MYESOQ4+4a+SuONGgjSUUx14Bn1Y9jyY84C+Y99iFBmEYmw84rnIU+ABozEYYY+F15IdrxzmwbTzbkt0dwOzCsKpWoiUt0wAAAKhBn/tFESwr/ya1yt4VEyFqUn/PNw/loY14MYc1ABOd3N0P8nYsCpUJsL0rvc6bm3YZd2kEjYYWBFIiaV2m5I1Sq1qZHWpeTa8rtN7cUwG9duKZYKfrPt6UTS+TcgAyde8s6NrZMoUCKhaiI5PbQ1K4h1JlvSjYL+OVxmXSaG6/yaRKAoh7U7Oi2K8fGehgtkWvl7Yb2tTnSg1hYgFGw652uA4gXflIBgQAAAC2AZ4adEJ/KxUC4av39kTOQtHe9SOA8/dDf4/xeAAVl2NWIGNn8roSFUAbLIZthbWmR7iseR0RISH1I4ASzggYh18fqDgZryse+AowWwd4z2z7O0G89THmDyTdqhIyP1jaHwJaeYIq/Ua5zMKWgE1ok4NpEYj55fMKacRN7ApVdVmURc+sme0IV4vAptWPJ2h1Q9rHA7FPKUP3TTUkXrVEZWhzVCPIAYRTJdk6lInHfGcKFi8AAYsAAADKAZ4cakJ/K/UtvGEF2Fu2DWsnMeJt2XSQVUPNV4AaVwZZiSgTFGE131in9CflcWQAV7BVRRzM0xjCE5RVol8Z/yXMfBpltJHVWcd86Sm2oUAAxo+NqF+cZETy3PE0B/lxOWpdgJBooAaL8AAkRoAAAjITJlsnr5OiY+gF/wW0VFpJYDFT1tiCOFe8pzokmor6/7tdqagJOXSaI8fYDdh9C3vXQOcBuNlTNsgN7xRxxAaap9y4AAADALMLzAAGZz0AAAMAiDd/BIAEzQAAATZBmgFJqEFsmUwIb//+phEeJ9F8qGjUQPVYEwbGiFL36o4OG5+k+SgAAAR4Z44V8ZMU4CjMECgEbJt5S/VpSyGyL00Ez4Un1uniPW6YAG1u/d5rKqz/4oRNRPeraYNzYAC07B1ikyJ+B/uSKwTp+Tge44WRwlS23nQrBhGwaLPBRt0xOXsTHEMbNZSBhS59nf2hRIcZ/1sYH8NglciGAUjYn9zTuUmtuM8qmuy1IRIRQf2K3iNARMke+PC0tkloxH9mBT7gVutUZ7ije24Ut5BVVsGuuojNTa7i/4fMzYneh57H+jt/xtRWlCDbVpZnt+Cz4+0/HOU/iqaCGNLJGJH9jHhZUCi7EKcc3X7Cg12ZZV3yHyDnTsGuJ1ZGzmmpWSVFV4FcXTKjJ50T6lusKmWEEhCE3XJbAAAAs0GeP0UVLCv/Jtqgv54yjZv17r5T6RqaVWaKAO5UBEkA8wFg6YAAAr5Bnd5m5PShWbtx6VvCcHlHM21oBrAFX4HMnswJAXGh0qF2v+MiAFiavLNtNlVuhEZXezKwB6NLtVABkZcqRV9kA2WgJ4WH88C3x2sgh9uYiToGob4EzUyjnZUKPryry6tT6iGolW1ue3DtTS1jM6wMewrV0l6FojBySMgSBxpxjrpnUGm1UJqwAAZUAAAApQGeXnRCfyxcfoE6AM8GVMXvjUaCmPlA0qMhiEgAAAMAAaLlEFGRBsWiAfbFl3xhHBM3M9AALmjO4AWKG6uG54RFQnoRauo34bmqK83XPlPlUJiNZYO7qSvBlppGKAlJE6N+bBRfV5188ORKWBRIlQkIlklWDB03NDs5NSNwm3mHIzPy8HL0JjOn5zwEyKldmx8RG0x+GMneaxbpPiwDuOMPnQwBiwAAAFwBnkBqQn8sKC5xN+54o6N3822TD4W/Z0CwFx+euhGhV5AD6BW1KBuznlNBgAWgBRN4AP6fNT1c9c/717z15kseN/+FD9rLKwU53Dc0s6H2A0XwABvQfNHJUAAFpAAAAb1BmkVJqEFsmUwIb//+cqkF+AAtu/NK0ioD3f7SJhkMm+mtS4AAAAMAAR1byvciSQqGTtj19ggtdte921TLLIvOxJzsrsLBfkp4xaL9yOXr9G2U9r+1uwy5lgGB7m9Id9SDro/3oFfg3H//2YLkknU2FrL8YVsrPjeLBOx7jvKIt7k3hbxtXINwHPZ8yyy7OYtAwCexFfj9OsatekO2r5APn3A4kdW7SomQytdT5Ib3Ew5hie/VYDOLlhwCtbzHMQ0fSHKsfJ77srMrA1rZXqe4IRmF84ZwFQEkWV4UAyCs5GwG8I03S8K7ctnVa8L9Reb5iVqaoj1O3wmQeHBLF5jJ64J6K1gszRt8eiDb+Q9H0jCFx6bKpJXjCrCCY92gbsm1GiJnIOt5Vv6XHYskJa5XqUiewi1b2OMUXQC230apETXfGyH2bws0a/dbf/60/MC1jbojvsObm2tUo2sc1Cs/ryznlzqmvlm0YjaO29ef5DEnfcc3dSLxnk9f4NpkHNmcEaYwVwtPf+tClUWXEtOEpwRqtBFS3z+kMEbKcfsJKZBVJ6eELv76BnseYLujPplX8Qqx77oWI7770FVBAAAA1kGeY0UVLCv/RlAjOYtzjBkGyafpwq7YbdE6XnT1913r1JTKsGjZibt+rs1+ZsE4jYX8O/+2tzNviQCA6vDj8winhnYfHGco48LEHqo6mWyMc175oVaxwZKdnCpTcYh7b2ipNK6+a1sfNip/bDH3me50iccjpEEKUv2BOOfrSAFgH75823x/ELx4oCOPeLsk/XtzmNsfgDsArQioRl644ZJlOCwiWWhCYP3NqfOWLHshLPoEKTnqxzPZGDO6M3dFBqeEfIVnJyaQFSkWipYNMN5RqFUADPgAAADSAZ6CdEJ/TVnPllnbIm7+47B/0dxm8nnWoPCc/8DJS9AJeSE6J4AGL68QX3Om09u1fRAr2IADfvbsQzWhbZTbjsOXMMwZnPPPaMOxPYx0ETtBw9S8A3Lw+l4FS5CKE98Wh3xRZKaiOAFaegTML7ciCHNK+nn6GpMMG8zhHH7ZQNvk64+HZ0UffemAc809qf8FYzn/wWy9GqN/J6ra78MVq5ijdhVX/eAIaj1ASiALw7mBU86ElQympp3VLs6NnrX6yUh4CfLEoWzqEpPvNJmEABExAAAAsQGehGpCfwABa7dZnfmKNoBJTygnU5GCdGSa2+u1X6hQbwFoZe3mc+QzA/Sr6jf+LBtJPNoS4Z92NQEuTQ9XQOOMnm+S+z3w9TKFL8o0GIMGY+v4vbZX7zJjZLxG3Iff2+RbrGgwMIDaduVdMiEIVEL58o55ydC90LG8j/CfG5L1070j0GZJvNEPu5NjKmpW00/g2CC4hMgkAzkZ15UAOQucQWQDj40x+Wl1n5RwgAB/gQAAAO1BmodJqEFsmUwUTDf//qeEDvsb0uqtvMu2lHGkkYJEvQdlFbSWmuyauyjMB6gSmMF/g48yTaGPzrChcTowracuD/Z0AQzspCb9RYU1XBZCv8vf47E6TWtnHD6sRHeqiIB5do2yPx0V0BMpchYj2kf3GvjGtYO1oq+X+DyXsEOvD53lqFOi2p7KA4E0P+UpveI7QYgZvLKuKn+3PDhl8ZtIg8zRSP9ufMJXuNPiriW9xVpItvIj3oTZdhEY32Sx4YiS3CC++QkDGXT5abLKFUh01IN9OI+/XacCEC5+wtvVW/OTf2akAENpjBeWIEEAAABcAZ6makJ/AAFrZMJgsY2hpUy8Ax8mpMq3MM2OrGSHWyplDCjST/+OrhAYA7hw2mABalEW14LA/Ie8apy6NH2jp5OIrsu8c11cPN5hutqLKvlMNiTVhe1SGridgUEAAACeQZqqSeEKUmUwIb/+p4QAAKN6PtmZe1YrZgZnjToOLhsKonowANtduEni9v2/G7npAc+f9ora4loCgfSLUMEucviC3AgKPlsuVFAYaO8+OxbOBeKj/u1xW5MdTdY8t9JqxhYbj//dTodwfELMe8H7RbyHEcae2Z+utIkQL5Sx66aToFu3G7fIUHwTz5Jle9IT6wTrzm+3Vr/mYxNVtGoAAAA7QZ7IRTRMK/8AAQX1kcxXhahhlDcbTbNTy2DSPDNG5nzIH6IUaNglUFQckI4m1wlsd4Go8VQPHaQ0AfMAAABTAZ7pakJ/AAFZuBoYzG+Yc/wjZJTjt62Zo8suPXIxkH5ZVEaf/PU6BRLI+kuNI5P0igwvDpYDJMRdMjoueLUf+DrkAKII1LU1mWDDNZAP0TEwAysAAAELQZrsSahBaJlMFPDf/qeEAAFI5l2o4DR8BQvdIsJn37zL5N2/uNS8lABU5ZUVPB8XnFLnM5iAE/7LDU1Y/wrZBKUc85/UK+N3BUvHgaI9xeOYFSBDfPL+/OZPf1cmYDTSiGO9SjxYECIF7S1mH3+UK/FM2dzs9AsvU6P6WKlFbM/XWkSIF8pjrYf/bPQjEaRv4uTxLr7QQ+wTFkd/f3afn2MczYZSO6idDcIgVFwAwYL6s8ICo95qvpLIRQcHSyu3fCQntzp9seYWkEhLFU86ruDKovsG5by6zkn+kR0e5ZZhQyucffpq8baHfqguUhom6b2WKmRkvg8cW9col1drnmi+EA7XhqWACargAAAAoAGfC2pCfwABWfONFFMDUgT/FT2q3jt62Zo8suPXIxkH5ZVEaL4iOA5C39qABstc2RJml29XmsYp5za1v8ChKqW8U9vRpjYCY6idiPGtDp09pAsborOUntRPAwtwGRmQ4ZM0VNuJcS+eackEF+i9CWsAKPwCDOgIqgKeAfYCFoP4D3B15Dp74Ir25B/pUiSMKHoiRsgAAAMAATZ0pVAAEPAAAACTQZsQSeEKUmUwIb/+p4QAAa+kfbMy9qxWzAzPGnQcXCHW6NgISfRkRcwI50qV5M6GWDf3kpWOxOVfKI7caB7VD7K/tgJUBewqpeJHIxaFqYTum1lbUj/DOi9Lf2YXnn+w7ANuo/53mjeNmNZr+9s/unwMEtF+iB2ddvHc2NJel7lkJl9zdPdUKFa2nJaO4umsDm4JAAAAkkGfLkU0TCv/AAFij5GNhnVOioIMTX/McfoebapCa+3oVobkEkAS5ulcReH/swAP8zPoTE85vuXkyxewtZaK0DFligheOpBn5Q5b6asN6/9Zm8lFqW06t597W6IS2k/W2KgljkiDvksiwXn3NrGJOZJhMhhGIE7rdDA9npZWki8us2y22QvF8qeESPjAUqgAAMyBAAAANQGfTXRCfwABxZq9JVhsb35u2O389/eeAtQgBUhjFrJFO0w+/jBsaKmf4zjtoUKSpt1QAAGZAAAANAGfT2pCfwABxXnVUw05zSz32itYyHU8kAL6QBNdbtcMqZORGI9UcLuKaxTmMuMP1QAAD5gAAABqQZtUSahBaJlMCG///qeEAAGvpH2zMvasVswMzxp0HFwrky6NgISX4n/cmZ+pC7QSPHMD2iSxu7kgV8ssr/9qYgtIlyy8VeG0zf5Fj+JD6ZljfQsjZGhLBYJTBWRqEhk3RVTTNmODzRjEQAAAAFtBn3JFESwr/wABYo+RjYZ1ToqCDE1/zHH6Hm2qQmvt6FaG9igA97pCD8reSM9vEnCQxvHQnGHy5xADbRVbgHXemvdE8O9tYyI9lyCmCPqZ+aoNW09jpUqgAAMzAAAAMwGfkXRCfwABxZq9JVhsb35u2O389/eeAtQgBUhjFrJFO0w+/jBrd14wPqImLrHNUAABmQAAADQBn5NqQn8AAcV51VMNOc0s99orWMh1PJAC+kATXW5m0LKuTjYdSERUlByasfsSCoQAAHVAAAABE0GbmEmoQWyZTAhv//6nhAABr6VrZmbLR9u0iJQIYChcbSIBmq+i7ggdrE3zADChObAqIWfoCh007RgBySS9MqQiQKGg4UCkwr41zpoBQwP2f7Q3d1wKDw2lOdTH33kbJkKB6G5CsnDUMTEAylsU0Q44ZZardOJQ95eWK17Ghx9llSSg3yf2mtNyz+FIlcBD7/lIg8iJz/u/ol5bXdXDqzDx8inc2WOtur11DpxnW/Sl1kZJFaz+ShETy25n4PH4MhyGqzV6BkWCmkYv+M7VANYV79MUErtJQ2Ru9jwPtANv8ap59JFo4g+0fpgizDAQe4hcj4tNhcgfr3DZVx8fSFL+UTsaT417n/ISyQBwMPWwVjR/AAAANUGftkUVLCv/AAFia12hNNqohJvjnklVr3QNbwUAGea/D9E7M5yOCKVZwXDI0GRJMBIQAAHVAAAAMwGf1XRCfwABxZq9JVhsb35u2O389/eeAtQgBUhjCE+MKqp1H+f+aY9E8QECBgJCAAA6oQAAAA8Bn9dqQn8AAJbt9M48DHkAAABzQZvcSahBbJlMCG///qeEAAGvpWtmZstH27SIlAhgKFyz0Apu1EAt1VRFwNmvhT5fdii7WNTseLPDw7z/4MUfAtFsvHAUfof2ImMqKSeI7KoirLrtt4MJPTdFt6XGIu2lPeLgDsLJH4Q1+Qe7W1hPCAAu4AAAADxBn/pFFSwr/wABYmtdoTTaqIUyJbZR41AANjuHskgOayJEY1fG4UIYo4/estuoASngGdjRi+nfioAAB80AAAAzAZ4ZdEJ/AAHFmr0lWGxvfm7Y7fz3954C1E5OANkyK8duK2mdHnhryMR2CtjKOYqAAAfMAAAADwGeG2pCfwAAlu30zjwMeQAAAMBBmgBJqEFsmUwIb//+p4QAAa+la2Zmy0fbtIiUCGAo3aiXLgGmNJYlO7hQym+K3Ueggp3NsuZZgCDbyb3yYbiy7uttHug0slv+0LUHFSEWnVjjXFosGGFA3GkTnD5ZG6tVOUqPBFNXl5UYM92ju5NiqI9Njwx0hNyufzeHuhWOaGkCJg8DWik1X/L8DGZGjQxFMosECadq1Hres0jPrAPZTtRixhNeHO/f8OLNleDrYKKGcM89zbB0mDXvZYAAJOEAAAA7QZ4+RRUsK/8AAWKwr8NXDNQ9GXpeqqpA8iTnUPrNfITAyu1c7HwXcyysaudHM3AIiym4ZJOWxAAAXEAAAAASAZ5ddEJ/AACWtYgg/6FtoD7gAAAANQGeX2pCfwABxQuduvQ2aF0RGt0lZAeAUS6AYGi3Apben/CeFEJaXjjdKAjyrxZmu8WAAA+ZAAAAP0GaREmoQWyZTAhv//6nhAAAfAuh9AFsRvrRlc5RpvaJ+cUmZvXM/XmrOqzJl3WovwXj0UW4t6GQTGUrXr3wgAAAABdBnmJFFSwr/wABDWXKgwjk8ywJ2vYVMQAAABEBnoF0Qn8AAJa1fdjp3aQm4AAAABEBnoNqQn8AAJbuS3cnptITcQAAAPZBmohJqEFsmUwIb//+p4QBHCw4gBu+Ha/Gw10n+mfJGZe12SofZYBLSLE6ltQGtF9de20ks88BtA2csbNSBUkxAjEivPay8dPXOeqkUiEbIR5y+a6MfQSiCvurOyvQ4R1Icjh6WxZ0TvvyNHmWqYhfN2GwmuDiLG6dp0iU4qGggzEQsQaHfgK0WtLrqBOvrEQWoAUi2G5ucKQ/4TPGfr7WRX8ZJur8P6tNm7W/guHkBaLbzJDX6p5gBE45L3DvghkQq1dDL2xdiTEihkjDMUZqlSFrUlfOms53r4kqJ7zekYcIfnkPFOrmMIf03apVBOhshm5fRoMAAAA4QZ6mRRUsK/8AAWKwr8NXDNQ9GXfSlCkuLLv/2n6BRjAYRifAo+9dwSmM6INmTNBunh74qAAAfMEAAAAPAZ7FdEJ/AACWtROOeBjxAAAANQGex2pCfwABxQuduvQ2aFUEJ3scUKUE1a66QAL6zqoqSGgJ4du0BEYzjbVQjZMxnqgAAHzAAAAANEGazEmoQWyZTAhv//6nhAAAfAuSqQB9T5AktT2+wir1WbBbHd597I1q1iIbr39fGdpF3ZQAAAAXQZ7qRRUsK/8AAQ4Mz0ElJmnCmEZz9IEAAAARAZ8JdEJ/AAFiRle2oM+kEPAAAAARAZ8LakJ/AAFiuAz1BV5mBNwAAAA1QZsQSahBbJlMCG///qeEAAB8C2DQAkdMDgvuZT6p3HKs+jMB5G02hqTCm812tcw+Vmq4B6UAAAAWQZ8uRRUsK/8AAQ4Mz0EmB9IQ018K+QAAABEBn010Qn8AAWJGV7agz6QQ8QAAABMBn09qQn8AAWK4DPT4awOacgPuAAAAM0GbVEmoQWyZTAhv//6nhAABUAUKrI/oANv6PdnLD9vvkPaCq3DowoE93dyjLlZFz6XmhAAAABZBn3JFFSwr/wABDgzPQSljg3+3MKmBAAAAEQGfkXRCfwABYkZXtqDPpBDwAAAAEQGfk2pCfwAAlu5LFlA5WCHgAAAAMkGbmEmoQWyZTAhv//6nhAAAfBhr5IA1GsmCRragg7i4UvjoR2r9DNQMpgb3fP9mbALLAAAAFkGftkUVLCv/AAEODM9BJSBRFNr4V8AAAAASAZ/VdEJ/AACWtYgg/6FtoD7hAAAAEQGf12pCfwABYrgM9QVeZgTdAAAAPUGb3EmoQWyZTAhv//6nhAAAfJ6yFSAK+PJH3pKWDnP9vdftlyxDosL7YbYUosIAzettunpO8CDvRZ0mXkAAAAAWQZ/6RRUsK/8AAQ4Mz0EmB9IQ018K+QAAABEBnhl0Qn8AAWJGV7agz6QQ8AAAABMBnhtqQn8AAWK4DPT4awOacgPvAAAAK0GaAEmoQWyZTAhv//6nhAAAfAtg0AGr7eRNVpV39ivpsfitHz3mjSVDJtUAAAAUQZ4+RRUsK/8AAQ4Mz0EnHj6QQ8AAAAARAZ5ddEJ/AAFiRle2oM+kEPAAAAARAZ5fakJ/AAFiuAz1BV5mBN0AAAA8QZpESahBbJlMCG///qeEAAB8C2DQAa7Wo4Cy8ywo8Pfm24Mg0K7vywokv1kG1bBySDVqde6nwV+quvTsAAAAFkGeYkUVLCv/AAEODM9BJSBRFNr4V8EAAAATAZ6BdEJ/AAFiRle2xlSm/UhGwAAAADUBnoNqQn8AAWK4DPTxw4cAI6NzoYRERvJDQ0VwPC2HnN476nzduWx9haWxO9mAeQtna0eRLwAAADJBmohJqEFsmUwIb//+p4QAAHv2XXgII8AWBg55FviVX/DGw/uizqIXufhkeXmWzYBZQQAAABZBnqZFFSwr/wABDgzPQSYH0hDTXwr5AAAAEQGexXRCfwABYkZXtqDPpBDxAAAAEwGex2pCfwABYrgM9PhrA5pyA+4AAAA1QZrMSahBbJlMCG///qeEAAB8FSXRAG4tTmcgIpd9uqllJHHu0GdYssfhz1sEZ9l2r6WUOTsAAAAWQZ7qRRUsK/8AAQ4Mz0EmB9IQ018K+QAAABEBnwl0Qn8AAWJGV7agz6QQ8AAAABMBnwtqQn8AAWK4DPTzFpsafhXwAAAAvEGbEEmoQWyZTAhv//6nhAABr6WUZmcAR96sicgt4HBdSylHc1a89VZ0eiXzADIiv1V0ReAPqLSnkDtufVqF1MK5uIG6HEzQ2pEHc2hS7+uA1IOXKo0piGjh+qkqqWtIAXtLN5ofljUuRlf8tQSCdlFdiJimO9cpCekrJKvg0Hl+3k9ysOhmyO7Xt7d1KGgA1oZ3GcSEs8/vqamvXKRadYmiSv/TTTdPhTFfDtEK3MaxmhxzRlhO9DTXGGg7AAAAOUGfLkUVLCv/AAFisK/DVwzUPRl30pQpLiy7/9p+gS5NQB84BwijDGBWgxuySvKIVfenSW9iwAAHzQAAABIBn010Qn8AAWJGV7aPO0i6CmkAAAAyAZ9PakJ/AAHFC5269DZoVQQnexxQpQTVrrsDAjrgsSpIaAnh27QERjONtVBZ2LAAAfMAAABjQZtUSahBbJlMCG///qeEAAGvtRDOG73YI5sgI+w1bfUEeDIKxNsHmacsXQB8nSD5P//jB92uVKvNevun1KGnhO/fyXZBQSrI5+B+cUtgM7P+vyEsZCdf6mK/g0ADlZQAACggAAAAOUGfckUVLCv/AAFisK/DVwzUPRl30pQpLiy7/9p+gSiIwAS9PQHRyY+mvOjB7u27RBjCuHdioAAB8wAAABEBn5F0Qn8AAJa1hzLCfCg6YAAAAF4Bn5NqQn8AAcULnbr0NmhVBCd7HFClBNWuvbFur/oAEdG50MIiI3ks5eQPgyvkZdj0EKzRrXblsfYWlsTvcRkbbEKwk+E4xrDJDSvb+IXwEkwrHnjkwqEhE5YAAPaAAAAAOEGbmEmoQWyZTAhv//6nhAAAfAsOxAEwsB6yUOUffW4FxcoLy3k+kNWLme0ZAUJPaj953hPVHO7hAAAAFkGftkUVLCv/AAEODM9BJgfSENNfCvgAAAAzAZ/VdEJ/AAFiRle2jYHqAC2vRb78FUnt5Ib3IHwUzBVkJVTtj7C0tid7M95IPALUIDahAAAAEwGf12pCfwABYrgM9PMWmxp+FfEAAAAVQZvcSahBbJlMCG///qeEAAADAAEfAAAAFEGf+kUVLCv/AAEODM9BJx4+kEPBAAAAEQGeGXRCfwABYkZXtqDPpBDwAAAAEQGeG2pCfwABYrgM9QVeZgTdAAAA0UGaAEmoQWyZTAhv//6nhAABr6VrZmbLR9u0iJQIYCjadXFHw9BlGIeRFIvLLoRZVhV9jy4BJrtzKPtBRUsV/A5Whj089NSj4/EAg20VeR6XxuXmayX94AEFkTMRy3ffMhQDjmAaZQT2xAb0+c+aTgjxQI38LXVZZKfBOXIVY+3qC6kpl5nMSXjjSJG4IqOFoVRukcuJLr7yq+7zPZrli2n5G5EA9sWf+r8LNBfnXthk0Vo8zvaUO75kqeV9D5ZsJN3NZBNUdSqB9MCayxVwJj+RAAAANUGePkUVLCv/AAFia12hNNqohTIltlHjUAA2O4esABgX2ARjV8bhQhijjyM1FqqIs7FgAAPmAAAAMwGeXXRCfwABxNtBA+/tbBECAw6cvIbZOqagtgAXa6Ikvhg0l7Gi+rZAeDxPlIbEAABcQAAAADkBnl9qQn8AAWK4DPTxw4cAJLvX3imqT28kL91D1reUy1rkStpYj9BbH2FpaUCWmYeQtpKJBkvkS8EAAAAcQZpESahBbJlMCG///qeEAAB8np9gahncGhAekAAAABZBnmJFFSwr/wABDgzPQSYH0hDTXwr5AAAAEQGegXRCfwABYkZXtqDPpBDwAAAAOwGeg2pCfwABYrgM9PHDhwAku9feKapPbyQsoYPgytI0UbSVNLIfoLY+wtLYnezAPIW0DG7da/lt6FtBAAAAJkGaiEmoQWyZTAhv//6nhAAAfBUl0QCTl+uKULX2GGj+S6920BoRAAAAFkGepkUVLCv/AAEODM9BJSBRFNr4V8EAAAATAZ7FdEJ/AAFiRle2jxb3Bn4V8QAAABEBnsdqQn8AAWK4DPUFXmYE3AAAALlBmsxJqEFsmUwIb//+p4QAAa+llGZnAEferYCW0PoHgza4NIiyyARDxeCwhhBWV6DjuLgEG3L//38sPfPNrz/mHH9+h86RN89ZJEIortA+gunH8sYYfRPgRxPeF8//fj/SMa3605u4M5Ntk7j4bL+2CRLht0Ra7N0SNMefaJx11QkmMvf9NJBA7qMnM2fBW9/p7ifsUabqu9ltFa52Yi/5HNZjmrllfbLhvrnMifqceQSiXi6qVQACXgAAADtBnupFFSwr/wABYmtdoTTaqIUyJbZR41AANjuHxWFq3TLoEEVGBVn3SjJi3X/J3MJ1F2pSUvbEAABcQQAAAEEBnwl0Qn8AAcTbQQPv7WwRAgMOnLyG2TqmoLYAF2upeekEsyndOQrQigKZXWiJ06av2tZ2LgYRregkJeMqgAAXcAAAABMBnwtqQn8AAWK4DPT4awOacgPuAAAAFUGbEEmoQWyZTAhv//6nhAAAAwABHwAAABRBny5FFSwr/wABDgzPQScePpBDwQAAABEBn010Qn8AAWJGV7agz6QQ8QAAADsBn09qQn8AAWK4DPTxw4cAI6NzoYRERvJCyhg+DK0jRRtJU0+fnOBbH2FpaUCWmYeQtoGN261/Lb0LaAAAAC1Bm1RJqEFsmUwIb//+p4QAAHwLFaQB9T4WQ9+9a1Txlij96tlJB1pr0uquAekAAAAVQZ9yRRUsK/8AAQ4Mz0ElJmnCQD0hAAAAEgGfkXRCfwABYkZXto87SLoKaAAAABEBn5NqQn8AAWK4DPUFXmYE3AAAABpBm5hJqEFsmUwIb//+p4QAAHwX/fSx+wCygQAAABVBn7ZFFSwr/wABDgzPQSUmacJAPSAAAAA6AZ/VdEJ/AAFiRle2iHB6gAsRX3imqT28kSSkD4MrSNFGy+OpRtXAtj7C0tKBLTx4QSlXSeiK5W9C2wAAABEBn9dqQn8AAWK4DPUFXmYE3QAAACFBm9xJqEFsmUwIb//+p4QAAHxeKF0QBlttkB5LbdmwCygAAAAUQZ/6RRUsK/8AAQ4Mz0EnHj6QQ8EAAAARAZ4ZdEJ/AAFiRle2oM+kEPAAAAARAZ4bakJ/AAFiuAz1BV5mBN0AAAA5QZoASahBbJlMCG///qeEAAB79eYCH8kAbOnIVR1s/UaKirlo2n8xLbIf7BgbrkB5gK5jH+nbQGhBAAAAFkGePkUVLCv/AAEODM9BJSBRFNr4V8AAAAATAZ5ddEJ/AAFiRle2jxb3Bn4V8AAAABEBnl9qQn8AAWK4DPUFXmYE3QAAAChBmkRJqEFsmUwIb//+p4QAAHyes0LwBuNKgkfg/E//bJZq8dO2gNCAAAAAFkGeYkUVLCv/AAEODM9BJY73RnzfhX0AAAATAZ6BdEJ/AAFiRle2gMGTcX4V8AAAABEBnoNqQn8AAWK4DPUFXmYE3QAAABVBmohJqEFsmUwIb//+p4QAAAMAAR8AAAAUQZ6mRRUsK/8AAQ4Mz0EnHj6QQ8EAAAARAZ7FdEJ/AAFiRle2oM+kEPEAAAARAZ7HakJ/AAFiuAz1BV5mBNwAAAEFQZrMSahBbJlMCG///qeEAAGvpWtmZstH27SIlAhgKFxtIgGar6LuCB2sTfMAMiLlEv+9Y1wBbgdhZmTNV39LcQ2O3aIWHy8OvSMRJ0kJT/qBUOlujf7NX6OQtnuameySd3OXf4azxR+JnkkIDOgqizUND4WZQ2pFf1kEkHYEX5GH3lnr6LuB6B9piut+3ZGOFpuuZZ6weu9UPZDoG6ecElOhchn7ncU5E89p5+u7gNGp0tzAz+SPN84X3wQX4GTGfBNKgdZuFopSXTFe8IsEHN0uxfh6DMFfuHKnO8mdofythlupiLNCdiQWgakHmbmsdKQtPjYUGWKZ8GnUqgg3gllWRv88AAAAR0Ge6kUVLCv/AAFisK/DVwzUPRl30pQpLiy7/9p+gSN0LwUw6AFZS9QW4yByB17AULmtaN+4f2qDAXGgIIlOfFV0wKVQAAGZAAAAFwGfCXRCfwABXpIvBwk0OBlIBnItkiXgAAAAPgGfC2pCfwABxQuduvQ2aE47wlrgF+mHenHSYWTGVAKZAzwA28HjKiLqJ9GgkMFrCDbNoM/sTlLVDuqAAAzIAAAAN0GbEEmoQWyZTAhv//6nhAAAe/ZWkfwvnQAngnowDVDFnPOua8af3TPuW7TiFIDQl3wzsAGYR8EAAAA2QZ8uRRUsK/8AAHQr3rAlMAILPh1dh/Vfyw3lTRyhjM9WvbGoKKhcHtfEOEFV/c+9S86zsx/hAAAAFwGfTXRCfwABXpIvBwkBwDlIwNCvugNrAAAAEwGfT2pCfwABXpIt9EB1ptCQB6QAAAA4QZtUSahBbJlMCG///qeEAAB8CxWkAfUahT7NWSmUfRnPFiOy7RdmDT0AOCRsi92y4sl/U7aA0IAAAAAVQZ9yRRUsK/8AAHQr3rxbnaYr8K+BAAAADwGfkXRCfwAAlrUTjngY8AAAABIBn5NqQn8AAJbuUh/zkXb4NSAAAAAZQZuYSahBbJlMCG///qeEAAB8E6+6NVwD0wAAABRBn7ZFFSwr/wAAdCveqh9Fn8/CvgAAADYBn9V0Qn8AAJa1iAgM4ALLON9+CqT28kNaNutUo6oO1WbujuZXKeC2PsLS0oGDSMkJzetuRL0AAAAPAZ/XakJ/AACW7fTOPAx5AAAAUEGb3EmoQWyZTAhv//6nhAAAfJ6yFSAO84C/Jnu3Zs8ScggDv1IzZ+60e00HAmzaN0fHm6X4SewMJcrItjji2kzEwS7ITKtGA//TtVjOfkXAAAAAFkGf+kUVLCv/AAEKUbcIMea8J467CpkAAAATAZ4ZdEJ/AAFiRle2gMGTcX4V8AAAAD4BnhtqQn8AAWK4DPTxw4cAI/133imqT28kLKNvxDtj++ndk1n3T7NU9EKOC2PsLS0oGDCMhbKQXyVco2hbQQAAADJBmgBJqEFsmUwIb//+p4QAAAYeC7yA8k+FmlQ5drfxnnhjCbNPxDbbYTxTm9irfGyPmQAAABRBnj5FFSwr/wABDgzPQScePpBDwAAAABEBnl10Qn8AAWJGV7agz6QQ8AAAABEBnl9qQn8AAWK4DPUFXmYE3QAAAEdBmkRJqEFsmUwIb//+p4QAAHwLFaQB3gElCUd9GdzLATIMzMLLe2CQWjigDPTHXZKkc4C6cY9nsnegJdEB5J4szLT+TRatMwAAABZBnmJFFSwr/wABDgzPQSUgURTa+FfBAAAAEwGegXRCfwABYkZXto8W9wZ+FfAAAAARAZ6DakJ/AAFiuAz1BV5mBN0AAAByQZqISahBbJlMCG///qeEAAB8CxEXAI7qgBmk/g32NNVuPgmXnZJvco80jTmvBTaeXZT+ezbPC40hoPdrH7tAxBV9UpME8xvJ2j2iYxj3Jl4POHKeE2338ohfW7YDxdyUf+lAGdDqvgZKrbb+V2zQADHhAAAAGEGepkUVLCv/AAEODM9BJCeOR2V2Svwr4QAAABMBnsV0Qn8AAWJGV7bGAWcc2FTBAAAAEwGex2pCfwABYrgM9PhrA5pyA+4AAABtQZrMSahBbJlMCG///qeEAAB8GGvkgEdu0GsEaoRx3a2nVn5QMLafm51Z8iK4tIduLhkr+O8cR0F+3WMpb8rXp8f9zWCB72AtIu0qHGp8xynMf5v2wW5C0bIx6XXeFXjsJneAKN8fCmGRtUABNwAAADNBnupFFSwr/wABDgzPQSX8V4gBJ3LECVpLbIQCZqv4K+7J9kxznpt53RZmFVgHXg3TmP8AAAAVAZ8JdEJ/AACWtYgg/6EZah3WjqSMAAAAFgGfC2pCfwABXpIt4LIEaHsYBoBi/TcAAAAkQZsQSahBbJlMCG///qeEAAB5MYR6SRZLXmh/F6MWNoZwHiKrAAAAFEGfLkUVLCv/AAEKUbcIMcjKBQL3AAAAEQGfTXRCfwABYkZXtqDPpBDxAAAAEQGfT2pCfwABYrgM9QVeZgTcAAAAz0GbVEmoQWyZTAhv//6nhAABr6WUZmcAR96sicgt4HBdkdAO+6pR0dRvDVUNEoB8vuxkr4YvdP7Ahozb/tHPFZ/loPWAGtf4gqPGxoVVIhEat0UkZ+pU4rq2822qqUR9IUWd029AShoTF5Wqcr48m/tNm5+xUoGMbY/d7DXh1Vk3IcyueRHhaOf8fSXb7gmyw9LRCtRSuxlO4uXMCfEzwAaPe/XWt+nMj26q0G6mrFeNxpdmmqETRnp8T6dlaeb1QJyozgn0KByq0xAwgAA44AAAADhBn3JFFSwr/wABYrCvw1cM1D0Zd9KUKS4su//afoFKQAJAQofhkpyKbaM4NCFgasjlOP/FQAAD5wAAABEBn5F0Qn8AAWJGV7agz6QQ8AAAADQBn5NqQn8AAcULnbr0NmhVBCd7HFClBNWuvlBgJ5WdVaw+zhWhbIMW0P+LYv1LNywAAJOAAAAAFUGbmEmoQWyZTAhv//6nhAAAAwABHwAAABRBn7ZFFSwr/wABDgzPQScePpBDwAAAADcBn9V0Qn8AAWJGV7aNgeoALEV94pqk9vJDe5A+DK0jRRswODM0au2PsLS0oGDdcwVvr0nClC2hAAAAEQGf12pCfwABYrgM9QVeZgTdAAAAFUGb2UmoQWyZTAhP//3xAAADAAAqYAAABB1liIIABD/+94G/MsliJKyXH5530pYWw0IUsAJLVvSe5yPASpaQT3wdNgOKtithtYoOPJEPf+r39bVvfUm+xdrY8I5YC5ki2AAAAwAAAwAEaaZQh6aBlQfD0cI3BR1ZiOh2kmWh2fi0gy5VpBs4NrjFpxmoxiFBIW8cElQAAAUWEPf61JgSwqswH/fTz00tncEAWj5+FAsgOtyO/PIo45io4n8QUgEkV+hDcDVZm9YiVRCqdD3C3jpSSVgng3tKLV2jW6/5DxWPmtsLq8mluWHDBpYuQkpdatOE47KkV9RQ1bpe411zZbGTgkqAJ7S5mWaRF5gd4MIjtvRwHD1Dz+nlqzmI222kTdaTIEVr0i1OCyKwtTrY0tlKe4RTnF0L2Nna1eNARn/h595QNZYM+0BRr8OztqfM2ALIVq7WWjT8eO5CLCic3COn+Wx5bU48yWVP2SJRaZOZJEW3q0kskgi9pT16LVQc+HsCWhnGN4Of5/KOIQESwr1ki1I2PUINp8dxPn2n+giEE3oWu+pD0+avihN3wsoiadXWfPeBuCFk5VFkQnGGPu/5jNr54OOvFsOzR8zS9n3Lr0fWo/6z35FRFMjjbAs9Bwyhyk1CyjqUuyh11Wq7ugB0wN+n0JKVAa5MMag9Xvz3/79vHBTYtZSq0XHDZ1qWBJGZ1+TiFASldaxlijF5lQh35Q7qqoRSqg+ONpu6jLEUscF3QSezHTbJQeG8oybtUD/RAiB1cBH44Ig3NOWoJBp/WqGrcU/Pap/YAFrv6FwCjiuBzVdhgA8S+j2zxRCnJRyq4hfQBAKwYzf3zYxqCRVeaRKLPik3rpg/TrJIbbOkeesRznNGqnbAfcJN4k5+qXlhpDJXpTtEwr82j5VbyMMT/qZymeaLXyJGCLeaNfne6y82UBWNpRLva11YO/bBfaxwZleE/pHAn5KnGS0buDyHf0XjVcU6eC5f9VjPL1prpPGvrvgWYCQxp2/+8h374N4Z06bhy9REsd8Blacgz0DZFMmVGYj7Ru4PId++d30FMuMy/9VjPL1prrvonmmETY3n+qxnl601xG9okcOKhASx3wGVpyDSs/EHgVY0tLRu4PId+/4r3C72NRFthM8vWmu4EJdkIHY2sadv/vId+3mrR9hpVYhQFChIKGA1PBlWjT//XbG+Xzo+9Sxn34mz6DiBis2vSa6p0kHtIypFlIZ60zIbJp5zCPXKzU4OaCbOYqBabMvd9j89YeCQarxYu9OTS44rebpOLd8h/t0Yq/6Ja161fxvA88JRvP/d/sreO+K3UIsAAI6gKDhJes3UUrXwwO37huYhW8WatAVXssI+V4a6LPuthKmogxwHTXzDePAVa3SbAEot63WpqiJeBhEhyuB1QAAQgynTAAADAAADAAADAf8AAAAqQZokbEN//qeEAAB8HQPoBB0Mggsdzwz0h3M3yZ0P38CiQVlmwVSumpy8AAAADkGeQniFfwAAZKOz4DZhAAAADAGeYXRCfwAAAwABLwAAAA4BnmNqQn8AAH8CPQBdwAAAALJBmmhJqEFomUwIb//+p4QAAa+llGZnAEferInILeBwXUspR3NWvPVWdHol8wAyI2FwaevwAl1e2Qyi6uzluHVobMYTwcd8MQLpaQmCmfwCr/gn5hcNP2TmcczUUFYLbV+tdk4INKssLbWuk/Bsh2WYJ9tEA9hucP4teavQGPCO/nwzS2/6ajUeCl7C7UkCWyv4AFUGbXTLaySGg29W/Y/u2qwMX9jiksWaMsJ3pAfpY0H4AAAAN0GehkURLCv/AAFisK/DVwzUPSMEWPjDtOMlwAxAXsQPsgS1kIjA1oxXUJm+lf17s2xw+qAAAfMAAAAOAZ6ldEJ/AAB/JjeAPmAAAAAzAZ6nakJ/AAHFedVTDTnNLPfaK1jIdTyQAJDIAYY9xlNE4v3eOWmQF98w2WwR3FQAAD5hAAAALUGarEmoQWyZTAhv//6nhAAAfAuh9AHySf4J1eUxDvXvLt6ggNL3zGxbeMh+jAAAABVBnspFFSwr/wAAZxyIDTegL9Q9FBEAAAAMAZ7pdEJ/AAADAAEvAAAADwGe62pCfwAAgu2tK4AaEQAAADJBmvBJqEFsmUwIb//+p4QAAHwVIekAjvNJpNcw3lejCrthiJUaTca9sbtBZxvqFICygQAAABVBnw5FFSwr/wABDdfjaXqAve0goIAAAAAMAZ8tdEJ/AAADAAEvAAAAEAGfL2pCfwABYrfmgSHgDqkAAAA+QZs0SahBbJlMCG///qeEAAB78Vw9VIA9QisKY/WAxn838809FX6/HoHmHCmQpaMN+GwPj7xkujk/HzVcA9IAAAAUQZ9SRRUsK/8AAQ4MxZTHzLogMQMAAAAQAZ9xdEJ/AAFiRi6I0eAOqQAAAA4Bn3NqQn8AAWK37wAu4QAAAK9Bm3hJqEFsmUwIb//+p4QAAa+llGZnAEferInILeBrTJRf/0WXrI2iDWEbhwAw1H0vIvYYBNDsf/yGOoR9lgR9mrGSTerzRM8SmjPB//VbgwyrawPInkKHC7+godlKFnmHzvpbbX02fET83m+X+SsN/Y9R9EIItnpPg/s7gHRRW7cGVdTdg1dxEVst5ulMST5FTiXTe21FByvqpMXpFvtd0xqw54+qVQTtRfiCHgixAAAAOEGflkUVLCv/AAFisK/DVwzUPRl30pQpLiy7/9krKcJT7TNuiYtxU3L81UyzTLYfr07DAdkgAA2YAAAADwGftXRCfwABYkYnHPAVcAAAAGYBn7dqQn8AAcULnbr0NmhVBCd7HFClBNL77CAgqrBwr94baEsa7g0o7aIyUafzaPXBTGcIczAC5BZy3BtAxS7refWawJ40qSix2X4IKpcJToJNSpRYJyB1XjzrOgKPSH77iwAAHzEAAAAVQZu8SahBbJlMCG///qeEAAADAAEfAAAAEEGf2kUVLCv/AAAG6sMfBxwAAAAMAZ/5dEJ/AAADAAEvAAAADAGf+2pCfwAAAwABLwAAAINBm+BJqEFsmUwIb//+p4QAAAMDJ+W3AEu/hcPl5Q229NKqThrevg0VOSLynP7lKkG1A5hRehxfqJIXStmqo4joWxBlG1BPl3KjX+uSCMwTvbq/CNHPzt2RVuXfexG+BaLjx5dGdTXyzu7zQd2XsPZUjMiAL4V1d7BH/TMFFNW/mwADjwAAABBBnh5FFSwr/wAABurDHwcdAAAADAGePXRCfwAAAwABLwAAAAwBnj9qQn8AAAMAAS8AAAByQZokSahBbJlMCG///qeEAAB78WyHA0AG1bHlvP6z0MCHfPik8pdUpPb+JjquZO/Da6TuEMbzQJjkhdfJh+ncceD/8Ef8/MetJSvlltJwzpAgeffpzE5St6QbKOJaE9JYUwbs6QxQsss/qYbsG82vw5iwAAAAFUGeQkUVLCv/AAEKVSKWWGL5hUFiBwAAAAwBnmF0Qn8AAAMAAS8AAAAQAZ5jakJ/AAFit+mTeHgDqgAAAGdBmmhJqEFsmUwIb//+p4QAAHwU+PQAkdNDUoCTbHmiVqPO7ENCdgSzGjIYlv8By9rgBrSC5hpYHD3D+fYGx343ANIg9bNMylSoWPgROcj2FRRFNHO6Z33RZTyS06HaSxc9gj2W3bUvAAAAGkGehkUVLCv/AAEODMbb+MeYC6v+ee9iVI+BAAAADgGepXRCfwABYkY0ADjgAAAAEAGep2pCfwABYrfmgSHgDqkAAABGQZqsSahBbJlMCG///qeEAAB8CxWkAfVWhfYXdVHCN2blLSh9x0tb7tIO6PZytj6YKBsBIPdnOSu8CtX56BiG3cLI9xF6YAAAABxBnspFFSwr/wABDgzFlMfMuiLOem+DHxAawMhZAAAAEAGe6XRCfwABYkYuiNHgDqkAAAAOAZ7rakJ/AAFit+8ALuEAAACvQZrwSahBbJlMCG///qeEAAGvpWtmZstH27SIlAhgKFxtIgGar6LuCB2sTfMAMiK9g3GwCYm6MnaZ8JWX+qKruA5E/X9442kED05rD6uBL/di3/UvIhWPIv3toWRKeXg1izn7IzxL6KeyHg9cyQTnd82rpH+xHw81GF83TvRRDtv3k61VtsdjXDFKPs43iWN3Be6IcDjWcPQVv/tcKh79THLSXOJ8ywVis5qBbTcOgQAAADRBnw5FFSwr/wABYmtdoTTaqIUyJbZR41AANgT5ggIJa/XD3EvA2eD0KufIxudxX7LAAArYAAAARQGfLXRCfwABxZq9JVhsb3x5gSjzeRDg55u4AgII0NcQzmEIWirRLs/lf6gyALYf2d37dKEHpocLXoWxVrMo0wEQAACqgAAAADcBny9qQn8AAWK35aYsABbQrDTKIst7Ig0MHwZWCtcyj2Bq/Q5O4eZbe3+Ok+a0jlNftFw4okSNAAAAPEGbNEmoQWyZTAhv//6nhAAAe/FcPVSAPUIrCmP/GTGfzfkWn6n8bblSso2M1dakVAVhp/uVvg9vTtoDQgAAABhBn1JFFSwr/wABDgzG2/jHmA7YX0zgUekAAAAOAZ9xdEJ/AAFiRjQAOOEAAAAQAZ9zakJ/AAFit+aBIeAOqQAAAUJBm3hJqEFsmUwIb//+p4QAAa+llGZnAEferInILeBwXUspR3NWvPVWdHol8wAx99e7CAJ/dD/+Qx1CRP5+P4xWEex7hjbqyv4tQkuk5ImFAWFUgGS9yg1RsOE1e6efKYYS30fT491bhj41XOzsemU1n/i9X/mmuQsqwkPkmOaoGQK5tydSnHL/+f56BxEaTZLBhqVleeoFEMrLH5MKud9tbqirTobsdU6JqbTQm6SJQ6u3/bTz6ihzzTgFiUJ9o0r/DXZNxii0H2JvTSUPPx3z2R0Z5rPZQpRiu72Sg0xSGJrWQdY3XYeII8r6eakDEbJfWAs+081CHA+k/g/TWgd2TkIcrzfuUla9NYyVLk+iMaIRG3lIUy6hojcH7WHNPqBF5kbj5w2QbJ7IsXAaUFZ2KV3QI4j50v6Ahyb/UkAwX6FhAAAAZkGflkUVLCv/AAFia12hNNqohTIltlHjUAA2BHAGLvvWy21q0qky5Ketjm+uYNxgeFScQJJlFj1SvQ1ACyLLcAhAkkwQ97bpDoZy7FYl2Jtaj0NarE59WFTRqNGHc53Pc6LiAABCwAAAAEEBn7V0Qn8AAcTbQQPv7WwRAgMOnLyG2TqTqJUhD37XhZ3seFSs3+fcogoAP0r39aIZPuZyv0MA0CPzp6qlgAAMqAAAABIBn7dqQn8AAWK38GKkHDFu3pEAAABRQZu8SahBbJlMCG///qeEAAGvwNBnt5CmgoGHnp0JbCk+wDm7BVoez1mtp8aAhs/VHWTs9jP1C5MxZGKun9jPwZrA+wY6MGLJtW/LmurAAAUEAAAANEGf2kUVLCv/AAFia12hNNqohTIltlHjUAA2BPmCAglr9cPcS8DZ4PQq58jG53FfssAACtgAAAAyAZ/5dEJ/AAHE20ED7+1sEQIDDpy8htk6kthA2YNC/+jWBj3C9rjcMGwwgxbEnkgAA2cAAAAQAZ/7akJ/AAFit/Bio9sZ8AAAABVBm+BJqEFsmUwIb//+p4QAAAMAAR8AAAASQZ4eRRUsK/8AAQ4MyBi7gbGfAAAAEAGePXRCfwABYkY1r9jbGfAAAAAQAZ4/akJ/AAFit/Bio9sZ8QAAADpBmiRJqEFsmUwIb//+p4QAAHwLFaQB9VaFmbZv9QZK1Hndh/uw/iVOutTKnlNImyd6Eigg/SVO2gNCAAAAFUGeQkUVLCv/AAEODMWSAu6e1W0FBQAAABIBnmF0Qn8AAWJGLojSTws1FBEAAAAQAZ5jakJ/AAFit/Bio9sZ8AAAADlBmmhJqEFsmUwIb//+p4QAAHwLFaQB4iDFNwBG7VQ0P2MQ/QNBTfketoqe+e113SqFdxIK9NVwD0gAAAAVQZ6GRRUsK/8AAQ4MxicuvmXP9ooJAAAAEgGepXRCfwABYkYnAw8yi+UUEAAAABIBnqdqQn8AAWK36ZN4k9FcA48AAAAnQZqsSahBbJlMCG///qeEAAB8GGvkgEk1F4JDcRYP5lLluias2AWUAAAAFUGeykUVLCv/AAEODMbb+MeYC0goIQAAABABnul0Qn8AAWJGNa/Y2xnxAAAAEgGe62pCfwABYrfmgSJPTiaKCQAAAItBmvBJqEFsmUwIb//+p4QAAHwC/k8QBMMxGAMv3849mHLPN4OjH2y9NDpZdZeKn+MvkXu8u2EJm4FTTkmEr/qxcEutNjDmTvu9Qf/jC7/DJI1lZPJ7MCNIomzQ/QqMb3CntG3tPWcrKUFtFcGXmIeWOlijlZVSB92D5w+KSemZEJgHzu1tcJ1RcCyhAAAAJEGfDkUVLCv/AAEODMPm62jWncagAWlFRu3KsDJs8t6FpfVRdwAAABMBny10Qn8AAWJGLojSThidQBxwAAAAFwGfL2pCfwABYrfpk3aEVCsoZTPTSIOBAAAAMEGbM0moQWyZTAhv//6nhAABUfeE9yBUkgFljLZk8Lj/HWHDxFfS012WgzGeJ9Au4AAAABhBn1FFFSwr/wABDZHCRmQWlrtuWcNIg4AAAAAhAZ9yakJ/AACCubw4AVwr7xTVJ7eSyuB0UBf+Gj0+SIOBAAAAFUGbd0moQWyZTAhv//6nhAAAAwABHwAAABBBn5VFFSwr/wAABurDHwcdAAAADgGftHRCfwAACOtRoEXAAAAAOQGftmpCfwAAgrm8OAFcK+8U1Se3kiVcgfBlUq5zJyb2ld5Qtj7C0N179Wc3KtDEPlKyy4J0DZUXcAAAAH1Bm7tJqEFsmUwIb//+p4QAAAMDT/3CwKgq513LM2pff3sXPfIC9TskyJG/VR7tXSAbQGGNv5JF1hbfbtP28ElWLDbMU0CA0QP4+TvvTLD4ZhPTYsUjYP26uwITJwfKiSdQQoO0M6HNmS0Bjm0IyzgSZbY9E3w59oV1YAARsQAAABBBn9lFFSwr/wAABurDHwccAAAADgGf+HRCfwAACOtRoEXAAAAADgGf+mpCfwAACO7feDjhAAAAskGb/0moQWyZTAhv//6nhAABr6VrZmbLR9u0iJQIYChcbSIBmq+i7ggdrE3zADIivYN8vAIIhxOxZKgfXE4VHa+6+IKrr8Ic7IHNvG4fRI6hC5biGGiRrXhDame/vY2+bk3sgKPJnlnWtDQYTXuvhVK9vtkrcvtBdpPJlZO869uk/Bm27wqj20cJ76EwXAQ1OKyUf2HDM9zoQUmtVcYZ+kbRzmc8GKteHs8IMbev4dy9GOAAAAAzQZ4dRRUsK/8AAWJrXaE02qiHTf57krzgEAMoaAxzU9GPzr0arfRoGj5ui6nGXuywAAK3AAAAMgGePHRCfwABxNtBA+/tbBGN/9XlDb/x4AmHqBakKCMAiPyAU9GEvDBsMIMWxJ5IAANnAAAAMgGePmpCfwAAgrm8OAFnFXOhhERG8kSrkD4MqlXOZOTXGSO2PsLQ3Xv1cDXzgsprN0LaAAAAPUGaI0moQWyZTAhv//6nhAAAe/FcPVSAPl3+hcsu+gS/PBg1dKr5/LZ8DE2rT7OuGrmQz5gZE8sX81XAPSEAAAAaQZ5BRRUsK/8AAGcgK3QAhqAtlLwaheZLnTAAAAAPAZ5gdEJ/AAFi01J4UByxAAAADwGeYmpCfwABYmZTpPAVcQAAABpBmmdJqEFsmUwIb//+p4QAAHwX/fSx+wCygAAAABFBnoVFFSwr/wAAZx0MvtgFfAAAADQBnqR0Qn8AAILy2ygAsRX3imqT28kPLPeB4QdiblymUfyflsfYWhuvfYnkCjzhwKWFYSJHAAAADwGepmpCfwAAgsRiFYBXwAAAABVBmqtJqEFsmUwIb//+p4QAAAMAAR8AAAAPQZ7JRRUsK/8AAAMAAOmAAAAADAGe6HRCfwAAAwABLwAAAAwBnupqQn8AAAMAAS8AAAClQZrvSahBbJlMCG///qeEAAGvpWtmZstH27SIlAhgKFxtIgGar6LuCB2sTfMAMiK9g3GwBxwS7HJT/C8rL/VFV3Ab7MVoS9IV2D6MWlCQV/CFIgHK4qovi6sDx7LEktFOwQEuk+lwmgb7GcIGCQ1YLT4rui+ALOS+vpMOkOw6nMtcCdBwcsVDonwAG1kIHxP/ivXYiHlrZLw9MkupVBBv+Pre9ZWxAAAAM0GfDUUVLCv/AAFia12hNNqoh03+e5K84BADKGgMc1LRJIyFur0nQRHDWAbnMX1QAAD5gQAAADEBnyx0Qn8AAcWavSVYbG9+btjt/Pf3ngB9VYFqSoDlSvFl+eMV38OD3GpSTtiAAAuIAAAADAGfLmpCfwAAAwABLwAAAB9BmzNJqEFsmUwIb//+p4QAAHwLofQBZDH255nI0AgZAAAAEEGfUUUVLCv/AAEN1+fAKCAAAAAMAZ9wdEJ/AAADAAEvAAAADAGfcmpCfwAAAwABLwAAANlBm3dJqEFsmUwIb//+p4QAAa+la2Zmy0fbtIiUCGAoXG0iAZqvou4IHaxN8wAyI1mYEvfuANuv8iqko2e1AmKQwV+Jl79RxHUCrUQ+g4CR4KKlUqDpY+XrdSVVmhBLFnWzBYM/vZ+WTmyWqxpcR/uaFie7xNSWypNTxIqMFy8zF92e+cTQHUUykQ9F1VqsMpPHZQ8jlWOoEOnfNlyksxO20vJtpS3MaYAvg2X+97yjVkZvUw60sbxVmT7zKx7t3Rz6Fo5TVlulD6mXl71PDk47qmWC+FTEO8Z9AAAAfkGflUUVLCv/AAFia12hNNqohTIltlHjUAA2BvgA7HeoHb9HNQY+dClzB4YAuYpZizxW0ktRD6S12vm/qsEygVKuAXSd/vGD3EviDeShfxKUO5MQ/0fYnFwXHzQVf4LtUIajUItDl9dEmoDWC1EiIsYoIbmaBQ5pfJlgjqANmQAAADIBn7R0Qn8AAcWavSVYbG98eYEo83kQ4OedgACmC0foWsz4gGuLqi+RIA103++IGRAMGAAAAA4Bn7ZqQn8AAWK37wAu4AAAADVBm7tJqEFsmUwIb//+p4QAAHwLlyQBbsQKUOLp/vGdXsDPSqkMehyOk8GerIWQRzf/JfMK2QAAABJBn9lFFSwr/wABDgzFlMe0A0IAAAAQAZ/4dEJ/AAFiRicDDtANCAAAAA4Bn/pqQn8AAWK37wAu4QAAADRBm/9JqEFsmUwIb//+p4QAAHwLYNABvV8o2y2ZLdPJIWxiilNKz22qBMUbtFGVpvTtoDQgAAAAE0GeHUUVLCv/AAEODMbb+MOAi4EAAAAOAZ48dEJ/AAFiRjQAOOEAAAAQAZ4+akJ/AAFit+aBIeAOqAAAAHtBmiNJqEFsmUwIb//+p4QAAHwC/k8QAqD6713SW2e7gjMx2dHvPOj3j4P4KJHkhLma9ueoRnRU8/hkkpL2fusCND9kWKPUyhSgenhYpEuxzGfNeRDzKxYxGy0vZOoqo+GBcrJE/dIpR4f13iISMW5eleP/+YN900/ZhH0AAAAVQZ5BRRUsK/8AAQ4MxZTFgHACa8SMAAAAEwGeYHRCfwABYkYuiMonOcv+hbUAAAAUAZ5iakJ/AAFit+vccN/6wT5R4kcAAAA4QZpnSahBbJlMCG///qeEAAB8GGvkgDSAxZqRsh/APpuwLhMEd6KYgbEkf4VkDOsMd8gLlsXAsoAAAAAgQZ6FRRUsK/8AAQ4MxDg7I0ANw+ChZWJiUHYyjjzQtoAAAAAUAZ6kdEJ/AAFeki3YyzsICiyFcd0AAAAVAZ6makJ/AAFeki4ANF6lnr0HpeJGAAAAIUGaq0moQWyZTAhv//6nhAAAfFlsK4AptRK+QCC/P2AWUQAAABNBnslFFSwr/wABClG19VIxXARcAAAADgGe6HRCfwABYkY0ADjhAAAAEAGe6mpCfwABYrfmgSHgDqkAAAC7QZrvSahBbJlMCG///qeEAAGvpZRnScG46BcxyAk4kq1vkuVwSsRob3vF8m+XBGlg6Ap2KiAG2E9fL3WI39HxviP8hnFRcTcMW9GBkfO9VwzJnAyfcjfE8icXY8XPT2csQM716nHZZzqhodau3YN4gab74qXSN7S80Droc4dMAxjcVnXka89d9tHc8IX9fTRcVXqWYf4tZ18GMl7SPWVHmTMYrcX8Zgo92okQ4uXfNZapwpuPCC2+xTwPmQAAADVBnw1FFSwr/wABYmtdoTTaqIUyJbZR41AANgb4AOx3qB2/RzUGPnRO2ESC0am6+FMsD7AHTQAAAHQBnyx0Qn8AAcWavSVYbG98eYEo83kQ4OedgACmC0foWsz4gGuLtMRZ5gDcAz1dusAnSfAaJ0PlrXzdlklh4WhbXVEbYKRW0UhXSSy1wwtKcLfZOsZ+UlsXbrRC/igAAAMACfSxFn7dVy4AAAMBUkRCAACXgAAAABABny5qQn8AAWK38Ihz2xdwAAAANUGbM0moQWyZTAhv//6nhAAAfAsVpAFu00xRMd7yy8ZUcRxP7RmfhbI7KXevVNWg1cHIjyNhAAAAIEGfUUUVLCv/AAEODMXCcgA49pzIdgl1Xs8ae8s0culTAAAAEwGfcHRCfwABXpIt2MtIF7rRh1QAAAAQAZ9yakJ/AAFeki30YuAq4QAAADFBm3dJqEFsmUwIb//+p4QAAHyes0LwBr34Af5CROKlI9Zmvh+h8VSrBwTVZsLnbQGhAAAAFkGflUUVLCv/AAEKUbX1UjG0/EFgxoEAAAAOAZ+0dEJ/AAFiRjQAOOAAAAAQAZ+2akJ/AAFit+aBIeAOqAAAAGpBm7tJqEFsmUwIb//+p4QAAHwSTHwAXd0e886PeZ7t/sQvYX/A2BTu4Kvy0FPP4a93k9S6+Kh8EXyOHs0CZMIYVy7nN7aVLe/4eOnfYHJGucb+xy6SWDflJ5owsCoXHX/wWcsCKQCY5QalAAAAGEGf2UUVLCv/AAEODMaCi7RpVpipRT3iXgAAABABn/h0Qn8AAWJGLojR4A6oAAAAFAGf+mpCfwABYrfpk3aEVCsh6FtBAAAAFUGb/0moQWyZTAhv//6nhAAAAwABHwAAABhBnh1FFSwr/wABDgzGgouvgHC96dJK+P8AAAATAZ48dEJ/AAFiRicDBfpf6hvEjQAAABQBnj5qQn8AAWK36ZN2hFQrIehbQAAAAFxBmiNJqEFsmUwIb//+p4QAAHwVD1IA8SYHBfcxPNDDnPThPjriM1BfB/F8ovwNiwyVAgdj5n0zGLImnCcr/Lg0Y7Md7c6z5EVxqLWSMbd44joJ5pb3/fylYLx6wQAAABhBnkFFFSwr/wABDgzGgoun3G6oJv0cG1AAAAATAZ5gdEJ/AAFiRi6Iyic5y/6FtQAAABABnmJqQn8AAWK35oEh4A6pAAAAdEGaZ0moQWyZTAhv//6nhAAAfAuXJAHvH4dhtVRkHlT0dANwW1t+K2Y/E4Da3ds+DVPOh7kmqQIYjHuFt8mBar9E3xZcliWzLc5W7o1yPIOvInoqSlToRH7gqsE9CUVJ9/klsiYKUpo0ybyNQJ3ykoum4ArYAAAAFEGehUUVLCv/AAEODMzBEPsNF2HzAAAAEAGepHRCfwABYkZMiiK4H+EAAAAOAZ6makJ/AAFit+8ALuAAAABDQZqrSahBbJlMCG///qeEAAB8C2DQAmGl/6DXNqwUGYQ5L0FrkhCtcYoEw3nrFJ3w/uqHa/783OEsqPqdtFs1dO6ntQAAABVBnslFFSwr/wABDgzMwoB9houw+YAAAAAOAZ7odEJ/AAFiRjQAOOEAAAAQAZ7qakJ/AAFit+mTeHgDqwAAAMdBmu9JqEFsmUwIb//+p4QAAa+llGZnAEferInILeBwXUspR3NWvPVWdHol8wAx0vteEATDEUwOvBaPlJgIuh/+fyvyCafnO1NKHhWp5H+rJfHECZgfEB631gpmFAoTHOdLXPxvrIOGXzLQVIRors5+9N3IIQBZ5lJcTEjkreDp5I8kyIwnAqODR6pYqYgxaf05aZwN9YfhXLeoMyfYRq2rSfTePZMpkQeX+xsVQJmg3MDS58m+w8leV67ghh8+Ad3whGWAADuhAAAANkGfDUUVLCv/AAFia12hNNqohTIltlHjUAA2B+9hwF+CKhEcM1LnPclh4Fi6zYdtIu/VAAAPmQAAADgBnyx0Qn8AAcTbQQPv7WwRAgMOnLyG2TqUE4CTeviZbQaWfbSJUBTdZUi1Pw2alWfVKMylUAABmQAAAA4Bny5qQn8AAWK37wAu4AAAADxBmzNJqEFsmUwIb//+p4QAAHwU+PQAmGl/vFp6EVaZ3d74X+KR5Qn7aSJiy3wdUsWwDOZ3PmSgLs2AWUEAAAAVQZ9RRRUsK/8AAQ4MxZTH9EC0gO6AAAAAEAGfcHRCfwABYkYuiNHgDqgAAAAOAZ9yakJ/AAFit+8ALuEAAAAVQZt3SahBbJlMCG///qeEAAADAAEfAAAAEkGflUUVLCv/AAEODMioXQNhNwAAAA4Bn7R0Qn8AAWJGNAA44AAAAA4Bn7ZqQn8AAWK37wAu4AAAADxBm7tJqEFsmUwIb//+p4QAAHwLFaQB9VaM8Vb8Kw+PcZLgxsVwDRIh+B6Y53NQKgSMkNIUFtLOuLVcA9MAAAAVQZ/ZRRUsK/8AAQ4Mxtv4zp72kB3QAAAADgGf+HRCfwABYkY0ADjgAAAAEAGf+mpCfwABYrfmgSHgDqkAAAAVQZv/SahBbJlMCG///qeEAAADAAEfAAAAEkGeHUUVLCv/AAEODMioXQNhNwAAADUBnjx0Qn8AAWJGLcBnABYivvFNUnt5IdAOfwZWCtcynxUy8oWx9harMwH+tLOccOKTf1cd0QAAAA4Bnj5qQn8AAWK37wAu4AAAAChBmiNJqEFsmUwIb//+p4QAAHwLlyQB9Swg0ukT029O1JO0tgcdtAaFAAAAFEGeQUUVLCv/AAEODMbdoSGwgK2AAAAADgGeYHRCfwABYkY0ADjhAAAADwGeYmpCfwABYrfpnHgKuQAAADdBmmdJqEFsmUwIb//+p4QAAHwLYNACQJvWcMYsMJTv6sSXYfBbNV7D5d9OVHr/zeXAEtlO2gNCAAAAFUGehUUVLCv/AAEODMbb+M6e9pAd0AAAAA4BnqR0Qn8AAWJGNAA44QAAABABnqZqQn8AAWK35oEh4A6oAAAALkGaq0moQWyZTAhv//6nhAABUAUKjPLSAPqV74zjP029SUiFxZNvVIiJX5kYB80AAAAUQZ7JRRUsK/8AAQ2RwkZ3ogWkB3QAAAAQAZ7odEJ/AAFiRi6I0eAOqQAAAAwBnupqQn8AAAMAAS8AAAAaQZrvSahBbJlMCG///qeEAAADAVHmWgHiO6EAAAAQQZ8NRRUsK/8AABJgzHwK2QAAAAwBnyx0Qn8AAAMAAS8AAAAMAZ8uakJ/AAADAAEvAAAAFUGbM0moQWyZTAhv//6nhAAAAwABHwAAABBBn1FFFSwr/wAAEmDMfArYAAAADAGfcHRCfwAAAwABLwAAAAwBn3JqQn8AAAMAAS8AAACnQZt3SahBbJlMCG///qeEAAGvpWtmZstH27SIlAhgKNp1cUfD0GUYh5EUi8suhFlWFXF4ADmcCSfFySOUm1kjXhc8Ytv6V3/iMPOvkw6cGjNwOrsxQsEvzO6klXhd6gr9Ik5UmcvOiJtTJYK8T890ls9XNIcPQlPPppvMW1hZWm673C1Kq17+0Dz0R8x3d4d/6qxsTMDhBNJoeuMcH1SqCdZcJN2sB3cAAAA0QZ+VRRUsK/8AAWJrXaE02qiHTf57krzgEAMoaAyAWRat7arCO6BSZAepKXEFvnn6oAAB8wAAADEBn7R0Qn8AAcWavSVYbG9+btjt/Pf3ngB9VYFqSoDlSvFl+eMV38OD3GpSTtiAAAuIAAAADAGftmpCfwAAAwABLwAAADpBm7tJqEFsmUwIb//+p4QAAHwLFaQB9VaS/l7GHAb2zxif0AHAZaZCSdB2QJiTrDAo6R8ZPS4/YBZRAAAAFEGf2UUVLCv/AABnB78WUUti2DGgAAAAMgGf+HRCfwAAgq8eHACzvRb78FUnt5KaLkAMUyHFoma+6G5d24LY+wtVkTjC9mdRXHdAAAAADAGf+mpCfwAAAwABLwAAADJBm/9JqEFsmUwIb//+p4QAAHwLlyQBZnROyU3DGQ4Bls2Q6O7+cW9+Xzn0/vhkfsAsoAAAABVBnh1FFSwr/wABDdfjawr9EC0gO6EAAAAMAZ48dEJ/AAADAAEvAAAADgGePmpCfwAAfwI9AF3AAAAAL0GaI0moQWyZTAhv//6nhAAAfBUPUgCvpnwrMdLkTxJZKpblw+wyvqWVhnTtoDQhAAAAE0GeQUUVLCv/AABnB/w9giSNB3QAAAAPAZ5gdEJ/AACC+z2ZADqhAAAADAGeYmpCfwAAAwABLwAAACRBmmdJqEFsmUwIb//+p4QAAHwLYNABt2RYWQk+SV+mkUpgGLAAAAAQQZ6FRRUsK/8AABJgzHwK2AAAAA4BnqR0Qn8AAILXrMAekQAAAAwBnqZqQn8AAAMAAS8AAAAyQZqrSahBbJlMCG///qeEAAB8GGvkgDTF41BUA7kSoohKqlVvoOle4gHNGxzpM7aA0IEAAAAUQZ7JRRUsK/8AAGcdDL9FLpGg7oAAAAAMAZ7odEJ/AAADAAEvAAAADwGe6mpCfwAAgsRiFYBXwQAAAEdBmu1JqEFsmUwUTDf//qeEAAB79UmbDwkAadcJ3Dy5fphr9NK93AsdF8XB4hLeHR/RVi6jJ0zx9FVuXgUwJY+dQFX4fsAsoQAAAA8BnwxqQn8AAILtrSuAGhEAAAApQZsRSeEKUmUwIb/+p4QAAHyes0LwCTubxpicE8u0Mb0fhU33fuzYBZQAAAAUQZ8vRTRMK/8AAQpRtfVokff8ArYAAAA3AZ9OdEJ/AAFiRi3AZwAWIr7xTVJ7eSIVnvA8KWBFDZO+xlTLyhbH2FqszAf6wvMGLERbfpoW0QAAAA8Bn1BqQn8AAWK35pjwFXAAAAAaQZtVSahBaJlMCG///qeEAAAGlhegq8x0w6YAAAASQZ9zRREsK/8AAQ4MyKhdA2E3AAAADgGfknRCfwABYkY0ADjhAAAADgGflGpCfwABYrfvAC7hAAAAPUGbmUmoQWyZTAhv//6nhAAAfAsVpAFusB5R/9QRcWPThUgR5oFik+U0ib2DON122N2P968E8FKfTR8CZJwAAAAWQZ+3RRUsK/8AAQ4MzL1rvxrMShotoAAAAC4Bn9Z0Qn8AAWJGJkRnABbXot9+CqT28kUbkD4KFkRnBmFsfYWq5ABiY37pSJGBAAAAEAGf2GpCfwABYrgDCj2wHHAAAANTZYiEABD//veBvzLJYiSslx+ed9KWFsNCFLACS1b0nucjwEqWkE98HTYDirYrYbWKDjyRD3/q9/W1bo21ZFcC2PCOWAuZItgAAAMAAAMABGmmUIqmgZUHw9HCNwUdWYjodpJlodn4tIMuVaQbODa4xacZqMYhQSFvHBJUAAAFFhD3+tSYEsKrMB/3089NLZ3BAFo8cTvZnFvv2lXcaVY3Ded3KN4U12IYYsK2z8VMF9pYpqVbiugywfqzXewnd/XpsC5FlOtM9RvbNEXr8wb+zKJ8+vyJSJ3Y82COVX75urXDcxp7j16bBKZjO+ZhzwxYwXr8wb+BMe9vGV9rNiE7sebBR2qrdfuxCd2PNgiuiwJvZ9l3YhO7HmwR14gi8LPgzYhO7HmwMKpwKhUWE2ITux5sFEnQRyWMF6/MG/nxZxRLKrWbEJ3Y82CJnprCw18WMF6/MG/gqVnTQGy5SetPLAkoc6w9lZLMkhr0Nf1rP/eBTnirrFBBCabaUgdltPQ6JUF7hM8rkMxGxVRhi3Nrqr4wo2pon3E/fSTLteq1hdVCNmyfAYujI9Aie8kWqS4tH4sbZe7+06mEu/kpHz1FNr7fvXKr43x0KmoVcGgkloXZc7/SYSX2OSgL9Yw0mf3LMyMbJkuVKDw9+uWzZo5/uZgZBe3tBoSI5z4LxGyZbgWGlWATJgXE5vhLLMONNsYwp4u8PoNLadwuh9Nn6mehkzdh+3xKakgjAKhGn0mI2yayIl8qzG9XpcScisNLrf1b2vquVpmeDFEJTSrT/cxmyIDLgsdwjdtW/OPpKv/+gAOeVTTvLghbmFM0xmm7wFuZ0//pphMgIokUrcqBZT1tL3dXA5MDeniYrpI8g8Ejko/2jAMClbgLRMFb6wHzV8G5nu2WmkhxxlZSIWUKZqW4F2A6+KB+rpk0t4XhaFA4ErjZm6S49fFzmWD/OeCrG58b2lWgUFFtnVnawaP1BlSR+kpyc/UYsihPnN3IkjD3H0yY0SPLnvW7WmATxDBNEyExBVPEfjfE8AAjmTp4coIkTVZYcKxWcYOCuzQ2eylVbch+0Uic1L8Jp+Wy78WaXEuwM0xpX5Kc+m9wVMEWdVwA3RzKD/AAK1GCdoAAAAMAAAMAB6wAAAAtQZokbEN//qeEAAB8HO5IAt1gNNXvKzi2c6mD2+b/BuZBb9jz4oPPr+argHpBAAAAD0GeQniE/wAAgsRiFYBXwAAAAA8BnmF0Qn8AAIL7PZkAOqEAAAAMAZ5jakJ/AAADAAEvAAAAOkGaaEmoQWiZTAhv//6nhAAAfAtg0AJgxdt+CvT93dibjXtlccRkEPFZLZPnsNdhqeIJ7Gvw+9mwCygAAAARQZ6GRREsK/8AAGcH/DuAGhEAAAAPAZ6ldEJ/AACCtJ5rgBoQAAAADAGep2pCfwAAAwABLwAAAEFBmqxJqEFsmUwIb//+p4QAAHwYcb0AJhYDStiKYm9nLd/XvoAz84AoxROShV43L/HxG1e699gCuEugsYKgIYArYQAAABNBnspFFSwr/wABClUillhiuAi4AAAADAGe6XRCfwAAAwABLwAAABABnutqQn8AAWK35oEh4A6pAAAAS0Ga8EmoQWyZTAhv//6nhAAACKlb/Crbg6eFms0nJqabXbDDOFMuMyKx+g139R073HpOtbxZ1tV/gVEbwUY1/b/EcVOl/T4xxqw34AAAABBBnw5FFSwr/wABDgzHwAu5AAAADgGfLXRCfwABYkY0ADjgAAAADgGfL2pCfwABYrfvAC7hAAAAz0GbNEmoQWyZTAhv//6nhAABr6WUZmcAR96sicgt4HBdSylHc1a89VZ0eiXzADHS9xUQA3FKlNQ0OCyrz+GWXv7XdaW/Zq+Bj/5jebsr0eVsvBEGi6Nwef2koJ3cCYLIT36lBDoemwxYIwR4HSJxpSxAfRVD+gJvYleeu7HxForbROppYMa1bbj/lT1u9nRXGPrY9ymQfGGhekfY1MWHfd0lGpPu47cR/ANsncPQFMc+EFJ2z0Vcvt/fRurH4XTOht8J0mz/hWUzb8dUAACpgQAAAEtBn1JFFSwr/wABYrCvw1cM1D0Zd9KUKS4su//ZP1h8NbACCvea059YhzoaC22lsLbsuYyCXAxGg8qfyZ2FnTNBiTF5CfZMmxAAAXEAAAAPAZ9xdEJ/AACCtJ5rgBoRAAAAOwGfc2pCfwABxXnVUw05zSzH5mukwdf8ioTFlGzBgIQf1Bmu3/CfkJo8VwWdhZ2wztqFx0ZBU2LAAAfMAAAAgUGbeEmoQWyZTAhv//6nhAAAo3C+kr/eiZoHVZS07GNolVE6xMezLf2F2It1QmfPibQlRIRdfTnQf5izQcZRkRqdPJOAPoGjHRmvfGuwoFWY8C1r2jWb6CKmeri/9xAtUdJW4yHYz4aXFh9UTL6BdzKcnv+WZACK8m3NuqfU1gC2gAAAABNBn5ZFFSwr/wABClUjuEI6gE7BAAAADgGftXRCfwABYkY0ADjgAAAAEAGft2pCfwABYrgDAizAMWAAAADkQZu8SahBbJlMCG///qeEAAGxJIW23b4BAHDmVKV6auJjF8wV8ydAjdU5yJDq27R1mr0iLwB9RYqRKInLhUiiwMNbISOi2J4sAu/JHP7sPPtC7suezZ/+ptkldHc4AwXtVvH6W8g/8wtebKPC/gJv813Bdn5xAwVtDkYz3oxgjd8QY2+UMJG9H7TaSDSyLzu3BU7PHUz43ac09UmD6rbcstQkPRVkEC0gxZsA4xPTmFvP/7Dz/upIIuV6nArD8kZjYsYNIYhiGIIPzSHX5bcwLtRiKrA0tKqbIpjeIFxBMWyP0Iy9AAAAQUGf2kUVLCv/AAFisK/DVwzUPRl30pQpLiy7/9lAGraAxPAjZxjhNNdpE9VD1A9OlW3sMn3a7i53j53DKHhAAA3pAAAAEAGf+XRCfwABYkYuiNHgDqkAAAA5AZ/7akJ/AAHFedVTDTnNLNA/nCL1p0fVrA9yAk1BOjw3eDrtBEHiT4LZ/CseM7pHJwg5UrqgAAMyAAAAI0Gb4EmoQWyZTAhv//6nhAAAfJ6fYGpCmt0tWQ+YzIXNTkHAAAAAGEGeHkUVLCv/AAEODMWTEtA3qLGwoeIHHQAAABABnj10Qn8AAWJGJwMO0A0IAAAADgGeP2pCfwABYrfvAC7gAAAAFUGaJEmoQWyZTAhv//6nhAAAAwABHwAAABVBnkJFFSwr/wABDgzMQEn11gCA9IAAAAAOAZ5hdEJ/AAFiRjQAOOEAAAAOAZ5jakJ/AAFit+8ALuEAAAAVQZpoSahBbJlMCG///qeEAAADAAEfAAAAFUGehkUVLCv/AAEODMxASfXWAID0gQAAAA4BnqV0Qn8AAWJGNAA44AAAAA4BnqdqQn8AAWK37wAu4QAAADpBmqxJqEFsmUwIb//+p4QAAHwLFaQBbSroAhaihUbM3LhZsYCHLnGg1xGWglDyNo1uSNUsvtKzYBZRAAAAQUGeykUVLCv/AAEODMbLf2ABYciL/wNyOj7gNCH4NPORt/wKiT25en7ot2sEPIqFetZMCEQS+nBwV8xY1B0P+wFtAAAAFgGe6XRCfwABXpWggXbR8yZuAC8VVUAAAAAVAZ7rakJ/AAFelaDU+3RhxmyDLcM/AAAAYkGa8EmoQWyZTAhv//6nhAAAfALqvgCp4QtHedHuA84d/DSoqZIm2pwx1DItHzeAZZuqdubHJNSD0diYpuAWqn33hh0hrr789M/bzzD0uojx9v3J8LGco8iwP9fPif1U9BWwAAAAG0GfDkUVLCv/AAEKVSKWWHeis2xCazka6qI5YQAAABQBny10Qn8AAWJGKyGK5yRVkK8SMAAAABQBny9qQn8AAWK36ZN2hFQrIehbQQAAAEBBmzRJqEFsmUwIb//+p4QAAVH3hPRwBpAFtGGXzGuLsvOCF+yJwepMFFs8ATt8ryOGu9ZQA2aAACnSE70bXEDBAAAAGUGfUkUVLCv/AAEODMWUz0UZdPBC/ZFkBbUAAAAdAZ9xdEJ/AAFiRiA14/buRMAB+kjFYZGAAZr0LaEAAAAOAZ9zakJ/AAFit+8ALuAAAAA4QZt4SahBbJlMCG///qeEAAB8C2DQAb6sSOMGyb5Su4XULBumRBOL8sOft7buMjcSdr5MvVcA9IAAAAAXQZ+WRRUsK/8AAQ4Mxtv6EgcvVWnAU0EAAAAOAZ+1dEJ/AAFiRjQAOOAAAAAQAZ+3akJ/AAFit+mTeHgDqgAAAB5Bm7xJqEFsmUwIb//+p4QAAHwVJkQAGoCDBvquAekAAAAWQZ/aRRUsK/8AAQ4MzMKE++wslJQFbQAAAA4Bn/l0Qn8AAWJGNAA44QAAABABn/tqQn8AAWK4AwIswDFgAAAAZUGb4EmoQWyZTAhv//6nhAAAfBT49ABs3TxqOAZQYIfd87cHyimFtd22QmAC9scmzDjl91egLuRzC/bkroGTvzJueKj1LTco69/8wS4CdpPxhRJniBlT7XqbV+cpiJs7dN24ACVgAAAAF0GeHkUVLCv/AAEODMWVX7oGsjwpODFhAAAADgGePXRCfwABYkY0ADjgAAAADgGeP2pCfwABYrfvAC7gAAAAZkGaIkmoQWyZTBRMN//+p4QAAHwLFaQBbHLzPbK765g/fM1Vvq4mioOmIwdAMKcewTV/M+qKVG0oOKthkQzOBvF2DNhLbufQsk8k27VKSbK5O0ZWw0ObdqUDOwaETPl7WxF+YgAIuQAAABQBnkFqQn8AAWLzeuYyarQd7OEDjgAAAMFBmkZJ4QpSZTAhv/6nhAABsSSFtt2+AQBw5lSlej/nH6OBV3STOHJyCmgjkk7SNsQ7rntzw4AN9amvWP+U5WdqMC2HdGbNFvJmvm8RhKHD9r995W+FZnixOInFgXdZeqGgJtvk/o/0z4DRNDuMO9t/DPCdk43Pcp+ejEVVRjTe1jM1l29CEKrbqJTquH7+YqVxe1d7ufA3m62rgBds35V8s5amvrWtvmL0KN6uL9oVEqDeJSzwzZjr1MsDaISfeaFvAAAAb0GeZEU0TCv/AAFia12hNNqohRa8dlHjUAA2Bvoq7/6YVaxJWlcsFVEJlNAA98wBcxSzFn0i6y7glyy3sk+iu2DR4xu5odKH1KQkKH1p5iwA2VUzk6BB+92JpnohEeHJxDUvGb1NLyFaLwgrSgBlQQAAAFsBnoN0Qn8AAcWavSVYbG98eYEo83kQ4OedxmYIALaFYaZRFlvT9slyjS6TqoxP5munBRtGh//vDLxdR0i2THVThZ8hj3FOozp1zURVtRJWMDIEboYxg8sDaAPCAAAADgGehWpCfwABYrfvAC7hAAAAN0GaikmoQWiZTAhv//6nhAAAfAsVpAFu002ufPpBnQxuAKwfcyueh7TPrag7BHq2muR+qiNQJmAAAAAdQZ6oRREsK/8AAQ4Mw8KKmoOQ8kjFoDFhlXfoB/kAAAAQAZ7HdEJ/AAFiRicDDtANCQAAAA4BnslqQn8AAWK37wAu4AAAAEBBms5JqEFsmUwIb//+p4QAAHwYaseAPUIyYi2Q63TLQzQD//+gF6wo0199x0VXDYX6HgfS/Pn2IIYp/e9O2gNCAAAAHUGe7EUVLCv/AAEODMbb+hIHMXcY22fl7wPkAKSBAAAADgGfC3RCfwABYkY0ADjgAAAAEAGfDWpCfwABYrfmgSHgDqkAAAAvQZsRSahBbJlMCG///qeEAAFR94T0cNjwB7fPEDQntYganft2MZBTVNEnvK1siVgAAAAbQZ8vRRUsK/8AAQ4Mxt8Hy5PoiizpJsVDvgFtAAAAQAGfUGpCfwABYrflpiwAFtCsNMoiy3p8qB8t0AJNNpyL1jjef94ZeLqOkWyRQKBPrxbHKb4HdW8EN10ynnGuO6EAAADDQZtVSahBbJlMCG///qeEAAGvpZRmZwBH3qyJyC3gcF1LKUdzVrz1VnR6JfMAMiK+F3y8AeBAm0HWd/EG3jgaM689fhDnZA6EurkQp90UiMs0NsHHjkmReIDNr6rCopDvPUhpI8QuSO/YxoCbtWhig3yaNPyTh9CQX49gSWwyxSTUvoUYTViJ2ZR+ddWQ/XcmM/Q8ufvaWCTACoq9ccdgybo3MhpBNZjv4raUGEh+b/9CLX4tyLLo2zm7UywXwfWRmCchAAAANEGfc0UVLCv/AAFia12hNNqohTIltlHjUAA2BzPAaZ3ZQjnDuCVG82BzK/TfL1GqZYIMAWUAAAAzAZ+SdEJ/AAHE20ED7+1sEQIDDpy8htk6lBOAk6kGcuSrEZBHMWzDPhp2nCFdfECigG9AAAAADgGflGpCfwABYrfvAC7gAAAAOEGbmUmoQWyZTAhv//6nhAAAfAsVpAH1Gt/1wndqtLfEymJeZSHQiiPObbLwZVzR90baaJx+wCyhAAAAGEGft0UVLCv/AAEODMWUyCulcEEwqqHEXAAAABABn9Z0Qn8AAWJGJwMO0A0IAAAADgGf2GpCfwABYrfvAC7hAAAAFkGb20moQWyZTBRMN//+p4QAAAMAAR8AAAA1AZ/6akJ/AAFi83qXqgAI5jDTKIst7Ig0MHwZWCtcyj14VnN7bb5lt7AjfAbPktKA1hsJcd0AAADBQZv/SeEKUmUwIb/+p4QAAa+llGZnAEferInILeBwXUspR3NWvPVWdHol8wAx0vteEATC5+bNWwYqME/f/8/rYEE3vKycMqPJvNEyecpBSy/UkA1NY2Var49HNIwjAnoIZWDT2UcxAfR10WGy3turbw8z4b0BJG2XLjHRFrQfJcLip6vRoie9U/4k+Ouk0PKHpoje5zktBWzywNsfwxQvAJVCcGesiY4mDrf5NJ6GJ7v4Y6KXlappF5KA2qzSwAAVMAAAAEhBnh1FNEwr/wABYmtdoTTaqIUWvHZR41AANgcOZfjIAade8CIxSg49AcjPkymi72dutP8WDoxC1mtrN8kLQABpQBjvFQAAD5gAAABWAZ48dEJ/AAHE20ED7+1sEQK9O9zP6sqvwq5j8EwLWA00YyaLSJUBTWqd1JDpqhAKR5jClXcwewSh0NPx/AGX7HxdXWO+c8rt8oAEDcEL7qF4qZYABx0AAAAQAZ4+akJ/AAFiuAMKPbAccAAAACNBmiNJqEFomUwIb//+p4QAAHwLlyQB9SzMLn5GKsEm2IAoIAAAABVBnkFFESwr/wABDgzJb7p9dYAgpIEAAAAOAZ5gdEJ/AAFiRjQAOOAAAAAOAZ5iakJ/AAFit+8ALuEAAAAVQZpnSahBbJlMCG///qeEAAADAAEfAAAAFUGehUUVLCv/AAEODMlvun11gCCkgAAAAA4BnqR0Qn8AAWJGNAA44QAAAA4BnqZqQn8AAWK37wAu4AAAAEBBmqtJqEFsmUwIb//+p4QAAHwLYNACYaZtvwVySM3MZSjT8+5Sb6f5TNLeUJyFTvj396c6GtHx1ao39az9gFlBAAAAGEGeyUUVLCv/AAEODMy2t0gNiKkrYGwLaQAAABABnuh0Qn8AAWJGJwMO0A0IAAAADgGe6mpCfwABYrfvAC7gAAAAMEGa70moQWyZTAhv//6nhAAAfBT49ACRZnGUH4CeICCtZ3xnoGXF/2E6EvBGdtAaEQAAABdBnw1FFSwr/wABDgzG2/jYHfgsWxA/wAAAAA4Bnyx0Qn8AAWJGNAA44QAAABABny5qQn8AAWK35oEh4A6oAAAAKUGbM0moQWyZTAhv//6nhAAAfAsVpAHiSKdtW7hepK0VA9FzXkvvAKCBAAAAFkGfUUUVLCv/AAEODMWaWndzbqZA2oEAAAAPAZ9wdEJ/AAFiRi6Y8BVxAAAADgGfcmpCfwABYrfvAC7hAAAAFUGbd0moQWyZTAhv//6nhAAAAwABHwAAABVBn5VFFSwr/wABDgzJb7p9dYAgpIAAAAAOAZ+0dEJ/AAFiRjQAOOEAAAAOAZ+2akJ/AAFit+8ALuAAAAA1QZu7SahBbJlMCG///qeEAAB8C2DQAkbVmo6Md/aqng5oRWDylQmkDDg+euxMn7Z5wzVcA9IAAAAXQZ/ZRRUsK/8AAQ4Mxtv42B34LFsQP8EAAAAOAZ/4dEJ/AAFiRjQAOOEAAAAQAZ/6akJ/AAFit+aBIeAOqQAAACFBm/9JqEFsmUwIb//+p4QAAHwTsB1OwA2zziy/4fsAsoAAAAAWQZ4dRRUsK/8AAQ4MxZTIK6VwQLyBtQAAABABnjx0Qn8AAWJGLojR4A6pAAAADgGePmpCfwABYrfvAC7gAAAAcUGaI0moQWyZTAhv//6nhAAAfAL+TxADcy7WMpdJZ2/dLZFI5Z0kP43nR7x8H++SNe4q7ZFtnduSjjv8M7KYEmBr+iSROwcuA6i/HE8QMeb0k3uXax1mY3y7OpP8UWyhgmE5kMqLHJE8TRKAU1/Ryg1IAAAAGkGeQUUVLCv/AAEODMbb+H0aYaHwKM/9dBUxAAAADgGeYHRCfwABYkY0ADjgAAAAFAGeYmpCfwABYrfpk3aEVCsh6FtBAAAAH0GaZ0moQWyZTAhv//6nhAAAfBOvuh7PgINjLjVwLKEAAAAbQZ6FRRUsK/8AAQ4MxZMTRbzb7J7SC3Ub0FTAAAAAEwGepHRCfwABYkYnAwX6X+obxI0AAAAOAZ6makJ/AAFit+8ALuAAAAAVQZqrSahBbJlMCG///qeEAAADAAEfAAAAFUGeyUUVLCv/AAEODMlvun11gCCkgQAAADUBnuh0Qn8AAWJGLcBnABYcBw6xFlvZDoBz+DKwVrmU+KTNl223zLb2BG+AnwH+tLN2sJcd0AAAAA4BnupqQn8AAWK37wAu4AAAACZBmu9JqEFsmUwIb//+p4QAAHwLlyQB9SvqsefQiKK2ZarU6rgHpQAAADJBnw1FFSwr/wABDgy9Ktt2V4Af84cpxyPr5shqbCzu4E+HU0ot3bFPrTk0B7R21GmBbQAAABEBnyx0Qn8AAV6VoJII1OAi4QAAABEBny5qQn8AAV6VoL/g4aAaEAAAADNBmzNJqEFsmUwIb//+p4QAAHwLYNABqNn9O8pq0cc2YGWMBOw+L6cka7+ovUAzc520BoUAAAAWQZ9RRRUsK/8AAGcdDL+jXXNupkDagQAAAAwBn3B0Qn8AAAMAAS8AAAAPAZ9yakJ/AACCxGIVgFfBAAAAxEGbd0moQWyZTAhv//6nhAABsSSFtt2+AQBw5lSlemriYxfMFfMZ9uXh7lTSU7lz7RnsG9PtgDZRmyWkWYW/6Tv/gmtzBCZPN6SJH5VBlQAfbfS2oeez11xA22LVei/2UD0tGU3iMy5B/DpwaM1zSNb4fRCg7cznhCVnLw9Fwo0LfHBn8tkocAwzB+swlYioGFvXd9NN6wIUct3Y/mF7i5lvAW/sVReM6+ffd0a93arOuiySJYanfqMs6pVBO+wUDKVB10AAAAAzQZ+VRRUsK/8AAWJrXaE02qiHTf57krzgEAMhQCJNaNEkjIW6vSdBEcNYBucxfVAAAPmAAAAAMQGftHRCfwABxZq9JVhsb35u2O389/eeAHyABJ342xcLLmPtQ6u/hwe41KSdsQAAFxEAAAAMAZ+2akJ/AAADAAEvAAAAJkGbu0moQWyZTAhv//6nhAAAfAuh9AFuSmWlMDUjftRWSJuvbQGhAAAALEGf2UUVLCv/AABneniAH+U53tP+ea1jtNrCqFqWAbq6A6HryUZg4QsGED/BAAAADwGf+HRCfwAAgrSea4AaEQAAAA8Bn/pqQn8AAILtrSuAGhEAAAAvQZv/SahBbJlMCG///qeEAAB8WYXqQBbq3VOUoUmNNrMI7cjxm0BOxLd32ZsAsoAAAAARQZ4dRRUsK/8AAGcdDL7YBXwAAAAMAZ48dEJ/AAADAAEvAAAADwGePmpCfwAAgsRiFYBXwAAAACNBmiNJqEFsmUwIb//+p4QAAHwVJdEAbeveDq97uIu/quAekAAAABNBnkFFFSwr/wABClUiexUEuAi5AAAAEAGeYHRCfwABYkYuiNHgDqgAAAAOAZ5iakJ/AAFit+8ALuEAAAAoQZplSahBbJlMFEw3//6nhAAAfBhxvQAb7DUTr4Yb+UIsStqdVwD0gQAAABABnoRqQn8AAWLzeuYg8AdUAAAAIUGaiUnhClJlMCG//qeEAAB8C5ckAW5551Q9uJzjtiAKCQAAABFBnqdFNEwr/wABDfWHOroDlgAAADMBnsZ0Qn8AAWJGLcBnABbQrDTKIst7IdqWXwZWCt0r+IbCa223zLb2BG+AnwH+sj4Fcd0AAAAOAZ7IakJ/AAFit+8ALuEAAABLQZrNSahBaJlMCG///qeEAAB79GmwseALBYRzGOGFtX9k55FQ1s1x+X8i2/T9Qe90BwyJ8dJlpAxJKAAQ4muEP/J07p8L/SwaSqTMAAAAGEGe60URLCv/AAEODMbcDR6oAWU5KGgGhAAAAA4Bnwp0Qn8AAWJGNAA44QAAABABnwxqQn8AAWK36ZN4eAOqAAAAP0GbEUmoQWyZTAhv//6nhAAAfJqSw8/wANBbIw3iAGH2jy2qUk2Vydo9o3yV/HeOI6ByKrwqW/K2ffbnNBJ0wQAAABRBny9FFSwr/wABDgzG2/dGxWAooAAAAA4Bn050Qn8AAWJGNAA44QAAABABn1BqQn8AAWK35oEh4A6pAAAAbEGbVUmoQWyZTAhv//6nhAAAfAsVpAHiTSSk21pBdYnX77zyV8OIX2xsRBTO8ChK0pzwJElwjs/JxIf87/oYJsbaOWt98lvw1g1Yzppfrc+Xzkr/3upkGTUHXm9OiI4omd65tVIl4jwLYWEKCQAAABRBn3NFFSwr/wABDgzFlL/19YCigQAAABABn5J0Qn8AAWJGLojR4A6oAAAADgGflGpCfwABYrfvAC7gAAAARUGbmUmoQWyZTAhv//6nhAAAfJ6yFSAPADvoecpfhah/2mW9LqtuVHTPDiEmDo9K4tHctpLcu+s2KR0GCrr4atYLQUYz4QAAABxBn7dFFSwr/wABDgzMveOZwIAFpcMR0KcQYIuAAAAAEAGf1nRCfwABYkZMfY2wHHAAAAAQAZ/YakJ/AAFit+vc+ZYBXwAAAMpBm91JqEFsmUwIb//+p4QAAa+llGZnAEferInILeBwXUspR3NWvPVWdHol8wAx0vcVEASKDv6yDmvjyPNidkZSHc1//v62D75Bk1qaXNRCVYxx/tGOp7ZnmVvezC0sx/kJ47yEfv/b5AE6DkZr95SaYnnZqn2EpnTRmpToUeGWN/mIMbS6SLI/X8xT15f7uLyXrk/lBtYz4d8DkRgOXpG7bd3jFa+WhGcWha0ZO8KdTOuCIJojlx0Wq8dltBWkBOP91+gfruIAAGVBAAAANkGf+0UVLCv/AAFia12hNNqohTIltlHjUAA2B+9J3VoG78xE9I0QynD8xU6VNFVra+vlgAAScQAAAFkBnhp0Qn8AAcTbQQPv7WwRAgMOnLyG2TqUE4CTeviZbTtPtpEqApwYqpIdNdeQTUYUmZ29r/gleAcGTO6JRcFzryHjcruj1qKQWBSEgAGWELz44J+6VQABNwAAAA8BnhxqQn8AAWK35pjwFXAAAAAYQZoBSahBbJlMCG///qeEAAFR94T94Ad1AAAAFkGeP0UVLCv/AAENke/i3wj635fWwtoAAAAOAZ5edEJ/AAFiRjQAOOAAAAAzAZ5AakJ/AACCubw4AVvAcOsRZb2RKuQPgyqVc5k5NwG8u22+ZbewI3wJf5OVoMSb0JEjAAAAZkGaRUmoQWyZTAhv//6nhAAAfALqvgDhAkmbgVMdKvP/J+TXtULrQtshVUeEu/w17sVd4K4/bdxPTlJKy7j+4CN+hA666BT7azKrVjG32cSMi0s6UOnv+TT9pIWans0UB4/lxezCPgAAACpBnmNFFSwr/wAAZx/9WAEHhiizHOwZci0SWh6qkOOFGnmVBHxNhTCugqcAAAAPAZ6CdEJ/AACCtFnRSAHVAAAAEwGehGpCfwAAgmgvx1BIOlAp4kYAAAAhQZqJSahBbJlMCG///qeEAAB8F/30ro2NAP0FbrTpy4FlAAAAGEGep0UVLCv/AABnB/wtrW8p0eemx5MR8AAAABIBnsZ0Qn8AAIK0nl0cDhnFoW0AAAAMAZ7IakJ/AAADAAEvAAAAFUGazUmoQWyZTAhv//6nhAAAAwABHwAAABJBnutFFSwr/wAAIcGd1299ArYAAAAMAZ8KdEJ/AAADAAEvAAAADAGfDGpCfwAAAwABLwAAADZBmxFJqEFsmUwIb//+p4QAAHwLFaQBbSrSwl8MD/0F5uVjT4XrZFZANIm9fyChdZCt+wfsAssAAAAWQZ8vRRUsK/8AAQ3X42l60amWv0xA/wAAAAwBn050Qn8AAAMAAS8AAAAPAZ9QakJ/AACC7a0rgBoRAAAAGUGbVUmoQWyZTAhv//6nhAAAfBOvujVcA9MAAAAWQZ9zRRUsK/8AAGcdDvcXIlfbmZA2oQAAAAwBn5J0Qn8AAAMAAS8AAAAPAZ+UakJ/AACCxGIVgFfAAAAAP0GbmUmoQWyZTAhv//6nhAAAe/VkMVWSANPvVF8c7MH3Kicuulaa53PaQvseHkpUquD6YBOgyAI04g8Z20BoQQAAABdBn7dFFSwr/wABCeI8HNegesG7CSBtQAAAAA8Bn9Z0Qn8AAIL7PZkAOqAAAAAOAZ/YakJ/AAFit+8ALuEAAAAaQZvdSahBbJlMCG///qeEAAB8F/30sfsAsoEAAAAYQZ/7RRUsK/8AAQ4Mxtv3Rss/4z4aQEPBAAAADgGeGnRCfwABYkY0ADjgAAAAOAGeHGpCfwABYrfpMDOAC4WXyYKLT8c/WYuUrndRt/2Ir9dMidw0ZaAuPlBzU2RGzUPItGRK+0LaAAAAFUGaAUmoQWyZTAhv//6nhAAAAwABHwAAABdBnj9FFSwr/wABDgzMoEheRZVkRsC2gAAAAA4Bnl50Qn8AAWJGNAA44AAAAA4BnkBqQn8AAWK37wAu4QAAANFBmkVJqEFsmUwIb//+p4QAAbEkhbbdvgEAcOZUpXo/5x+jgVdzzFfXUQJsAoPlK851LYprwQBC2smP5YsncRPUzAr4Q8KT0f3MtXtBrZcsaUzYnw5LWlacbg4X6Usm/+GFhfBZ2ACUdrCjlZAKHlTILLsLvKPNDI8zCUZUlDi7QfyhzGR2JLq/70eifmoKAyT51zlRFvZLU7GpZzLPX6aYPGkd4MSQGq/WeFe86gAOJsUip/bHdN0J8IT6h9o6pNCSH+CIsD2M6lUEG7BKllW0QQAAADRBnmNFFSwr/wABYmtdoTTaqIUyJbZR41AANgcEUvA20yaasP+ychdZ1bqMGGWthHywAAJPAAAAMQGegnRCfwABxZq9JVhsb3x5gSjzeRDg552AAORo1sdjO6wcQDg5QOFpEmO7FQAAD5kAAAAOAZ6EakJ/AAFit+8ALuAAAABqQZqJSahBbJlMCG///qeEAAB8njxpfIAcgF25uBUx0t0b/aK65hUBnMze5inK/QBd/hr3WgJrl55WYA8LcNqVgUAH+ggrsWZO+omKZ4RAAyHY37g3C7uXQL1S0rSEL9mbmFCgSLVfSi4FlQAAABxBnqdFFSwr/wABDgzExgRPz9eJAqgbdXDm0FTAAAAAEAGexnRCfwABYkYnAw7QDQkAAAAUAZ7IakJ/AAFit+mTdoRUKyHoW0EAAABBQZrNSahBbJlMCG///qeEAAB8GGvkgEmtBhDXYwhyjcNeR3ZyoaS0yJHCOaYI12vLi0kOMLxHaeNjBD5sLP1mEfAAAAAaQZ7rRRUsK/8AAQ4MxoKLp90wUeOcNhOgqYAAAAATAZ8KdEJ/AAFiRicDBfpf6hvEjQAAABABnwxqQn8AAWK35oEh4A6oAAAAQkGbEUmoQWyZTAhv//6nhAAAfBUh6QCTEsrpe8oQmiui9ArEiABnzj40Q0l9Fu9o9o0yXfdkao5yh/skH67JzUlKwQAAABZBny9FFSwr/wABDgzFlMgrpXBAvIG1AAAAEAGfTnRCfwABYkYuiNHgDqkAAAAOAZ9QakJ/AAFit+8ALuEAAACyQZtVSahBbJlMCG///qeEAAGvpZRmZwBH3qyJyC3gcF1LKUdzVrz1VnR6JfMAMiMfn/+giAM9B2DHyWxCLcvERmI/tIY4iMHFhOjfTL7zj1x5Y+JFxzgxZtC0I3o7F47BTL0FGgfmavvlJpiedjCfYTk1J5w6jPZJ1hIaXF86mRv4F1T92kGFk6uIbLPnK3pxxSisEMWyPm3sh1Uva5mDDGKALKxX0+uyTsnc2XizBSIAmQAAAFlBn3NFFSwr/wABYmtdoTTaqIUyJbZR41AANgfuM2AF5blWCdk9IJhSqE1+A+Z/H1YKUd3FQxjpvIUQo5Z9LdqS7je47aNnPSXwVWw30d7VLgtd3NrZ4QABQwAAADIBn5J0Qn8AAcTbQQPv7WwRAgMOnLyG2TqUFwAHgI9ZpZrwzXzOLrFZfCQ7DCMWAAA+YAAAABIBn5RqQn8AAWK4Awo92hS3ezAAAACUQZuZSahBbJlMCG///qeEAAGvwNBnt5CmgoGHnp0JbCk+wDm7BVoez1mtqA2tgCRz9gANO8BcdrP534YPaxi2JPrJJfRbvaPe3SCwS38HYUq/m7QCKCijYZqiomVneOI51Wsqrb7+VcUyQkCq4ALW6F1iJlQZLfyudDMs/9NO7mkXApjF0x7gAoqrEUHT+anGsAAIOQAAAIBBn7dFFSwr/wABYrCvw1cM1D0Zd9KUKS4su//ZQEwIHbjitOSiy7UcczIMfjpy5wAq+s0mmQgZGVyOBd7srQcxSR7l6UQFM+AN9GJpAxtBmtLsC7UBzpFxF038l0SQAAADAAADAAADAAADAAM+aQAAAwAAAwAAAwAAORSQgAAOqAAAABABn9Z0Qn8AAWJGNFQCNuDgAAAAOwGf2GpCfwABxXnVUw05zSzQP5wi9adH1awPcgJNQTo9MTRaRDuMkJ6D7eSQqEvWfefzZUZIPywAAMyBAAADxmWIggAEP/73gb8yyWIkrJcfnnfSlhbDQhSwAfGJHg4Fnh5wJoe1+gqr3Adqslu7/0YlWXuMbdbVwqTWLN9i7uZ7fqwKqHHp/lQAAAMAAAStplCKpoJaeo+y+2ckDqLZB1JMuEFLZsDJ80pa7O50VaRzUYxCf3EWZDi4AAAPBuEoEiZxU+fgOa+nnppbO4IAtHz9ABZAdcW+/VusJ01A7C0+4ldxkWsQxfIf7d9X4NiCtRUm3c8fliteGdH0+cAvTYFv6f/AL1/RL13uPXpsFJMNxyiSCITux5sEcrtIvcArjTZgvX5g39P36vtZ8x1+rBevzBv4C44X0pjNKcQndjzYKO1LVrd2ITux5sEV3Okl0SWO7EJ3Y82CObFEXDpO6xgvX5g38DXORO6SCWMF6/MG/sU81LGbEJ3Y82CIQWHo9Z6WMF6/MG/oHl83kNddjBevzBv4IPK20BsuUqdDtu8UVS8uEPr0IX4A7f5xdLfjq5HBKr/HxeED7/H7lwnnDvMAwOEjfIAqrWw8NZcGvY8Te1H/wRSqTSUAWJ0iWNDkGVUxwo+KdlW+oqDNd17e4ZzOJUFzqavEKvpVJ5jrpvFUBksnOdhS0UyQlEFIcINCEJMqv+mK5zbuTd/nJWJdzSw6sBZh7vqqjVfaseXVkFCAUjJufL5qbQy4uzJW+MdYX5UUbCEoCSwwX42GINDxS1dvi4lCyL4Uo1QUfLqCQGeA2/5z7ZbADB6Ynh0ZRhzfmgYlvBvW0M6PVTiBgeaskmoFJIH3kzvQ5cO3zMzW++eUhp5u2AYvpy88B/T2mxCFn7qsWBssUKaiq4hjZXoX5QUg/pZFefryo0VNHOrOhhp+//AGcXzjvlNSYoQB9nlrZTkXJrDPBltzmQZkiltTC849ZVOETTCFqFhNsjv8ihfI7++zYzv5wWMs0lewgMgZgegGJfS4uYwJrJu9+FoFNHnyYTgHnDty+BVU2Jhnx9hXFB36uXsDt0Est2707rbkd316llYVZ66/wpOsM3u2vhJgtMJPe+EblKysGkz0XdTv+MNnawJV05KAC2l134Esp3fBIqvhgYhFp/dtEFB3Hu8IyNS91ziA1g/Wwqtqzn+e988QEJB8U0rmE95bNH1Ov8/2HJfXCtj9la35qrBz2L98J7yZFrD4Q46/k2W6LoF0MlVy2ay5J4zyIaAAKWWsyjQehbbY5KtlV5NbvcP33F4pxOIGt3yCPx7E3ikuw/GgWtGPKRK/JTn0289vat+FVPs9lXTcAAHY++o0AAADAAADAADAgQAAANpBmiRsQ3/+p4QLSTgNtB+6kQVQz+r17rqYB29t8nsR4eL5ijNwpZZukBJ4l14A8SaTf4/ggKqrMzD5UqBhiljpD37Skv/mPPWZWidVxiomI3FbfUFj436ruz4bgJzidvfqJhi1QeQveVeULasDasv81uENE8iD4NqdE+aTd08l+Q2SpHkVXYqmjdKuLtb1LNSZGMnCtn60SHMo7vUcdtGeK6aUda2YGxsixE4ehoB+ogUcRLrpxcoOW3W9FuTyEsTvWUYFhmhAi22MS1hgA4EP4We0x+CWAACpgQAAAD5BnkJ4hP8DPfetcijowzMOeRwHKV5xm6tAAmvgJHGNX08leabBUNENxQVhhGvuNpIluQAaolAJ3DziwAAHzAAAAA4BnmF0Qn8DPUpWgAAmYAAAADMBnmNqQn8AAcV51VMNOc0s99orWMh1PJAAkBgBuZ8APVsv/d45aZAX3zDZbBHcVAAAPmEAAAAaQZpoSahBaJlMCG///qeEAAB8l5aoBs2AWUAAAAARQZ6GRREsK/8AAGcdDL7YBXwAAAAMAZ6ldEJ/AAADAAEvAAAADwGep2pCfwAAgsRiFYBXwAAAABVBmqxJqEFsmUwIb//+p4QAAAMAAR8AAAAPQZ7KRRUsK/8AAAMAAOmBAAAADAGe6XRCfwAAAwABLwAAAAwBnutqQn8AAAMAAS8AAAAoQZrvSahBbJlMCG///qeEAAB8C5ckAW7EVrpHan5ES2Y5aWwOO2gNCAAAABFBnw1FFSwr/wAAZwf8O4AaEQAAACsBny5qQn8AAIK5vDgBW8Bw6xFb7GQPgmwjWlPUZW3leejefptxr8VCyuO7AAAAPEGbM0moQWyZTAhv//6nhAAAfAsVpAFguSicFpq+p8mmkmxDvGDXsF8JlAmQetH1kKZi4CduVgJg7aA0IAAAABJBn1FFFSwr/wABDgzFlMe0A0IAAAAPAZ9wdEJ/AACCtJ5rgBoRAAAADAGfcmpCfwAAAwABLwAAABpBm3dJqEFsmUwIb//+p4QAAHwX/fSx+wCygQAAABNBn5VFFSwr/wABDgzG2/jDgIuAAAAADAGftHRCfwAAAwABLwAAAA8Bn7ZqQn8AAILEYhWAV8EAAAApQZu7SahBbJlMCG///qeEAAB8FSXRAG2SMu1Q95DFZN829VgXt7aA0IEAAAARQZ/ZRRUsK/8AAGcH/DuAGhEAAAAPAZ/4dEJ/AACC+z2ZADqgAAAADAGf+mpCfwAAAwABLwAAAHFBm/9JqEFsmUwIb//+p4QAAHyePGx4BADcy8YeuDzpeL1f9YQNX3nR7x8H+9/aiCGhOnRYOSFLv8MjGWUtND6K0BZIEpWlITbTn+SMoEnjyavE/USEgNZhJ/w7X4aw/sGgxQxylIYFbvWB1rsRuyg1IQAAABdBnh1FFSwr/wABClUin2xMJIvu5ULxIwAAAA8Bnjx0Qn8AAIK0nmuAGhAAAAAUAZ4+akJ/AAFit+mTdoRUKyHoW0EAAABIQZojSahBbJlMCG///qeEAAB+2D80AJ3Z5UE55GXjNxv+8cpCfWaP1XDtG0QUiZoI6WnLY7/NjM/tdYMtFgluxG4eqSbjkBUxAAAAGkGeQUUVLCv/AAEODM08PhfcjCgvflfWMIUlAAAAEwGeYHRCfwABYkYnAwX6X+obxIwAAAAgAZ5iakJ/AAFiuAT0fBYBkYsgATQGFMVV02G7EMFIUkAAAAA3QZpnSahBbJlMCG///qeEAAB+08FKz4gATcoct+7CNwFw2uXq4riOh4VCNysBMMytyldlH+gXcQAAABZBnoVFFSwr/wABDZHzeSSA+v2sViOmAAAAEwGepHRCfwAAhrSd5FRO4uNco+4AAAAMAZ6makJ/AAADAAEvAAAANEGaq0moQWyZTAhv//6nhAAAfAtg0AJfANX+ve02J3KCdDCJMD/HHVjiRVyCEzSTETtoDQgAAAAvQZ7JRRUsK/8AAGcln/AAbPVy0yqQVwLvgznUYapxMe3520fY6zpKHeZ/gJO8SMEAAAAaAZ7odEJ/AAFi00SNPJbQpAB5itOyGnmK47sAAAAaAZ7qakJ/AAFiZkBYRvqZ6AAlvGXLSmZWhbQAAAA/QZrvSahBbJlMCG///qeEAAB8C2DQAyGsmvbeGHkhZmazDOMP94dia+LkWMJcMW+CU575rluAWyjvjRG+2gNDAAAAEUGfDUUVLCv/AABnHQy+2AV8AAAADAGfLHRCfwAAAwABLwAAAA8Bny5qQn8AAILEYhWAV8EAAABXQZszSahBbJlMCG///qeEAACjcL6Sv96JmgdVlLTsY2iVUTrEx7Mt/YXYi3VCZ8+JtCVEhFM05YSy2SqITHErV28RnzmMN2CTPWA+FJfIaHQY1pcgAA+YAAAAD0GfUUUVLCv/AAADAADpgAAAAAwBn3B0Qn8AAAMAAS8AAAAMAZ9yakJ/AAADAAEvAAAAy0Gbd0moQWyZTAhv//6nhAABsSSFtt2+AQBw5lSlej/nH6OBV3STOHJyCmgjkk7SNsQ6Z0VsIAnguzQSs7vRFqq2MzbTo7gr5kGN3mBekbj04iq50rvt3PK380yPACw3qMsqsO0PJd2/1NcRzI9gy+a0T1YVebWT9SGom2QuT9kZlrZWWHChpOYfd+k8B5vHQFabXqvifsPTUoeCZxco6Kf5K5+KWq4a/spDlv/TyFL2xPp5/8Wd0OKP55fgqDSvu728QLiZLNmLnpmZAAAAN0GflUUVLCv/AAFisK/DVwzUPSMEWPjDtOMlwAvy8BjjplkjuSqFN79+gvcElIjfyjmD6oAAB8wAAAAMAZ+0dEJ/AAADAAEvAAAASQGftmpCfwABxXnVUw05zSz32itYyHU8kACQyAGGPcZTRb8y2kSoCm3Dqkh01byxgy3DB8ZUc4YnAqx5M1IAXFTsso+ZVAAAu4EAAAAVQZu7SahBbJlMCG///qeEAAADAAEfAAAAEkGf2UUVLCv/AABa+Tuu3voB/wAAAAwBn/h0Qn8AAAMAAS8AAAAMAZ/6akJ/AAADAAEvAAAAQ0Gb/0moQWyZTAhv//6nhAAAfAsVpAHy/79DsAAf9+UHpbExb96LJjyBQtA6Wc79rhfyTT0YYnw/j67O6rGBWfOKntEAAAAWQZ4dRRUsK/8AAQ3X4NrhFXMj6ZODFgAAAA8Bnjx0Qn8AAIL7PZkAOqAAAAAMAZ4+akJ/AAADAAEvAAAAMEGaI0moQWyZTAhv//6nhAAABc9UCVvmTR+SzdKpFYGtyOCZ8NmhBXbxqJ2VChqm4QAAAC1BnkFFFSwr/wABDgy9K9edeAICM9ORYPIoLYMu5BaptjRqLlo78XnfUMXhA48AAAASAZ5gdEJ/AAFelZ7MdLKFOAi4AAAAEgGeYmpCfwABXpWeyCyIoNANCAAAAFBBmmdJqEFsmUwIb//+p4QAAHwLFaQB8v/AX8I9I/fkrbWxM43+2TF5gFzbZZf8k9RM717tBVDtmUkwQWn5/9uR4gJAekyaYbvFt2DWEayRcQAAADRBnoVFFSwr/wAAZxqLJgA8pvNrmldtTvJ3V/BSJH1H9L48+3PH0/hOF00KI20fgpfUckPAAAAAFQGepHRCfwABXpWgyajMyaSQvY8qoAAAABUBnqZqQn8AAV6VoJ9viTTE19MQz4EAAAC7QZqrSahBbJlMCG///qeEAAGxJIW23b4BAHDmVKV6P+cqM/eH7KTp87RV58OjOjlyQQWTfF3uATEuTu4pc9osXgcTtVqwXKT8zB07SY7hNRpMhdG+LCF8sgKHY4gjRMCnVnijnOsvcDezBLsIbxQbzhLwOxRtIbdvXTlL6dPy/iVQCZTP8L4ilYjCioT9TcDenHHHmrWtAfvz9P5LXDrCXRTltWNn14GvO6ojzwEENtAgbs8IGeKypYoZZgAAAE1BnslFFSwr/wABYrCvw1cM1D0jBFj4w7TjJcAMBEP4AFjPQZ+UdguSQMawyW7RzB48Wc+XkYGdteR/gPeN468K+xrTF0XE+umWCeANCQAAABIBnuh0Qn8AAIL7PX3GJFDtC2kAAAA7AZ7qakJ/AAHFedVTDTnNLPfaK2FYGOjHIAGUNFtT9dOxweId8ljZr4Io9j12BkBWY9+lelNlgejA+YAAAABDQZrvSahBbJlMCG///qeEAAB8CxWkAfL/v0OwACA4YkKO6Qx2DFpRQFp00ro0dBuMIREeQZwpvSlbjPIfqdqIq1qZOwAAABdBnw1FFSwr/wAAZx0M1JA+Le0N70xvQAAAAAwBnyx0Qn8AAAMAAS8AAAAPAZ8uakJ/AACC7a0rgBoRAAAAPUGbM0moQWyZTAhv//6nhAAAfBUMAgCXkYQX/t6Vxpqrgy98P+sCob4NcUhXxLScQH/l0x93JElV/p20BoQAAAAUQZ9RRRUsK/8AAGcc7HVmCHFsGNAAAAAMAZ9wdEJ/AAADAAEvAAAADwGfcmpCfwAAgsRiFYBXwAAAADRBm3dJqEFsmUwIb//+p4QAAHyavepAHt4Unb48nSS6FGSFntHugQ05fxJXMFWNhPY/YBZRAAAAE0GflUUVLCv/AABnB/w9giSNB3QAAAAPAZ+0dEJ/AACC+z2ZADqhAAAADAGftmpCfwAAAwABLwAAADNBm7tJqEFsmUwIb//+p4QAAHwLYNACR0yR28Cy6Tct/IZYYsJ4KfCxrePscB28PD9gFlEAAAAWQZ/ZRRUsK/8AAQpVI7ekWqJ2Ii3RbQAAABABn/h0Qn8AAWJGTH2NsBxwAAAAEAGf+mpCfwABYrfpk3h4A6oAAADDQZv/SahBbJlMCG///qeEAAGvpZRmZwBH3qyJyC3gcF1LKUdzVrz1VnR6JfMAMdLfvcAkgx8kEIHs9owalqCb3lPv6HkdD/tskhrgYdIhEBY/CcJyv5QLWtwjY62PzdVBCEy2PnA3rxwnyIBXj2dXylsnbDy0K+vSXmSv+4/zYsUebkbaPIAJKT9VMRHsb/ujbRln069hsRXWH0Ww+JvAI/oRGmt5juYCXyDmFAaMrmOsr2nTXK4qXyaG7UywXqydCH01AAAAOEGeHUUVLCv/AAFisK/DVwzUPRl30pQpLiy7/9lATAdSEi1VabfQOU2PpFlaOpUIWISdhJQdIB3QAAAADgGePHRCfwABYkY0ADjgAAAAMQGePmpCfwABxQuduvQ2aFUEJ3scUKUE0xrSBNRjM6KFUTBSJdZqAgSSprJUywPsAdMAAAAVQZojSahBbJlMCG///qeEAAADAAEfAAAAEkGeQUUVLCv/AAEODMioXQNhNwAAAA4BnmB0Qn8AAWJGNAA44AAAAA4BnmJqQn8AAWK37wAu4AAAAEBBmmdJqEFsmUwIb//+p4QAAHwLYNACRtSjSBIouXF72sJxc4NmMQKqNNz2UKShNVPjwpkGGSTZ7/EFsvf9tAaFAAAAFUGehUUVLCv/AAEODMbb+M6e9pAd0AAAAA4BnqR0Qn8AAWJGNAA44AAAABABnqZqQn8AAWK36ZN4eAOrAAAAt0Gaq0moQWyZTAhv//6nhAABr6WUZmcAR96sicgt4HBdSylHc1a89VZ0eiXzADIivhi9+4BH/a8JQN2xykWBamZGwJ1UGuxdrW4DhKysBsrHOh7h7AzuoONlxkrcie+ad1Y/e//aG309ksCIQTt1qR+G9uODWnsBi5yCh+gU+PXVRNr3BAJnQm5oug9aPQpgAOGyOf1nalPebQF0c7+J1uTYSeeXYL/ANdSmUrrb+xCnMhjpYAAKmAAAADhBnslFFSwr/wABYrCvw1cM1D0Zd9KUKS4su//ZQHOAYs/ptXJlKrra594FJiZVutabmV6oAAB8wQAAAA4Bnuh0Qn8AAWJGNAA44QAAADABnupqQn8AAcULnbr0NmhVBCd7HFClBNMYABKqZFnPr7DCHiiPRrQ7QmqG4qAAAfMAAAAVQZrvSahBbJlMCG///qeEAAADAAEfAAAAEkGfDUUVLCv/AAEODMioXQNhNwAAAA4Bnyx0Qn8AAWJGNAA44QAAAA4Bny5qQn8AAWK37wAu4QAAABVBmzNJqEFsmUwIb//+p4QAAAMAAR8AAAAdQZ9RRRUsK/8AAQ4MzL8Nx+moAay8QCXhLLzrotoAAAAQAZ9wdEJ/AAFiRkx9jbAccQAAABABn3JqQn8AAWK4Awo9sBxwAAAAbEGbd0moQWyZTAhv//6nhAAAfBJURHgCEgYnB5FGPlPzcsovB+e/ZmFYFQ6WqygtzNMiE5bHpL27HHf4Z2UrRW6seo2s9mI2EZ9YIu9ZY1SOLoGVdW5JhfNgPM4EnQBnxJzC0S8OPub+w9mEfQAAABZBn5VFFSwr/wABDgzG2/h9GZ1DhoW0AAAADgGftHRCfwABYkY0ADjhAAAAFgGftmpCfwABYrfeTZ5KaO7FdQhIkYEAAAA4QZu7SahBbJlMCG///qeEAAB8hAFrIQAqcr272/uVYwkHmespGBo//m+HaarvKHOhyWrlPrwuBZUAAAAVQZ/ZRRUsK/8AAQ4MxZTFgHACa8SNAAAAEwGf+HRCfwABYkYnAwX6X+obxIwAAAAOAZ/6akJ/AAFit+8ALuAAAAA8QZv/SahBbJlMCG///qeEAAB8C1ZcAUgAv09c9j82JvNy3/+p+Y0Vm6iDPzuF024+yWjkYZkoqSenbQGhAAAAE0GeHUUVLCv/AAEODMbb+MOAi4AAAAAOAZ48dEJ/AAFiRjQAOOAAAAAQAZ4+akJ/AAFit+mTeHgDqwAAAB1BmiNJqEFsmUwIb//+p4QAAHwTr7o1YHu05noTcQAAABFBnkFFFSwr/wABDgzG3X0BywAAAA4BnmB0Qn8AAWJGNAA44AAAAA8BnmJqQn8AAWK35pjwFXAAAACzQZpnSahBbJlMCG///qeEAAGvpWtmZstH27SIlAhgKNp1cUfD0GUYh5EUi8suhFlWFX+zUgCJr1gv/35BCN4w3gd9r5Esd7SAoyhYbIidjht/op8JnUT5O/iNWflzQYO7B5AqJNQlEjjtGzlRk3QKkxRYjQJrGkm+PMUYNsT6U8mSllksTgho+mpmmPT+5V9TzapS/bBU7rVjAZbtDhlTbP4Y+NOJ9IHDRdPCD87BQdtYP3UAAAAzQZ6FRRUsK/8AAWJrXaE02qiFMiW2UeNQADYHM8BpHar57KzQWhZdv2eRzRGkLxUAAA+YAAAAMQGepHRCfwABxZq9JVhsb3x5gSjzeRDg552iwDuQ0TutPcYqwU4spJ4lpR0VxUAAA+YAAAAOAZ6makJ/AAFit+8ALuEAAABmQZqrSahBbJlMCG///qeEAAFQBQrjnZkdcANMVZF+rT5tA4t2bnVy8/VoRxAqHSyC/a5w+QvQWseBEtlC7/DPU8kOWhhgjrZhg0Y8i0wMCnceNlhkNoepyxYeZxxTo2ioOzqDegXcAAAALEGeyUUVLCv/AAEODMbzlMAIa/jljbtQ69SfnCnEveUUfUSGdsocJAit0LaBAAAAEQGe6HRCfwABXpIuuCNO4H+BAAAAEwGe6mpCfwAAgu2tH8wZQIRuO6AAAAApQZrvSahBbJlMCG///qeEAAB788EgoA4C/3LACV1QNxoR8c25WFd7gWUAAAAUQZ8NRRUsK/8AAGcH/C2tDiBVx3QAAAASAZ8sdEJ/AACCtJ5dHA4ZxaFtAAAADAGfLmpCfwAAAwABLwAAACdBmzNJqEFsmUwIZ//+nhAAAeUfbgACwEzxUMNlGr0bMHno7gNAaEAAAAAQQZ9RRRUsK/8AAGSIUeA2YAAAAA4Bn3B0Qn8AAH8mN4A+YQAAAAwBn3JqQn8AAAMAAS8AAAApQZt3SahBbJlMCE///fEAABJRBkAAXDmL8wTfI7qyNcmLcVzc44uAy4EAAAAZQZ+VRRUsK/8AAQpRter26AEJDt0lbbAK+AAAABEBn7R0Qn8AAV6SLdjLR2AV8QAAAA4Bn7ZqQn8AAV6SLhgBdwAALTdtb292AAAAbG12aGQAAAAAAAAAAAAAAAAAAAPoAAB1cwABAAABAAAAAAAAAAAAAAAAAQAAAAAAAAAAAAAAAAAAAAEAAAAAAAAAAAAAAAAAAEAAAAAAAAAAAAAAAAAAAAAAAAAAAAAAAAAAAAAAAAACAAAsYXRyYWsAAABcdGtoZAAAAAMAAAAAAAAAAAAAAAEAAAAAAAB1cwAAAAAAAAAAAAAAAAAAAAAAAQAAAAAAAAAAAAAAAAAAAAEAAAAAAAAAAAAAAAAAAEAAAAACWAAAASwAAAAAACRlZHRzAAAAHGVsc3QAAAAAAAAAAQAAdXMAAAQAAAEAAAAAK9ltZGlhAAAAIG1kaGQAAAAAAAAAAAAAAAAAADwAAAcMAFXEAAAAAAAtaGRscgAAAAAAAAAAdmlkZQAAAAAAAAAAAAAAAFZpZGVvSGFuZGxlcgAAACuEbWluZgAAABR2bWhkAAAAAQAAAAAAAAAAAAAAJGRpbmYAAAAcZHJlZgAAAAAAAAABAAAADHVybCAAAAABAAArRHN0YmwAAACYc3RzZAAAAAAAAAABAAAAiGF2YzEAAAAAAAAAAQAAAAAAAAAAAAAAAAAAAAACWAEsAEgAAABIAAAAAAAAAAEAAAAAAAAAAAAAAAAAAAAAAAAAAAAAAAAAAAAAAAAAAAAY//8AAAAyYXZjQwFkAB7/4QAZZ2QAHqzZQJgn5bhAAAADAEAAAA8DxYtlgAEABmjr48siwAAAABhzdHRzAAAAAAAAAAEAAAOGAAACAAAAACBzdHNzAAAAAAAAAAQAAAABAAAA+wAAAfUAAALvAAAcEGN0dHMAAAAAAAADgAAAAAEAAAQAAAAAAQAACgAAAAABAAAEAAAAAAEAAAAAAAAAAQAAAgAAAAABAAAGAAAAAAEAAAIAAAAAAQAACgAAAAABAAAEAAAAAAEAAAAAAAAAAQAAAgAAAAABAAAKAAAAAAEAAAQAAAAAAQAAAAAAAAABAAACAAAAAAEAAAYAAAAAAQAAAgAAAAABAAAIAAAAAAIAAAIAAAAAAQAABgAAAAABAAACAAAAAAEAAAoAAAAAAQAABAAAAAABAAAAAAAAAAEAAAIAAAAAAQAABgAAAAABAAACAAAAAAEAAAoAAAAAAQAABAAAAAABAAAAAAAAAAEAAAIAAAAAAQAACgAAAAABAAAEAAAAAAEAAAAAAAAAAQAAAgAAAAABAAAKAAAAAAEAAAQAAAAAAQAAAAAAAAABAAACAAAAAAEAAAoAAAAAAQAABAAAAAABAAAAAAAAAAEAAAIAAAAAAQAACgAAAAABAAAEAAAAAAEAAAAAAAAAAQAAAgAAAAABAAAKAAAAAAEAAAQAAAAAAQAAAAAAAAABAAACAAAAAAEAAAYAAAAAAQAAAgAAAAABAAAKAAAAAAEAAAQAAAAAAQAAAAAAAAABAAACAAAAAAEAAAoAAAAAAQAABAAAAAABAAAAAAAAAAEAAAIAAAAAAQAACgAAAAABAAAEAAAAAAEAAAAAAAAAAQAAAgAAAAABAAAKAAAAAAEAAAQAAAAAAQAAAAAAAAABAAACAAAAAAEAAAYAAAAAAQAAAgAAAAABAAAIAAAAAAIAAAIAAAAAAQAABgAAAAABAAACAAAAAAEAAAoAAAAAAQAABAAAAAABAAAAAAAAAAEAAAIAAAAAAQAACgAAAAABAAAEAAAAAAEAAAAAAAAAAQAAAgAAAAABAAAKAAAAAAEAAAQAAAAAAQAAAAAAAAABAAACAAAAAAEAAAoAAAAAAQAABAAAAAABAAAAAAAAAAEAAAIAAAAAAQAACgAAAAABAAAEAAAAAAEAAAAAAAAAAQAAAgAAAAABAAAKAAAAAAEAAAQAAAAAAQAAAAAAAAABAAACAAAAAAEAAAoAAAAAAQAABAAAAAABAAAAAAAAAAEAAAIAAAAAAQAACgAAAAABAAAEAAAAAAEAAAAAAAAAAQAAAgAAAAABAAAKAAAAAAEAAAQAAAAAAQAAAAAAAAABAAACAAAAAAEAAAoAAAAAAQAABAAAAAABAAAAAAAAAAEAAAIAAAAAAQAACgAAAAABAAAEAAAAAAEAAAAAAAAAAQAAAgAAAAABAAAKAAAAAAEAAAQAAAAAAQAAAAAAAAABAAACAAAAAAEAAAoAAAAAAQAABAAAAAABAAAAAAAAAAEAAAIAAAAAAQAACgAAAAABAAAEAAAAAAEAAAAAAAAAAQAAAgAAAAABAAAKAAAAAAEAAAQAAAAAAQAAAAAAAAABAAACAAAAAAEAAAoAAAAAAQAABAAAAAABAAAAAAAAAAEAAAIAAAAAAQAACgAAAAABAAAEAAAAAAEAAAAAAAAAAQAAAgAAAAABAAAKAAAAAAEAAAQAAAAAAQAAAAAAAAABAAACAAAAAAEAAAoAAAAAAQAABAAAAAABAAAAAAAAAAEAAAIAAAAAAQAACgAAAAABAAAEAAAAAAEAAAAAAAAAAQAAAgAAAAABAAAKAAAAAAEAAAQAAAAAAQAAAAAAAAABAAACAAAAAAEAAAoAAAAAAQAABAAAAAABAAAAAAAAAAEAAAIAAAAAAQAACgAAAAABAAAEAAAAAAEAAAAAAAAAAQAAAgAAAAABAAAKAAAAAAEAAAQAAAAAAQAAAAAAAAABAAACAAAAAAEAAAoAAAAAAQAABAAAAAABAAAAAAAAAAEAAAIAAAAAAQAACgAAAAABAAAEAAAAAAEAAAAAAAAAAQAAAgAAAAABAAAKAAAAAAEAAAQAAAAAAQAAAAAAAAABAAACAAAAAAEAAAoAAAAAAQAABAAAAAABAAAAAAAAAAEAAAIAAAAAAQAACgAAAAABAAAEAAAAAAEAAAAAAAAAAQAAAgAAAAABAAAKAAAAAAEAAAQAAAAAAQAAAAAAAAABAAACAAAAAAEAAAoAAAAAAQAABAAAAAABAAAAAAAAAAEAAAIAAAAAAQAACgAAAAABAAAEAAAAAAEAAAAAAAAAAQAAAgAAAAABAAAKAAAAAAEAAAQAAAAAAQAAAAAAAAABAAACAAAAAAEAAAoAAAAAAQAABAAAAAABAAAAAAAAAAEAAAIAAAAAAQAACgAAAAABAAAEAAAAAAEAAAAAAAAAAQAAAgAAAAABAAAKAAAAAAEAAAQAAAAAAQAAAAAAAAABAAACAAAAAAEAAAoAAAAAAQAABAAAAAABAAAAAAAAAAEAAAIAAAAAAQAACgAAAAABAAAEAAAAAAEAAAAAAAAAAQAAAgAAAAABAAAKAAAAAAEAAAQAAAAAAQAAAAAAAAABAAACAAAAAAEAAAoAAAAAAQAABAAAAAABAAAAAAAAAAEAAAIAAAAAAQAACgAAAAABAAAEAAAAAAEAAAAAAAAAAQAAAgAAAAABAAAKAAAAAAEAAAQAAAAAAQAAAAAAAAABAAACAAAAAAEAAAoAAAAAAQAABAAAAAABAAAAAAAAAAEAAAIAAAAAAgAABAAAAAABAAAKAAAAAAEAAAQAAAAAAQAAAAAAAAABAAACAAAAAAEAAAoAAAAAAQAABAAAAAABAAAAAAAAAAEAAAIAAAAAAQAACgAAAAABAAAEAAAAAAEAAAAAAAAAAQAAAgAAAAABAAAKAAAAAAEAAAQAAAAAAQAAAAAAAAABAAACAAAAAAEAAAoAAAAAAQAABAAAAAABAAAAAAAAAAEAAAIAAAAAAQAACgAAAAABAAAEAAAAAAEAAAAAAAAAAQAAAgAAAAABAAAKAAAAAAEAAAQAAAAAAQAAAAAAAAABAAACAAAAAAEAAAoAAAAAAQAABAAAAAABAAAAAAAAAAEAAAIAAAAAAQAACgAAAAABAAAEAAAAAAEAAAAAAAAAAQAAAgAAAAABAAAKAAAAAAEAAAQAAAAAAQAAAAAAAAABAAACAAAAAAEAAAoAAAAAAQAABAAAAAABAAAAAAAAAAEAAAIAAAAAAQAACgAAAAABAAAEAAAAAAEAAAAAAAAAAQAAAgAAAAABAAAKAAAAAAEAAAQAAAAAAQAAAAAAAAABAAACAAAAAAEAAAoAAAAAAQAABAAAAAABAAAAAAAAAAEAAAIAAAAAAQAACgAAAAABAAAEAAAAAAEAAAAAAAAAAQAAAgAAAAABAAAKAAAAAAEAAAQAAAAAAQAAAAAAAAABAAACAAAAAAEAAAoAAAAAAQAABAAAAAABAAAAAAAAAAEAAAIAAAAAAQAACgAAAAABAAAEAAAAAAEAAAAAAAAAAQAAAgAAAAABAAAKAAAAAAEAAAQAAAAAAQAAAAAAAAABAAACAAAAAAEAAAoAAAAAAQAABAAAAAABAAAAAAAAAAEAAAIAAAAAAQAACAAAAAACAAACAAAAAAEAAAoAAAAAAQAABAAAAAABAAAAAAAAAAEAAAIAAAAAAQAACgAAAAABAAAEAAAAAAEAAAAAAAAAAQAAAgAAAAABAAAKAAAAAAEAAAQAAAAAAQAAAAAAAAABAAACAAAAAAEAAAoAAAAAAQAABAAAAAABAAAAAAAAAAEAAAIAAAAAAQAACgAAAAABAAAEAAAAAAEAAAAAAAAAAQAAAgAAAAABAAAKAAAAAAEAAAQAAAAAAQAAAAAAAAABAAACAAAAAAEAAAoAAAAAAQAABAAAAAABAAAAAAAAAAEAAAIAAAAAAQAACgAAAAABAAAEAAAAAAEAAAAAAAAAAQAAAgAAAAABAAAKAAAAAAEAAAQAAAAAAQAAAAAAAAABAAACAAAAAAEAAAoAAAAAAQAABAAAAAABAAAAAAAAAAEAAAIAAAAAAQAACgAAAAABAAAEAAAAAAEAAAAAAAAAAQAAAgAAAAABAAAKAAAAAAEAAAQAAAAAAQAAAAAAAAABAAACAAAAAAEAAAoAAAAAAQAABAAAAAABAAAAAAAAAAEAAAIAAAAAAQAACgAAAAABAAAEAAAAAAEAAAAAAAAAAQAAAgAAAAABAAAKAAAAAAEAAAQAAAAAAQAAAAAAAAABAAACAAAAAAEAAAoAAAAAAQAABAAAAAABAAAAAAAAAAEAAAIAAAAAAQAACgAAAAABAAAEAAAAAAEAAAAAAAAAAQAAAgAAAAABAAAKAAAAAAEAAAQAAAAAAQAAAAAAAAABAAACAAAAAAEAAAoAAAAAAQAABAAAAAABAAAAAAAAAAEAAAIAAAAAAQAACgAAAAABAAAEAAAAAAEAAAAAAAAAAQAAAgAAAAABAAAKAAAAAAEAAAQAAAAAAQAAAAAAAAABAAACAAAAAAEAAAoAAAAAAQAABAAAAAABAAAAAAAAAAEAAAIAAAAAAQAACgAAAAABAAAEAAAAAAEAAAAAAAAAAQAAAgAAAAABAAAKAAAAAAEAAAQAAAAAAQAAAAAAAAABAAACAAAAAAEAAAoAAAAAAQAABAAAAAABAAAAAAAAAAEAAAIAAAAAAQAACgAAAAABAAAEAAAAAAEAAAAAAAAAAQAAAgAAAAABAAAKAAAAAAEAAAQAAAAAAQAAAAAAAAABAAACAAAAAAEAAAoAAAAAAQAABAAAAAABAAAAAAAAAAEAAAIAAAAAAQAACgAAAAABAAAEAAAAAAEAAAAAAAAAAQAAAgAAAAABAAAKAAAAAAEAAAQAAAAAAQAAAAAAAAABAAACAAAAAAEAAAoAAAAAAQAABAAAAAABAAAAAAAAAAEAAAIAAAAAAQAACgAAAAABAAAEAAAAAAEAAAAAAAAAAQAAAgAAAAABAAAKAAAAAAEAAAQAAAAAAQAAAAAAAAABAAACAAAAAAEAAAoAAAAAAQAABAAAAAABAAAAAAAAAAEAAAIAAAAAAQAACgAAAAABAAAEAAAAAAEAAAAAAAAAAQAAAgAAAAABAAAKAAAAAAEAAAQAAAAAAQAAAAAAAAABAAACAAAAAAEAAAoAAAAAAQAABAAAAAABAAAAAAAAAAEAAAIAAAAAAQAACgAAAAABAAAEAAAAAAEAAAAAAAAAAQAAAgAAAAABAAAGAAAAAAEAAAIAAAAAAQAACgAAAAABAAAEAAAAAAEAAAAAAAAAAQAAAgAAAAABAAAKAAAAAAEAAAQAAAAAAQAAAAAAAAABAAACAAAAAAEAAAoAAAAAAQAABAAAAAABAAAAAAAAAAEAAAIAAAAAAQAABAAAAAABAAAKAAAAAAEAAAQAAAAAAQAAAAAAAAABAAACAAAAAAEAAAoAAAAAAQAABAAAAAABAAAAAAAAAAEAAAIAAAAAAQAACgAAAAABAAAEAAAAAAEAAAAAAAAAAQAAAgAAAAABAAAKAAAAAAEAAAQAAAAAAQAAAAAAAAABAAACAAAAAAEAAAoAAAAAAQAABAAAAAABAAAAAAAAAAEAAAIAAAAAAQAACgAAAAABAAAEAAAAAAEAAAAAAAAAAQAAAgAAAAABAAAKAAAAAAEAAAQAAAAAAQAAAAAAAAABAAACAAAAAAEAAAoAAAAAAQAABAAAAAABAAAAAAAAAAEAAAIAAAAAAQAACgAAAAABAAAEAAAAAAEAAAAAAAAAAQAAAgAAAAABAAAKAAAAAAEAAAQAAAAAAQAAAAAAAAABAAACAAAAAAEAAAoAAAAAAQAABAAAAAABAAAAAAAAAAEAAAIAAAAAAQAACgAAAAABAAAEAAAAAAEAAAAAAAAAAQAAAgAAAAABAAAKAAAAAAEAAAQAAAAAAQAAAAAAAAABAAACAAAAAAEAAAoAAAAAAQAABAAAAAABAAAAAAAAAAEAAAIAAAAAAQAACgAAAAABAAAEAAAAAAEAAAAAAAAAAQAAAgAAAAABAAAKAAAAAAEAAAQAAAAAAQAAAAAAAAABAAACAAAAAAEAAAYAAAAAAQAAAgAAAAABAAAKAAAAAAEAAAQAAAAAAQAAAAAAAAABAAACAAAAAAEAAAoAAAAAAQAABAAAAAABAAAAAAAAAAEAAAIAAAAAAQAACgAAAAABAAAEAAAAAAEAAAAAAAAAAQAAAgAAAAABAAAIAAAAAAIAAAIAAAAAAQAACgAAAAABAAAEAAAAAAEAAAAAAAAAAQAAAgAAAAABAAAKAAAAAAEAAAQAAAAAAQAAAAAAAAABAAACAAAAAAEAAAYAAAAAAQAAAgAAAAABAAAKAAAAAAEAAAQAAAAAAQAAAAAAAAABAAACAAAAAAEAAAoAAAAAAQAABAAAAAABAAAAAAAAAAEAAAIAAAAAAQAACgAAAAABAAAEAAAAAAEAAAAAAAAAAQAAAgAAAAABAAAKAAAAAAEAAAQAAAAAAQAAAAAAAAABAAACAAAAAAEAAAoAAAAAAQAABAAAAAABAAAAAAAAAAEAAAIAAAAAAQAACgAAAAABAAAEAAAAAAEAAAAAAAAAAQAAAgAAAAABAAAKAAAAAAEAAAQAAAAAAQAAAAAAAAABAAACAAAAAAEAAAoAAAAAAQAABAAAAAABAAAAAAAAAAEAAAIAAAAAAQAACgAAAAABAAAEAAAAAAEAAAAAAAAAAQAAAgAAAAABAAAKAAAAAAEAAAQAAAAAAQAAAAAAAAABAAACAAAAAAEAAAoAAAAAAQAABAAAAAABAAAAAAAAAAEAAAIAAAAAAQAACgAAAAABAAAEAAAAAAEAAAAAAAAAAQAAAgAAAAABAAAKAAAAAAEAAAQAAAAAAQAAAAAAAAABAAACAAAAAAEAAAoAAAAAAQAABAAAAAABAAAAAAAAAAEAAAIAAAAAAQAACgAAAAABAAAEAAAAAAEAAAAAAAAAAQAAAgAAAAABAAAKAAAAAAEAAAQAAAAAAQAAAAAAAAABAAACAAAAAAEAAAoAAAAAAQAABAAAAAABAAAAAAAAAAEAAAIAAAAAAQAACgAAAAABAAAEAAAAAAEAAAAAAAAAAQAAAgAAAAABAAAGAAAAAAEAAAIAAAAAAQAACgAAAAABAAAEAAAAAAEAAAAAAAAAAQAAAgAAAAABAAAKAAAAAAEAAAQAAAAAAQAAAAAAAAABAAACAAAAAAEAAAoAAAAAAQAABAAAAAABAAAAAAAAAAEAAAIAAAAAAQAACgAAAAABAAAEAAAAAAEAAAAAAAAAAQAAAgAAAAABAAAKAAAAAAEAAAQAAAAAAQAAAAAAAAABAAACAAAAAAEAAAoAAAAAAQAABAAAAAABAAAAAAAAAAEAAAIAAAAAAQAACgAAAAABAAAEAAAAAAEAAAAAAAAAAQAAAgAAAAABAAAKAAAAAAEAAAQAAAAAAQAAAAAAAAABAAACAAAAAAEAAAoAAAAAAQAABAAAAAABAAAAAAAAAAEAAAIAAAAAAQAACgAAAAABAAAEAAAAAAEAAAAAAAAAAQAAAgAAAAABAAAKAAAAAAEAAAQAAAAAAQAAAAAAAAABAAACAAAAAAEAAAoAAAAAAQAABAAAAAABAAAAAAAAAAEAAAIAAAAAAQAACgAAAAABAAAEAAAAAAEAAAAAAAAAAQAAAgAAAAABAAAKAAAAAAEAAAQAAAAAAQAAAAAAAAABAAACAAAAAAEAAAoAAAAAAQAABAAAAAABAAAAAAAAAAEAAAIAAAAAAQAACgAAAAABAAAEAAAAAAEAAAAAAAAAAQAAAgAAAAABAAAKAAAAAAEAAAQAAAAAAQAAAAAAAAABAAACAAAAAAEAAAoAAAAAAQAABAAAAAABAAAAAAAAAAEAAAIAAAAAAQAACgAAAAABAAAEAAAAAAEAAAAAAAAAAQAAAgAAAAABAAAKAAAAAAEAAAQAAAAAAQAAAAAAAAABAAACAAAAAAEAAAoAAAAAAQAABAAAAAABAAAAAAAAAAEAAAIAAAAAAQAABAAAAAABAAAKAAAAAAEAAAQAAAAAAQAAAAAAAAABAAACAAAAAAEAAAoAAAAAAQAABAAAAAABAAAAAAAAAAEAAAIAAAAAAQAACgAAAAABAAAEAAAAAAEAAAAAAAAAAQAAAgAAAAABAAAIAAAAAAIAAAIAAAAAAQAACgAAAAABAAAEAAAAAAEAAAAAAAAAAQAAAgAAAAABAAAKAAAAAAEAAAQAAAAAAQAAAAAAAAABAAACAAAAAAEAAAoAAAAAAQAABAAAAAABAAAAAAAAAAEAAAIAAAAAAQAACgAAAAABAAAEAAAAAAEAAAAAAAAAAQAAAgAAAAABAAAKAAAAAAEAAAQAAAAAAQAAAAAAAAABAAACAAAAAAEAAAoAAAAAAQAABAAAAAABAAAAAAAAAAEAAAIAAAAAAQAACgAAAAABAAAEAAAAAAEAAAAAAAAAAQAAAgAAAAABAAAKAAAAAAEAAAQAAAAAAQAAAAAAAAABAAACAAAAAAEAAAoAAAAAAQAABAAAAAABAAAAAAAAAAEAAAIAAAAAAQAACgAAAAABAAAEAAAAAAEAAAAAAAAAAQAAAgAAAAABAAAKAAAAAAEAAAQAAAAAAQAAAAAAAAABAAACAAAAAAEAAAoAAAAAAQAABAAAAAABAAAAAAAAAAEAAAIAAAAAAQAACgAAAAABAAAEAAAAAAEAAAAAAAAAAQAAAgAAAAABAAAKAAAAAAEAAAQAAAAAAQAAAAAAAAABAAACAAAAAAEAAAoAAAAAAQAABAAAAAABAAAAAAAAAAEAAAIAAAAAAQAACgAAAAABAAAEAAAAAAEAAAAAAAAAAQAAAgAAAAABAAAKAAAAAAEAAAQAAAAAAQAAAAAAAAABAAACAAAAAAEAAAoAAAAAAQAABAAAAAABAAAAAAAAAAEAAAIAAAAAAQAACgAAAAABAAAEAAAAAAEAAAAAAAAAAQAAAgAAAAABAAAKAAAAAAEAAAQAAAAAAQAAAAAAAAABAAACAAAAAAEAAAoAAAAAAQAABAAAAAABAAAAAAAAAAEAAAIAAAAAAQAACgAAAAABAAAEAAAAAAEAAAAAAAAAAQAAAgAAAAABAAAKAAAAAAEAAAQAAAAAAQAAAAAAAAABAAACAAAAAAEAAAoAAAAAAQAABAAAAAABAAAAAAAAAAEAAAIAAAAAAQAACgAAAAABAAAEAAAAAAEAAAAAAAAAAQAAAgAAAAABAAAKAAAAAAEAAAQAAAAAAQAAAAAAAAABAAACAAAAAAEAAAoAAAAAAQAABAAAAAABAAAAAAAAAAEAAAIAAAAAAQAACgAAAAABAAAEAAAAAAEAAAAAAAAAAQAAAgAAAAABAAAKAAAAAAEAAAQAAAAAAQAAAAAAAAABAAACAAAAAAEAAAoAAAAAAQAABAAAAAABAAAAAAAAAAEAAAIAAAAAAQAACgAAAAABAAAEAAAAAAEAAAAAAAAAAQAAAgAAAAABAAAKAAAAAAEAAAQAAAAAAQAAAAAAAAABAAACAAAAAAEAAAoAAAAAAQAABAAAAAABAAAAAAAAAAEAAAIAAAAAAQAACgAAAAABAAAEAAAAAAEAAAAAAAAAAQAAAgAAAAAcc3RzYwAAAAAAAAABAAAAAQAAA4YAAAABAAAOLHN0c3oAAAAAAAAAAAAAA4YAAAi5AAAB2QAAAIcAAACNAAAAOwAAAncAAAEdAAABqAAAASAAAAC3AAAA5wAAAaoAAAGaAAAAugAAAVAAAAFfAAAA4wAAAdQAAAGYAAAAwwAAAgIAAAD7AAAB8wAAASgAAADLAAABGgAAAZoAAAExAAABsQAAAawAAAB1AAABGQAAAakAAAGMAAAAwAAAAN0AAAF0AAAA6AAAAKgAAACTAAABLgAAAPAAAACGAAAApwAAASgAAAC/AAAAdgAAAP4AAAExAAABAQAAAIMAAABsAAABMgAAAGwAAAELAAAAtQAAAKQAAACJAAABEgAAAKwAAAC6AAAAzgAAAToAAAC3AAAAqQAAAGAAAAHBAAAA2gAAANYAAAC1AAAA8QAAAGAAAACiAAAAPwAAAFcAAAEPAAAApAAAAJcAAACWAAAAOQAAADgAAABuAAAAXwAAADcAAAA4AAABFwAAADkAAAA3AAAAEwAAAHcAAABAAAAANwAAABMAAADEAAAAPwAAABYAAAA5AAAAQwAAABsAAAAVAAAAFQAAAPoAAAA8AAAAEwAAADkAAAA4AAAAGwAAABUAAAAVAAAAOQAAABoAAAAVAAAAFwAAADcAAAAaAAAAFQAAABUAAAA2AAAAGgAAABYAAAAVAAAAQQAAABoAAAAVAAAAFwAAAC8AAAAYAAAAFQAAABUAAABAAAAAGgAAABcAAAA5AAAANgAAABoAAAAVAAAAFwAAADkAAAAaAAAAFQAAABcAAADAAAAAPQAAABYAAAA2AAAAZwAAAD0AAAAVAAAAYgAAADwAAAAaAAAANwAAABcAAAAZAAAAGAAAABUAAAAVAAAA1QAAADkAAAA3AAAAPQAAACAAAAAaAAAAFQAAAD8AAAAqAAAAGgAAABcAAAAVAAAAvQAAAD8AAABFAAAAFwAAABkAAAAYAAAAFQAAAD8AAAAxAAAAGQAAABYAAAAVAAAAHgAAABkAAAA+AAAAFQAAACUAAAAYAAAAFQAAABUAAAA9AAAAGgAAABcAAAAVAAAALAAAABoAAAAXAAAAFQAAABkAAAAYAAAAFQAAABUAAAEJAAAASwAAABsAAABCAAAAOwAAADoAAAAbAAAAFwAAADwAAAAZAAAAEwAAABYAAAAdAAAAGAAAADoAAAATAAAAVAAAABoAAAAXAAAAQgAAADYAAAAYAAAAFQAAABUAAABLAAAAGgAAABcAAAAVAAAAdgAAABwAAAAXAAAAFwAAAHEAAAA3AAAAGQAAABoAAAAoAAAAGAAAABUAAAAVAAAA0wAAADwAAAAVAAAAOAAAABkAAAAYAAAAOwAAABUAAAAZAAAEIQAAAC4AAAASAAAAEAAAABIAAAC2AAAAOwAAABIAAAA3AAAAMQAAABkAAAAQAAAAEwAAADYAAAAZAAAAEAAAABQAAABCAAAAGAAAABQAAAASAAAAswAAADwAAAATAAAAagAAABkAAAAUAAAAEAAAABAAAACHAAAAFAAAABAAAAAQAAAAdgAAABkAAAAQAAAAFAAAAGsAAAAeAAAAEgAAABQAAABKAAAAIAAAABQAAAASAAAAswAAADgAAABJAAAAOwAAAEAAAAAcAAAAEgAAABQAAAFGAAAAagAAAEUAAAAWAAAAVQAAADgAAAA2AAAAFAAAABkAAAAWAAAAFAAAABQAAAA+AAAAGQAAABYAAAAUAAAAPQAAABkAAAAWAAAAFgAAACsAAAAZAAAAFAAAABYAAACPAAAAKAAAABcAAAAbAAAANAAAABwAAAAlAAAAGQAAABQAAAASAAAAPQAAAIEAAAAUAAAAEgAAABIAAAC2AAAANwAAADYAAAA2AAAAQQAAAB4AAAATAAAAEwAAAB4AAAAVAAAAOAAAABMAAAAZAAAAEwAAABAAAAAQAAAAqQAAADcAAAA1AAAAEAAAACMAAAAUAAAAEAAAABAAAADdAAAAggAAADYAAAASAAAAOQAAABYAAAAUAAAAEgAAADgAAAAXAAAAEgAAABQAAAB/AAAAGQAAABcAAAAYAAAAPAAAACQAAAAYAAAAGQAAACUAAAAXAAAAEgAAABQAAAC/AAAAOQAAAHgAAAAUAAAAOQAAACQAAAAXAAAAFAAAADUAAAAaAAAAEgAAABQAAABuAAAAHAAAABQAAAAYAAAAGQAAABwAAAAXAAAAGAAAAGAAAAAcAAAAFwAAABQAAAB4AAAAGAAAABQAAAASAAAARwAAABkAAAASAAAAFAAAAMsAAAA6AAAAPAAAABIAAABAAAAAGQAAABQAAAASAAAAGQAAABYAAAASAAAAEgAAAEAAAAAZAAAAEgAAABQAAAAZAAAAFgAAADkAAAASAAAALAAAABgAAAASAAAAEwAAADsAAAAZAAAAEgAAABQAAAAyAAAAGAAAABQAAAAQAAAAHgAAABQAAAAQAAAAEAAAABkAAAAUAAAAEAAAABAAAACrAAAAOAAAADUAAAAQAAAAPgAAABgAAAA2AAAAEAAAADYAAAAZAAAAEAAAABIAAAAzAAAAFwAAABMAAAAQAAAAKAAAABQAAAASAAAAEAAAADYAAAAYAAAAEAAAABMAAABLAAAAEwAAAC0AAAAYAAAAOwAAABMAAAAeAAAAFgAAABIAAAASAAAAQQAAABoAAAAyAAAAFAAAA1cAAAAxAAAAEwAAABMAAAAQAAAAPgAAABUAAAATAAAAEAAAAEUAAAAXAAAAEAAAABQAAABPAAAAFAAAABIAAAASAAAA0wAAAE8AAAATAAAAPwAAAIUAAAAXAAAAEgAAABQAAADoAAAARQAAABQAAAA9AAAAJwAAABwAAAAUAAAAEgAAABkAAAAZAAAAEgAAABIAAAAZAAAAGQAAABIAAAASAAAAPgAAAEUAAAAaAAAAGQAAAGYAAAAfAAAAGAAAABgAAABEAAAAHQAAACEAAAASAAAAPAAAABsAAAASAAAAFAAAACIAAAAaAAAAEgAAABQAAABpAAAAGwAAABIAAAASAAAAagAAABgAAADFAAAAcwAAAF8AAAASAAAAOwAAACEAAAAUAAAAEgAAAEQAAAAhAAAAEgAAABQAAAAzAAAAHwAAAEQAAADHAAAAOAAAADcAAAASAAAAPAAAABwAAAAUAAAAEgAAABoAAAA5AAAAxQAAAEwAAABaAAAAFAAAACcAAAAZAAAAEgAAABIAAAAZAAAAGQAAABIAAAASAAAARAAAABwAAAAUAAAAEgAAADQAAAAbAAAAEgAAABQAAAAtAAAAGgAAABMAAAASAAAAGQAAABkAAAASAAAAEgAAADkAAAAbAAAAEgAAABQAAAAlAAAAGgAAABQAAAASAAAAdQAAAB4AAAASAAAAGAAAACMAAAAfAAAAFwAAABIAAAAZAAAAGQAAADkAAAASAAAAKgAAADYAAAAVAAAAFQAAADcAAAAaAAAAEAAAABMAAADIAAAANwAAADUAAAAQAAAAKgAAADAAAAATAAAAEwAAADMAAAAVAAAAEAAAABMAAAAnAAAAFwAAABQAAAASAAAALAAAABQAAAAlAAAAFQAAADcAAAASAAAATwAAABwAAAASAAAAFAAAAEMAAAAYAAAAEgAAABQAAABwAAAAGAAAABQAAAASAAAASQAAACAAAAAUAAAAFAAAAM4AAAA6AAAAXQAAABMAAAAcAAAAGgAAABIAAAA3AAAAagAAAC4AAAATAAAAFwAAACUAAAAcAAAAFgAAABAAAAAZAAAAFgAAABAAAAAQAAAAOgAAABoAAAAQAAAAEwAAAB0AAAAaAAAAEAAAABMAAABDAAAAGwAAABMAAAASAAAAHgAAABwAAAASAAAAPAAAABkAAAAbAAAAEgAAABIAAADVAAAAOAAAADUAAAASAAAAbgAAACAAAAAUAAAAGAAAAEUAAAAeAAAAFwAAABQAAABGAAAAGgAAABQAAAASAAAAtgAAAF0AAAA2AAAAFgAAAJgAAACEAAAAFAAAAD8AAAPKAAAA3gAAAEIAAAASAAAANwAAAB4AAAAVAAAAEAAAABMAAAAZAAAAEwAAABAAAAAQAAAALAAAABUAAAAvAAAAQAAAABYAAAATAAAAEAAAAB4AAAAXAAAAEAAAABMAAAAtAAAAFQAAABMAAAAQAAAAdQAAABsAAAATAAAAGAAAAEwAAAAeAAAAFwAAACQAAAA7AAAAGgAAABcAAAAQAAAAOAAAADMAAAAeAAAAHgAAAEMAAAAVAAAAEAAAABMAAABbAAAAEwAAABAAAAAQAAAAzwAAADsAAAAQAAAATQAAABkAAAAWAAAAEAAAABAAAABHAAAAGgAAABMAAAAQAAAANAAAADEAAAAWAAAAFgAAAFQAAAA4AAAAGQAAABkAAAC/AAAAUQAAABYAAAA/AAAARwAAABsAAAAQAAAAEwAAAEEAAAAYAAAAEAAAABMAAAA4AAAAFwAAABMAAAAQAAAANwAAABoAAAAUAAAAFAAAAMcAAAA8AAAAEgAAADUAAAAZAAAAFgAAABIAAAASAAAARAAAABkAAAASAAAAFAAAALsAAAA8AAAAEgAAADQAAAAZAAAAFgAAABIAAAASAAAAGQAAACEAAAAUAAAAFAAAAHAAAAAaAAAAEgAAABoAAAA8AAAAGQAAABcAAAASAAAAQAAAABcAAAASAAAAFAAAACEAAAAVAAAAEgAAABMAAAC3AAAANwAAADUAAAASAAAAagAAADAAAAAVAAAAFwAAAC0AAAAYAAAAFgAAABAAAAArAAAAFAAAABIAAAAQAAAALQAAAB0AAAAVAAAAEgAAABRzdGNvAAAAAAAAAAEAAAAwAAAAYnVkdGEAAABabWV0YQAAAAAAAAAhaGRscgAAAAAAAAAAbWRpcmFwcGwAAAAAAAAAAAAAAAAtaWxzdAAAACWpdG9vAAAAHWRhdGEAAAABAAAAAExhdmY1OC4yOS4xMDA=\" type=\"video/mp4\" />\n",
              "                 </video>"
            ]
          },
          "metadata": {}
        }
      ],
      "source": [
        "env = gym.make(\"parking-v0\", render_mode='rgb_array')\n",
        "env = record_videos(env)\n",
        "obs, info = env.reset()\n",
        "\n",
        "for step in trange(3 * env.config[\"duration\"], desc=\"Testing 3 episodes...\"):\n",
        "    action = cem_planner(torch.Tensor(obs[\"observation\"]),\n",
        "                         torch.Tensor(obs[\"desired_goal\"]),\n",
        "                         env.action_space.shape[0])\n",
        "    obs, reward, done, truncated, info = env.step(action.numpy())\n",
        "    if done or truncated:\n",
        "        obs, info = env.reset()\n",
        "env.close()\n",
        "show_videos()"
      ]
    },
    {
      "cell_type": "markdown",
      "metadata": {
        "id": "psBBQIv4fvjT",
        "pycharm": {
          "name": "#%% md\n"
        }
      },
      "source": [
        "## Limitations\n",
        "\n",
        "### Model bias\n",
        "\n",
        "In model-based reinforcement learning, we replace our original optimal control problem by another problem: optimizing our learnt approximate MDP. When settling for this approximate MDP to plan with, we introduce a **bias** that can only **decrease the true performance** of the corresponding planned policy. This is called the problem of model bias.\n",
        "\n",
        "In some MDPs, even slight model errors lead to a dramatic drop in performance, as illustrated in the beginning of the following video:\n",
        "\n",
        "[![Approximate Robust Control of Uncertain Dynamical Systems](https://img.youtube.com/vi/8khqd3BJo0A/0.jpg)](https://www.youtube.com/watch?v=8khqd3BJo0A)\n",
        "\n",
        "The question of how to address model bias belongs to the field of **Safe Reinforcement Learning**.\n",
        "\n",
        "### [The call of the void](https://www.urbandictionary.com/define.php?term=the%20call%20of%20the%20void)\n",
        "\n",
        "The model will be accurate only on some region of the state space that was explored and covered in $D$.\n",
        "Outside of $D$, the model may diverge and **hallucinate** important rewards.\n",
        "This effect is problematic when the model is used by a planning algorithm, as the latter will try to **exploit** these hallucinated high rewards and will steer the agent towards **unknown** (and thus dangerous) **regions** where the model is erroneously optimistic.\n",
        "\n",
        "### Computational cost of planning\n",
        "\n",
        "At test time, the planning step typically requires **sampling a lot of trajectories** to find a near-optimal candidate, wich may turn out to be very costly. This may be prohibitive in a high-frequency real-time setting. The **model-free** methods which directly recommend the best action are **much more efficient** in that regard."
      ]
    }
  ],
  "metadata": {
    "colab": {
      "provenance": []
    },
    "kernelspec": {
      "display_name": "Python 3",
      "language": "python",
      "name": "python3"
    },
    "language_info": {
      "codemirror_mode": {
        "name": "ipython",
        "version": 3
      },
      "file_extension": ".py",
      "mimetype": "text/x-python",
      "name": "python",
      "nbconvert_exporter": "python",
      "pygments_lexer": "ipython3",
      "version": "3.6.5"
    },
    "pycharm": {
      "stem_cell": {
        "cell_type": "raw",
        "metadata": {
          "collapsed": false
        },
        "source": []
      }
    },
    "widgets": {
      "application/vnd.jupyter.widget-state+json": {
        "d82862e953934ed897cc2d3911e02bc2": {
          "model_module": "@jupyter-widgets/controls",
          "model_name": "HBoxModel",
          "model_module_version": "1.5.0",
          "state": {
            "_dom_classes": [],
            "_model_module": "@jupyter-widgets/controls",
            "_model_module_version": "1.5.0",
            "_model_name": "HBoxModel",
            "_view_count": null,
            "_view_module": "@jupyter-widgets/controls",
            "_view_module_version": "1.5.0",
            "_view_name": "HBoxView",
            "box_style": "",
            "children": [
              "IPY_MODEL_f17a64feda67457fa09deda7088695a0",
              "IPY_MODEL_b8472e6036144808bc2c5b2fe0f5046c",
              "IPY_MODEL_e8a78169b6234fe785324d81b785dee4"
            ],
            "layout": "IPY_MODEL_b3c4f5b939d34dc79dfaf266bb3dd0ca"
          }
        },
        "f17a64feda67457fa09deda7088695a0": {
          "model_module": "@jupyter-widgets/controls",
          "model_name": "HTMLModel",
          "model_module_version": "1.5.0",
          "state": {
            "_dom_classes": [],
            "_model_module": "@jupyter-widgets/controls",
            "_model_module_version": "1.5.0",
            "_model_name": "HTMLModel",
            "_view_count": null,
            "_view_module": "@jupyter-widgets/controls",
            "_view_module_version": "1.5.0",
            "_view_name": "HTMLView",
            "description": "",
            "description_tooltip": null,
            "layout": "IPY_MODEL_7e8413ffb2a64f74ab9a7ff3017b3843",
            "placeholder": "​",
            "style": "IPY_MODEL_97e6041b16454ba4bc4d151617b4c4f6",
            "value": "Collecting interaction data: 100%"
          }
        },
        "b8472e6036144808bc2c5b2fe0f5046c": {
          "model_module": "@jupyter-widgets/controls",
          "model_name": "FloatProgressModel",
          "model_module_version": "1.5.0",
          "state": {
            "_dom_classes": [],
            "_model_module": "@jupyter-widgets/controls",
            "_model_module_version": "1.5.0",
            "_model_name": "FloatProgressModel",
            "_view_count": null,
            "_view_module": "@jupyter-widgets/controls",
            "_view_module_version": "1.5.0",
            "_view_name": "ProgressView",
            "bar_style": "success",
            "description": "",
            "description_tooltip": null,
            "layout": "IPY_MODEL_7a64cdedcb1543578f93a9a3293663e0",
            "max": 1000,
            "min": 0,
            "orientation": "horizontal",
            "style": "IPY_MODEL_885a82ac98d14c5dae710bde5246de84",
            "value": 1000
          }
        },
        "e8a78169b6234fe785324d81b785dee4": {
          "model_module": "@jupyter-widgets/controls",
          "model_name": "HTMLModel",
          "model_module_version": "1.5.0",
          "state": {
            "_dom_classes": [],
            "_model_module": "@jupyter-widgets/controls",
            "_model_module_version": "1.5.0",
            "_model_name": "HTMLModel",
            "_view_count": null,
            "_view_module": "@jupyter-widgets/controls",
            "_view_module_version": "1.5.0",
            "_view_name": "HTMLView",
            "description": "",
            "description_tooltip": null,
            "layout": "IPY_MODEL_b9c62efacc4d45458dc4e0cd0532e3ac",
            "placeholder": "​",
            "style": "IPY_MODEL_8bfaa9e821624732b36da1c811926e60",
            "value": " 1000/1000 [00:29&lt;00:00, 38.94it/s]"
          }
        },
        "b3c4f5b939d34dc79dfaf266bb3dd0ca": {
          "model_module": "@jupyter-widgets/base",
          "model_name": "LayoutModel",
          "model_module_version": "1.2.0",
          "state": {
            "_model_module": "@jupyter-widgets/base",
            "_model_module_version": "1.2.0",
            "_model_name": "LayoutModel",
            "_view_count": null,
            "_view_module": "@jupyter-widgets/base",
            "_view_module_version": "1.2.0",
            "_view_name": "LayoutView",
            "align_content": null,
            "align_items": null,
            "align_self": null,
            "border": null,
            "bottom": null,
            "display": null,
            "flex": null,
            "flex_flow": null,
            "grid_area": null,
            "grid_auto_columns": null,
            "grid_auto_flow": null,
            "grid_auto_rows": null,
            "grid_column": null,
            "grid_gap": null,
            "grid_row": null,
            "grid_template_areas": null,
            "grid_template_columns": null,
            "grid_template_rows": null,
            "height": null,
            "justify_content": null,
            "justify_items": null,
            "left": null,
            "margin": null,
            "max_height": null,
            "max_width": null,
            "min_height": null,
            "min_width": null,
            "object_fit": null,
            "object_position": null,
            "order": null,
            "overflow": null,
            "overflow_x": null,
            "overflow_y": null,
            "padding": null,
            "right": null,
            "top": null,
            "visibility": null,
            "width": null
          }
        },
        "7e8413ffb2a64f74ab9a7ff3017b3843": {
          "model_module": "@jupyter-widgets/base",
          "model_name": "LayoutModel",
          "model_module_version": "1.2.0",
          "state": {
            "_model_module": "@jupyter-widgets/base",
            "_model_module_version": "1.2.0",
            "_model_name": "LayoutModel",
            "_view_count": null,
            "_view_module": "@jupyter-widgets/base",
            "_view_module_version": "1.2.0",
            "_view_name": "LayoutView",
            "align_content": null,
            "align_items": null,
            "align_self": null,
            "border": null,
            "bottom": null,
            "display": null,
            "flex": null,
            "flex_flow": null,
            "grid_area": null,
            "grid_auto_columns": null,
            "grid_auto_flow": null,
            "grid_auto_rows": null,
            "grid_column": null,
            "grid_gap": null,
            "grid_row": null,
            "grid_template_areas": null,
            "grid_template_columns": null,
            "grid_template_rows": null,
            "height": null,
            "justify_content": null,
            "justify_items": null,
            "left": null,
            "margin": null,
            "max_height": null,
            "max_width": null,
            "min_height": null,
            "min_width": null,
            "object_fit": null,
            "object_position": null,
            "order": null,
            "overflow": null,
            "overflow_x": null,
            "overflow_y": null,
            "padding": null,
            "right": null,
            "top": null,
            "visibility": null,
            "width": null
          }
        },
        "97e6041b16454ba4bc4d151617b4c4f6": {
          "model_module": "@jupyter-widgets/controls",
          "model_name": "DescriptionStyleModel",
          "model_module_version": "1.5.0",
          "state": {
            "_model_module": "@jupyter-widgets/controls",
            "_model_module_version": "1.5.0",
            "_model_name": "DescriptionStyleModel",
            "_view_count": null,
            "_view_module": "@jupyter-widgets/base",
            "_view_module_version": "1.2.0",
            "_view_name": "StyleView",
            "description_width": ""
          }
        },
        "7a64cdedcb1543578f93a9a3293663e0": {
          "model_module": "@jupyter-widgets/base",
          "model_name": "LayoutModel",
          "model_module_version": "1.2.0",
          "state": {
            "_model_module": "@jupyter-widgets/base",
            "_model_module_version": "1.2.0",
            "_model_name": "LayoutModel",
            "_view_count": null,
            "_view_module": "@jupyter-widgets/base",
            "_view_module_version": "1.2.0",
            "_view_name": "LayoutView",
            "align_content": null,
            "align_items": null,
            "align_self": null,
            "border": null,
            "bottom": null,
            "display": null,
            "flex": null,
            "flex_flow": null,
            "grid_area": null,
            "grid_auto_columns": null,
            "grid_auto_flow": null,
            "grid_auto_rows": null,
            "grid_column": null,
            "grid_gap": null,
            "grid_row": null,
            "grid_template_areas": null,
            "grid_template_columns": null,
            "grid_template_rows": null,
            "height": null,
            "justify_content": null,
            "justify_items": null,
            "left": null,
            "margin": null,
            "max_height": null,
            "max_width": null,
            "min_height": null,
            "min_width": null,
            "object_fit": null,
            "object_position": null,
            "order": null,
            "overflow": null,
            "overflow_x": null,
            "overflow_y": null,
            "padding": null,
            "right": null,
            "top": null,
            "visibility": null,
            "width": null
          }
        },
        "885a82ac98d14c5dae710bde5246de84": {
          "model_module": "@jupyter-widgets/controls",
          "model_name": "ProgressStyleModel",
          "model_module_version": "1.5.0",
          "state": {
            "_model_module": "@jupyter-widgets/controls",
            "_model_module_version": "1.5.0",
            "_model_name": "ProgressStyleModel",
            "_view_count": null,
            "_view_module": "@jupyter-widgets/base",
            "_view_module_version": "1.2.0",
            "_view_name": "StyleView",
            "bar_color": null,
            "description_width": ""
          }
        },
        "b9c62efacc4d45458dc4e0cd0532e3ac": {
          "model_module": "@jupyter-widgets/base",
          "model_name": "LayoutModel",
          "model_module_version": "1.2.0",
          "state": {
            "_model_module": "@jupyter-widgets/base",
            "_model_module_version": "1.2.0",
            "_model_name": "LayoutModel",
            "_view_count": null,
            "_view_module": "@jupyter-widgets/base",
            "_view_module_version": "1.2.0",
            "_view_name": "LayoutView",
            "align_content": null,
            "align_items": null,
            "align_self": null,
            "border": null,
            "bottom": null,
            "display": null,
            "flex": null,
            "flex_flow": null,
            "grid_area": null,
            "grid_auto_columns": null,
            "grid_auto_flow": null,
            "grid_auto_rows": null,
            "grid_column": null,
            "grid_gap": null,
            "grid_row": null,
            "grid_template_areas": null,
            "grid_template_columns": null,
            "grid_template_rows": null,
            "height": null,
            "justify_content": null,
            "justify_items": null,
            "left": null,
            "margin": null,
            "max_height": null,
            "max_width": null,
            "min_height": null,
            "min_width": null,
            "object_fit": null,
            "object_position": null,
            "order": null,
            "overflow": null,
            "overflow_x": null,
            "overflow_y": null,
            "padding": null,
            "right": null,
            "top": null,
            "visibility": null,
            "width": null
          }
        },
        "8bfaa9e821624732b36da1c811926e60": {
          "model_module": "@jupyter-widgets/controls",
          "model_name": "DescriptionStyleModel",
          "model_module_version": "1.5.0",
          "state": {
            "_model_module": "@jupyter-widgets/controls",
            "_model_module_version": "1.5.0",
            "_model_name": "DescriptionStyleModel",
            "_view_count": null,
            "_view_module": "@jupyter-widgets/base",
            "_view_module_version": "1.2.0",
            "_view_name": "StyleView",
            "description_width": ""
          }
        },
        "6bf1adb01e0245a29a047e0be06252e5": {
          "model_module": "@jupyter-widgets/controls",
          "model_name": "HBoxModel",
          "model_module_version": "1.5.0",
          "state": {
            "_dom_classes": [],
            "_model_module": "@jupyter-widgets/controls",
            "_model_module_version": "1.5.0",
            "_model_name": "HBoxModel",
            "_view_count": null,
            "_view_module": "@jupyter-widgets/controls",
            "_view_module_version": "1.5.0",
            "_view_name": "HBoxView",
            "box_style": "",
            "children": [
              "IPY_MODEL_c1eefcb6d82f4d8ca75003bc4bb2ed11",
              "IPY_MODEL_f178c05c5ef34c0ca13de1dd632d0bc4",
              "IPY_MODEL_a318dd9efb9a4d6d8c3eccfb12765d81"
            ],
            "layout": "IPY_MODEL_55afce8a5b464a058cc2f50d25cacd0d"
          }
        },
        "c1eefcb6d82f4d8ca75003bc4bb2ed11": {
          "model_module": "@jupyter-widgets/controls",
          "model_name": "HTMLModel",
          "model_module_version": "1.5.0",
          "state": {
            "_dom_classes": [],
            "_model_module": "@jupyter-widgets/controls",
            "_model_module_version": "1.5.0",
            "_model_name": "HTMLModel",
            "_view_count": null,
            "_view_module": "@jupyter-widgets/controls",
            "_view_module_version": "1.5.0",
            "_view_name": "HTMLView",
            "description": "",
            "description_tooltip": null,
            "layout": "IPY_MODEL_93a78a24069b4fb5bcb92710f60a5454",
            "placeholder": "​",
            "style": "IPY_MODEL_f464e4b06ce34725a065f4fb04543426",
            "value": "Train dynamics: 100%"
          }
        },
        "f178c05c5ef34c0ca13de1dd632d0bc4": {
          "model_module": "@jupyter-widgets/controls",
          "model_name": "FloatProgressModel",
          "model_module_version": "1.5.0",
          "state": {
            "_dom_classes": [],
            "_model_module": "@jupyter-widgets/controls",
            "_model_module_version": "1.5.0",
            "_model_name": "FloatProgressModel",
            "_view_count": null,
            "_view_module": "@jupyter-widgets/controls",
            "_view_module_version": "1.5.0",
            "_view_name": "ProgressView",
            "bar_style": "success",
            "description": "",
            "description_tooltip": null,
            "layout": "IPY_MODEL_3a06ee8ba57d46b6a8224e600014f09f",
            "max": 1500,
            "min": 0,
            "orientation": "horizontal",
            "style": "IPY_MODEL_6479b423ac774c44b2138227b00053fb",
            "value": 1500
          }
        },
        "a318dd9efb9a4d6d8c3eccfb12765d81": {
          "model_module": "@jupyter-widgets/controls",
          "model_name": "HTMLModel",
          "model_module_version": "1.5.0",
          "state": {
            "_dom_classes": [],
            "_model_module": "@jupyter-widgets/controls",
            "_model_module_version": "1.5.0",
            "_model_name": "HTMLModel",
            "_view_count": null,
            "_view_module": "@jupyter-widgets/controls",
            "_view_module_version": "1.5.0",
            "_view_name": "HTMLView",
            "description": "",
            "description_tooltip": null,
            "layout": "IPY_MODEL_b2df209a92a0491284dcd976c50feeab",
            "placeholder": "​",
            "style": "IPY_MODEL_ea61ccfeac114f78ab01fa0fd609fce3",
            "value": " 1500/1500 [00:09&lt;00:00, 173.01it/s]"
          }
        },
        "55afce8a5b464a058cc2f50d25cacd0d": {
          "model_module": "@jupyter-widgets/base",
          "model_name": "LayoutModel",
          "model_module_version": "1.2.0",
          "state": {
            "_model_module": "@jupyter-widgets/base",
            "_model_module_version": "1.2.0",
            "_model_name": "LayoutModel",
            "_view_count": null,
            "_view_module": "@jupyter-widgets/base",
            "_view_module_version": "1.2.0",
            "_view_name": "LayoutView",
            "align_content": null,
            "align_items": null,
            "align_self": null,
            "border": null,
            "bottom": null,
            "display": null,
            "flex": null,
            "flex_flow": null,
            "grid_area": null,
            "grid_auto_columns": null,
            "grid_auto_flow": null,
            "grid_auto_rows": null,
            "grid_column": null,
            "grid_gap": null,
            "grid_row": null,
            "grid_template_areas": null,
            "grid_template_columns": null,
            "grid_template_rows": null,
            "height": null,
            "justify_content": null,
            "justify_items": null,
            "left": null,
            "margin": null,
            "max_height": null,
            "max_width": null,
            "min_height": null,
            "min_width": null,
            "object_fit": null,
            "object_position": null,
            "order": null,
            "overflow": null,
            "overflow_x": null,
            "overflow_y": null,
            "padding": null,
            "right": null,
            "top": null,
            "visibility": null,
            "width": null
          }
        },
        "93a78a24069b4fb5bcb92710f60a5454": {
          "model_module": "@jupyter-widgets/base",
          "model_name": "LayoutModel",
          "model_module_version": "1.2.0",
          "state": {
            "_model_module": "@jupyter-widgets/base",
            "_model_module_version": "1.2.0",
            "_model_name": "LayoutModel",
            "_view_count": null,
            "_view_module": "@jupyter-widgets/base",
            "_view_module_version": "1.2.0",
            "_view_name": "LayoutView",
            "align_content": null,
            "align_items": null,
            "align_self": null,
            "border": null,
            "bottom": null,
            "display": null,
            "flex": null,
            "flex_flow": null,
            "grid_area": null,
            "grid_auto_columns": null,
            "grid_auto_flow": null,
            "grid_auto_rows": null,
            "grid_column": null,
            "grid_gap": null,
            "grid_row": null,
            "grid_template_areas": null,
            "grid_template_columns": null,
            "grid_template_rows": null,
            "height": null,
            "justify_content": null,
            "justify_items": null,
            "left": null,
            "margin": null,
            "max_height": null,
            "max_width": null,
            "min_height": null,
            "min_width": null,
            "object_fit": null,
            "object_position": null,
            "order": null,
            "overflow": null,
            "overflow_x": null,
            "overflow_y": null,
            "padding": null,
            "right": null,
            "top": null,
            "visibility": null,
            "width": null
          }
        },
        "f464e4b06ce34725a065f4fb04543426": {
          "model_module": "@jupyter-widgets/controls",
          "model_name": "DescriptionStyleModel",
          "model_module_version": "1.5.0",
          "state": {
            "_model_module": "@jupyter-widgets/controls",
            "_model_module_version": "1.5.0",
            "_model_name": "DescriptionStyleModel",
            "_view_count": null,
            "_view_module": "@jupyter-widgets/base",
            "_view_module_version": "1.2.0",
            "_view_name": "StyleView",
            "description_width": ""
          }
        },
        "3a06ee8ba57d46b6a8224e600014f09f": {
          "model_module": "@jupyter-widgets/base",
          "model_name": "LayoutModel",
          "model_module_version": "1.2.0",
          "state": {
            "_model_module": "@jupyter-widgets/base",
            "_model_module_version": "1.2.0",
            "_model_name": "LayoutModel",
            "_view_count": null,
            "_view_module": "@jupyter-widgets/base",
            "_view_module_version": "1.2.0",
            "_view_name": "LayoutView",
            "align_content": null,
            "align_items": null,
            "align_self": null,
            "border": null,
            "bottom": null,
            "display": null,
            "flex": null,
            "flex_flow": null,
            "grid_area": null,
            "grid_auto_columns": null,
            "grid_auto_flow": null,
            "grid_auto_rows": null,
            "grid_column": null,
            "grid_gap": null,
            "grid_row": null,
            "grid_template_areas": null,
            "grid_template_columns": null,
            "grid_template_rows": null,
            "height": null,
            "justify_content": null,
            "justify_items": null,
            "left": null,
            "margin": null,
            "max_height": null,
            "max_width": null,
            "min_height": null,
            "min_width": null,
            "object_fit": null,
            "object_position": null,
            "order": null,
            "overflow": null,
            "overflow_x": null,
            "overflow_y": null,
            "padding": null,
            "right": null,
            "top": null,
            "visibility": null,
            "width": null
          }
        },
        "6479b423ac774c44b2138227b00053fb": {
          "model_module": "@jupyter-widgets/controls",
          "model_name": "ProgressStyleModel",
          "model_module_version": "1.5.0",
          "state": {
            "_model_module": "@jupyter-widgets/controls",
            "_model_module_version": "1.5.0",
            "_model_name": "ProgressStyleModel",
            "_view_count": null,
            "_view_module": "@jupyter-widgets/base",
            "_view_module_version": "1.2.0",
            "_view_name": "StyleView",
            "bar_color": null,
            "description_width": ""
          }
        },
        "b2df209a92a0491284dcd976c50feeab": {
          "model_module": "@jupyter-widgets/base",
          "model_name": "LayoutModel",
          "model_module_version": "1.2.0",
          "state": {
            "_model_module": "@jupyter-widgets/base",
            "_model_module_version": "1.2.0",
            "_model_name": "LayoutModel",
            "_view_count": null,
            "_view_module": "@jupyter-widgets/base",
            "_view_module_version": "1.2.0",
            "_view_name": "LayoutView",
            "align_content": null,
            "align_items": null,
            "align_self": null,
            "border": null,
            "bottom": null,
            "display": null,
            "flex": null,
            "flex_flow": null,
            "grid_area": null,
            "grid_auto_columns": null,
            "grid_auto_flow": null,
            "grid_auto_rows": null,
            "grid_column": null,
            "grid_gap": null,
            "grid_row": null,
            "grid_template_areas": null,
            "grid_template_columns": null,
            "grid_template_rows": null,
            "height": null,
            "justify_content": null,
            "justify_items": null,
            "left": null,
            "margin": null,
            "max_height": null,
            "max_width": null,
            "min_height": null,
            "min_width": null,
            "object_fit": null,
            "object_position": null,
            "order": null,
            "overflow": null,
            "overflow_x": null,
            "overflow_y": null,
            "padding": null,
            "right": null,
            "top": null,
            "visibility": null,
            "width": null
          }
        },
        "ea61ccfeac114f78ab01fa0fd609fce3": {
          "model_module": "@jupyter-widgets/controls",
          "model_name": "DescriptionStyleModel",
          "model_module_version": "1.5.0",
          "state": {
            "_model_module": "@jupyter-widgets/controls",
            "_model_module_version": "1.5.0",
            "_model_name": "DescriptionStyleModel",
            "_view_count": null,
            "_view_module": "@jupyter-widgets/base",
            "_view_module_version": "1.2.0",
            "_view_name": "StyleView",
            "description_width": ""
          }
        },
        "8b354f638700408d8d0832e2bb7a2e23": {
          "model_module": "@jupyter-widgets/controls",
          "model_name": "HBoxModel",
          "model_module_version": "1.5.0",
          "state": {
            "_dom_classes": [],
            "_model_module": "@jupyter-widgets/controls",
            "_model_module_version": "1.5.0",
            "_model_name": "HBoxModel",
            "_view_count": null,
            "_view_module": "@jupyter-widgets/controls",
            "_view_module_version": "1.5.0",
            "_view_name": "HBoxView",
            "box_style": "",
            "children": [
              "IPY_MODEL_9359d8812b184ff6bb589ef27c3173f0",
              "IPY_MODEL_50fd3236f8014493b2c1fc2fdf671a52",
              "IPY_MODEL_967c01be98ce4de6879672a820eadb42"
            ],
            "layout": "IPY_MODEL_684fe587e1bf4147a1fe9bd8915ed4dc"
          }
        },
        "9359d8812b184ff6bb589ef27c3173f0": {
          "model_module": "@jupyter-widgets/controls",
          "model_name": "HTMLModel",
          "model_module_version": "1.5.0",
          "state": {
            "_dom_classes": [],
            "_model_module": "@jupyter-widgets/controls",
            "_model_module_version": "1.5.0",
            "_model_name": "HTMLModel",
            "_view_count": null,
            "_view_module": "@jupyter-widgets/controls",
            "_view_module_version": "1.5.0",
            "_view_name": "HTMLView",
            "description": "",
            "description_tooltip": null,
            "layout": "IPY_MODEL_e72e7d49456c4033bec1f65127963a93",
            "placeholder": "​",
            "style": "IPY_MODEL_3aaf860448704bc09b97b45fda1384ec",
            "value": "Testing 3 episodes...: 100%"
          }
        },
        "50fd3236f8014493b2c1fc2fdf671a52": {
          "model_module": "@jupyter-widgets/controls",
          "model_name": "FloatProgressModel",
          "model_module_version": "1.5.0",
          "state": {
            "_dom_classes": [],
            "_model_module": "@jupyter-widgets/controls",
            "_model_module_version": "1.5.0",
            "_model_name": "FloatProgressModel",
            "_view_count": null,
            "_view_module": "@jupyter-widgets/controls",
            "_view_module_version": "1.5.0",
            "_view_name": "ProgressView",
            "bar_style": "success",
            "description": "",
            "description_tooltip": null,
            "layout": "IPY_MODEL_df5bf7ac43144eb9aa83e7ee2ea83c52",
            "max": 300,
            "min": 0,
            "orientation": "horizontal",
            "style": "IPY_MODEL_d1a77ded2ef24988a68ef6e735b1c9a6",
            "value": 300
          }
        },
        "967c01be98ce4de6879672a820eadb42": {
          "model_module": "@jupyter-widgets/controls",
          "model_name": "HTMLModel",
          "model_module_version": "1.5.0",
          "state": {
            "_dom_classes": [],
            "_model_module": "@jupyter-widgets/controls",
            "_model_module_version": "1.5.0",
            "_model_name": "HTMLModel",
            "_view_count": null,
            "_view_module": "@jupyter-widgets/controls",
            "_view_module_version": "1.5.0",
            "_view_name": "HTMLView",
            "description": "",
            "description_tooltip": null,
            "layout": "IPY_MODEL_33595cbacb82473da8dccabd9562d16a",
            "placeholder": "​",
            "style": "IPY_MODEL_bab22f267b0d4bba9067b57301e67100",
            "value": " 300/300 [00:44&lt;00:00,  7.91it/s]"
          }
        },
        "684fe587e1bf4147a1fe9bd8915ed4dc": {
          "model_module": "@jupyter-widgets/base",
          "model_name": "LayoutModel",
          "model_module_version": "1.2.0",
          "state": {
            "_model_module": "@jupyter-widgets/base",
            "_model_module_version": "1.2.0",
            "_model_name": "LayoutModel",
            "_view_count": null,
            "_view_module": "@jupyter-widgets/base",
            "_view_module_version": "1.2.0",
            "_view_name": "LayoutView",
            "align_content": null,
            "align_items": null,
            "align_self": null,
            "border": null,
            "bottom": null,
            "display": null,
            "flex": null,
            "flex_flow": null,
            "grid_area": null,
            "grid_auto_columns": null,
            "grid_auto_flow": null,
            "grid_auto_rows": null,
            "grid_column": null,
            "grid_gap": null,
            "grid_row": null,
            "grid_template_areas": null,
            "grid_template_columns": null,
            "grid_template_rows": null,
            "height": null,
            "justify_content": null,
            "justify_items": null,
            "left": null,
            "margin": null,
            "max_height": null,
            "max_width": null,
            "min_height": null,
            "min_width": null,
            "object_fit": null,
            "object_position": null,
            "order": null,
            "overflow": null,
            "overflow_x": null,
            "overflow_y": null,
            "padding": null,
            "right": null,
            "top": null,
            "visibility": null,
            "width": null
          }
        },
        "e72e7d49456c4033bec1f65127963a93": {
          "model_module": "@jupyter-widgets/base",
          "model_name": "LayoutModel",
          "model_module_version": "1.2.0",
          "state": {
            "_model_module": "@jupyter-widgets/base",
            "_model_module_version": "1.2.0",
            "_model_name": "LayoutModel",
            "_view_count": null,
            "_view_module": "@jupyter-widgets/base",
            "_view_module_version": "1.2.0",
            "_view_name": "LayoutView",
            "align_content": null,
            "align_items": null,
            "align_self": null,
            "border": null,
            "bottom": null,
            "display": null,
            "flex": null,
            "flex_flow": null,
            "grid_area": null,
            "grid_auto_columns": null,
            "grid_auto_flow": null,
            "grid_auto_rows": null,
            "grid_column": null,
            "grid_gap": null,
            "grid_row": null,
            "grid_template_areas": null,
            "grid_template_columns": null,
            "grid_template_rows": null,
            "height": null,
            "justify_content": null,
            "justify_items": null,
            "left": null,
            "margin": null,
            "max_height": null,
            "max_width": null,
            "min_height": null,
            "min_width": null,
            "object_fit": null,
            "object_position": null,
            "order": null,
            "overflow": null,
            "overflow_x": null,
            "overflow_y": null,
            "padding": null,
            "right": null,
            "top": null,
            "visibility": null,
            "width": null
          }
        },
        "3aaf860448704bc09b97b45fda1384ec": {
          "model_module": "@jupyter-widgets/controls",
          "model_name": "DescriptionStyleModel",
          "model_module_version": "1.5.0",
          "state": {
            "_model_module": "@jupyter-widgets/controls",
            "_model_module_version": "1.5.0",
            "_model_name": "DescriptionStyleModel",
            "_view_count": null,
            "_view_module": "@jupyter-widgets/base",
            "_view_module_version": "1.2.0",
            "_view_name": "StyleView",
            "description_width": ""
          }
        },
        "df5bf7ac43144eb9aa83e7ee2ea83c52": {
          "model_module": "@jupyter-widgets/base",
          "model_name": "LayoutModel",
          "model_module_version": "1.2.0",
          "state": {
            "_model_module": "@jupyter-widgets/base",
            "_model_module_version": "1.2.0",
            "_model_name": "LayoutModel",
            "_view_count": null,
            "_view_module": "@jupyter-widgets/base",
            "_view_module_version": "1.2.0",
            "_view_name": "LayoutView",
            "align_content": null,
            "align_items": null,
            "align_self": null,
            "border": null,
            "bottom": null,
            "display": null,
            "flex": null,
            "flex_flow": null,
            "grid_area": null,
            "grid_auto_columns": null,
            "grid_auto_flow": null,
            "grid_auto_rows": null,
            "grid_column": null,
            "grid_gap": null,
            "grid_row": null,
            "grid_template_areas": null,
            "grid_template_columns": null,
            "grid_template_rows": null,
            "height": null,
            "justify_content": null,
            "justify_items": null,
            "left": null,
            "margin": null,
            "max_height": null,
            "max_width": null,
            "min_height": null,
            "min_width": null,
            "object_fit": null,
            "object_position": null,
            "order": null,
            "overflow": null,
            "overflow_x": null,
            "overflow_y": null,
            "padding": null,
            "right": null,
            "top": null,
            "visibility": null,
            "width": null
          }
        },
        "d1a77ded2ef24988a68ef6e735b1c9a6": {
          "model_module": "@jupyter-widgets/controls",
          "model_name": "ProgressStyleModel",
          "model_module_version": "1.5.0",
          "state": {
            "_model_module": "@jupyter-widgets/controls",
            "_model_module_version": "1.5.0",
            "_model_name": "ProgressStyleModel",
            "_view_count": null,
            "_view_module": "@jupyter-widgets/base",
            "_view_module_version": "1.2.0",
            "_view_name": "StyleView",
            "bar_color": null,
            "description_width": ""
          }
        },
        "33595cbacb82473da8dccabd9562d16a": {
          "model_module": "@jupyter-widgets/base",
          "model_name": "LayoutModel",
          "model_module_version": "1.2.0",
          "state": {
            "_model_module": "@jupyter-widgets/base",
            "_model_module_version": "1.2.0",
            "_model_name": "LayoutModel",
            "_view_count": null,
            "_view_module": "@jupyter-widgets/base",
            "_view_module_version": "1.2.0",
            "_view_name": "LayoutView",
            "align_content": null,
            "align_items": null,
            "align_self": null,
            "border": null,
            "bottom": null,
            "display": null,
            "flex": null,
            "flex_flow": null,
            "grid_area": null,
            "grid_auto_columns": null,
            "grid_auto_flow": null,
            "grid_auto_rows": null,
            "grid_column": null,
            "grid_gap": null,
            "grid_row": null,
            "grid_template_areas": null,
            "grid_template_columns": null,
            "grid_template_rows": null,
            "height": null,
            "justify_content": null,
            "justify_items": null,
            "left": null,
            "margin": null,
            "max_height": null,
            "max_width": null,
            "min_height": null,
            "min_width": null,
            "object_fit": null,
            "object_position": null,
            "order": null,
            "overflow": null,
            "overflow_x": null,
            "overflow_y": null,
            "padding": null,
            "right": null,
            "top": null,
            "visibility": null,
            "width": null
          }
        },
        "bab22f267b0d4bba9067b57301e67100": {
          "model_module": "@jupyter-widgets/controls",
          "model_name": "DescriptionStyleModel",
          "model_module_version": "1.5.0",
          "state": {
            "_model_module": "@jupyter-widgets/controls",
            "_model_module_version": "1.5.0",
            "_model_name": "DescriptionStyleModel",
            "_view_count": null,
            "_view_module": "@jupyter-widgets/base",
            "_view_module_version": "1.2.0",
            "_view_name": "StyleView",
            "description_width": ""
          }
        }
      }
    }
  },
  "nbformat": 4,
  "nbformat_minor": 0
}