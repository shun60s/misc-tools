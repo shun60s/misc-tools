{
  "nbformat": 4,
  "nbformat_minor": 0,
  "metadata": {
    "colab": {
      "provenance": []
    },
    "kernelspec": {
      "name": "python3",
      "display_name": "Python 3"
    },
    "language_info": {
      "name": "python"
    }
  },
  "cells": [
    {
      "cell_type": "markdown",
      "source": [
        "**Riemann Zeta 関数の、□領域を区分求積法で、偏角の原理を計算する。**\n",
        "\n",
        "積分の結果は、□領域に含まれる 「零点の数 - 極の数」になる。\n",
        "\n",
        "実際の計算には誤差があるため、ぴったり整数にはならない。\n",
        "\n",
        "\n",
        "非自明な零点の位置 最初の部分\n",
        "\n",
        "14.134j + 1/2\n",
        "\n",
        "21.022j + 1/2\n",
        "\n",
        "25.010j + 1/2\n",
        "\n",
        "30.424j + 1/2\n",
        "\n",
        "32.935j + 1/2\n",
        "\n",
        "  また、1+j0は極である。\n"
      ],
      "metadata": {
        "id": "g9kQ2py-MRcS"
      }
    },
    {
      "cell_type": "markdown",
      "source": [
        "準備１： mpmathとnumpyをインストールする。"
      ],
      "metadata": {
        "id": "JZkhKI1oQ_4j"
      }
    },
    {
      "cell_type": "code",
      "source": [
        "!pip install mpmath\n",
        "!pip install numpy"
      ],
      "metadata": {
        "colab": {
          "base_uri": "https://localhost:8080/"
        },
        "id": "QdKy7mBdQ0w4",
        "outputId": "02629dee-2024-4dce-f6bf-591be3c63804"
      },
      "execution_count": 8,
      "outputs": [
        {
          "output_type": "stream",
          "name": "stdout",
          "text": [
            "Requirement already satisfied: mpmath in /usr/local/lib/python3.10/dist-packages (1.3.0)\n",
            "Requirement already satisfied: numpy in /usr/local/lib/python3.10/dist-packages (1.22.4)\n"
          ]
        }
      ]
    },
    {
      "cell_type": "markdown",
      "source": [
        "準備２： □領域を区分求積法で計算する関数を定義する。"
      ],
      "metadata": {
        "id": "5V0jsUN3OtLh"
      }
    },
    {
      "cell_type": "code",
      "source": [
        "import math\n",
        "import mpmath\n",
        "import numpy as np\n",
        "\n",
        "\n",
        "def sekibun(h0,w0,delta0):\n",
        "    # □領域を区分求積法で計算する関数\n",
        "    hd=int((h0[1]-h0[0])/delta0)  # □の縦の分割数\n",
        "    wd=int((w0[1]-w0[0])/delta0)  # □の横の分割数\n",
        "\n",
        "    yp=np.arange(hd+1, dtype='float64') * delta0\n",
        "    xp=np.arange(wd+1, dtype='float64') * delta0\n",
        "\n",
        "    #　□の中で計算するポイント位置を求める\n",
        "    c1=(w0[1]+ 1j * h0[0]) +  1j * yp\n",
        "    c2= c1[-1] - xp\n",
        "    c3= c2[-1] - 1j * yp\n",
        "    c4= c3[-1] + xp\n",
        "    c_all_plus_last=np.concatenate([c1[:-1],c2[:-1],c3[:-1],c4])\n",
        "\n",
        "    # 分割幅を求める\n",
        "    b1= np.ones(hd) * delta0 * 1j\n",
        "    b2= np.ones(wd) * delta0\n",
        "    b_all_half=np.concatenate([b1,b2 * -1 ,b1 * -1 ,b2]) / 2.0\n",
        "\n",
        "    # 区分求積法で計算する\n",
        "    rtn=mpmath.mpf(0.0)\n",
        "    stack0=mpmath.fdiv(mpmath.zeta(c_all_plus_last[0], derivative=1),mpmath.zeta(c_all_plus_last[0]))\n",
        "    for i in range(len(c_all_plus_last)-1):\n",
        "        stack1=mpmath.fdiv(mpmath.zeta(c_all_plus_last[i+1], derivative=1),mpmath.zeta(c_all_plus_last[i+1]))\n",
        "        rtn=mpmath.fadd(mpmath.fmul(mpmath.fadd(stack0,stack1), mpmath.mpmathify(b_all_half[i])),rtn)\n",
        "        stack0=mpmath.mpmathify(stack1)\n",
        "\n",
        "    return rtn / (2.0 * math.pi * 1j)"
      ],
      "metadata": {
        "id": "WquQ7dNQMKoq"
      },
      "execution_count": 1,
      "outputs": []
    },
    {
      "cell_type": "markdown",
      "source": [
        "例１：最初の非自明な零点を５個含む□領域の計算"
      ],
      "metadata": {
        "id": "P8lrkK_2NCXi"
      }
    },
    {
      "cell_type": "code",
      "source": [
        "#□領域と分割ステップを指定する\n",
        "# □領域\n",
        "w0=[0.0, 1.0]  # □の横幅　臨界領域の実数の幅\n",
        "h0=[1.0, 33.0] # □の高さ　最初の非自明な零点を５個含む虚数の高さ\n",
        "#　区分求積法の分割ステップ\n",
        "delta0=0.01\n",
        "\n",
        "# 積分を計算する\n",
        "rtn=sekibun(h0,w0,delta0)\n",
        "\n",
        "# 結果を出力する\n",
        "print('sekibun', rtn)"
      ],
      "metadata": {
        "colab": {
          "base_uri": "https://localhost:8080/"
        },
        "id": "-UUDoIM8Md7R",
        "outputId": "1adcc989-aab9-4d2d-f2d1-f3ad6236c3b4"
      },
      "execution_count": 2,
      "outputs": [
        {
          "output_type": "stream",
          "name": "stdout",
          "text": [
            "sekibun (4.99999279975528 + 2.46276893392437e-6j)\n"
          ]
        }
      ]
    },
    {
      "cell_type": "markdown",
      "source": [
        "例２：積分のステップを小さく(0.01から0.001)して 積分の計算精度を上げたもの 計算時間が掛かる"
      ],
      "metadata": {
        "id": "t6TYD4AKNT_a"
      }
    },
    {
      "cell_type": "code",
      "source": [
        "#□領域と分割ステップを指定する\n",
        "# □領域\n",
        "w0=[0.0, 1.0]  # □の横幅　臨界領域の実数の幅\n",
        "h0=[1.0, 33.0] # □の高さ　虚数の高さ\n",
        "#　分割ステップ\n",
        "delta0=0.001\n",
        "\n",
        "# 積分を計算する\n",
        "rtn=sekibun(h0,w0,delta0)\n",
        "\n",
        "# 結果を出力する\n",
        "print('sekibun', rtn)"
      ],
      "metadata": {
        "colab": {
          "base_uri": "https://localhost:8080/"
        },
        "id": "qVMkl514NXNL",
        "outputId": "249a4571-2be1-479b-f3f8-e3d205511227"
      },
      "execution_count": 3,
      "outputs": [
        {
          "output_type": "stream",
          "name": "stdout",
          "text": [
            "sekibun (4.9999999279975 + 2.4627689394726e-8j)\n"
          ]
        }
      ]
    },
    {
      "cell_type": "markdown",
      "source": [
        "例３: 1+j0の極を含む□領域の計算 1個減って4になる"
      ],
      "metadata": {
        "id": "APcdw_gZNlgI"
      }
    },
    {
      "cell_type": "code",
      "source": [
        "#□領域と分割ステップを指定する\n",
        "# □領域\n",
        "w0=[0.0, 1.1]  # □の横幅　実数の幅\n",
        "h0=[-0.1, 33.0] # □の高さ　虚数の高さ\n",
        "#　分割ステップ\n",
        "delta0=0.01\n",
        "\n",
        "# 積分を計算する\n",
        "rtn=sekibun(h0,w0,delta0)\n",
        "\n",
        "# 結果を出力する\n",
        "print('sekibun', rtn)"
      ],
      "metadata": {
        "colab": {
          "base_uri": "https://localhost:8080/"
        },
        "id": "a_hIcbWPN9eJ",
        "outputId": "9d780166-9b65-45cd-a933-af3024364119"
      },
      "execution_count": 4,
      "outputs": [
        {
          "output_type": "stream",
          "name": "stdout",
          "text": [
            "sekibun (4.00012873370994 + 5.0342983213897e-6j)\n"
          ]
        }
      ]
    },
    {
      "cell_type": "markdown",
      "source": [
        "例４： j100までの□領域の零点の計算    零点の数は29個となった  "
      ],
      "metadata": {
        "id": "onINdLAzNuni"
      }
    },
    {
      "cell_type": "code",
      "source": [
        "#□領域と分割ステップを指定する\n",
        "# □領域\n",
        "w0=[0.0, 1.0]  # □の横幅　臨界領域の実数の幅\n",
        "h0=[1.0, 100.0] # □の高さ　虚数の高さ\n",
        "#　分割ステップ\n",
        "delta0=0.01\n",
        "\n",
        "# 積分を計算する\n",
        "rtn=sekibun(h0,w0,delta0)\n",
        "\n",
        "# 結果を出力する\n",
        "print('sekibun', rtn)"
      ],
      "metadata": {
        "colab": {
          "base_uri": "https://localhost:8080/"
        },
        "id": "cSAA5A0pNzFR",
        "outputId": "7252cbef-747f-4323-91c3-328ac2a4146a"
      },
      "execution_count": 5,
      "outputs": [
        {
          "output_type": "stream",
          "name": "stdout",
          "text": [
            "sekibun (28.9999977843351 + 2.46385420357025e-6j)\n"
          ]
        }
      ]
    }
  ]
}
